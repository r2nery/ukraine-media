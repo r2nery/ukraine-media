{
 "cells": [
  {
   "cell_type": "code",
   "execution_count": 1,
   "metadata": {},
   "outputs": [],
   "source": [
    "from selenium import webdriver\n",
    "from selenium.webdriver.common.by import By\n",
    "from selenium.webdriver.support.ui import WebDriverWait\n",
    "from selenium.webdriver.support import expected_conditions as EC\n",
    "from selenium.common.exceptions import NoSuchElementException\n",
    "from selenium.common.exceptions import StaleElementReferenceException\n",
    "from selenium.webdriver.chrome.service import Service\n",
    "from webdriver_manager.chrome import ChromeDriverManager\n",
    "from alive_progress import alive_bar\n",
    "import time\n",
    "import pandas as pd"
   ]
  },
  {
   "cell_type": "code",
   "execution_count": 7,
   "metadata": {},
   "outputs": [
    {
     "name": "stdout",
     "output_type": "stream",
     "text": [
      "\n"
     ]
    },
    {
     "name": "stderr",
     "output_type": "stream",
     "text": [
      "[WDM] - ====== WebDriver manager ======\n",
      "[WDM] - Current google-chrome version is 101.0.4951\n",
      "[WDM] - Get LATEST chromedriver version for 101.0.4951 google-chrome\n",
      "[WDM] - Driver [.\\\\.wdm\\drivers\\chromedriver\\win32\\101.0.4951.41\\chromedriver.exe] found in cache\n"
     ]
    },
    {
     "name": "stdout",
     "output_type": "stream",
     "text": [
      "-> Launching Chrome...\n",
      "-> Awaiting pop-ups... Pop-up eliminated.\n",
      "|████████████████████████████████████████| 2/2 [100%] in 2.6s (0.77/s)                                                  \n",
      "-> 20 URLs fetched successfully!\n"
     ]
    }
   ],
   "source": [
    "s = Service(ChromeDriverManager(path=r\".\\\\\").install())\n",
    "driver = webdriver.Chrome(service=s)\n",
    "print(\"-> Launching Chrome...\")\n",
    "driver.get(\"https://bbc.com/news/world-60525350\")\n",
    "\n",
    "urls = []\n",
    "\n",
    "# Ignored Exceptions\n",
    "ignored_exceptions = (\n",
    "    NoSuchElementException,\n",
    "    StaleElementReferenceException,\n",
    ")\n",
    "\n",
    "# Waits\n",
    "wait = WebDriverWait(driver, 10)\n",
    "wait2 = WebDriverWait(driver, 10, ignored_exceptions=ignored_exceptions)\n",
    "wait3 = WebDriverWait(driver, 5)\n",
    "\n",
    "buffering_time = 1\n",
    "\n",
    "# CSS Selector Tags\n",
    "popup_tag = \"button[class='tp-close tp-active']\"\n",
    "title_tag = \"a[class='qa-heading-link lx-stream-post__header-link']\"\n",
    "nextPage_tag = \"a[class='lx-pagination__btn gs-u-mr+ qa-pagination-next-page lx-pagination__btn--active']\"\n",
    "numPages_tag = (\n",
    "    \"span[class='lx-pagination__page-number qa-pagination-total-page-number']\"\n",
    ")\n",
    "\n",
    "# Scraper\n",
    "try:\n",
    "    print(\"-> Awaiting pop-ups...\", end=\" \")\n",
    "    popup = wait.until(EC.element_to_be_clickable((By.CSS_SELECTOR, popup_tag)))\n",
    "finally:\n",
    "    popup.click()\n",
    "    print(\"Pop-up eliminated.\")\n",
    "num_pages = 2  # int(driver.find_element(By.CSS_SELECTOR, numPages_tag).text)\n",
    "\n",
    "with alive_bar(num_pages, spinner=\"dots_waves\", bar=\"smooth\", force_tty=True) as bar:\n",
    "    for page in range(num_pages - 1):\n",
    "        bar()\n",
    "        time.sleep(buffering_time)\n",
    "        titles = wait2.until(\n",
    "            EC.presence_of_all_elements_located((By.CSS_SELECTOR, title_tag))\n",
    "        )\n",
    "        for title in titles:\n",
    "            urls.append(title.get_attribute(\"href\"))\n",
    "\n",
    "        next = driver.find_element(By.CSS_SELECTOR, nextPage_tag)\n",
    "        next.click()\n",
    "    bar()\n",
    "\n",
    "print(f\"-> {len(urls)} URLs fetched successfully!\")\n",
    "driver.quit()\n"
   ]
  },
  {
   "cell_type": "code",
   "execution_count": 11,
   "metadata": {},
   "outputs": [
    {
     "name": "stdout",
     "output_type": "stream",
     "text": [
      "\n"
     ]
    },
    {
     "name": "stderr",
     "output_type": "stream",
     "text": [
      "[WDM] - ====== WebDriver manager ======\n",
      "[WDM] - Current google-chrome version is 101.0.4951\n",
      "[WDM] - Get LATEST chromedriver version for 101.0.4951 google-chrome\n",
      "[WDM] - Driver [.\\\\.wdm\\drivers\\chromedriver\\win32\\101.0.4951.41\\chromedriver.exe] found in cache\n"
     ]
    },
    {
     "name": "stdout",
     "output_type": "stream",
     "text": [
      "-> Launching Chrome...\n",
      "https://www.bbc.com/news/world-61574412\n",
      "-> Awaiting pop-ups... No pop-ups found.\n",
      "-> Title: \"Ros Atkins on... Russia's food war\"\n",
      "-> Word count: 110\n",
      "https://www.bbc.com/news/business-61569560\n",
      "-> Awaiting pop-ups... Pop-up eliminated.\n",
      "-> Title: \"US closes loophole for Russian debt payments\"\n",
      "-> Word count: 477\n",
      "https://www.bbc.com/news/world-61570444\n",
      "-> Awaiting pop-ups... No pop-ups found.\n",
      "-> Title: \"Ukraine war: 'This is just the beginning, everything is still to come'\"\n",
      "-> Word count: 877\n",
      "https://www.bbc.com/news/world-europe-61569867\n",
      "-> Awaiting pop-ups... No pop-ups found.\n",
      "-> Title: \"Ukraine war round-up: Fighting in the east and a seaside home for refugees\"\n",
      "-> Word count: 751\n",
      "https://www.bbc.com/news/world-europe-61568999\n",
      "-> Awaiting pop-ups... No pop-ups found.\n",
      "-> Title: \"Ukraine war: Put values over profits, Nato chief tells countries\"\n",
      "-> Word count: 435\n",
      "https://www.bbc.com/news/world-asia-61560784\n",
      "-> Awaiting pop-ups... No pop-ups found.\n",
      "-> Title: \"Ukraine war: World faces 'dark hour', Biden tells Quad summit\"\n",
      "-> Word count: 764\n",
      "https://www.bbc.com/news/uk-england-tyne-61562167\n",
      "-> Awaiting pop-ups... No pop-ups found.\n",
      "-> Title: \"Ukrainian mum and son left homeless 'after host demanded money'\"\n",
      "-> Word count: 526\n",
      "https://www.bbc.com/news/business-61562864\n",
      "-> Awaiting pop-ups... No pop-ups found.\n",
      "-> Title: \"Putin weaponising Ukraine’s crops, says Polish PM\"\n",
      "-> Word count: 734\n",
      "https://www.bbc.com/news/world-europe-61564440\n",
      "-> Awaiting pop-ups... "
     ]
    },
    {
     "ename": "NoSuchWindowException",
     "evalue": "Message: no such window: target window already closed\nfrom unknown error: web view not found\n  (Session info: chrome=101.0.4951.67)\nStacktrace:\nBacktrace:\n\tOrdinal0 [0x0054B8F3+2406643]\n\tOrdinal0 [0x004DAF31+1945393]\n\tOrdinal0 [0x003CC748+837448]\n\tOrdinal0 [0x003B42B0+737968]\n\tOrdinal0 [0x00416C09+1141769]\n\tOrdinal0 [0x00423E22+1195554]\n\tOrdinal0 [0x00414096+1130646]\n\tOrdinal0 [0x003EE636+976438]\n\tOrdinal0 [0x003EF546+980294]\n\tGetHandleVerifier [0x007B9612+2498066]\n\tGetHandleVerifier [0x007AC920+2445600]\n\tGetHandleVerifier [0x005E4F2A+579370]\n\tGetHandleVerifier [0x005E3D36+574774]\n\tOrdinal0 [0x004E1C0B+1973259]\n\tOrdinal0 [0x004E6688+1992328]\n\tOrdinal0 [0x004E6775+1992565]\n\tOrdinal0 [0x004EF8D1+2029777]\n\tBaseThreadInitThunk [0x76D7FA29+25]\n\tRtlGetAppContainerNamedObjectPath [0x772D7A7E+286]\n\tRtlGetAppContainerNamedObjectPath [0x772D7A4E+238]\n",
     "output_type": "error",
     "traceback": [
      "\u001b[1;31m---------------------------------------------------------------------------\u001b[0m",
      "\u001b[1;31mNoSuchWindowException\u001b[0m                     Traceback (most recent call last)",
      "\u001b[1;32md:\\Code\\Ukraine-Media\\Parser.ipynb Cell 3'\u001b[0m in \u001b[0;36m<cell line: 22>\u001b[1;34m()\u001b[0m\n\u001b[0;32m     <a href='vscode-notebook-cell:/d%3A/Code/Ukraine-Media/Parser.ipynb#ch0000002?line=27'>28</a>\u001b[0m driver\u001b[39m.\u001b[39mget(url)\n\u001b[0;32m     <a href='vscode-notebook-cell:/d%3A/Code/Ukraine-Media/Parser.ipynb#ch0000002?line=29'>30</a>\u001b[0m \u001b[39mprint\u001b[39m(\u001b[39m\"\u001b[39m\u001b[39m-> Awaiting pop-ups...\u001b[39m\u001b[39m\"\u001b[39m, end\u001b[39m=\u001b[39m\u001b[39m\"\u001b[39m\u001b[39m \u001b[39m\u001b[39m\"\u001b[39m)\n\u001b[1;32m---> <a href='vscode-notebook-cell:/d%3A/Code/Ukraine-Media/Parser.ipynb#ch0000002?line=30'>31</a>\u001b[0m \u001b[39mif\u001b[39;00m check_exists(popup_tag):\n\u001b[0;32m     <a href='vscode-notebook-cell:/d%3A/Code/Ukraine-Media/Parser.ipynb#ch0000002?line=31'>32</a>\u001b[0m     popup \u001b[39m=\u001b[39m driver\u001b[39m.\u001b[39mfind_element(By\u001b[39m.\u001b[39mCSS_SELECTOR, popup_tag)\n\u001b[0;32m     <a href='vscode-notebook-cell:/d%3A/Code/Ukraine-Media/Parser.ipynb#ch0000002?line=32'>33</a>\u001b[0m     popup\u001b[39m.\u001b[39mclick()\n",
      "\u001b[1;32md:\\Code\\Ukraine-Media\\Parser.ipynb Cell 3'\u001b[0m in \u001b[0;36mcheck_exists\u001b[1;34m(tag)\u001b[0m\n\u001b[0;32m     <a href='vscode-notebook-cell:/d%3A/Code/Ukraine-Media/Parser.ipynb#ch0000002?line=13'>14</a>\u001b[0m \u001b[39mdef\u001b[39;00m \u001b[39mcheck_exists\u001b[39m(tag):\n\u001b[0;32m     <a href='vscode-notebook-cell:/d%3A/Code/Ukraine-Media/Parser.ipynb#ch0000002?line=14'>15</a>\u001b[0m     \u001b[39mtry\u001b[39;00m:\n\u001b[1;32m---> <a href='vscode-notebook-cell:/d%3A/Code/Ukraine-Media/Parser.ipynb#ch0000002?line=15'>16</a>\u001b[0m         driver\u001b[39m.\u001b[39;49mfind_element(By\u001b[39m.\u001b[39;49mCSS_SELECTOR, tag)\n\u001b[0;32m     <a href='vscode-notebook-cell:/d%3A/Code/Ukraine-Media/Parser.ipynb#ch0000002?line=16'>17</a>\u001b[0m     \u001b[39mexcept\u001b[39;00m NoSuchElementException:\n\u001b[0;32m     <a href='vscode-notebook-cell:/d%3A/Code/Ukraine-Media/Parser.ipynb#ch0000002?line=17'>18</a>\u001b[0m         \u001b[39mreturn\u001b[39;00m \u001b[39mFalse\u001b[39;00m\n",
      "File \u001b[1;32md:\\Code\\Ukraine-Media\\.venv\\lib\\site-packages\\selenium\\webdriver\\remote\\webdriver.py:1251\u001b[0m, in \u001b[0;36mWebDriver.find_element\u001b[1;34m(self, by, value)\u001b[0m\n\u001b[0;32m   <a href='file:///d%3A/Code/Ukraine-Media/.venv/lib/site-packages/selenium/webdriver/remote/webdriver.py?line=1247'>1248</a>\u001b[0m     by \u001b[39m=\u001b[39m By\u001b[39m.\u001b[39mCSS_SELECTOR\n\u001b[0;32m   <a href='file:///d%3A/Code/Ukraine-Media/.venv/lib/site-packages/selenium/webdriver/remote/webdriver.py?line=1248'>1249</a>\u001b[0m     value \u001b[39m=\u001b[39m \u001b[39m'\u001b[39m\u001b[39m[name=\u001b[39m\u001b[39m\"\u001b[39m\u001b[39m%s\u001b[39;00m\u001b[39m\"\u001b[39m\u001b[39m]\u001b[39m\u001b[39m'\u001b[39m \u001b[39m%\u001b[39m value\n\u001b[1;32m-> <a href='file:///d%3A/Code/Ukraine-Media/.venv/lib/site-packages/selenium/webdriver/remote/webdriver.py?line=1250'>1251</a>\u001b[0m \u001b[39mreturn\u001b[39;00m \u001b[39mself\u001b[39;49m\u001b[39m.\u001b[39;49mexecute(Command\u001b[39m.\u001b[39;49mFIND_ELEMENT, {\n\u001b[0;32m   <a href='file:///d%3A/Code/Ukraine-Media/.venv/lib/site-packages/selenium/webdriver/remote/webdriver.py?line=1251'>1252</a>\u001b[0m     \u001b[39m'\u001b[39;49m\u001b[39musing\u001b[39;49m\u001b[39m'\u001b[39;49m: by,\n\u001b[0;32m   <a href='file:///d%3A/Code/Ukraine-Media/.venv/lib/site-packages/selenium/webdriver/remote/webdriver.py?line=1252'>1253</a>\u001b[0m     \u001b[39m'\u001b[39;49m\u001b[39mvalue\u001b[39;49m\u001b[39m'\u001b[39;49m: value})[\u001b[39m'\u001b[39m\u001b[39mvalue\u001b[39m\u001b[39m'\u001b[39m]\n",
      "File \u001b[1;32md:\\Code\\Ukraine-Media\\.venv\\lib\\site-packages\\selenium\\webdriver\\remote\\webdriver.py:430\u001b[0m, in \u001b[0;36mWebDriver.execute\u001b[1;34m(self, driver_command, params)\u001b[0m\n\u001b[0;32m    <a href='file:///d%3A/Code/Ukraine-Media/.venv/lib/site-packages/selenium/webdriver/remote/webdriver.py?line=427'>428</a>\u001b[0m response \u001b[39m=\u001b[39m \u001b[39mself\u001b[39m\u001b[39m.\u001b[39mcommand_executor\u001b[39m.\u001b[39mexecute(driver_command, params)\n\u001b[0;32m    <a href='file:///d%3A/Code/Ukraine-Media/.venv/lib/site-packages/selenium/webdriver/remote/webdriver.py?line=428'>429</a>\u001b[0m \u001b[39mif\u001b[39;00m response:\n\u001b[1;32m--> <a href='file:///d%3A/Code/Ukraine-Media/.venv/lib/site-packages/selenium/webdriver/remote/webdriver.py?line=429'>430</a>\u001b[0m     \u001b[39mself\u001b[39;49m\u001b[39m.\u001b[39;49merror_handler\u001b[39m.\u001b[39;49mcheck_response(response)\n\u001b[0;32m    <a href='file:///d%3A/Code/Ukraine-Media/.venv/lib/site-packages/selenium/webdriver/remote/webdriver.py?line=430'>431</a>\u001b[0m     response[\u001b[39m'\u001b[39m\u001b[39mvalue\u001b[39m\u001b[39m'\u001b[39m] \u001b[39m=\u001b[39m \u001b[39mself\u001b[39m\u001b[39m.\u001b[39m_unwrap_value(\n\u001b[0;32m    <a href='file:///d%3A/Code/Ukraine-Media/.venv/lib/site-packages/selenium/webdriver/remote/webdriver.py?line=431'>432</a>\u001b[0m         response\u001b[39m.\u001b[39mget(\u001b[39m'\u001b[39m\u001b[39mvalue\u001b[39m\u001b[39m'\u001b[39m, \u001b[39mNone\u001b[39;00m))\n\u001b[0;32m    <a href='file:///d%3A/Code/Ukraine-Media/.venv/lib/site-packages/selenium/webdriver/remote/webdriver.py?line=432'>433</a>\u001b[0m     \u001b[39mreturn\u001b[39;00m response\n",
      "File \u001b[1;32md:\\Code\\Ukraine-Media\\.venv\\lib\\site-packages\\selenium\\webdriver\\remote\\errorhandler.py:247\u001b[0m, in \u001b[0;36mErrorHandler.check_response\u001b[1;34m(self, response)\u001b[0m\n\u001b[0;32m    <a href='file:///d%3A/Code/Ukraine-Media/.venv/lib/site-packages/selenium/webdriver/remote/errorhandler.py?line=244'>245</a>\u001b[0m         alert_text \u001b[39m=\u001b[39m value[\u001b[39m'\u001b[39m\u001b[39malert\u001b[39m\u001b[39m'\u001b[39m]\u001b[39m.\u001b[39mget(\u001b[39m'\u001b[39m\u001b[39mtext\u001b[39m\u001b[39m'\u001b[39m)\n\u001b[0;32m    <a href='file:///d%3A/Code/Ukraine-Media/.venv/lib/site-packages/selenium/webdriver/remote/errorhandler.py?line=245'>246</a>\u001b[0m     \u001b[39mraise\u001b[39;00m exception_class(message, screen, stacktrace, alert_text)  \u001b[39m# type: ignore[call-arg]  # mypy is not smart enough here\u001b[39;00m\n\u001b[1;32m--> <a href='file:///d%3A/Code/Ukraine-Media/.venv/lib/site-packages/selenium/webdriver/remote/errorhandler.py?line=246'>247</a>\u001b[0m \u001b[39mraise\u001b[39;00m exception_class(message, screen, stacktrace)\n",
      "\u001b[1;31mNoSuchWindowException\u001b[0m: Message: no such window: target window already closed\nfrom unknown error: web view not found\n  (Session info: chrome=101.0.4951.67)\nStacktrace:\nBacktrace:\n\tOrdinal0 [0x0054B8F3+2406643]\n\tOrdinal0 [0x004DAF31+1945393]\n\tOrdinal0 [0x003CC748+837448]\n\tOrdinal0 [0x003B42B0+737968]\n\tOrdinal0 [0x00416C09+1141769]\n\tOrdinal0 [0x00423E22+1195554]\n\tOrdinal0 [0x00414096+1130646]\n\tOrdinal0 [0x003EE636+976438]\n\tOrdinal0 [0x003EF546+980294]\n\tGetHandleVerifier [0x007B9612+2498066]\n\tGetHandleVerifier [0x007AC920+2445600]\n\tGetHandleVerifier [0x005E4F2A+579370]\n\tGetHandleVerifier [0x005E3D36+574774]\n\tOrdinal0 [0x004E1C0B+1973259]\n\tOrdinal0 [0x004E6688+1992328]\n\tOrdinal0 [0x004E6775+1992565]\n\tOrdinal0 [0x004EF8D1+2029777]\n\tBaseThreadInitThunk [0x76D7FA29+25]\n\tRtlGetAppContainerNamedObjectPath [0x772D7A7E+286]\n\tRtlGetAppContainerNamedObjectPath [0x772D7A4E+238]\n"
     ]
    }
   ],
   "source": [
    "s = Service(ChromeDriverManager(path=r\".\\\\\").install())\n",
    "driver = webdriver.Chrome(service=s)\n",
    "print(\"-> Launching Chrome...\")\n",
    "\n",
    "texts = []\n",
    "titles = []\n",
    "index = 0\n",
    "\n",
    "pgTitle_tag = \"h1[class='ssrcss-15xko80-StyledHeading e1fj1fc10']\"\n",
    "pgTitle_tag_2 = \"h1[class='ssrcss-1qr3f1s-StyledHeading e1fj1fc10']\"\n",
    "pgText_tag = \"p[class='ssrcss-1q0x1qg-Paragraph eq5iqo00']\"\n",
    "\n",
    "\n",
    "def check_exists(tag):\n",
    "    try:\n",
    "        driver.find_element(By.CSS_SELECTOR, tag)\n",
    "    except NoSuchElementException:\n",
    "        return False\n",
    "    return True\n",
    "\n",
    "\n",
    "for url in urls:\n",
    "\n",
    "    tempTitle = \"\"\n",
    "    tempText = \"\"\n",
    "\n",
    "    print(url)\n",
    "    driver.get(url)\n",
    "\n",
    "    print(\"-> Awaiting pop-ups...\", end=\" \")\n",
    "    if check_exists(popup_tag):\n",
    "        popup = driver.find_element(By.CSS_SELECTOR, popup_tag)\n",
    "        popup.click()\n",
    "        print(\"Pop-up eliminated.\")\n",
    "    else:\n",
    "        print(\"No pop-ups found.\")\n",
    "\n",
    "    if check_exists(pgTitle_tag):\n",
    "        tempTitle += driver.find_element(By.CSS_SELECTOR, pgTitle_tag).text\n",
    "    elif check_exists(pgTitle_tag_2):\n",
    "        tempTitle += driver.find_element(By.CSS_SELECTOR, pgTitle_tag_2).text\n",
    "    print(f\"-> Title: \\\"{tempTitle}\\\"\")\n",
    "\n",
    "    if check_exists(pgText_tag):\n",
    "        phrases = driver.find_elements(By.CSS_SELECTOR, pgText_tag)\n",
    "        for phrase in phrases:\n",
    "            tempText += \" \" + phrase.text\n",
    "    print(f\"-> Word count: {len(tempText.split())}\")\n",
    "\n",
    "    texts.append(tempText)\n",
    "    titles.append(tempTitle)\n",
    "\n",
    "print(\"Database generated successfully!\")\n",
    "driver.quit()\n",
    "dict_data = {\"Title\": titles, \"Text\": texts}\n",
    "data = pd.DataFrame(dict_data)\n",
    "data.head(5)\n"
   ]
  }
 ],
 "metadata": {
  "interpreter": {
   "hash": "465f51699a4c4d511a46145e626f08f3eb0b1a93c7eaff8ec8b0d7a9bd016d02"
  },
  "kernelspec": {
   "display_name": "Python 3.10.4 ('.venv': venv)",
   "language": "python",
   "name": "python3"
  },
  "language_info": {
   "codemirror_mode": {
    "name": "ipython",
    "version": 3
   },
   "file_extension": ".py",
   "mimetype": "text/x-python",
   "name": "python",
   "nbconvert_exporter": "python",
   "pygments_lexer": "ipython3",
   "version": "3.10.4"
  },
  "orig_nbformat": 4
 },
 "nbformat": 4,
 "nbformat_minor": 2
}
