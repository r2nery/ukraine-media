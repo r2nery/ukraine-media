{
 "cells": [
  {
   "cell_type": "markdown",
   "metadata": {},
   "source": [
    "### Requirements"
   ]
  },
  {
   "cell_type": "code",
   "execution_count": null,
   "metadata": {},
   "outputs": [],
   "source": [
    "!pip install pandas\n",
    "!pip install selenium\n",
    "!pip install alive-progress\n",
    "!pip install webdriver-manager"
   ]
  },
  {
   "cell_type": "code",
   "execution_count": 2,
   "metadata": {},
   "outputs": [],
   "source": [
    "from selenium import webdriver\n",
    "from selenium.webdriver.common.by import By\n",
    "from selenium.webdriver.support.ui import WebDriverWait\n",
    "from selenium.webdriver.support import expected_conditions as EC\n",
    "from selenium.common.exceptions import NoSuchElementException\n",
    "from selenium.common.exceptions import StaleElementReferenceException\n",
    "from selenium.webdriver.chrome.service import Service\n",
    "from webdriver_manager.chrome import ChromeDriverManager\n",
    "from alive_progress import alive_bar\n",
    "import time\n",
    "import pandas as pd"
   ]
  },
  {
   "cell_type": "markdown",
   "metadata": {},
   "source": [
    "### Fetching URLs from BBC news on the Russo-Ukranian War"
   ]
  },
  {
   "cell_type": "code",
   "execution_count": 3,
   "metadata": {},
   "outputs": [
    {
     "name": "stdout",
     "output_type": "stream",
     "text": [
      "\n"
     ]
    },
    {
     "name": "stderr",
     "output_type": "stream",
     "text": [
      "[WDM] - ====== WebDriver manager ======\n",
      "[WDM] - Current google-chrome version is 101.0.4951\n",
      "[WDM] - Get LATEST chromedriver version for 101.0.4951 google-chrome\n",
      "[WDM] - Driver [.\\\\.wdm\\drivers\\chromedriver\\win32\\101.0.4951.41\\chromedriver.exe] found in cache\n"
     ]
    },
    {
     "name": "stdout",
     "output_type": "stream",
     "text": [
      "-> Launching Chrome...\n",
      "-> Awaiting pop-ups... Pop-up eliminated.\n",
      "|████████████████████████████████████████| 2/2 [100%] in 1.7s (1.21/s)                                                  \n",
      "-> 20 URLs fetched successfully!\n"
     ]
    }
   ],
   "source": [
    "s = Service(ChromeDriverManager(path=r\".\\\\\").install())\n",
    "driver = webdriver.Chrome(service=s)\n",
    "print(\"-> Launching Chrome...\")\n",
    "driver.get(\"https://bbc.com/news/world-60525350\")\n",
    "\n",
    "urls = []\n",
    "\n",
    "# Ignored Exceptions\n",
    "ignored_exceptions = (\n",
    "    NoSuchElementException,\n",
    "    StaleElementReferenceException,\n",
    ")\n",
    "\n",
    "# Waits\n",
    "wait = WebDriverWait(driver, 10)\n",
    "wait2 = WebDriverWait(driver, 10, ignored_exceptions=ignored_exceptions)\n",
    "wait3 = WebDriverWait(driver, 5)\n",
    "\n",
    "buffering_time = 1\n",
    "\n",
    "# CSS Selector Tags\n",
    "popup_tag = \"button[class='tp-close tp-active']\"\n",
    "title_tag = \"a[class='qa-heading-link lx-stream-post__header-link']\"\n",
    "nextPage_tag = \"a[class='lx-pagination__btn gs-u-mr+ qa-pagination-next-page lx-pagination__btn--active']\"\n",
    "numPages_tag = \"span[class='lx-pagination__page-number qa-pagination-total-page-number']\"\n",
    "\n",
    "# Scraper\n",
    "try:\n",
    "    print(\"-> Awaiting pop-ups...\", end=\" \")\n",
    "    popup = wait.until(EC.element_to_be_clickable((By.CSS_SELECTOR, popup_tag)))\n",
    "finally:\n",
    "    popup.click()\n",
    "    print(\"Pop-up eliminated.\")\n",
    "num_pages = 5  # int(driver.find_element(By.CSS_SELECTOR, numPages_tag).text)\n",
    "\n",
    "with alive_bar(num_pages, spinner=\"dots_waves\", bar=\"smooth\", force_tty=True) as bar:\n",
    "    for page in range(num_pages - 1):\n",
    "        bar()\n",
    "        time.sleep(buffering_time)\n",
    "        titles = wait2.until(\n",
    "            EC.presence_of_all_elements_located((By.CSS_SELECTOR, title_tag))\n",
    "        )\n",
    "        for title in titles:\n",
    "            urls.append(title.get_attribute(\"href\"))\n",
    "\n",
    "        next = driver.find_element(By.CSS_SELECTOR, nextPage_tag)\n",
    "        next.click()\n",
    "    bar()\n",
    "\n",
    "print(f\"-> {len(urls)} URLs fetched successfully!\")\n",
    "driver.quit()\n"
   ]
  },
  {
   "cell_type": "markdown",
   "metadata": {},
   "source": [
    "### Parsing URLs for titles and text"
   ]
  },
  {
   "cell_type": "code",
   "execution_count": null,
   "metadata": {},
   "outputs": [],
   "source": [
    "s = Service(ChromeDriverManager(path=r\".\\\\\").install())\n",
    "driver = webdriver.Chrome(service=s)\n",
    "print(\"-> Launching Chrome...\")\n",
    "\n",
    "texts = []\n",
    "titles = []\n",
    "index = 0\n",
    "\n",
    "pgTitle_tag = \"h1[class='ssrcss-15xko80-StyledHeading e1fj1fc10']\"\n",
    "pgTitle_tag_2 = \"h1[class='ssrcss-1qr3f1s-StyledHeading e1fj1fc10']\"\n",
    "pgText_tag = \"p[class='ssrcss-1q0x1qg-Paragraph eq5iqo00']\"\n",
    "\n",
    "\n",
    "def check_exists(tag):\n",
    "    try:\n",
    "        driver.find_element(By.CSS_SELECTOR, tag)\n",
    "    except NoSuchElementException:\n",
    "        return False\n",
    "    return True\n",
    "\n",
    "\n",
    "for url in urls:\n",
    "\n",
    "    tempTitle = \"\"\n",
    "    tempText = \"\"\n",
    "\n",
    "    print(url)\n",
    "    driver.get(url)\n",
    "\n",
    "    print(\"-> Awaiting pop-ups...\", end=\" \")\n",
    "    if check_exists(popup_tag):\n",
    "        popup = driver.find_element(By.CSS_SELECTOR, popup_tag)\n",
    "        popup.click()\n",
    "        print(\"Pop-up eliminated.\")\n",
    "    else:\n",
    "        print(\"No pop-ups found.\")\n",
    "\n",
    "    if check_exists(pgTitle_tag):\n",
    "        tempTitle += driver.find_element(By.CSS_SELECTOR, pgTitle_tag).text\n",
    "    elif check_exists(pgTitle_tag_2):\n",
    "        tempTitle += driver.find_element(By.CSS_SELECTOR, pgTitle_tag_2).text\n",
    "    print(f'-> Title: \"{tempTitle}\"')\n",
    "\n",
    "    if check_exists(pgText_tag):\n",
    "        phrases = driver.find_elements(By.CSS_SELECTOR, pgText_tag)\n",
    "        for phrase in phrases:\n",
    "            tempText += \" \" + phrase.text\n",
    "    print(f\"-> Word count: {len(tempText.split())}\")\n",
    "\n",
    "    texts.append(tempText)\n",
    "    titles.append(tempTitle)\n",
    "\n",
    "print(\"Database generated successfully!\")\n",
    "driver.quit()\n",
    "dict_data = {\"Title\": titles, \"Text\": texts}\n",
    "data = pd.DataFrame(dict_data)\n",
    "data.head(5)\n"
   ]
  }
 ],
 "metadata": {
  "interpreter": {
   "hash": "edf35a1ba31f01ba1c71376169020076194df0b0d7973bb0dfcd3f5750098c43"
  },
  "kernelspec": {
   "display_name": "Python 3.10.4 ('.venv': venv)",
   "language": "python",
   "name": "python3"
  },
  "language_info": {
   "codemirror_mode": {
    "name": "ipython",
    "version": 3
   },
   "file_extension": ".py",
   "mimetype": "text/x-python",
   "name": "python",
   "nbconvert_exporter": "python",
   "pygments_lexer": "ipython3",
   "version": "3.10.4"
  },
  "orig_nbformat": 4
 },
 "nbformat": 4,
 "nbformat_minor": 2
}
