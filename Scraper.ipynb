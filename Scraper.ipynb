{
 "cells": [
  {
   "cell_type": "markdown",
   "metadata": {
    "pycharm": {
     "name": "#%% md\n"
    }
   },
   "source": [
    "### Requirements"
   ]
  },
  {
   "cell_type": "code",
   "execution_count": null,
   "metadata": {
    "pycharm": {
     "name": "#%%\n"
    }
   },
   "outputs": [],
   "source": [
    "!pip install pandas\n",
    "!pip install selenium\n",
    "!pip install alive-progress\n",
    "!pip install webdriver-manager"
   ]
  },
  {
   "cell_type": "markdown",
   "metadata": {
    "pycharm": {
     "name": "#%% md\n"
    }
   },
   "source": [
    "### Imports"
   ]
  },
  {
   "cell_type": "code",
   "execution_count": 1,
   "metadata": {
    "pycharm": {
     "name": "#%%\n"
    }
   },
   "outputs": [],
   "source": [
    "from selenium import webdriver\n",
    "import string \n",
    "from selenium.webdriver.common.by import By\n",
    "from selenium.webdriver.support.ui import WebDriverWait\n",
    "from selenium.webdriver.support import expected_conditions as EC\n",
    "from selenium.common.exceptions import NoSuchElementException\n",
    "from selenium.common.exceptions import StaleElementReferenceException\n",
    "from selenium.webdriver.chrome.service import Service\n",
    "from webdriver_manager.chrome import ChromeDriverManager\n",
    "from webdriver_manager.core.utils import ChromeType\n",
    "from alive_progress import alive_bar\n",
    "import time\n",
    "import pandas as pd\n",
    "import os"
   ]
  },
  {
   "cell_type": "markdown",
   "metadata": {
    "pycharm": {
     "name": "#%% md\n"
    }
   },
   "source": [
    "### Functions"
   ]
  },
  {
   "cell_type": "code",
   "execution_count": 3,
   "metadata": {
    "pycharm": {
     "name": "#%%\n"
    }
   },
   "outputs": [],
   "source": [
    "ROOT_DIR = os.path.dirname(os.path.abspath(\"__file__\"))\n",
    "\n",
    "def check_exists(tag):\n",
    "    try:\n",
    "        driver.find_element(By.CSS_SELECTOR, tag)\n",
    "    except NoSuchElementException:\n",
    "        return False\n",
    "    return True"
   ]
  },
  {
   "cell_type": "markdown",
   "metadata": {
    "pycharm": {
     "name": "#%% md\n"
    }
   },
   "source": [
    "### Fetching URLs from BBC news on the Russo-Ukranian War"
   ]
  },
  {
   "cell_type": "code",
   "execution_count": null,
   "metadata": {
    "pycharm": {
     "name": "#%%\n"
    }
   },
   "outputs": [],
   "source": [
    "\n",
    "# Driver configChromeDriverManager(path=r\".\\\\\").install()\n",
    "s = Service(ChromeDriverManager(chrome_type=ChromeType.BRAVE, path=ROOT_DIR).install())\n",
    "driver = webdriver.Chrome(service=s)\n",
    "\n",
    "# WaitsChromeDriverManager(path=r\".\\\\\").install()\n",
    "ignored_exceptions = (NoSuchElementException, StaleElementReferenceException,)\n",
    "wait = WebDriverWait(driver, 10)\n",
    "wait2 = WebDriverWait(driver, 10, ignored_exceptions=ignored_exceptions)\n",
    "buffering_time = 0.5\n",
    "\n",
    "# CSS Selector Tags\n",
    "popup_tag = \"button[class='tp-close tp-active']\"\n",
    "title_tag = \"a[class='qa-heading-link lx-stream-post__header-link']\"\n",
    "nextPage_tag = \"a[class='lx-pagination__btn gs-u-mr+ qa-pagination-next-page lx-pagination__btn--active']\"\n",
    "numPages_tag = \"span[class='lx-pagination__page-number qa-pagination-total-page-number']\"\n",
    "\n",
    "# Scraper\n",
    "urls = []\n",
    "bbc = \"https://bbc.com/news/world-60525350\"\n",
    "\n",
    "print(\"-> Launching Chrome...\")\n",
    "driver.get(bbc)\n",
    "\n",
    "popup = wait.until(EC.element_to_be_clickable((By.CSS_SELECTOR, popup_tag)))\n",
    "popup.click()\n",
    "\n",
    "num_pages = 3  # int(driver.find_element(By.CSS_SELECTOR, numPages_tag).text)\n",
    "\n",
    "with alive_bar(num_pages, title=\"-> Scraper\", spinner=\"dots_waves\", bar=\"smooth\", force_tty=True) as bar:\n",
    "    for page in range(num_pages - 1):\n",
    "        bar()\n",
    "        time.sleep(buffering_time)\n",
    "        titles = wait2.until(\n",
    "            EC.presence_of_all_elements_located((By.CSS_SELECTOR, title_tag))\n",
    "        )\n",
    "        for title in titles:\n",
    "            if \"live\" not in title.get_attribute(\"href\"):\n",
    "                urls.append(title.get_attribute(\"href\"))\n",
    "\n",
    "        next = driver.find_element(By.CSS_SELECTOR, nextPage_tag)\n",
    "        next.click()\n",
    "    bar()\n",
    "\n",
    "unique_urls = list(dict.fromkeys(urls))\n",
    "print(f\"-> {len(unique_urls)} URLs fetched successfully!\")\n",
    "driver.quit()\n",
    "print(unique_urls)"
   ]
  },
  {
   "cell_type": "markdown",
   "metadata": {
    "pycharm": {
     "name": "#%% md\n"
    }
   },
   "source": [
    "### Parsing URLs for titles and text"
   ]
  },
  {
   "cell_type": "code",
   "execution_count": null,
   "metadata": {
    "pycharm": {
     "name": "#%%\n"
    }
   },
   "outputs": [],
   "source": [
    "# Driver config\n",
    "s = Service(ChromeDriverManager(path=r\".\\\\\").install())\n",
    "driver = webdriver.Chrome(service=s)\n",
    "\n",
    "# CSS Selector Tags\n",
    "pgTitle_tag = \"h1[class='ssrcss-15xko80-StyledHeading e1fj1fc10']\"\n",
    "pgTitle_tag_2 = \"h1[class='ssrcss-1qr3f1s-StyledHeading e1fj1fc10']\"\n",
    "pgText_tag = \"p[class='ssrcss-1q0x1qg-Paragraph eq5iqo00']\"\n",
    "\n",
    "# Parser\n",
    "texts = []\n",
    "titles = []\n",
    "\n",
    "print(\"-> Launching Chrome...\")\n",
    "\n",
    "with alive_bar(\n",
    "    len(unique_urls), spinner=\"dots_waves\",title=\"-> Parser\", bar=\"smooth\", force_tty=True) as bar:\n",
    "    for url in unique_urls:\n",
    "        \n",
    "        bar()\n",
    "        tempTitle = \"\"\n",
    "        tempText = \"\"\n",
    "\n",
    "        driver.get(url)\n",
    "\n",
    "        if check_exists(popup_tag):\n",
    "            popup = driver.find_element(By.CSS_SELECTOR, popup_tag)\n",
    "            popup.click()\n",
    "\n",
    "        if check_exists(pgTitle_tag):\n",
    "            tempTitle += driver.find_element(By.CSS_SELECTOR, pgTitle_tag).text\n",
    "        elif check_exists(pgTitle_tag_2):\n",
    "            tempTitle += driver.find_element(By.CSS_SELECTOR, pgTitle_tag_2).text\n",
    "\n",
    "        phrases = driver.find_elements(By.CSS_SELECTOR, pgText_tag)\n",
    "        for phrase in phrases:\n",
    "            tempText += \" \" + phrase.text\n",
    "        \n",
    "        texts.append(tempText)\n",
    "        titles.append(tempTitle)\n",
    "\n",
    "driver.quit()\n",
    "\n",
    "dict_data = {\"Title\": titles, \"Text\": texts}\n",
    "data = pd.DataFrame(dict_data)\n",
    "\n",
    "print(\"Database generated successfully!\")\n",
    "data.head(20)"
   ]
  },
  {
   "cell_type": "code",
   "execution_count": 133,
   "metadata": {
    "pycharm": {
     "name": "#%%\n"
    }
   },
   "outputs": [],
   "source": [
    "os.makedirs(os.getcwd()+'/data', exist_ok=True)\n",
    "data.to_csv('data/data.csv',index=True, header=True)"
   ]
  }
 ],
 "metadata": {
  "interpreter": {
   "hash": "095fab68b4adb9c102495c5907a5cd4c26109cb771103596ad37ef809d40cafe"
  },
  "kernelspec": {
   "display_name": "Python 3.10.4 ('.venv': venv)",
   "language": "python",
   "name": "python3"
  },
  "language_info": {
   "codemirror_mode": {
    "name": "ipython",
    "version": 3
   },
   "file_extension": ".py",
   "mimetype": "text/x-python",
   "name": "python",
   "nbconvert_exporter": "python",
   "pygments_lexer": "ipython3",
   "version": "3.10.4"
  },
  "orig_nbformat": 4
 },
 "nbformat": 4,
 "nbformat_minor": 2
}
