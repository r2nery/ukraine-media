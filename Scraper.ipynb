{
 "cells": [
  {
   "cell_type": "markdown",
   "metadata": {
    "pycharm": {
     "name": "#%% md\n"
    }
   },
   "source": [
    "### Requirements"
   ]
  },
  {
   "cell_type": "code",
   "execution_count": null,
   "metadata": {
    "pycharm": {
     "name": "#%%\n"
    }
   },
   "outputs": [],
   "source": [
    "!pip install pandas\n",
    "!pip install selenium\n",
    "!pip install alive-progress\n",
    "!pip install webdriver-manager"
   ]
  },
  {
   "cell_type": "markdown",
   "metadata": {
    "pycharm": {
     "name": "#%% md\n"
    }
   },
   "source": [
    "### Imports"
   ]
  },
  {
   "cell_type": "code",
   "execution_count": 1,
   "metadata": {
    "pycharm": {
     "name": "#%%\n"
    }
   },
   "outputs": [],
   "source": [
    "from selenium import webdriver\n",
    "import string \n",
    "from selenium.webdriver.common.by import By\n",
    "from selenium.webdriver.support.ui import WebDriverWait\n",
    "from selenium.webdriver.support import expected_conditions as EC\n",
    "from selenium.common.exceptions import NoSuchElementException\n",
    "from selenium.common.exceptions import StaleElementReferenceException\n",
    "from selenium.webdriver.chrome.service import Service\n",
    "from webdriver_manager.chrome import ChromeDriverManager\n",
    "from webdriver_manager.core.utils import ChromeType\n",
    "from alive_progress import alive_bar\n",
    "import time\n",
    "import pandas as pd\n",
    "import os"
   ]
  },
  {
   "cell_type": "markdown",
   "metadata": {
    "pycharm": {
     "name": "#%% md\n"
    }
   },
   "source": [
    "### Functions"
   ]
  },
  {
   "cell_type": "code",
   "execution_count": 2,
   "metadata": {
    "pycharm": {
     "name": "#%%\n"
    }
   },
   "outputs": [],
   "source": [
    "ROOT_DIR = os.path.dirname(os.path.abspath(\"__file__\"))\n",
    "\n",
    "def check_exists(tag):\n",
    "    try:\n",
    "        driver.find_element(By.CSS_SELECTOR, tag)\n",
    "    except NoSuchElementException:\n",
    "        return False\n",
    "    return True"
   ]
  },
  {
   "cell_type": "markdown",
   "metadata": {
    "pycharm": {
     "name": "#%% md\n"
    }
   },
   "source": [
    "### Fetching URLs from BBC news on the Russo-Ukranian War"
   ]
  },
  {
   "cell_type": "code",
   "execution_count": null,
   "metadata": {
    "pycharm": {
     "name": "#%%\n"
    }
   },
   "outputs": [],
   "source": [
    "# Driver configChromeDriverManager(path=r\".\\\\\").install()\n",
    "s = Service(ChromeDriverManager(chrome_type=ChromeType.BRAVE, path=ROOT_DIR).install())\n",
    "driver = webdriver.Chrome(service=s)\n",
    "\n",
    "# WaitsChromeDriverManager(path=r\".\\\\\").install()\n",
    "ignored_exceptions = (\n",
    "    NoSuchElementException,\n",
    "    StaleElementReferenceException,\n",
    ")\n",
    "wait = WebDriverWait(driver, 10)\n",
    "wait2 = WebDriverWait(driver, 10, ignored_exceptions=ignored_exceptions)\n",
    "buffering_time = 0.5\n",
    "\n",
    "# CSS Selector Tags\n",
    "popup_tag = \"button[class='tp-close tp-active']\"\n",
    "title_tag = \"a[class='qa-heading-link lx-stream-post__header-link']\"\n",
    "nextPage_tag = \"a[class='lx-pagination__btn gs-u-mr+ qa-pagination-next-page lx-pagination__btn--active']\"\n",
    "numPages_tag = (\n",
    "    \"span[class='lx-pagination__page-number qa-pagination-total-page-number']\"\n",
    ")\n",
    "\n",
    "# Scraper\n",
    "urls = []\n",
    "bbc = \"https://bbc.com/news/world-60525350\"\n",
    "\n",
    "print(\"-> Launching Chrome...\")\n",
    "driver.get(bbc)\n",
    "\n",
    "popup = wait.until(EC.element_to_be_clickable((By.CSS_SELECTOR, popup_tag)))\n",
    "popup.click()\n",
    "\n",
    "num_pages = int(driver.find_element(By.CSS_SELECTOR, numPages_tag).text)\n",
    "\n",
    "with alive_bar(\n",
    "    num_pages, title=\"-> Scraper\", spinner=\"dots_waves\", bar=\"smooth\", force_tty=True\n",
    ") as bar:\n",
    "    for page in range(num_pages - 1):\n",
    "        bar()\n",
    "        time.sleep(buffering_time)\n",
    "        titles = wait2.until(\n",
    "            EC.presence_of_all_elements_located((By.CSS_SELECTOR, title_tag))\n",
    "        )\n",
    "        for title in titles:\n",
    "            if \"live\" not in title.get_attribute(\"href\"):\n",
    "                urls.append(title.get_attribute(\"href\"))\n",
    "\n",
    "        next = driver.find_element(By.CSS_SELECTOR, nextPage_tag)\n",
    "        next.click()\n",
    "    bar()\n",
    "\n",
    "unique_urls = list(dict.fromkeys(urls))\n",
    "print(f\"-> {len(unique_urls)} URLs fetched successfully!\")\n",
    "driver.quit()"
   ]
  },
  {
   "cell_type": "markdown",
   "metadata": {
    "pycharm": {
     "name": "#%% md\n"
    }
   },
   "source": [
    "### Parsing URLs for titles and text"
   ]
  },
  {
   "cell_type": "code",
   "execution_count": 44,
   "metadata": {
    "pycharm": {
     "name": "#%%\n"
    }
   },
   "outputs": [
    {
     "name": "stdout",
     "output_type": "stream",
     "text": [
      "\n"
     ]
    },
    {
     "name": "stderr",
     "output_type": "stream",
     "text": [
      "[WDM] - ====== WebDriver manager ======\n",
      "[WDM] - Current brave-browser version is 102\n",
      "[WDM] - Get LATEST chromedriver version for 102 brave-browser\n",
      "[WDM] - Driver [d:\\Code\\ukraine-media\\.wdm\\drivers\\chromedriver\\win32\\102.0.5005.61\\chromedriver.exe] found in cache\n"
     ]
    },
    {
     "name": "stdout",
     "output_type": "stream",
     "text": [
      "-> Launching Chrome...\n",
      "-> Parser |████▊                                   | ⠈⠐⠠⢀⡀ 104/866 [12%] in 6:09 (0.3/s, eta: 44:56)                    "
     ]
    }
   ],
   "source": [
    "# Driver config\n",
    "s = Service(ChromeDriverManager(chrome_type=ChromeType.BRAVE, path=ROOT_DIR).install())\n",
    "driver = webdriver.Chrome(service=s)\n",
    "\n",
    "# CSS Selector Tags\n",
    "pgTitle_tag = \"h1[class='ssrcss-15xko80-StyledHeading e1fj1fc10']\"\n",
    "pgTitle_tag_2 = \"h1[class='ssrcss-1qr3f1s-StyledHeading e1fj1fc10']\"\n",
    "pgText_tag = \"p[class='ssrcss-1q0x1qg-Paragraph eq5iqo00']\"\n",
    "date_tag = \"time[data-testid='timestamp']\"\n",
    "\n",
    "# Parser\n",
    "texts = []\n",
    "titles = []\n",
    "dates = []\n",
    "urls = []\n",
    "\n",
    "print(\"-> Launching Chrome...\")\n",
    "\n",
    "with alive_bar(\n",
    "    len(unique_urls), spinner=\"dots_waves\", title=\"-> Parser\", bar=\"smooth\", force_tty=True,\n",
    ") as bar:\n",
    "    for url in unique_urls:\n",
    "\n",
    "        bar()\n",
    "        tempTitle = \"\"\n",
    "        tempText = \"\"\n",
    "        tempDate = \"\"\n",
    "\n",
    "        driver.get(url)\n",
    "\n",
    "        if check_exists(popup_tag):\n",
    "            popup = driver.find_element(By.CSS_SELECTOR, popup_tag)\n",
    "            popup.click()\n",
    "\n",
    "        if check_exists(pgTitle_tag):\n",
    "            tempTitle += driver.find_element(By.CSS_SELECTOR, pgTitle_tag).text\n",
    "        elif check_exists(pgTitle_tag_2):\n",
    "            tempTitle += driver.find_element(By.CSS_SELECTOR, pgTitle_tag_2).text\n",
    "        \n",
    "        if check_exists(date_tag):\n",
    "            date = driver.find_element(By.CSS_SELECTOR, date_tag)\n",
    "            tempDate += date.get_attribute('datetime')\n",
    "\n",
    "        phrases = driver.find_elements(By.CSS_SELECTOR, pgText_tag)\n",
    "        for phrase in phrases:\n",
    "            tempText += \" \" + phrase.text\n",
    "\n",
    "        texts.append(tempText)\n",
    "        titles.append(tempTitle)\n",
    "        dates.append(tempDate)\n",
    "        urls.append(url)\n",
    "\n",
    "driver.quit()\n",
    "\n",
    "dict_data = {\"URL\":urls,\"Date\":dates,\"Title\": titles, \"Text\": texts}\n",
    "data = pd.DataFrame(dict_data)\n",
    "\n",
    "print(\"Database generated successfully!\")"
   ]
  },
  {
   "cell_type": "code",
   "execution_count": null,
   "metadata": {
    "pycharm": {
     "name": "#%%\n"
    }
   },
   "outputs": [],
   "source": [
    "# Filtering undesirable data\n",
    "sig = \"From Top Gun: Maverick to Turning Red and Everything Everywhere All at Once When fridges didn't exist, locals had to find other ways to keep food cool The role self-deception plays in leading people astray © 2022 BBC. The BBC is not responsible for the content of external sites. Read about our approach to external linking.\"\n",
    "data[\"Text\"] = data[\"Text\"].replace({sig: \"\"}, regex=True)\n",
    "data[\"Date\"] = data[\"Date\"].replace({\".000Z\": \"\"}, regex=True)\n",
    "data = data.replace(\"\", float(\"NaN\")).dropna(subset=[\"Text\"]).reset_index(drop=True)\n",
    "\n",
    "os.makedirs(os.getcwd() + \"/data\", exist_ok=True)\n",
    "data.to_csv(\"data/data.csv\", index=True, header=True)\n",
    "data.head(25)"
   ]
  }
 ],
 "metadata": {
  "interpreter": {
   "hash": "d56c3d14ea9991e943607aaebbc638fd1a0bf32b388456ff8fce30f8fe2dda91"
  },
  "kernelspec": {
   "display_name": "Python 3.10.4 64-bit",
   "language": "python",
   "name": "python3"
  },
  "language_info": {
   "codemirror_mode": {
    "name": "ipython",
    "version": 3
   },
   "file_extension": ".py",
   "mimetype": "text/x-python",
   "name": "python",
   "nbconvert_exporter": "python",
   "pygments_lexer": "ipython3",
   "version": "3.10.4"
  },
  "orig_nbformat": 4
 },
 "nbformat": 4,
 "nbformat_minor": 2
}
