{
 "cells": [
  {
   "cell_type": "code",
   "execution_count": 165,
   "metadata": {},
   "outputs": [],
   "source": [
    "import pandas as pd\n",
    "import os\n",
    "import regex as re\n",
    "from datetime import datetime\n",
    "import statsmodels.formula.api as smf\n",
    "from sklearn.preprocessing import StandardScaler\n",
    "from scipy.stats import pearsonr, spearmanr\n",
    "from metrics import utils\n",
    "import numpy as np\n",
    "from lda import LDA\n",
    "from gensim.parsing.preprocessing import remove_stopwords\n",
    "from sklearn.feature_extraction.text import CountVectorizer\n",
    "ROOT_DIR = os.path.dirname(os.path.abspath(\"__file__\"))\n"
   ]
  },
  {
   "cell_type": "code",
   "execution_count": 166,
   "metadata": {},
   "outputs": [],
   "source": [
    "def query_string_gen(file_dir, words):\n",
    "    l=[]\n",
    "\n",
    "    with open(file_dir, 'r') as file:\n",
    "        lines = file.readlines()\n",
    "    for line in lines:\n",
    "        for word in words:\n",
    "            if word in line:\n",
    "                l.append(re.search(r'\\d+', line).group())\n",
    "    l = list(dict.fromkeys(l))\n",
    "\n",
    "    string = \"\"\n",
    "    for i,j in enumerate(l):\n",
    "        if i==len(l)-1:\n",
    "            string += f\"Topic == {j}\"\n",
    "        else:\n",
    "            string += f\"Topic == {j} | \"\n",
    "    return string"
   ]
  },
  {
   "cell_type": "code",
   "execution_count": 167,
   "metadata": {},
   "outputs": [],
   "source": [
    "# utils.unite_sources()"
   ]
  },
  {
   "cell_type": "code",
   "execution_count": 168,
   "metadata": {},
   "outputs": [],
   "source": [
    "class NTR:\n",
    "    def __init__(self) -> None:\n",
    "        self.sources = [\"AP\", \"Fox\", \"CNN\", \"ABC\", \"CBS\", \"NYT\", \"Mirror\", \"Reuters\", \"Express\", \"HuffPost\", \"Guardian\", \"DailyMail\"]\n",
    "\n",
    "    def kld_window(self, dataframe, date_start, date_end, kld_days_window):\n",
    "        data = dataframe\n",
    "        data[\"Date\"] = pd.to_datetime(data[\"Date\"])\n",
    "        df_split = data.loc[(data[\"Date\"] >= date_start) & (data[\"Date\"] < date_end)]\n",
    "        df_count = df_split.resample(\"D\", on=\"Date\").apply({\"URL\": \"count\"})\n",
    "        daily_count = int(sum(df_count[\"URL\"].tolist()) / len(df_count[\"URL\"].tolist()))\n",
    "        print(f\"-> This dataset has an average of {daily_count} daily stories from {date_start} to {date_end}.\")\n",
    "        print(f\"-> KLD window will be of {kld_days_window}*{daily_count} = {kld_days_window*daily_count} articles.\\n\")\n",
    "        return kld_days_window * daily_count\n",
    "\n",
    "    def learn_topics(self, dataframe, topicnum, vocabsize, num_iter):\n",
    "        # Removes stopwords\n",
    "        texts = dataframe[\"Text\"].tolist()\n",
    "        texts_no_sw = []\n",
    "        for text in texts:\n",
    "            text_no_sw = remove_stopwords(text)\n",
    "            texts_no_sw.append(text_no_sw)\n",
    "\n",
    "        # Get vocab and word counts. Use the top 10k most frequent\n",
    "        # lowercase unigrams with at least 2 alphabetical, non-numeric characters,\n",
    "        # punctuation treated as separators.\n",
    "        texts = texts_no_sw\n",
    "        count_vectorizer = CountVectorizer(token_pattern=r\"(?u)\\b[^\\W\\d]{2,}\\b\", max_features=vocabsize, lowercase=True)\n",
    "        doc_vcnts = count_vectorizer.fit_transform(texts)\n",
    "        vocabulary = count_vectorizer.get_feature_names_out()\n",
    "\n",
    "        # Learn topics.\n",
    "        lda_model = LDA(topicnum, n_iter=num_iter, refresh=100)\n",
    "        doc_topic = lda_model.fit_transform(doc_vcnts)\n",
    "        topic_word = lda_model.topic_word_\n",
    "\n",
    "        return doc_topic, topic_word, vocabulary\n",
    "\n",
    "    def save_topicmodel(self, path, doc_topic, topic_word, vocabulary, source):\n",
    "\n",
    "        if not os.path.exists(path):\n",
    "            os.makedirs(path)\n",
    "\n",
    "        topicmixture_outpath = os.path.join(path, source + \"_TopicMixtures.txt\")\n",
    "        np.savetxt(topicmixture_outpath, doc_topic)\n",
    "        topic_outpath = os.path.join(path, source + \"_Topics.txt\")\n",
    "        np.savetxt(topic_outpath, topic_word)\n",
    "        vocab_outpath = os.path.join(path, source + \"_Vocab.txt\")\n",
    "        with open(vocab_outpath, mode=\"w\", encoding=\"utf-8\") as file:\n",
    "            for word in vocabulary:\n",
    "                file.write(word + \"\\n\")\n",
    "\n",
    "        return topicmixture_outpath, topic_outpath, vocab_outpath\n",
    "\n",
    "    def kld_from_probdists(self, pdists0, pdists1):\n",
    "\n",
    "        assert pdists0.shape == pdists1.shape, \"pdist* shapes must be identical\"\n",
    "        if len(pdists0.shape) == 1:\n",
    "            kl_divergences = (pdists1 * np.log2(pdists1 / pdists0)).sum()\n",
    "        elif len(pdists0.shape) == 2:\n",
    "            kl_divergences = (pdists1 * np.log2(pdists1 / pdists0)).sum(axis=1)\n",
    "\n",
    "        return kl_divergences\n",
    "\n",
    "    def novelty_transience_resonance(self, thetas_arr, scale):\n",
    "\n",
    "        speechstart = scale\n",
    "        speechend = thetas_arr.shape[0] - scale\n",
    "        novelties = []\n",
    "        transiences = []\n",
    "        resonances = []\n",
    "        for j in range(speechstart, speechend, 1):\n",
    "            center_theta = thetas_arr[j]\n",
    "            after_boxend = j + scale + 1\n",
    "            before_boxstart = j - scale\n",
    "            before_theta_arr = thetas_arr[before_boxstart:j]\n",
    "            beforenum = before_theta_arr.shape[0]\n",
    "            before_centertheta_arr = np.tile(center_theta, reps=(beforenum, 1))\n",
    "            after_theta_arr = thetas_arr[j + 1 : after_boxend]\n",
    "            afternum = after_theta_arr.shape[0]\n",
    "            after_centertheta_arr = np.tile(center_theta, reps=(afternum, 1))\n",
    "            before_klds = self.kld_from_probdists(before_theta_arr, before_centertheta_arr)\n",
    "            after_klds = self.kld_from_probdists(after_theta_arr, after_centertheta_arr)\n",
    "            novelty = np.mean(before_klds)\n",
    "            transience = np.mean(after_klds)\n",
    "            novelties.append(novelty)\n",
    "            transiences.append(transience)\n",
    "            resonances.append(novelty - transience)\n",
    "        for _ in range(0, scale):\n",
    "            transiences.insert(0, 0)\n",
    "            transiences.append(0)\n",
    "            novelties.insert(0, 0)\n",
    "            novelties.append(0)\n",
    "            resonances.insert(0, 0)\n",
    "            resonances.append(0)\n",
    "\n",
    "        return novelties, transiences, resonances\n",
    "\n",
    "    def save_novel_trans_reson(self, path, novelties, transiences, resonances, source):\n",
    "\n",
    "        outpath = os.path.join(path, source + \"_NovelTransReson.txt\")\n",
    "        np.savetxt(outpath, np.vstack(list(zip(novelties, transiences, resonances))))\n",
    "\n",
    "    def routine(self, date_start, date_end, kld_days_window, vocabsize, num_iter):\n",
    "        \n",
    "        print(\"-> Reading first topic modeling results (LDA)...\")\n",
    "        results = pd.read_csv(os.path.join(ROOT_DIR,\"results\",\"All_Results.csv\"))\n",
    "        query_string = query_string_gen(os.path.join(ROOT_DIR,\"results\",\"All_TopicsWords.txt\"), \n",
    "            words=[\"drones\", \"troops\", \"strike\", \"killed\", \"attack\", \"shelling\", \"strikes\"]\n",
    "            )\n",
    "        print(f\"-> Conflict-related topics on first LDA analysis: {query_string}\\n\")\n",
    "        results = results.query(query_string)\n",
    "        results = results.drop(columns=[\"Novelty\",\"Transience\",\"Resonance\",\"Comments\"])\n",
    "\n",
    "        source_dfs = []\n",
    "        for i, source in enumerate(self.sources):\n",
    "            query = results.query(f\"Source == '{str(source)}'\")\n",
    "            source_dfs.append(query.copy())\n",
    "            print(f\"{source} length: {len(query)}\")\n",
    "        results[\"Source\"] = \"All\"\n",
    "        source_dfs.append(results.copy())\n",
    "        print(f\"All length: {len(results)}\\n\")\n",
    "\n",
    "\n",
    "        for i, j in enumerate(source_dfs):\n",
    "            data = source_dfs[i]\n",
    "            source = data.at[data.index[0], 'Source']\n",
    "            print(f\"-> Starting {source} second topic modeling (LDA)...\")\n",
    "            scale = self.kld_window(data, date_start, date_end, kld_days_window)\n",
    "\n",
    "            doc_topic, topic_word, vocabulary = self.learn_topics(data, 30, vocabsize, num_iter)\n",
    "\n",
    "            # getting topic of each text\n",
    "            topics = []\n",
    "            for i in range(len(data)):\n",
    "                topics.append(doc_topic[i].argmax())\n",
    "\n",
    "            self.save_topicmodel(os.path.join(ROOT_DIR, \"results_two_lda\"), doc_topic, topic_word, vocabulary, source)\n",
    "            novelties, transiences, resonances = self.novelty_transience_resonance(doc_topic, scale)\n",
    "            self.save_novel_trans_reson(os.path.join(ROOT_DIR, \"results_two_lda\"), novelties, transiences, resonances, source)\n",
    "            ntr_data = data\n",
    "            ntr_data[\"Novelty\"] = novelties\n",
    "            ntr_data[\"Transience\"] = transiences\n",
    "            ntr_data[\"Resonance\"] = resonances\n",
    "            ntr_data[\"Topic2\"] = topics\n",
    "            ntr_data.to_csv(os.path.join(ROOT_DIR, \"results_two_lda\", source + \"_Results.csv\"), index=False)\n",
    "\n",
    "            # geting words of each topic\n",
    "            words = []\n",
    "            for i, topic_dist in enumerate(topic_word):\n",
    "                topic_words = np.array(vocabulary)[np.argsort(topic_dist)][:-16:-1]\n",
    "                words.append(f\"Topic {i}: {' '.join(topic_words)}\")\n",
    "            with open(os.path.join(ROOT_DIR, \"results_two_lda\", source + \"_TopicsWords.txt\"), \"w\") as file:\n",
    "                file.write(\"\\n\".join(map(str, words)))\n",
    "\n",
    "            print(\"\")\n",
    "\n",
    "        print(\"-> All LDA data saved.\\n\")\n"
   ]
  },
  {
   "cell_type": "code",
   "execution_count": 169,
   "metadata": {},
   "outputs": [
    {
     "name": "stdout",
     "output_type": "stream",
     "text": [
      "-> Reading first topic modeling results (LDA)...\n",
      "-> Conflict-related topics on first LDA analysis: Topic == 3 | Topic == 13 | Topic == 14 | Topic == 17 | Topic == 29\n",
      "\n",
      "AP length: 1161\n",
      "Fox length: 1110\n",
      "CNN length: 518\n",
      "ABC length: 189\n",
      "CBS length: 547\n",
      "NYT length: 688\n",
      "Mirror length: 908\n",
      "Reuters length: 4610\n",
      "Express length: 3903\n",
      "HuffPost length: 83\n",
      "Guardian length: 1344\n",
      "DailyMail length: 2210\n",
      "All length: 17271\n",
      "\n",
      "-> Starting AP second topic modeling (LDA)...\n",
      "-> This dataset has an average of 3 daily stories from 2022-03-01 to 2022-08-01.\n",
      "-> KLD window will be of 1*3 = 3 articles.\n",
      "\n"
     ]
    },
    {
     "name": "stderr",
     "output_type": "stream",
     "text": [
      "INFO:lda:n_documents: 1161\n",
      "INFO:lda:vocab_size: 10000\n",
      "INFO:lda:n_words: 894200\n",
      "INFO:lda:n_topics: 30\n",
      "INFO:lda:n_iter: 300\n",
      "INFO:lda:<0> log likelihood: -10501778\n",
      "INFO:lda:<100> log likelihood: -7257301\n",
      "INFO:lda:<200> log likelihood: -7200165\n",
      "INFO:lda:<299> log likelihood: -7170132\n"
     ]
    },
    {
     "name": "stdout",
     "output_type": "stream",
     "text": [
      "\n",
      "-> Starting Fox second topic modeling (LDA)...\n",
      "-> This dataset has an average of 4 daily stories from 2022-03-01 to 2022-08-01.\n",
      "-> KLD window will be of 1*4 = 4 articles.\n",
      "\n"
     ]
    },
    {
     "name": "stderr",
     "output_type": "stream",
     "text": [
      "INFO:lda:n_documents: 1110\n",
      "INFO:lda:vocab_size: 10000\n",
      "INFO:lda:n_words: 330320\n",
      "INFO:lda:n_topics: 30\n",
      "INFO:lda:n_iter: 300\n",
      "INFO:lda:<0> log likelihood: -4035057\n",
      "INFO:lda:<100> log likelihood: -2718888\n",
      "INFO:lda:<200> log likelihood: -2694723\n",
      "INFO:lda:<299> log likelihood: -2687732\n",
      "INFO:lda:n_documents: 518\n",
      "INFO:lda:vocab_size: 10000\n",
      "INFO:lda:n_words: 271472\n",
      "INFO:lda:n_topics: 30\n",
      "INFO:lda:n_iter: 300\n"
     ]
    },
    {
     "name": "stdout",
     "output_type": "stream",
     "text": [
      "\n",
      "-> Starting CNN second topic modeling (LDA)...\n",
      "-> This dataset has an average of 1 daily stories from 2022-03-01 to 2022-08-01.\n",
      "-> KLD window will be of 1*1 = 1 articles.\n",
      "\n"
     ]
    },
    {
     "name": "stderr",
     "output_type": "stream",
     "text": [
      "INFO:lda:<0> log likelihood: -3338562\n",
      "INFO:lda:<100> log likelihood: -2260786\n",
      "INFO:lda:<200> log likelihood: -2242463\n",
      "INFO:lda:<299> log likelihood: -2233604\n",
      "INFO:lda:n_documents: 189\n",
      "INFO:lda:vocab_size: 9501\n",
      "INFO:lda:n_words: 84065\n",
      "INFO:lda:n_topics: 30\n",
      "INFO:lda:n_iter: 300\n"
     ]
    },
    {
     "name": "stdout",
     "output_type": "stream",
     "text": [
      "\n",
      "-> Starting ABC second topic modeling (LDA)...\n",
      "-> This dataset has an average of 0 daily stories from 2022-03-01 to 2022-08-01.\n",
      "-> KLD window will be of 1*0 = 0 articles.\n",
      "\n"
     ]
    },
    {
     "name": "stderr",
     "output_type": "stream",
     "text": [
      "INFO:lda:<0> log likelihood: -1073548\n",
      "INFO:lda:<100> log likelihood: -706160\n",
      "INFO:lda:<200> log likelihood: -698766\n",
      "INFO:lda:<299> log likelihood: -695801\n",
      "INFO:lda:n_documents: 547\n",
      "INFO:lda:vocab_size: 10000\n",
      "INFO:lda:n_words: 201187\n",
      "INFO:lda:n_topics: 30\n",
      "INFO:lda:n_iter: 300\n"
     ]
    },
    {
     "name": "stdout",
     "output_type": "stream",
     "text": [
      "\n",
      "-> Starting CBS second topic modeling (LDA)...\n",
      "-> This dataset has an average of 1 daily stories from 2022-03-01 to 2022-08-01.\n",
      "-> KLD window will be of 1*1 = 1 articles.\n",
      "\n"
     ]
    },
    {
     "name": "stderr",
     "output_type": "stream",
     "text": [
      "INFO:lda:<0> log likelihood: -2518275\n",
      "INFO:lda:<100> log likelihood: -1677125\n",
      "INFO:lda:<200> log likelihood: -1661079\n",
      "INFO:lda:<299> log likelihood: -1656249\n"
     ]
    },
    {
     "name": "stdout",
     "output_type": "stream",
     "text": [
      "\n",
      "-> Starting NYT second topic modeling (LDA)...\n",
      "-> This dataset has an average of 2 daily stories from 2022-03-01 to 2022-08-01.\n",
      "-> KLD window will be of 1*2 = 2 articles.\n",
      "\n"
     ]
    },
    {
     "name": "stderr",
     "output_type": "stream",
     "text": [
      "INFO:lda:n_documents: 688\n",
      "INFO:lda:vocab_size: 10000\n",
      "INFO:lda:n_words: 412261\n",
      "INFO:lda:n_topics: 30\n",
      "INFO:lda:n_iter: 300\n",
      "INFO:lda:<0> log likelihood: -5030803\n",
      "INFO:lda:<100> log likelihood: -3493707\n",
      "INFO:lda:<200> log likelihood: -3464476\n",
      "INFO:lda:<299> log likelihood: -3450698\n",
      "INFO:lda:n_documents: 908\n",
      "INFO:lda:vocab_size: 10000\n",
      "INFO:lda:n_words: 278036\n",
      "INFO:lda:n_topics: 30\n",
      "INFO:lda:n_iter: 300\n"
     ]
    },
    {
     "name": "stdout",
     "output_type": "stream",
     "text": [
      "\n",
      "-> Starting Mirror second topic modeling (LDA)...\n",
      "-> This dataset has an average of 4 daily stories from 2022-03-01 to 2022-08-01.\n",
      "-> KLD window will be of 1*4 = 4 articles.\n",
      "\n"
     ]
    },
    {
     "name": "stderr",
     "output_type": "stream",
     "text": [
      "INFO:lda:<0> log likelihood: -3401406\n",
      "INFO:lda:<100> log likelihood: -2336320\n",
      "INFO:lda:<200> log likelihood: -2315928\n",
      "INFO:lda:<299> log likelihood: -2312221\n"
     ]
    },
    {
     "name": "stdout",
     "output_type": "stream",
     "text": [
      "\n",
      "-> Starting Reuters second topic modeling (LDA)...\n",
      "-> This dataset has an average of 14 daily stories from 2022-03-01 to 2022-08-01.\n",
      "-> KLD window will be of 1*14 = 14 articles.\n",
      "\n"
     ]
    },
    {
     "name": "stderr",
     "output_type": "stream",
     "text": [
      "INFO:lda:n_documents: 4610\n",
      "INFO:lda:vocab_size: 10000\n",
      "INFO:lda:n_words: 736852\n",
      "INFO:lda:n_topics: 30\n",
      "INFO:lda:n_iter: 300\n",
      "INFO:lda:<0> log likelihood: -8859137\n",
      "INFO:lda:<100> log likelihood: -5982031\n",
      "INFO:lda:<200> log likelihood: -5931792\n",
      "INFO:lda:<299> log likelihood: -5914231\n"
     ]
    },
    {
     "name": "stdout",
     "output_type": "stream",
     "text": [
      "\n",
      "-> Starting Express second topic modeling (LDA)...\n",
      "-> This dataset has an average of 12 daily stories from 2022-03-01 to 2022-08-01.\n",
      "-> KLD window will be of 1*12 = 12 articles.\n",
      "\n"
     ]
    },
    {
     "name": "stderr",
     "output_type": "stream",
     "text": [
      "INFO:lda:n_documents: 3903\n",
      "INFO:lda:vocab_size: 10000\n",
      "INFO:lda:n_words: 1100784\n",
      "INFO:lda:n_topics: 30\n",
      "INFO:lda:n_iter: 300\n",
      "INFO:lda:<0> log likelihood: -13034087\n",
      "INFO:lda:<100> log likelihood: -9254729\n",
      "INFO:lda:<200> log likelihood: -9184887\n",
      "INFO:lda:<299> log likelihood: -9150466\n",
      "INFO:lda:n_documents: 83\n",
      "INFO:lda:vocab_size: 5243\n",
      "INFO:lda:n_words: 22655\n",
      "INFO:lda:n_topics: 30\n",
      "INFO:lda:n_iter: 300\n",
      "INFO:lda:<0> log likelihood: -289851\n"
     ]
    },
    {
     "name": "stdout",
     "output_type": "stream",
     "text": [
      "\n",
      "-> Starting HuffPost second topic modeling (LDA)...\n",
      "-> This dataset has an average of 0 daily stories from 2022-03-01 to 2022-08-01.\n",
      "-> KLD window will be of 1*0 = 0 articles.\n",
      "\n"
     ]
    },
    {
     "name": "stderr",
     "output_type": "stream",
     "text": [
      "INFO:lda:<100> log likelihood: -193871\n",
      "INFO:lda:<200> log likelihood: -191776\n",
      "INFO:lda:<299> log likelihood: -191233\n"
     ]
    },
    {
     "name": "stdout",
     "output_type": "stream",
     "text": [
      "\n",
      "-> Starting Guardian second topic modeling (LDA)...\n",
      "-> This dataset has an average of 4 daily stories from 2022-03-01 to 2022-08-01.\n",
      "-> KLD window will be of 1*4 = 4 articles.\n",
      "\n"
     ]
    },
    {
     "name": "stderr",
     "output_type": "stream",
     "text": [
      "INFO:lda:n_documents: 1344\n",
      "INFO:lda:vocab_size: 10000\n",
      "INFO:lda:n_words: 637303\n",
      "INFO:lda:n_topics: 30\n",
      "INFO:lda:n_iter: 300\n",
      "INFO:lda:<0> log likelihood: -7680631\n",
      "INFO:lda:<100> log likelihood: -5431263\n",
      "INFO:lda:<200> log likelihood: -5387461\n",
      "INFO:lda:<299> log likelihood: -5375603\n"
     ]
    },
    {
     "name": "stdout",
     "output_type": "stream",
     "text": [
      "\n",
      "-> Starting DailyMail second topic modeling (LDA)...\n",
      "-> This dataset has an average of 8 daily stories from 2022-03-01 to 2022-08-01.\n",
      "-> KLD window will be of 1*8 = 8 articles.\n",
      "\n"
     ]
    },
    {
     "name": "stderr",
     "output_type": "stream",
     "text": [
      "INFO:lda:n_documents: 2210\n",
      "INFO:lda:vocab_size: 10000\n",
      "INFO:lda:n_words: 1862966\n",
      "INFO:lda:n_topics: 30\n",
      "INFO:lda:n_iter: 300\n",
      "INFO:lda:<0> log likelihood: -21693098\n",
      "INFO:lda:<100> log likelihood: -15913299\n",
      "INFO:lda:<200> log likelihood: -15783823\n",
      "INFO:lda:<299> log likelihood: -15739493\n"
     ]
    },
    {
     "name": "stdout",
     "output_type": "stream",
     "text": [
      "\n",
      "-> Starting All second topic modeling (LDA)...\n",
      "-> This dataset has an average of 58 daily stories from 2022-03-01 to 2022-08-01.\n",
      "-> KLD window will be of 1*58 = 58 articles.\n",
      "\n"
     ]
    },
    {
     "name": "stderr",
     "output_type": "stream",
     "text": [
      "INFO:lda:n_documents: 17271\n",
      "INFO:lda:vocab_size: 10000\n",
      "INFO:lda:n_words: 6747630\n",
      "INFO:lda:n_topics: 30\n",
      "INFO:lda:n_iter: 300\n",
      "INFO:lda:<0> log likelihood: -77389354\n",
      "INFO:lda:<100> log likelihood: -56929592\n",
      "INFO:lda:<200> log likelihood: -56622665\n",
      "INFO:lda:<299> log likelihood: -56525380\n"
     ]
    },
    {
     "name": "stdout",
     "output_type": "stream",
     "text": [
      "\n",
      "-> All LDA data saved.\n",
      "\n"
     ]
    }
   ],
   "source": [
    "NTR().routine(date_start=\"2022-03-01\", date_end=\"2022-08-01\", kld_days_window=1, vocabsize=10000, num_iter=300)"
   ]
  },
  {
   "attachments": {},
   "cell_type": "markdown",
   "metadata": {},
   "source": [
    "# Correlation"
   ]
  },
  {
   "cell_type": "code",
   "execution_count": 170,
   "metadata": {},
   "outputs": [],
   "source": [
    "def spearman_pearson(dir,source,resample,pval):\n",
    "    events = pd.read_csv(os.path.join(ROOT_DIR,\"data\",\"Ukraine_Black_Sea_2020_2022_Nov18.csv\"), parse_dates=[\"EVENT_DATE\"])\n",
    "    events = events[[\"EVENT_DATE\",\"EVENT_TYPE\",\"FATALITIES\"]].rename(columns={\"EVENT_DATE\":\"Date\",\"EVENT_TYPE\":\"Count\",\"FATALITIES\":\"Fatalities\"})  # pegando somente colunas relevantes\n",
    "    events = events.set_index(\"Date\") # convertendo coluna de datas pra datetime e setando indice\n",
    "    events = events.resample(resample).agg({'Count': 'count', 'Fatalities': 'sum'}) # resample: contagem de eventos, soma de fatalidades\n",
    "\n",
    "    results = pd.read_csv(os.path.join(dir,f\"{source}_Results.csv\"), parse_dates=[\"Date\"],index_col=[\"Date\"])\n",
    "    results = results[[\"Resonance\",\"Novelty\",\"Transience\"]]\n",
    "    results = results.sort_index()\n",
    "    results = results.loc[\"2018-01-01\":\"2022-11-18\"] # Matching other dataframe\n",
    "    results = results.resample(resample).sum()\n",
    "    results[[\"Count\",\"Fatalities\"]] = events[[\"Count\",\"Fatalities\"]].copy()\n",
    "    results = results.loc[\"2020-01-01\":\"2022-11-16\"] \n",
    "\n",
    "    s_fatalities, s_fatalities_p = spearmanr(results['Fatalities'], results['Resonance'])\n",
    "    p_fatalities, p_fatalities_p = pearsonr(results['Fatalities'], results['Resonance'])\n",
    "    s_events, s_events_p = spearmanr(results['Count'], results['Resonance'])\n",
    "    p_events, p_events_p = pearsonr(results['Count'], results['Resonance'])\n",
    "\n",
    "    if s_fatalities_p <= pval:\n",
    "        print(f'{source} (R X F) Spearman: {s_fatalities:.4f} p-value: {s_fatalities_p:.4f}')\n",
    "    if p_fatalities_p <= pval:\n",
    "        print(f'{source} (R X F) Pearson: {p_fatalities:.4f} p-value: {p_fatalities_p:.4f}')\n",
    "    if s_events_p <= pval:\n",
    "        print(f'{source} (R X CE) Spearman: {s_events:.4f} p-value: {s_events_p:.4f}')\n",
    "    if p_events_p <= pval:\n",
    "        print(f'{source} (R X CE) Pearson: {p_events:.4f} p-value: {p_events_p:.4f}')"
   ]
  },
  {
   "attachments": {},
   "cell_type": "markdown",
   "metadata": {},
   "source": [
    "### 1 LDA"
   ]
  },
  {
   "cell_type": "code",
   "execution_count": 171,
   "metadata": {},
   "outputs": [
    {
     "name": "stdout",
     "output_type": "stream",
     "text": [
      "Fox (R X F) Pearson: 0.1852 p-value: 0.0233\n",
      "NYT (R X F) Spearman: 0.1731 p-value: 0.0341\n",
      "NYT (R X F) Pearson: 0.2085 p-value: 0.0105\n",
      "NYT (R X CE) Pearson: 0.1818 p-value: 0.0260\n",
      "Reuters (R X F) Pearson: 0.1934 p-value: 0.0177\n",
      "Express (R X F) Pearson: 0.1919 p-value: 0.0247\n",
      "All (R X F) Pearson: 0.2724 p-value: 0.0007\n"
     ]
    }
   ],
   "source": [
    "sources = [\"AP\", \"Fox\", \"CNN\", \"ABC\", \"CBS\", \"NYT\", \"Mirror\", \"Reuters\", \"Express\", \"HuffPost\", \"Guardian\", \"DailyMail\", \"All\"]\n",
    "for source in sources:\n",
    "    spearman_pearson(os.path.join(ROOT_DIR,\"results\"),source,'W',0.05)"
   ]
  },
  {
   "attachments": {},
   "cell_type": "markdown",
   "metadata": {},
   "source": [
    "### 2 LDA"
   ]
  },
  {
   "cell_type": "code",
   "execution_count": 173,
   "metadata": {},
   "outputs": [
    {
     "name": "stdout",
     "output_type": "stream",
     "text": [
      "Express (R X F) Spearman: -0.2437 p-value: 0.0047\n",
      "Express (R X CE) Spearman: -0.2148 p-value: 0.0131\n",
      "Express (R X CE) Pearson: -0.2176 p-value: 0.0119\n",
      "Guardian (R X F) Spearman: -0.1641 p-value: 0.0448\n"
     ]
    }
   ],
   "source": [
    "for source in sources:\n",
    "    spearman_pearson(os.path.join(ROOT_DIR,\"results_two_lda\"),source,'W',0.05)"
   ]
  }
 ],
 "metadata": {
  "kernelspec": {
   "display_name": ".venv",
   "language": "python",
   "name": "python3"
  },
  "language_info": {
   "codemirror_mode": {
    "name": "ipython",
    "version": 3
   },
   "file_extension": ".py",
   "mimetype": "text/x-python",
   "name": "python",
   "nbconvert_exporter": "python",
   "pygments_lexer": "ipython3",
   "version": "3.10.5"
  },
  "orig_nbformat": 4,
  "vscode": {
   "interpreter": {
    "hash": "71a723942456804a71d025442f2ccd3a5c8db2153e1c9e51f0af23a7e755532d"
   }
  }
 },
 "nbformat": 4,
 "nbformat_minor": 2
}
