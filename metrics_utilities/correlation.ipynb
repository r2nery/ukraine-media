{
 "cells": [
  {
   "cell_type": "code",
   "execution_count": 43,
   "metadata": {},
   "outputs": [],
   "source": [
    "import pandas as pd\n",
    "import os\n",
    "import regex as re\n",
    "from datetime import datetime\n",
    "import statsmodels.formula.api as smf\n",
    "from sklearn.preprocessing import StandardScaler\n",
    "from scipy.stats import pearsonr, spearmanr\n",
    "from metrics import utils\n",
    "import numpy as np\n",
    "from lda import LDA\n",
    "from gensim.parsing.preprocessing import remove_stopwords\n",
    "from sklearn.feature_extraction.text import CountVectorizer\n",
    "ROOT_DIR = os.path.dirname(os.path.abspath(\"__file__\"))\n"
   ]
  },
  {
   "cell_type": "code",
   "execution_count": 44,
   "metadata": {},
   "outputs": [],
   "source": [
    "def query_string_gen(file_dir, words):\n",
    "    l=[]\n",
    "\n",
    "    with open(file_dir, 'r') as file:\n",
    "        lines = file.readlines()\n",
    "    for line in lines:\n",
    "        for word in words:\n",
    "            if word in line:\n",
    "                l.append(re.search(r'\\d+', line).group())\n",
    "    l = list(dict.fromkeys(l))\n",
    "\n",
    "    string = \"\"\n",
    "    for i,j in enumerate(l):\n",
    "        if i==len(l)-1:\n",
    "            string += f\"Topic == {j}\"\n",
    "        else:\n",
    "            string += f\"Topic == {j} | \"\n",
    "    return string"
   ]
  },
  {
   "attachments": {},
   "cell_type": "markdown",
   "metadata": {},
   "source": [
    "# Correlation"
   ]
  },
  {
   "cell_type": "code",
   "execution_count": 50,
   "metadata": {},
   "outputs": [],
   "source": [
    "def spearman_gen(dir,source,resample,pval,kind,date_start,date_end):\n",
    "    events = pd.read_csv(os.path.join(ROOT_DIR,\"data\",\"Ukraine_Black_Sea_2020_2022_Dec09-1.csv\"), parse_dates=[\"EVENT_DATE\"])\n",
    "    #events = events.query(\"EVENT_TYPE == 'Strategic developments'\")\n",
    "    events = events[[\"EVENT_DATE\",\"EVENT_TYPE\",\"FATALITIES\"]].rename(columns={\"EVENT_DATE\":\"Date\",\"EVENT_TYPE\":\"Count\",\"FATALITIES\":\"Fatalities\"})  # pegando somente colunas relevantes\n",
    "    events = events.sort_index()\n",
    "    events = events.set_index(\"Date\") # convertendo coluna de datas pra datetime e setando indice\n",
    "    events = events.loc[date_start:date_end]\n",
    "    events = events.resample(resample).agg({'Count': 'count', 'Fatalities': 'sum'}) # resample: contagem de eventos, soma de fatalidades\n",
    "\n",
    "\n",
    "    results = pd.read_csv(os.path.join(dir,f\"{source}_Results.csv\"), parse_dates=[\"Date\"],index_col=[\"Date\"])\n",
    "    results = results[[\"Resonance\",\"Novelty\",\"Transience\"]]\n",
    "    results = results.sort_index()\n",
    "    results = results.loc[date_start:date_end] # Matching other dataframe\n",
    "    results = results.resample(resample).sum()\n",
    "    results[[\"Count\",\"Fatalities\"]] = events[[\"Count\",\"Fatalities\"]].copy()\n",
    "\n",
    "    s_fatalities, s_fatalities_p = spearmanr(results['Fatalities'], results['Resonance'])\n",
    "    p_fatalities, p_fatalities_p = pearsonr(results['Fatalities'], results['Resonance'])\n",
    "    s_events, s_events_p = spearmanr(results['Count'], results['Resonance'])\n",
    "    p_events, p_events_p = pearsonr(results['Count'], results['Resonance'])\n",
    "\n",
    "    if s_fatalities_p <= pval and kind == \"fat\":\n",
    "        print(f'{source} (R X F) Spearman: {s_fatalities:.4f} p-value: {s_fatalities_p:.4f}')\n",
    "    if s_events_p <= pval and kind == \"eve\":\n",
    "        print(f'{source} (R X CE) Spearman: {s_events:.4f} p-value: {s_events_p:.4f}')"
   ]
  },
  {
   "cell_type": "code",
   "execution_count": 46,
   "metadata": {},
   "outputs": [],
   "source": [
    "def pearson_gen(dir,source,resample,pval,kind,date_start,date_end):\n",
    "    events = pd.read_csv(os.path.join(ROOT_DIR,\"data\",\"Ukraine_Black_Sea_2020_2022_Dec09-1.csv\"), parse_dates=[\"EVENT_DATE\"])\n",
    "    events = events[[\"EVENT_DATE\",\"EVENT_TYPE\",\"FATALITIES\"]].rename(columns={\"EVENT_DATE\":\"Date\",\"EVENT_TYPE\":\"Count\",\"FATALITIES\":\"Fatalities\"})  # pegando somente colunas relevantes\n",
    "    events = events.sort_index()\n",
    "    events = events.set_index(\"Date\") # convertendo coluna de datas pra datetime e setando indice\n",
    "    events = events.loc[date_start:date_end]\n",
    "    events = events.resample(resample).agg({'Count': 'count', 'Fatalities': 'sum'}) # resample: contagem de eventos, soma de fatalidades\n",
    "\n",
    "    results = pd.read_csv(os.path.join(dir,f\"{source}_Results.csv\"), parse_dates=[\"Date\"],index_col=[\"Date\"])\n",
    "    results = results[[\"Resonance\",\"Novelty\",\"Transience\"]]\n",
    "    results = results.sort_index()\n",
    "    results = results.loc[date_start:date_end] # Matching other dataframe\n",
    "    results = results.resample(resample).sum()\n",
    "    results[[\"Count\",\"Fatalities\"]] = events[[\"Count\",\"Fatalities\"]].copy()\n",
    "\n",
    "    s_fatalities, s_fatalities_p = spearmanr(results['Fatalities'], results['Resonance'])\n",
    "    p_fatalities, p_fatalities_p = pearsonr(results['Fatalities'], results['Resonance'])\n",
    "    s_events, s_events_p = spearmanr(results['Count'], results['Resonance'])\n",
    "    p_events, p_events_p = pearsonr(results['Count'], results['Resonance'])\n",
    "\n",
    "    if p_fatalities_p <= pval and kind == \"fat\":\n",
    "        print(f'{source} (R X F) Pearson: {p_fatalities:.4f} p-value: {p_fatalities_p:.4f}')\n",
    "    if p_events_p <= pval and kind == \"eve\":\n",
    "        print(f'{source} (R X CE) Pearson: {p_events:.4f} p-value: {p_events_p:.4f}')"
   ]
  },
  {
   "cell_type": "code",
   "execution_count": 51,
   "metadata": {},
   "outputs": [
    {
     "name": "stdout",
     "output_type": "stream",
     "text": [
      "-> Date range: 2022-03-01 to 2022-12-09\n",
      "======= SPEARMAN CORRELATION =======\n",
      "---------- Variable: eve ----------\n",
      "----------- Resample: D -----------\n",
      "-> KLD Window: 7\n"
     ]
    },
    {
     "ename": "ValueError",
     "evalue": "array must not contain infs or NaNs",
     "output_type": "error",
     "traceback": [
      "\u001b[0;31m---------------------------------------------------------------------------\u001b[0m",
      "\u001b[0;31mValueError\u001b[0m                                Traceback (most recent call last)",
      "\u001b[1;32m/Users/r2/Code/ukraine-media/correlation.ipynb Cell 6\u001b[0m in \u001b[0;36m<cell line: 10>\u001b[0;34m()\u001b[0m\n\u001b[1;32m     <a href='vscode-notebook-cell:/Users/r2/Code/ukraine-media/correlation.ipynb#W5sZmlsZQ%3D%3D?line=14'>15</a>\u001b[0m \u001b[39mprint\u001b[39m(\u001b[39mf\u001b[39m\u001b[39m\"\u001b[39m\u001b[39m-> KLD Window: \u001b[39m\u001b[39m{\u001b[39;00mwindow\u001b[39m}\u001b[39;00m\u001b[39m\"\u001b[39m)\n\u001b[1;32m     <a href='vscode-notebook-cell:/Users/r2/Code/ukraine-media/correlation.ipynb#W5sZmlsZQ%3D%3D?line=15'>16</a>\u001b[0m \u001b[39mfor\u001b[39;00m source \u001b[39min\u001b[39;00m sources:\n\u001b[0;32m---> <a href='vscode-notebook-cell:/Users/r2/Code/ukraine-media/correlation.ipynb#W5sZmlsZQ%3D%3D?line=16'>17</a>\u001b[0m     spearman_gen(os\u001b[39m.\u001b[39;49mpath\u001b[39m.\u001b[39;49mjoin(ROOT_DIR,\u001b[39mf\u001b[39;49m\u001b[39m\"\u001b[39;49m\u001b[39mresults_\u001b[39;49m\u001b[39m{\u001b[39;49;00mwindow\u001b[39m}\u001b[39;49;00m\u001b[39m\"\u001b[39;49m),source,resample,\u001b[39m0.05\u001b[39;49m,variable,date_start,date_end)\n",
      "\u001b[1;32m/Users/r2/Code/ukraine-media/correlation.ipynb Cell 6\u001b[0m in \u001b[0;36mspearman_gen\u001b[0;34m(dir, source, resample, pval, kind, date_start, date_end)\u001b[0m\n\u001b[1;32m     <a href='vscode-notebook-cell:/Users/r2/Code/ukraine-media/correlation.ipynb#W5sZmlsZQ%3D%3D?line=15'>16</a>\u001b[0m results[[\u001b[39m\"\u001b[39m\u001b[39mCount\u001b[39m\u001b[39m\"\u001b[39m,\u001b[39m\"\u001b[39m\u001b[39mFatalities\u001b[39m\u001b[39m\"\u001b[39m]] \u001b[39m=\u001b[39m events[[\u001b[39m\"\u001b[39m\u001b[39mCount\u001b[39m\u001b[39m\"\u001b[39m,\u001b[39m\"\u001b[39m\u001b[39mFatalities\u001b[39m\u001b[39m\"\u001b[39m]]\u001b[39m.\u001b[39mcopy()\n\u001b[1;32m     <a href='vscode-notebook-cell:/Users/r2/Code/ukraine-media/correlation.ipynb#W5sZmlsZQ%3D%3D?line=17'>18</a>\u001b[0m s_fatalities, s_fatalities_p \u001b[39m=\u001b[39m spearmanr(results[\u001b[39m'\u001b[39m\u001b[39mFatalities\u001b[39m\u001b[39m'\u001b[39m], results[\u001b[39m'\u001b[39m\u001b[39mResonance\u001b[39m\u001b[39m'\u001b[39m])\n\u001b[0;32m---> <a href='vscode-notebook-cell:/Users/r2/Code/ukraine-media/correlation.ipynb#W5sZmlsZQ%3D%3D?line=18'>19</a>\u001b[0m p_fatalities, p_fatalities_p \u001b[39m=\u001b[39m pearsonr(results[\u001b[39m'\u001b[39;49m\u001b[39mFatalities\u001b[39;49m\u001b[39m'\u001b[39;49m], results[\u001b[39m'\u001b[39;49m\u001b[39mResonance\u001b[39;49m\u001b[39m'\u001b[39;49m])\n\u001b[1;32m     <a href='vscode-notebook-cell:/Users/r2/Code/ukraine-media/correlation.ipynb#W5sZmlsZQ%3D%3D?line=19'>20</a>\u001b[0m s_events, s_events_p \u001b[39m=\u001b[39m spearmanr(results[\u001b[39m'\u001b[39m\u001b[39mCount\u001b[39m\u001b[39m'\u001b[39m], results[\u001b[39m'\u001b[39m\u001b[39mResonance\u001b[39m\u001b[39m'\u001b[39m])\n\u001b[1;32m     <a href='vscode-notebook-cell:/Users/r2/Code/ukraine-media/correlation.ipynb#W5sZmlsZQ%3D%3D?line=20'>21</a>\u001b[0m p_events, p_events_p \u001b[39m=\u001b[39m pearsonr(results[\u001b[39m'\u001b[39m\u001b[39mCount\u001b[39m\u001b[39m'\u001b[39m], results[\u001b[39m'\u001b[39m\u001b[39mResonance\u001b[39m\u001b[39m'\u001b[39m])\n",
      "File \u001b[0;32m~/Code/ukraine-media/.venv/lib/python3.10/site-packages/scipy/stats/_stats_py.py:4090\u001b[0m, in \u001b[0;36mpearsonr\u001b[0;34m(x, y)\u001b[0m\n\u001b[1;32m   4085\u001b[0m ym \u001b[39m=\u001b[39m y\u001b[39m.\u001b[39mastype(dtype) \u001b[39m-\u001b[39m ymean\n\u001b[1;32m   4087\u001b[0m \u001b[39m# Unlike np.linalg.norm or the expression sqrt((xm*xm).sum()),\u001b[39;00m\n\u001b[1;32m   4088\u001b[0m \u001b[39m# scipy.linalg.norm(xm) does not overflow if xm is, for example,\u001b[39;00m\n\u001b[1;32m   4089\u001b[0m \u001b[39m# [-5e210, 5e210, 3e200, -3e200]\u001b[39;00m\n\u001b[0;32m-> 4090\u001b[0m normxm \u001b[39m=\u001b[39m linalg\u001b[39m.\u001b[39;49mnorm(xm)\n\u001b[1;32m   4091\u001b[0m normym \u001b[39m=\u001b[39m linalg\u001b[39m.\u001b[39mnorm(ym)\n\u001b[1;32m   4093\u001b[0m threshold \u001b[39m=\u001b[39m \u001b[39m1e-13\u001b[39m\n",
      "File \u001b[0;32m~/Code/ukraine-media/.venv/lib/python3.10/site-packages/scipy/linalg/_misc.py:145\u001b[0m, in \u001b[0;36mnorm\u001b[0;34m(a, ord, axis, keepdims, check_finite)\u001b[0m\n\u001b[1;32m    143\u001b[0m \u001b[39m# Differs from numpy only in non-finite handling and the use of blas.\u001b[39;00m\n\u001b[1;32m    144\u001b[0m \u001b[39mif\u001b[39;00m check_finite:\n\u001b[0;32m--> 145\u001b[0m     a \u001b[39m=\u001b[39m np\u001b[39m.\u001b[39;49masarray_chkfinite(a)\n\u001b[1;32m    146\u001b[0m \u001b[39melse\u001b[39;00m:\n\u001b[1;32m    147\u001b[0m     a \u001b[39m=\u001b[39m np\u001b[39m.\u001b[39masarray(a)\n",
      "File \u001b[0;32m~/Code/ukraine-media/.venv/lib/python3.10/site-packages/numpy/lib/function_base.py:627\u001b[0m, in \u001b[0;36masarray_chkfinite\u001b[0;34m(a, dtype, order)\u001b[0m\n\u001b[1;32m    625\u001b[0m a \u001b[39m=\u001b[39m asarray(a, dtype\u001b[39m=\u001b[39mdtype, order\u001b[39m=\u001b[39morder)\n\u001b[1;32m    626\u001b[0m \u001b[39mif\u001b[39;00m a\u001b[39m.\u001b[39mdtype\u001b[39m.\u001b[39mchar \u001b[39min\u001b[39;00m typecodes[\u001b[39m'\u001b[39m\u001b[39mAllFloat\u001b[39m\u001b[39m'\u001b[39m] \u001b[39mand\u001b[39;00m \u001b[39mnot\u001b[39;00m np\u001b[39m.\u001b[39misfinite(a)\u001b[39m.\u001b[39mall():\n\u001b[0;32m--> 627\u001b[0m     \u001b[39mraise\u001b[39;00m \u001b[39mValueError\u001b[39;00m(\n\u001b[1;32m    628\u001b[0m         \u001b[39m\"\u001b[39m\u001b[39marray must not contain infs or NaNs\u001b[39m\u001b[39m\"\u001b[39m)\n\u001b[1;32m    629\u001b[0m \u001b[39mreturn\u001b[39;00m a\n",
      "\u001b[0;31mValueError\u001b[0m: array must not contain infs or NaNs"
     ]
    }
   ],
   "source": [
    "sources = [\"AP\", \"Fox\", \"CNN\", \"ABC\", \"CBS\", \"NYT\", \"Mirror\", \"Reuters\", \"Express\", \"HuffPost\", \"Guardian\", \"DailyMail\", \"All\"]\n",
    "variables = [\"eve\"]\n",
    "resamples = [\"D\", \"W\"]\n",
    "windows = [7,10,15,20,25,30]\n",
    "date_start = \"2022-03-01\"\n",
    "date_end = \"2022-12-09\"\n",
    "\n",
    "print(f\"-> Date range: {date_start} to {date_end}\")\n",
    "print(\"======= SPEARMAN CORRELATION =======\")\n",
    "for variable in variables:\n",
    "    print(f\"---------- Variable: {variable} ----------\")\n",
    "    for resample in resamples:\n",
    "        print(f\"----------- Resample: {resample} -----------\")\n",
    "        for window in windows:\n",
    "            print(f\"-> KLD Window: {window}\")\n",
    "            for source in sources:\n",
    "                spearman_gen(os.path.join(ROOT_DIR,f\"results_{window}\"),source,resample,0.05,variable,date_start,date_end)\n",
    "\n",
    "# print(\"======= PEARSON CORRELATION =======\")\n",
    "# for variable in variables:\n",
    "#     print(f\"---------- Variable: {variable} ----------\")\n",
    "#     for resample in resamples:\n",
    "#         print(f\"----------- Resample: {resample} -----------\")\n",
    "#         for window in windows:\n",
    "#             print(f\"-> KLD Window: {window}\")\n",
    "#             for source in sources:\n",
    "#                 pearson_gen(os.path.join(ROOT_DIR,f\"results_{window}\"),source,resample,0.05,variable,date_start,date_end)"
   ]
  }
 ],
 "metadata": {
  "kernelspec": {
   "display_name": ".venv",
   "language": "python",
   "name": "python3"
  },
  "language_info": {
   "codemirror_mode": {
    "name": "ipython",
    "version": 3
   },
   "file_extension": ".py",
   "mimetype": "text/x-python",
   "name": "python",
   "nbconvert_exporter": "python",
   "pygments_lexer": "ipython3",
   "version": "3.10.5 (v3.10.5:f377153967, Jun  6 2022, 12:36:10) [Clang 13.0.0 (clang-1300.0.29.30)]"
  },
  "orig_nbformat": 4,
  "vscode": {
   "interpreter": {
    "hash": "71a723942456804a71d025442f2ccd3a5c8db2153e1c9e51f0af23a7e755532d"
   }
  }
 },
 "nbformat": 4,
 "nbformat_minor": 2
}
