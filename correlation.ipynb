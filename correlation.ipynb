{
 "cells": [
  {
   "cell_type": "code",
   "execution_count": 27,
   "metadata": {},
   "outputs": [],
   "source": [
    "import pandas as pd\n",
    "import os\n",
    "import regex as re\n",
    "from datetime import datetime\n",
    "import statsmodels.formula.api as smf\n",
    "from sklearn.preprocessing import StandardScaler\n",
    "from scipy.stats import pearsonr, spearmanr\n",
    "from metrics import utils\n",
    "import numpy as np\n",
    "from lda import LDA\n",
    "from gensim.parsing.preprocessing import remove_stopwords\n",
    "from sklearn.feature_extraction.text import CountVectorizer\n",
    "ROOT_DIR = os.path.dirname(os.path.abspath(\"__file__\"))\n"
   ]
  },
  {
   "cell_type": "code",
   "execution_count": 28,
   "metadata": {},
   "outputs": [],
   "source": [
    "def query_string_gen(file_dir, words):\n",
    "    l=[]\n",
    "\n",
    "    with open(file_dir, 'r') as file:\n",
    "        lines = file.readlines()\n",
    "    for line in lines:\n",
    "        for word in words:\n",
    "            if word in line:\n",
    "                l.append(re.search(r'\\d+', line).group())\n",
    "    l = list(dict.fromkeys(l))\n",
    "\n",
    "    string = \"\"\n",
    "    for i,j in enumerate(l):\n",
    "        if i==len(l)-1:\n",
    "            string += f\"Topic == {j}\"\n",
    "        else:\n",
    "            string += f\"Topic == {j} | \"\n",
    "    return string"
   ]
  },
  {
   "attachments": {},
   "cell_type": "markdown",
   "metadata": {},
   "source": [
    "# Correlation"
   ]
  },
  {
   "cell_type": "code",
   "execution_count": 29,
   "metadata": {},
   "outputs": [],
   "source": [
    "def spearman_gen(dir,source,resample,pval,kind):\n",
    "    events = pd.read_csv(os.path.join(ROOT_DIR,\"data\",\"Ukraine_Black_Sea_2020_2022_Dec09-1.csv\"), parse_dates=[\"EVENT_DATE\"])\n",
    "    events = events[[\"EVENT_DATE\",\"EVENT_TYPE\",\"FATALITIES\"]].rename(columns={\"EVENT_DATE\":\"Date\",\"EVENT_TYPE\":\"Count\",\"FATALITIES\":\"Fatalities\"})  # pegando somente colunas relevantes\n",
    "    events = events.sort_index()\n",
    "    events = events.set_index(\"Date\") # convertendo coluna de datas pra datetime e setando indice\n",
    "    events = events.loc[\"2022-03-01\":\"2022-12-09\"]\n",
    "    events = events.resample(resample).agg({'Count': 'count', 'Fatalities': 'sum'}) # resample: contagem de eventos, soma de fatalidades\n",
    "\n",
    "\n",
    "    results = pd.read_csv(os.path.join(dir,f\"{source}_Results.csv\"), parse_dates=[\"Date\"],index_col=[\"Date\"])\n",
    "    results = results[[\"Resonance\",\"Novelty\",\"Transience\"]]\n",
    "    results = results.sort_index()\n",
    "    results = results.loc[\"2022-04-01\":\"2022-12-09\"] # Matching other dataframe\n",
    "    results = results.resample(resample).sum()\n",
    "    results[[\"Count\",\"Fatalities\"]] = events[[\"Count\",\"Fatalities\"]].copy()\n",
    "\n",
    "    s_fatalities, s_fatalities_p = spearmanr(results['Fatalities'], results['Resonance'])\n",
    "    p_fatalities, p_fatalities_p = pearsonr(results['Fatalities'], results['Resonance'])\n",
    "    s_events, s_events_p = spearmanr(results['Count'], results['Resonance'])\n",
    "    p_events, p_events_p = pearsonr(results['Count'], results['Resonance'])\n",
    "\n",
    "    if s_fatalities_p <= pval and kind == \"fat\":\n",
    "        print(f'{source} (R X F) Spearman: {s_fatalities:.4f} p-value: {s_fatalities_p:.4f}')\n",
    "    if s_events_p <= pval and kind == \"eve\":\n",
    "        print(f'{source} (R X CE) Spearman: {s_events:.4f} p-value: {s_events_p:.4f}')"
   ]
  },
  {
   "cell_type": "code",
   "execution_count": 30,
   "metadata": {},
   "outputs": [],
   "source": [
    "def pearson_gen(dir,source,resample,pval,kind):\n",
    "    events = pd.read_csv(os.path.join(ROOT_DIR,\"data\",\"Ukraine_Black_Sea_2020_2022_Dec09-1.csv\"), parse_dates=[\"EVENT_DATE\"])\n",
    "    events = events[[\"EVENT_DATE\",\"EVENT_TYPE\",\"FATALITIES\"]].rename(columns={\"EVENT_DATE\":\"Date\",\"EVENT_TYPE\":\"Count\",\"FATALITIES\":\"Fatalities\"})  # pegando somente colunas relevantes\n",
    "    events = events.sort_index()\n",
    "    events = events.set_index(\"Date\") # convertendo coluna de datas pra datetime e setando indice\n",
    "    events = events.loc[\"2022-04-01\":\"2022-12-09\"]\n",
    "    events = events.resample(resample).agg({'Count': 'count', 'Fatalities': 'sum'}) # resample: contagem de eventos, soma de fatalidades\n",
    "\n",
    "\n",
    "    results = pd.read_csv(os.path.join(dir,f\"{source}_Results.csv\"), parse_dates=[\"Date\"],index_col=[\"Date\"])\n",
    "    results = results[[\"Resonance\",\"Novelty\",\"Transience\"]]\n",
    "    results = results.sort_index()\n",
    "    results = results.loc[\"2022-04-01\":\"2022-12-09\"] # Matching other dataframe\n",
    "    results = results.resample(resample).sum()\n",
    "    results[[\"Count\",\"Fatalities\"]] = events[[\"Count\",\"Fatalities\"]].copy()\n",
    "\n",
    "    s_fatalities, s_fatalities_p = spearmanr(results['Fatalities'], results['Resonance'])\n",
    "    p_fatalities, p_fatalities_p = pearsonr(results['Fatalities'], results['Resonance'])\n",
    "    s_events, s_events_p = spearmanr(results['Count'], results['Resonance'])\n",
    "    p_events, p_events_p = pearsonr(results['Count'], results['Resonance'])\n",
    "\n",
    "    if p_fatalities_p <= pval and kind == \"fat\":\n",
    "        print(f'{source} (R X F) Pearson: {p_fatalities:.4f} p-value: {p_fatalities_p:.4f}')\n",
    "    if p_events_p <= pval and kind == \"eve\":\n",
    "        print(f'{source} (R X CE) Pearson: {p_events:.4f} p-value: {p_events_p:.4f}')"
   ]
  },
  {
   "cell_type": "code",
   "execution_count": 31,
   "metadata": {},
   "outputs": [
    {
     "name": "stdout",
     "output_type": "stream",
     "text": [
      "======= SPEARMAN CORRELATION =======\n",
      "---------- Variable: eve ----------\n",
      "----------- Resample: D -----------\n",
      "-> KLD Window: 1\n",
      "-> KLD Window: 3\n",
      "-> KLD Window: 5\n",
      "-> KLD Window: 7\n",
      "All (R X CE) Spearman: -0.1468 p-value: 0.0195\n",
      "-> KLD Window: 10\n",
      "Express (R X CE) Spearman: -0.1574 p-value: 0.0122\n",
      "All (R X CE) Spearman: -0.1435 p-value: 0.0225\n",
      "-> KLD Window: 15\n",
      "CBS (R X CE) Spearman: -0.1641 p-value: 0.0089\n",
      "Reuters (R X CE) Spearman: -0.1693 p-value: 0.0069\n",
      "All (R X CE) Spearman: -0.2191 p-value: 0.0004\n",
      "-> KLD Window: 20\n",
      "AP (R X CE) Spearman: -0.1242 p-value: 0.0485\n",
      "CBS (R X CE) Spearman: -0.1792 p-value: 0.0042\n",
      "Reuters (R X CE) Spearman: -0.1952 p-value: 0.0018\n",
      "All (R X CE) Spearman: -0.2856 p-value: 0.0000\n",
      "-> KLD Window: 25\n",
      "CBS (R X CE) Spearman: -0.1885 p-value: 0.0026\n",
      "Reuters (R X CE) Spearman: -0.2849 p-value: 0.0000\n",
      "Express (R X CE) Spearman: -0.1841 p-value: 0.0033\n",
      "DailyMail (R X CE) Spearman: -0.1713 p-value: 0.0063\n",
      "All (R X CE) Spearman: -0.2268 p-value: 0.0003\n",
      "----------- Resample: W -----------\n",
      "-> KLD Window: 1\n",
      "-> KLD Window: 3\n",
      "-> KLD Window: 5\n",
      "-> KLD Window: 7\n",
      "-> KLD Window: 10\n",
      "-> KLD Window: 15\n",
      "-> KLD Window: 20\n",
      "Reuters (R X CE) Spearman: -0.3426 p-value: 0.0379\n"
     ]
    },
    {
     "ename": "KeyboardInterrupt",
     "evalue": "",
     "output_type": "error",
     "traceback": [
      "\u001b[1;31m---------------------------------------------------------------------------\u001b[0m",
      "\u001b[1;31mKeyboardInterrupt\u001b[0m                         Traceback (most recent call last)",
      "Cell \u001b[1;32mIn [31], line 14\u001b[0m\n\u001b[0;32m     12\u001b[0m             \u001b[39mprint\u001b[39m(\u001b[39mf\u001b[39m\u001b[39m\"\u001b[39m\u001b[39m-> KLD Window: \u001b[39m\u001b[39m{\u001b[39;00mwindow\u001b[39m}\u001b[39;00m\u001b[39m\"\u001b[39m)\n\u001b[0;32m     13\u001b[0m             \u001b[39mfor\u001b[39;00m source \u001b[39min\u001b[39;00m sources:\n\u001b[1;32m---> 14\u001b[0m                 spearman_gen(os\u001b[39m.\u001b[39;49mpath\u001b[39m.\u001b[39;49mjoin(ROOT_DIR,\u001b[39mf\u001b[39;49m\u001b[39m\"\u001b[39;49m\u001b[39mresults_\u001b[39;49m\u001b[39m{\u001b[39;49;00mwindow\u001b[39m}\u001b[39;49;00m\u001b[39m\"\u001b[39;49m),source,resample,\u001b[39m0.05\u001b[39;49m,variable)\n\u001b[0;32m     16\u001b[0m \u001b[39mprint\u001b[39m(\u001b[39m\"\u001b[39m\u001b[39m======= PEARSON CORRELATION =======\u001b[39m\u001b[39m\"\u001b[39m)\n\u001b[0;32m     17\u001b[0m \u001b[39mfor\u001b[39;00m variable \u001b[39min\u001b[39;00m variables:\n",
      "Cell \u001b[1;32mIn [29], line 2\u001b[0m, in \u001b[0;36mspearman_gen\u001b[1;34m(dir, source, resample, pval, kind)\u001b[0m\n\u001b[0;32m      1\u001b[0m \u001b[39mdef\u001b[39;00m \u001b[39mspearman_gen\u001b[39m(\u001b[39mdir\u001b[39m,source,resample,pval,kind):\n\u001b[1;32m----> 2\u001b[0m     events \u001b[39m=\u001b[39m pd\u001b[39m.\u001b[39;49mread_csv(os\u001b[39m.\u001b[39;49mpath\u001b[39m.\u001b[39;49mjoin(ROOT_DIR,\u001b[39m\"\u001b[39;49m\u001b[39mdata\u001b[39;49m\u001b[39m\"\u001b[39;49m,\u001b[39m\"\u001b[39;49m\u001b[39mUkraine_Black_Sea_2020_2022_Dec09-1.csv\u001b[39;49m\u001b[39m\"\u001b[39;49m), parse_dates\u001b[39m=\u001b[39;49m[\u001b[39m\"\u001b[39;49m\u001b[39mEVENT_DATE\u001b[39;49m\u001b[39m\"\u001b[39;49m])\n\u001b[0;32m      3\u001b[0m     events \u001b[39m=\u001b[39m events[[\u001b[39m\"\u001b[39m\u001b[39mEVENT_DATE\u001b[39m\u001b[39m\"\u001b[39m,\u001b[39m\"\u001b[39m\u001b[39mEVENT_TYPE\u001b[39m\u001b[39m\"\u001b[39m,\u001b[39m\"\u001b[39m\u001b[39mFATALITIES\u001b[39m\u001b[39m\"\u001b[39m]]\u001b[39m.\u001b[39mrename(columns\u001b[39m=\u001b[39m{\u001b[39m\"\u001b[39m\u001b[39mEVENT_DATE\u001b[39m\u001b[39m\"\u001b[39m:\u001b[39m\"\u001b[39m\u001b[39mDate\u001b[39m\u001b[39m\"\u001b[39m,\u001b[39m\"\u001b[39m\u001b[39mEVENT_TYPE\u001b[39m\u001b[39m\"\u001b[39m:\u001b[39m\"\u001b[39m\u001b[39mCount\u001b[39m\u001b[39m\"\u001b[39m,\u001b[39m\"\u001b[39m\u001b[39mFATALITIES\u001b[39m\u001b[39m\"\u001b[39m:\u001b[39m\"\u001b[39m\u001b[39mFatalities\u001b[39m\u001b[39m\"\u001b[39m})  \u001b[39m# pegando somente colunas relevantes\u001b[39;00m\n\u001b[0;32m      4\u001b[0m     events \u001b[39m=\u001b[39m events\u001b[39m.\u001b[39msort_index()\n",
      "File \u001b[1;32md:\\Code\\ukraine-media\\.venv\\lib\\site-packages\\pandas\\util\\_decorators.py:311\u001b[0m, in \u001b[0;36mdeprecate_nonkeyword_arguments.<locals>.decorate.<locals>.wrapper\u001b[1;34m(*args, **kwargs)\u001b[0m\n\u001b[0;32m    305\u001b[0m \u001b[39mif\u001b[39;00m \u001b[39mlen\u001b[39m(args) \u001b[39m>\u001b[39m num_allow_args:\n\u001b[0;32m    306\u001b[0m     warnings\u001b[39m.\u001b[39mwarn(\n\u001b[0;32m    307\u001b[0m         msg\u001b[39m.\u001b[39mformat(arguments\u001b[39m=\u001b[39marguments),\n\u001b[0;32m    308\u001b[0m         \u001b[39mFutureWarning\u001b[39;00m,\n\u001b[0;32m    309\u001b[0m         stacklevel\u001b[39m=\u001b[39mstacklevel,\n\u001b[0;32m    310\u001b[0m     )\n\u001b[1;32m--> 311\u001b[0m \u001b[39mreturn\u001b[39;00m func(\u001b[39m*\u001b[39margs, \u001b[39m*\u001b[39m\u001b[39m*\u001b[39mkwargs)\n",
      "File \u001b[1;32md:\\Code\\ukraine-media\\.venv\\lib\\site-packages\\pandas\\io\\parsers\\readers.py:680\u001b[0m, in \u001b[0;36mread_csv\u001b[1;34m(filepath_or_buffer, sep, delimiter, header, names, index_col, usecols, squeeze, prefix, mangle_dupe_cols, dtype, engine, converters, true_values, false_values, skipinitialspace, skiprows, skipfooter, nrows, na_values, keep_default_na, na_filter, verbose, skip_blank_lines, parse_dates, infer_datetime_format, keep_date_col, date_parser, dayfirst, cache_dates, iterator, chunksize, compression, thousands, decimal, lineterminator, quotechar, quoting, doublequote, escapechar, comment, encoding, encoding_errors, dialect, error_bad_lines, warn_bad_lines, on_bad_lines, delim_whitespace, low_memory, memory_map, float_precision, storage_options)\u001b[0m\n\u001b[0;32m    665\u001b[0m kwds_defaults \u001b[39m=\u001b[39m _refine_defaults_read(\n\u001b[0;32m    666\u001b[0m     dialect,\n\u001b[0;32m    667\u001b[0m     delimiter,\n\u001b[1;32m   (...)\u001b[0m\n\u001b[0;32m    676\u001b[0m     defaults\u001b[39m=\u001b[39m{\u001b[39m\"\u001b[39m\u001b[39mdelimiter\u001b[39m\u001b[39m\"\u001b[39m: \u001b[39m\"\u001b[39m\u001b[39m,\u001b[39m\u001b[39m\"\u001b[39m},\n\u001b[0;32m    677\u001b[0m )\n\u001b[0;32m    678\u001b[0m kwds\u001b[39m.\u001b[39mupdate(kwds_defaults)\n\u001b[1;32m--> 680\u001b[0m \u001b[39mreturn\u001b[39;00m _read(filepath_or_buffer, kwds)\n",
      "File \u001b[1;32md:\\Code\\ukraine-media\\.venv\\lib\\site-packages\\pandas\\io\\parsers\\readers.py:581\u001b[0m, in \u001b[0;36m_read\u001b[1;34m(filepath_or_buffer, kwds)\u001b[0m\n\u001b[0;32m    578\u001b[0m     \u001b[39mreturn\u001b[39;00m parser\n\u001b[0;32m    580\u001b[0m \u001b[39mwith\u001b[39;00m parser:\n\u001b[1;32m--> 581\u001b[0m     \u001b[39mreturn\u001b[39;00m parser\u001b[39m.\u001b[39;49mread(nrows)\n",
      "File \u001b[1;32md:\\Code\\ukraine-media\\.venv\\lib\\site-packages\\pandas\\io\\parsers\\readers.py:1255\u001b[0m, in \u001b[0;36mTextFileReader.read\u001b[1;34m(self, nrows)\u001b[0m\n\u001b[0;32m   1253\u001b[0m nrows \u001b[39m=\u001b[39m validate_integer(\u001b[39m\"\u001b[39m\u001b[39mnrows\u001b[39m\u001b[39m\"\u001b[39m, nrows)\n\u001b[0;32m   1254\u001b[0m \u001b[39mtry\u001b[39;00m:\n\u001b[1;32m-> 1255\u001b[0m     index, columns, col_dict \u001b[39m=\u001b[39m \u001b[39mself\u001b[39;49m\u001b[39m.\u001b[39;49m_engine\u001b[39m.\u001b[39;49mread(nrows)\n\u001b[0;32m   1256\u001b[0m \u001b[39mexcept\u001b[39;00m \u001b[39mException\u001b[39;00m:\n\u001b[0;32m   1257\u001b[0m     \u001b[39mself\u001b[39m\u001b[39m.\u001b[39mclose()\n",
      "File \u001b[1;32md:\\Code\\ukraine-media\\.venv\\lib\\site-packages\\pandas\\io\\parsers\\c_parser_wrapper.py:225\u001b[0m, in \u001b[0;36mCParserWrapper.read\u001b[1;34m(self, nrows)\u001b[0m\n\u001b[0;32m    223\u001b[0m \u001b[39mtry\u001b[39;00m:\n\u001b[0;32m    224\u001b[0m     \u001b[39mif\u001b[39;00m \u001b[39mself\u001b[39m\u001b[39m.\u001b[39mlow_memory:\n\u001b[1;32m--> 225\u001b[0m         chunks \u001b[39m=\u001b[39m \u001b[39mself\u001b[39;49m\u001b[39m.\u001b[39;49m_reader\u001b[39m.\u001b[39;49mread_low_memory(nrows)\n\u001b[0;32m    226\u001b[0m         \u001b[39m# destructive to chunks\u001b[39;00m\n\u001b[0;32m    227\u001b[0m         data \u001b[39m=\u001b[39m _concatenate_chunks(chunks)\n",
      "File \u001b[1;32md:\\Code\\ukraine-media\\.venv\\lib\\site-packages\\pandas\\_libs\\parsers.pyx:805\u001b[0m, in \u001b[0;36mpandas._libs.parsers.TextReader.read_low_memory\u001b[1;34m()\u001b[0m\n",
      "File \u001b[1;32md:\\Code\\ukraine-media\\.venv\\lib\\site-packages\\pandas\\_libs\\parsers.pyx:883\u001b[0m, in \u001b[0;36mpandas._libs.parsers.TextReader._read_rows\u001b[1;34m()\u001b[0m\n",
      "File \u001b[1;32md:\\Code\\ukraine-media\\.venv\\lib\\site-packages\\pandas\\_libs\\parsers.pyx:1026\u001b[0m, in \u001b[0;36mpandas._libs.parsers.TextReader._convert_column_data\u001b[1;34m()\u001b[0m\n",
      "File \u001b[1;32md:\\Code\\ukraine-media\\.venv\\lib\\site-packages\\pandas\\_libs\\parsers.pyx:1072\u001b[0m, in \u001b[0;36mpandas._libs.parsers.TextReader._convert_tokens\u001b[1;34m()\u001b[0m\n",
      "File \u001b[1;32md:\\Code\\ukraine-media\\.venv\\lib\\site-packages\\pandas\\_libs\\parsers.pyx:1147\u001b[0m, in \u001b[0;36mpandas._libs.parsers.TextReader._convert_with_dtype\u001b[1;34m()\u001b[0m\n",
      "File \u001b[1;32md:\\Code\\ukraine-media\\.venv\\lib\\site-packages\\pandas\\core\\dtypes\\common.py:1429\u001b[0m, in \u001b[0;36mis_extension_array_dtype\u001b[1;34m(arr_or_dtype)\u001b[0m\n\u001b[0;32m   1420\u001b[0m     \u001b[39m# Note: if other EA dtypes are ever held in HybridBlock, exclude those\u001b[39;00m\n\u001b[0;32m   1421\u001b[0m     \u001b[39m#  here too.\u001b[39;00m\n\u001b[0;32m   1422\u001b[0m     \u001b[39m# NB: need to check DatetimeTZDtype and not is_datetime64tz_dtype\u001b[39;00m\n\u001b[0;32m   1423\u001b[0m     \u001b[39m#  to exclude ArrowTimestampUSDtype\u001b[39;00m\n\u001b[0;32m   1424\u001b[0m     \u001b[39mreturn\u001b[39;00m \u001b[39misinstance\u001b[39m(dtype, ExtensionDtype) \u001b[39mand\u001b[39;00m \u001b[39mnot\u001b[39;00m \u001b[39misinstance\u001b[39m(\n\u001b[0;32m   1425\u001b[0m         dtype, (DatetimeTZDtype, PeriodDtype)\n\u001b[0;32m   1426\u001b[0m     )\n\u001b[1;32m-> 1429\u001b[0m \u001b[39mdef\u001b[39;00m \u001b[39mis_extension_array_dtype\u001b[39m(arr_or_dtype) \u001b[39m-\u001b[39m\u001b[39m>\u001b[39m \u001b[39mbool\u001b[39m:\n\u001b[0;32m   1430\u001b[0m     \u001b[39m\"\"\"\u001b[39;00m\n\u001b[0;32m   1431\u001b[0m \u001b[39m    Check if an object is a pandas extension array type.\u001b[39;00m\n\u001b[0;32m   1432\u001b[0m \n\u001b[1;32m   (...)\u001b[0m\n\u001b[0;32m   1472\u001b[0m \u001b[39m    False\u001b[39;00m\n\u001b[0;32m   1473\u001b[0m \u001b[39m    \"\"\"\u001b[39;00m\n\u001b[0;32m   1474\u001b[0m     dtype \u001b[39m=\u001b[39m \u001b[39mgetattr\u001b[39m(arr_or_dtype, \u001b[39m\"\u001b[39m\u001b[39mdtype\u001b[39m\u001b[39m\"\u001b[39m, arr_or_dtype)\n",
      "\u001b[1;31mKeyboardInterrupt\u001b[0m: "
     ]
    }
   ],
   "source": [
    "sources = [\"AP\", \"Fox\", \"CNN\", \"ABC\", \"CBS\", \"NYT\", \"Mirror\", \"Reuters\", \"Express\", \"HuffPost\", \"Guardian\", \"DailyMail\", \"All\"]\n",
    "variables = [\"eve\",\"fat\"]\n",
    "resamples = [\"D\", \"W\"]\n",
    "windows = [1,3,5,7,10,15,20,25]\n",
    "\n",
    "print(\"======= SPEARMAN CORRELATION =======\")\n",
    "for variable in variables:\n",
    "    print(f\"---------- Variable: {variable} ----------\")\n",
    "    for resample in resamples:\n",
    "        print(f\"----------- Resample: {resample} -----------\")\n",
    "        for window in windows:\n",
    "            print(f\"-> KLD Window: {window}\")\n",
    "            for source in sources:\n",
    "                spearman_gen(os.path.join(ROOT_DIR,f\"results_{window}\"),source,resample,0.05,variable)\n",
    "\n",
    "print(\"======= PEARSON CORRELATION =======\")\n",
    "for variable in variables:\n",
    "    print(f\"---------- Variable: {variable} ----------\")\n",
    "    for resample in resamples:\n",
    "        print(f\"----------- Resample: {resample} -----------\")\n",
    "        for window in windows:\n",
    "            print(f\"-> KLD Window: {window}\")\n",
    "            for source in sources:\n",
    "                pearson_gen(os.path.join(ROOT_DIR,f\"results_{window}\"),source,resample,0.05,variable)"
   ]
  }
 ],
 "metadata": {
  "kernelspec": {
   "display_name": "Python 3.10.4 ('.venv': venv)",
   "language": "python",
   "name": "python3"
  },
  "language_info": {
   "codemirror_mode": {
    "name": "ipython",
    "version": 3
   },
   "file_extension": ".py",
   "mimetype": "text/x-python",
   "name": "python",
   "nbconvert_exporter": "python",
   "pygments_lexer": "ipython3",
   "version": "3.10.4"
  },
  "orig_nbformat": 4,
  "vscode": {
   "interpreter": {
    "hash": "8bd6d5ee84073ea568a8475b6416df4df35e9f8587352d1cb55f8675bca2c3cd"
   }
  }
 },
 "nbformat": 4,
 "nbformat_minor": 2
}
