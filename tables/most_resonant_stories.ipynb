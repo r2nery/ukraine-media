{
 "cells": [
  {
   "cell_type": "code",
   "execution_count": 188,
   "metadata": {},
   "outputs": [],
   "source": [
    "from sklearn.linear_model import LinearRegression\n",
    "from matplotlib.dates import DateFormatter\n",
    "import matplotlib.pyplot as plt\n",
    "import matplotlib.dates as mdate\n",
    "import matplotlib as mpl\n",
    "import datetime as dt\n",
    "import pandas as pd\n",
    "import numpy as np\n",
    "import os\n",
    "import topf\n",
    "\n",
    "%matplotlib inline\n",
    "mpl.rcParams[\"axes.labelsize\"] = 9\n",
    "mpl.rcParams[\"axes.titlesize\"] = 9\n",
    "mpl.rcParams[\"xtick.labelsize\"] = 8\n",
    "mpl.rcParams[\"ytick.labelsize\"] = 8\n",
    "mpl.rcParams[\"lines.linewidth\"] = 2\n",
    "mpl.rcParams[\"legend.fontsize\"] = 8\n",
    "mpl.rcParams[\"xtick.direction\"] = \"in\"\n",
    "mpl.rcParams[\"ytick.direction\"] = \"in\"\n",
    "mpl.rcParams[\"font.family\"] = \"serif\"\n",
    "mpl.rcParams[\"image.cmap\"] = \"viridis\"\n",
    "\n",
    "ROOT_DIR = os.path.dirname(os.path.dirname(os.path.abspath(\"__file__\")))\n",
    "ALL_DIR = os.path.join(ROOT_DIR, \"data\", \"All.csv\")"
   ]
  },
  {
   "cell_type": "code",
   "execution_count": 189,
   "metadata": {},
   "outputs": [],
   "source": [
    "# add to df distance to peak\n",
    "def persistent_filter(data_df, limit):\n",
    "    filtered_df = data_df.loc[:, data_df.max() > limit].copy()\n",
    "    topics = [int(column.split(\"_\")[1]) for column in filtered_df.columns]\n",
    "    for topic in topics:\n",
    "        topic_arr = filtered_df[f\"Topic_{topic}\"].to_numpy()\n",
    "        topic_arr_indexed = np.column_stack((np.arange(topic_arr.shape[0]), topic_arr))\n",
    "        transformer = topf.PersistenceTransformer()  # prepare transformer\n",
    "        persistence = transformer.fit_transform(topic_arr_indexed)      # transform data into peaks\n",
    "        peaks = np.copy(persistence)\n",
    "        threshold = np.max(topic_arr_indexed[:, 1]) / 2\n",
    "        peaks[peaks[:, 1] < threshold] = 0\n",
    "        new_cols = {\n",
    "            f\"peaks_{topic}\": peaks[:, 1],\n",
    "        }\n",
    "        filtered_df = pd.concat([filtered_df, pd.DataFrame(new_cols, index=filtered_df.index)], axis=1)\n",
    "        filtered_df = filtered_df.drop(f\"Topic_{topic}\", axis=1)\n",
    "    dates_dict = {}\n",
    "    for topic in topics:\n",
    "        dates_dict[topic] = []\n",
    "        for i in range(len(filtered_df[f\"peaks_{topic}\"])):\n",
    "            if filtered_df[f\"peaks_{topic}\"][i] != 0:\n",
    "                dates_dict[topic].append(str(filtered_df.index[i])[:10]) #filtered_df[f\"peaks_{topic}\"][i], \n",
    "    return filtered_df, topics, dates_dict"
   ]
  },
  {
   "cell_type": "code",
   "execution_count": 190,
   "metadata": {},
   "outputs": [],
   "source": [
    "data_df = pd.read_csv(os.path.join(ROOT_DIR, \"results_10\", \"All_Results.csv\"), parse_dates=[\"Date\"], index_col=[\"Date\"])\n",
    "data_df = pd.get_dummies(data_df.filter([\"Topic\"]), columns=['Topic'])\n",
    "data_df = data_df.resample(\"D\").sum()\n",
    "\n",
    "results, topics, dates_dict = persistent_filter(data_df,limit=25)"
   ]
  },
  {
   "cell_type": "code",
   "execution_count": 191,
   "metadata": {},
   "outputs": [
    {
     "name": "stdout",
     "output_type": "stream",
     "text": [
      "{0: ['2022-05-12'], 9: ['2022-07-22', '2022-08-01', '2022-10-31'], 12: ['2022-05-09'], 15: ['2022-08-23'], 19: ['2022-04-21', '2022-06-01', '2022-06-15'], 31: ['2022-09-28'], 35: ['2022-06-10', '2022-09-22'], 39: ['2022-01-25', '2022-02-15'], 40: ['2022-04-21', '2022-05-06', '2022-05-17'], 41: ['2022-03-01', '2022-03-04', '2022-03-11'], 44: ['2022-03-02', '2022-03-10'], 49: ['2022-07-28', '2022-08-30', '2022-10-19', '2022-11-11'], 50: ['2022-03-09'], 56: ['2022-04-04'], 61: ['2022-02-26'], 65: ['2022-03-04', '2022-09-01'], 68: ['2022-06-28', '2022-07-15'], 72: ['2022-09-12'], 80: ['2022-02-22'], 81: ['2022-02-28', '2022-09-21', '2022-10-07'], 95: ['2022-03-03'], 97: ['2022-10-10', '2022-10-17'], 103: ['2022-03-07'], 107: ['2022-10-08'], 115: ['2022-02-22', '2022-09-30'], 117: ['2022-09-21'], 122: ['2022-03-28'], 134: ['2022-03-01'], 136: ['2022-08-31'], 149: ['2022-03-11', '2022-04-12'], 159: ['2022-04-15'], 161: ['2022-03-29'], 163: ['2022-03-15'], 164: ['2022-03-08'], 166: ['2022-12-08'], 169: ['2022-02-24'], 171: ['2022-03-02'], 177: ['2022-04-19', '2022-06-01', '2022-06-14', '2022-07-03'], 180: ['2022-02-24'], 181: ['2022-03-09'], 185: ['2022-11-16'], 194: ['2022-03-08']}\n"
     ]
    }
   ],
   "source": [
    "print(dates_dict)"
   ]
  },
  {
   "cell_type": "code",
   "execution_count": 192,
   "metadata": {},
   "outputs": [],
   "source": [
    "data_df_date = pd.read_csv(os.path.join(ROOT_DIR, \"results_10\", \"All_Results.csv\"), parse_dates=[\"Date\"], index_col=[\"Date\"])\n",
    "df_filtered = data_df_date[data_df_date['Topic'].isin(topics)]"
   ]
  },
  {
   "cell_type": "code",
   "execution_count": 193,
   "metadata": {},
   "outputs": [],
   "source": [
    "import datetime\n",
    "df = df_filtered.copy()\n",
    "\n",
    "# create a new column in the dataframe to store the smallest distance in days\n",
    "df[\"Smallest_Distance\"] = 0\n",
    "# loop over each row in the dataframe\n",
    "for index, row in df.iterrows():\n",
    "    # get the topic for the current article\n",
    "    topic = row[\"Topic\"]\n",
    "    # get the comparison dates for the current topic\n",
    "    comp_dates = [datetime.datetime.strptime(d, \"%Y-%m-%d\").date() for d in dates_dict[topic]]\n",
    "    # get the publishing date for the current article\n",
    "    date = index.date()\n",
    "    # compute smallest distance between the publishing date and comparison dates\n",
    "    distances = [abs((date - comp_date).days) for comp_date in comp_dates]\n",
    "    smallest_distance = min(distances)\n",
    "    # update the \"Smallest_Distance\" column for the current article\n",
    "    df.loc[index, \"Smallest_Distance\"] = smallest_distance\n",
    "\n",
    "#add dummy variable for smallest distance <=3\n",
    "df[\"Peak_dummy_3\"] = 0\n",
    "df[\"Peak_dummy_0\"] = 0\n",
    "df.loc[df[\"Smallest_Distance\"] <= 3, \"Peak_dummy_3\"] = 1\n",
    "df.loc[df[\"Smallest_Distance\"] == 0, \"Peak_dummy_0\"] = 1\n",
    "\n",
    "#sort df by smallest distance\n",
    "dfa = df.sort_values(by=['Smallest_Distance'], ascending=True)\n",
    "\n",
    "#save to csv\n",
    "dfa.to_csv(os.path.join(ROOT_DIR, \"results_10\", \"All_Results_Dummies.csv\"), index=False)"
   ]
  },
  {
   "cell_type": "code",
   "execution_count": 130,
   "metadata": {},
   "outputs": [
    {
     "name": "stdout",
     "output_type": "stream",
     "text": [
      "Resonance = -1.63 + 0.29 * Novelty + 0.04 * Peak_dummy_0\n",
      "R2 = 0.14\n",
      "Resonance = -1.62 + 0.29 * Novelty\n",
      "R2 = 0.14\n",
      "Resonance = -0.00 + 0.01 * Peak_dummy_0\n",
      "R2 = 0.00\n"
     ]
    }
   ],
   "source": [
    "#regress y=resonance, x1=novelty, x2=peak_dummy_0\n",
    "df[\"Resonance\"] = df[\"Resonance\"].astype(float)\n",
    "df[\"Novelty\"] = df[\"Novelty\"].astype(float)\n",
    "df[\"Peak_dummy_0\"] = df[\"Peak_dummy_0\"].astype(float)\n",
    "df[\"Topic\"] = df[\"Topic\"].astype(float)\n",
    "df[\"Smallest_Distance\"] = df[\"Smallest_Distance\"].astype(float)\n",
    "\n",
    "df = df.dropna()\n",
    "\n",
    "X = df[[\"Novelty\", \"Peak_dummy_0\"]]\n",
    "y = df[\"Resonance\"]\n",
    "\n",
    "reg = LinearRegression().fit(X, y)\n",
    "#print reg summary with text\n",
    "print(\"Resonance = {:.2f} + {:.2f} * Novelty + {:.2f} * Peak_dummy_0\".format(reg.intercept_, reg.coef_[0], reg.coef_[1]))\n",
    "#print r2\n",
    "print(\"R2 = {:.2f}\".format(reg.score(X, y)))\n",
    "\n",
    "X = df[\"Novelty\"]\n",
    "y = df[\"Resonance\"]\n",
    "\n",
    "reg = LinearRegression().fit(X.values.reshape(-1, 1), y)\n",
    "#print reg summary with text\n",
    "print(\"Resonance = {:.2f} + {:.2f} * Novelty\".format(reg.intercept_, reg.coef_[0]))\n",
    "#print r2\n",
    "print(\"R2 = {:.2f}\".format(reg.score(X.values.reshape(-1, 1), y)))\n",
    "\n",
    "#reg resonance peak dummy\n",
    "X = df[\"Peak_dummy_0\"]\n",
    "y = df[\"Resonance\"]\n",
    "\n",
    "reg = LinearRegression().fit(X.values.reshape(-1, 1), y)\n",
    "#print reg summary with text\n",
    "print(\"Resonance = {:.2f} + {:.2f} * Peak_dummy_0\".format(reg.intercept_, reg.coef_[0]))\n",
    "#print r2\n",
    "print(\"R2 = {:.2f}\".format(reg.score(X.values.reshape(-1, 1), y)))"
   ]
  },
  {
   "cell_type": "code",
   "execution_count": 202,
   "metadata": {},
   "outputs": [
    {
     "data": {
      "image/png": "[encoded data removed]",
      "text/plain": [
       "<Figure size 720x432 with 2 Axes>"
      ]
     },
     "metadata": {
      "needs_background": "light"
     },
     "output_type": "display_data"
    }
   ],
   "source": [
    "#plot two histograms on the same plot: resonance for peak dummy =0, and resonance for peak dummy =1. alpha 0.5\n",
    "# fig, ax = plt.subplots(figsize=(10, 6))\n",
    "# ax.hist(df.loc[df[\"Peak_dummy_0\"] == 0, \"Resonance\"], bins=50, alpha=0.5, label=\"Peak_dummy_0 = 0\")\n",
    "# ax.hist(df.loc[df[\"Peak_dummy_0\"] == 1, \"Resonance\"], bins=50, alpha=0.5, label=\"Peak_dummy_0 = 1\")\n",
    "# ax.set_xlabel(\"Resonance\")\n",
    "# ax.set_ylabel(\"Frequency\")\n",
    "# ax.legend()\n",
    "# plt.show()\n",
    "\n",
    "#Same plot as above, but with two y axis\n",
    "fig, ax1 = plt.subplots(figsize=(10, 6))\n",
    "#make df, a copy of dfa from dates 2022-02-20 to 2022-02-27\n",
    "\n",
    "ax1.hist(df.loc[df[\"Peak_dummy_0\"] == 0, \"Resonance\"], bins=50, alpha=0.5, label=\"Peak_dummy_0 = 0\")\n",
    "ax1.set_xlabel(\"Resonance\")\n",
    "ax1.set_ylabel(\"Frequency\")\n",
    "ax1.legend()\n",
    "ax2 = ax1.twinx()\n",
    "ax2.hist(df.loc[df[\"Peak_dummy_0\"] == 1, \"Resonance\"], color=\"red\",bins=50, alpha=0.5, label=\"Peak_dummy_0 = 1\")\n",
    "ax2.set_ylabel(\"Frequency\")\n",
    "ax2.legend()\n",
    "plt.show()"
   ]
  }
 ],
 "metadata": {
  "kernelspec": {
   "display_name": ".venv",
   "language": "python",
   "name": "python3"
  },
  "language_info": {
   "codemirror_mode": {
    "name": "ipython",
    "version": 3
   },
   "file_extension": ".py",
   "mimetype": "text/x-python",
   "name": "python",
   "nbconvert_exporter": "python",
   "pygments_lexer": "ipython3",
   "version": "3.10.5"
  },
  "orig_nbformat": 4,
  "vscode": {
   "interpreter": {
    "hash": "71a723942456804a71d025442f2ccd3a5c8db2153e1c9e51f0af23a7e755532d"
   }
  }
 },
 "nbformat": 4,
 "nbformat_minor": 2
}
