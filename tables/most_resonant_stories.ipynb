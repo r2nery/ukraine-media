{
 "cells": [
  {
   "cell_type": "code",
   "execution_count": 43,
   "metadata": {},
   "outputs": [],
   "source": [
    "from sklearn.linear_model import LinearRegression\n",
    "from matplotlib.dates import DateFormatter\n",
    "import matplotlib.pyplot as plt\n",
    "import matplotlib.dates as mdate\n",
    "import matplotlib as mpl\n",
    "import datetime as dt\n",
    "import pandas as pd\n",
    "import numpy as np\n",
    "import os\n",
    "\n",
    "%matplotlib inline\n",
    "mpl.rcParams[\"axes.labelsize\"] = 9\n",
    "mpl.rcParams[\"axes.titlesize\"] = 9\n",
    "mpl.rcParams[\"xtick.labelsize\"] = 8\n",
    "mpl.rcParams[\"ytick.labelsize\"] = 8\n",
    "mpl.rcParams[\"lines.linewidth\"] = 2\n",
    "mpl.rcParams[\"legend.fontsize\"] = 8\n",
    "mpl.rcParams[\"xtick.direction\"] = \"in\"\n",
    "mpl.rcParams[\"ytick.direction\"] = \"in\"\n",
    "mpl.rcParams[\"font.family\"] = \"serif\"\n",
    "mpl.rcParams[\"image.cmap\"] = \"viridis\"\n",
    "\n",
    "ROOT_DIR = os.path.dirname(os.path.dirname(os.path.abspath(\"__file__\")))\n",
    "ALL_DIR = os.path.join(ROOT_DIR, \"data\", \"All.csv\")\n"
   ]
  },
  {
   "cell_type": "code",
   "execution_count": 44,
   "metadata": {},
   "outputs": [],
   "source": [
    "def most_resonant(cat):\n",
    "    cats = {\"bat\":[15, 56, 61, 65, 68, 72, 107, 134, 159, 166, 177, 180, 181, 185, 114],\n",
    "            \"pol\":[0, 35, 39, 80, 115, 122, 161, 163],\n",
    "            \"pri\":[9, 31, 44, 87, 95, 164, 169, 194],\n",
    "            \"art\":[19, 40, 49, 72, 81, 97, 117, 149],\n",
    "            \"oth\":[12, 41, 50, 136, 153]}\n",
    "    dates = {}\n",
    "    df = pd.read_csv(os.path.join(ROOT_DIR,\"results_05\",\"All_Results.csv\"), parse_dates=[\"Date\"], index_col=\"Date\")\n",
    "    dq = df.filter([\"Topic\"])\n",
    "    dq = pd.get_dummies(dq, columns=['Topic'])\n",
    "    dq = dq.resample(\"D\").sum()\n",
    "    for i in cats[cat]:\n",
    "        dfq = df.query(f\"Topic == {i}\")\n",
    "        dfq = dfq.sort_values(by=\"Resonance\",ascending=False)\n",
    "        dates[i]=(str(dfq.index.tolist()[0])[:10])\n",
    "    \n",
    "    return dates"
   ]
  },
  {
   "cell_type": "code",
   "execution_count": 51,
   "metadata": {},
   "outputs": [
    {
     "name": "stderr",
     "output_type": "stream",
     "text": [
      "/var/folders/xd/g9cbpcws3m14495hf_1bxjyh0000gn/T/ipykernel_69653/3733268813.py:16: RuntimeWarning: divide by zero encountered in log10\n",
      "  plt.imshow(np.log10(h.T + 1), origin='lower', extent=[x_edges[0], x_edges[-1], y_edges[0], y_edges[-1]], cmap='viridis', aspect='equal')\n"
     ]
    },
    {
     "data": {
      "image/png": "[encoded data removed]",
      "text/plain": [
       "<Figure size 504x504 with 1 Axes>"
      ]
     },
     "metadata": {
      "needs_background": "light"
     },
     "output_type": "display_data"
    }
   ],
   "source": [
    "import matplotlib.pyplot as plt\n",
    "import numpy as np\n",
    "import pandas as pd\n",
    "from scipy.stats import linregress\n",
    "\n",
    "def density_plot_regression(df, figsize=(7, 7), bins=100):\n",
    "    x = df['Novelty']\n",
    "    y = df['Resonance']\n",
    "\n",
    "    slope, intercept, r_value, p_value, std_err = linregress(x, y)\n",
    "    line = slope*x + intercept\n",
    "\n",
    "    fig, ax = plt.subplots(figsize=figsize)\n",
    "    h, x_edges, y_edges = np.histogram2d(x, y, bins=bins)\n",
    "    h = np.ma.array(h, mask=(h==0))\n",
    "    plt.imshow(np.log10(h.T + 1), origin='lower', extent=[x_edges[0], x_edges[-1], y_edges[0], y_edges[-1]], cmap='viridis', aspect='equal')\n",
    "    ax.plot(x, line, color='red', label='y={:.2f}x+{:.2f}'.format(slope, intercept))\n",
    "    ax.set_xlabel('Novelty')\n",
    "    ax.set_ylabel('Resonance')\n",
    "\n",
    "    # X axis\n",
    "    ax.set_xlabel(\"Novelty ($\\mathcal{N}$)\")\n",
    "    ax.set_xlim(2, 10)  # X axis scale\n",
    "    ax.set_xticks([2,3, 4, 5, 6, 7, 8, 9, 10])  # Numbers of interest axis\n",
    "    ax.xaxis.set_ticks_position(\"bottom\")  # Ticks at the bottom\n",
    "    ax.spines[\"bottom\"].set_bounds(2, 10)  # Limits axis\n",
    "    ax.spines[\"top\"].set_visible(False)  # Hide upper axis\n",
    "\n",
    "    # Y axis\n",
    "    ax.set_ylabel(\"Resonance ($\\mathcal{R}}$)\")\n",
    "    ax.set_ylim(-2, 2)  # Y axis scale\n",
    "    ax.set_yticks([-2, -1, 0, 1, 2])  # Numbers of interest axis\n",
    "    ax.yaxis.set_ticks_position(\"left\")  # Ticks on the left\n",
    "    ax.spines[\"left\"].set_bounds(-2, 2)  # Limits axis\n",
    "    ax.spines[\"right\"].set_visible(False)  # Hide right axis\n",
    "\n",
    "    ax.legend()\n",
    "    plt.show()\n",
    "\n",
    "df = pd.read_csv(os.path.join(ROOT_DIR,\"results_05\",\"All_Results.csv\"), parse_dates=[\"Date\"], index_col=\"Date\")\n",
    "df = df.query(\"Source == 'Reuters'\")\n",
    "df = df.filter([\"Novelty\",\"Resonance\"])\n",
    "\n",
    "density_plot_regression(df)\n"
   ]
  }
 ],
 "metadata": {
  "kernelspec": {
   "display_name": ".venv",
   "language": "python",
   "name": "python3"
  },
  "language_info": {
   "codemirror_mode": {
    "name": "ipython",
    "version": 3
   },
   "file_extension": ".py",
   "mimetype": "text/x-python",
   "name": "python",
   "nbconvert_exporter": "python",
   "pygments_lexer": "ipython3",
   "version": "3.10.5"
  },
  "orig_nbformat": 4,
  "vscode": {
   "interpreter": {
    "hash": "71a723942456804a71d025442f2ccd3a5c8db2153e1c9e51f0af23a7e755532d"
   }
  }
 },
 "nbformat": 4,
 "nbformat_minor": 2
}
