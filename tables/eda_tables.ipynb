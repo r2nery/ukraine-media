{
 "cells": [
  {
   "cell_type": "code",
   "execution_count": 26,
   "metadata": {},
   "outputs": [],
   "source": [
    "import os\n",
    "import pandas as pd\n",
    "\n",
    "ROOT_DIR = os.path.dirname(os.path.dirname(os.path.abspath(\"__file__\")))\n",
    "df = pd.read_csv(os.path.join(ROOT_DIR, \"results_05\", \"All_Results.csv\"), parse_dates=[\"Date\"],index_col=\"Date\")\n",
    "df = df.sort_index()"
   ]
  },
  {
   "cell_type": "code",
   "execution_count": 98,
   "metadata": {},
   "outputs": [
    {
     "data": {
      "text/html": [
       "<div>\n",
       "<style scoped>\n",
       "    .dataframe tbody tr th:only-of-type {\n",
       "        vertical-align: middle;\n",
       "    }\n",
       "\n",
       "    .dataframe tbody tr th {\n",
       "        vertical-align: top;\n",
       "    }\n",
       "\n",
       "    .dataframe thead th {\n",
       "        text-align: right;\n",
       "    }\n",
       "</style>\n",
       "<table border=\"1\" class=\"dataframe\">\n",
       "  <thead>\n",
       "    <tr style=\"text-align: right;\">\n",
       "      <th></th>\n",
       "      <th>Story Count</th>\n",
       "      <th>Text Length</th>\n",
       "      <th>Word Count</th>\n",
       "    </tr>\n",
       "    <tr>\n",
       "      <th>Source</th>\n",
       "      <th></th>\n",
       "      <th></th>\n",
       "      <th></th>\n",
       "    </tr>\n",
       "  </thead>\n",
       "  <tbody>\n",
       "    <tr>\n",
       "      <th>Reuters</th>\n",
       "      <td>16015</td>\n",
       "      <td>2137</td>\n",
       "      <td>345</td>\n",
       "    </tr>\n",
       "    <tr>\n",
       "      <th>Express</th>\n",
       "      <td>10172</td>\n",
       "      <td>3135</td>\n",
       "      <td>514</td>\n",
       "    </tr>\n",
       "    <tr>\n",
       "      <th>DailyMail</th>\n",
       "      <td>7953</td>\n",
       "      <td>9007</td>\n",
       "      <td>1496</td>\n",
       "    </tr>\n",
       "    <tr>\n",
       "      <th>AP</th>\n",
       "      <td>6019</td>\n",
       "      <td>6621</td>\n",
       "      <td>1061</td>\n",
       "    </tr>\n",
       "    <tr>\n",
       "      <th>Guardian</th>\n",
       "      <td>4928</td>\n",
       "      <td>5216</td>\n",
       "      <td>856</td>\n",
       "    </tr>\n",
       "    <tr>\n",
       "      <th>Fox</th>\n",
       "      <td>4526</td>\n",
       "      <td>3530</td>\n",
       "      <td>575</td>\n",
       "    </tr>\n",
       "    <tr>\n",
       "      <th>CBS</th>\n",
       "      <td>3408</td>\n",
       "      <td>3664</td>\n",
       "      <td>607</td>\n",
       "    </tr>\n",
       "    <tr>\n",
       "      <th>NYT</th>\n",
       "      <td>2548</td>\n",
       "      <td>6847</td>\n",
       "      <td>1121</td>\n",
       "    </tr>\n",
       "    <tr>\n",
       "      <th>CNN</th>\n",
       "      <td>2469</td>\n",
       "      <td>5702</td>\n",
       "      <td>932</td>\n",
       "    </tr>\n",
       "    <tr>\n",
       "      <th>Mirror</th>\n",
       "      <td>2136</td>\n",
       "      <td>3397</td>\n",
       "      <td>564</td>\n",
       "    </tr>\n",
       "    <tr>\n",
       "      <th>ABC</th>\n",
       "      <td>991</td>\n",
       "      <td>5060</td>\n",
       "      <td>825</td>\n",
       "    </tr>\n",
       "  </tbody>\n",
       "</table>\n",
       "</div>"
      ],
      "text/plain": [
       "           Story Count  Text Length  Word Count\n",
       "Source                                         \n",
       "Reuters          16015         2137         345\n",
       "Express          10172         3135         514\n",
       "DailyMail         7953         9007        1496\n",
       "AP                6019         6621        1061\n",
       "Guardian          4928         5216         856\n",
       "Fox               4526         3530         575\n",
       "CBS               3408         3664         607\n",
       "NYT               2548         6847        1121\n",
       "CNN               2469         5702         932\n",
       "Mirror            2136         3397         564\n",
       "ABC                991         5060         825"
      ]
     },
     "execution_count": 98,
     "metadata": {},
     "output_type": "execute_result"
    }
   ],
   "source": [
    "# Corpus Description Table\n",
    "def get_source_stats(df):\n",
    "    df_s_len = df.groupby(\"Source\").agg({\"Text\": lambda x: round(x.str.len().mean())}).sort_values(\"Text\", ascending=False).rename(columns={\"Text\": \"Text Length\"})\n",
    "    df_s_wc = df.groupby(\"Source\").agg({\"Text\": lambda x: round(x.str.split().str.len().mean())}).sort_values(\"Text\", ascending=False).rename(columns={\"Text\": \"Word Count\"})\n",
    "    df_s_count = df.groupby(\"Source\").agg({\"Text\": lambda x: len(x)}).sort_values(\"Text\", ascending=False).rename(columns={\"Text\": \"Story Count\"})\n",
    "    df_s = pd.concat([df_s_count, df_s_len, df_s_wc], axis=1)\n",
    "    return df_s\n",
    "\n",
    "df_s = get_source_stats(df)\n",
    "df_s.head(11)"
   ]
  },
  {
   "cell_type": "code",
   "execution_count": 99,
   "metadata": {},
   "outputs": [
    {
     "name": "stdout",
     "output_type": "stream",
     "text": [
      "180, 158, ['ukraine', 'putin', 'attack', 'ukrainian', 'military', 'russian', 'country', 'russia', 'said', 'the']\n",
      "185, 90, ['poland', 'polish', 'warsaw', 'said', 'ukraine', 'missile', 'duda', 'ukrainian', 'nato', 'russia']\n",
      "56, 84, ['bucha', 'russian', 'bodies', 'civilians', 'kyiv', 'war', 'crimes', 'said', 'ukrainian', 'mass']\n",
      "61, 80, ['kyiv', 'russian', 'city', 'forces', 'ukrainian', 'capital', 'troops', 'ukraine', 'said', 'fighting']\n",
      "65, 73, ['nuclear', 'plant', 'power', 'zaporizhzhia', 'ukraine', 'russian', 'the', 'said', 'ukrainian', 'shelling']\n",
      "166, 64, ['griner', 'russia', 'russian', 'whelan', 'brittney', 'said', 'release', 'detained', 'reed', 'moscow']\n",
      "169, 61, ['sanctions', 'russia', 'russian', 'banks', 'financial', 'putin', 'economic', 'economy', 'swift', 'the']\n",
      "39, 56, ['ukraine', 'russia', 'russian', 'troops', 'border', 'putin', 'invasion', 'military', 'eastern', 'invade']\n",
      "115, 55, ['russia', 'ukraine', 'regions', 'russian', 'donetsk', 'luhansk', 'territory', 'people', 'ukrainian', 'putin']\n",
      "72, 44, ['ukrainian', 'russian', 'kharkiv', 'forces', 'region', 'troops', 'ukraine', 'city', 'territory', 'said']\n"
     ]
    }
   ],
   "source": [
    "# Topic Description Table\n",
    "def get_topic_words(df, n=10):\n",
    "    df_t = pd.get_dummies(df[\"Topic\"]).resample(\"D\").sum().sort_values(\"Date\", ascending=False)\n",
    "    df_t = df_t[df_t.max().sort_values(ascending=False).index[:n]]\n",
    "    with open(os.path.join(ROOT_DIR, \"results_05\", \"All_TopicsWords Filter.txt\"), \"r\") as f:\n",
    "        l = f.read().split(\"\\n\")\n",
    "        l = [i for i in l if i.startswith(tuple([f\"Topic {i}\" for i in df_t.columns]))]\n",
    "        d_2 = {i.split(\" \")[1][:-1]: i.split(\" \")[2:12] for i in l}\n",
    "        for topic in df_t.columns:\n",
    "            topic_words = d_2.get(str(topic))\n",
    "            print(f\"{topic}, {df_t[topic].max()}, {topic_words}\")\n",
    "\n",
    "get_topic_words(df, 10)"
   ]
  }
 ],
 "metadata": {
  "kernelspec": {
   "display_name": ".venv",
   "language": "python",
   "name": "python3"
  },
  "language_info": {
   "codemirror_mode": {
    "name": "ipython",
    "version": 3
   },
   "file_extension": ".py",
   "mimetype": "text/x-python",
   "name": "python",
   "nbconvert_exporter": "python",
   "pygments_lexer": "ipython3",
   "version": "3.10.5"
  },
  "orig_nbformat": 4,
  "vscode": {
   "interpreter": {
    "hash": "71a723942456804a71d025442f2ccd3a5c8db2153e1c9e51f0af23a7e755532d"
   }
  }
 },
 "nbformat": 4,
 "nbformat_minor": 2
}
