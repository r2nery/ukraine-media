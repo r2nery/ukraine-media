{
 "cells": [
  {
   "cell_type": "code",
   "execution_count": 55,
   "metadata": {},
   "outputs": [],
   "source": [
    "import requests\n",
    "import re\n",
    "from bs4 import BeautifulSoup"
   ]
  },
  {
   "cell_type": "code",
   "execution_count": 58,
   "metadata": {},
   "outputs": [],
   "source": [
    "result = requests.get('https://content.guardianapis.com/uk-news/2022/may/03/ukraine-ambassador-urges-priti-patel-relax-uk-visa-scheme?api-key=fad78733-31a0-4ea7-8823-ba815b578899&show-fields=body')"
   ]
  },
  {
   "cell_type": "code",
   "execution_count": 59,
   "metadata": {},
   "outputs": [
    {
     "name": "stdout",
     "output_type": "stream",
     "text": [
      "{'response': {'status': 'ok', 'userTier': 'developer', 'total': 1, 'content': {'id': 'uk-news/2022/may/03/ukraine-ambassador-urges-priti-patel-relax-uk-visa-scheme', 'type': 'article', 'sectionId': 'uk-news', 'sectionName': 'UK news', 'webPublicationDate': '2022-05-03T11:32:41Z', 'webTitle': 'Ukraine ambassador urges Priti Patel to relax UK visa scheme', 'webUrl': 'https://www.theguardian.com/uk-news/2022/may/03/ukraine-ambassador-urges-priti-patel-relax-uk-visa-scheme', 'apiUrl': 'https://content.guardianapis.com/uk-news/2022/may/03/ukraine-ambassador-urges-priti-patel-relax-uk-visa-scheme', 'fields': {'body': '<p>Ukraine’s ambassador to the UK has urged the home secretary to relax the “unnecessary, long, bureaucratic” visa scheme for those fleeing war, as thousands of Ukrainians remain stranded in Europe.</p> <p>Vadym Prystaiko said he was negotiating with Priti Patel to temporarily lift visa requirements that he said had left many Ukrainians waiting in European towns <a href=\"https://www.theguardian.com/uk-news/2022/mar/09/anger-and-exhaustion-as-ukrainians-turned-away-by-uk-in-calais\">such as Calais</a>.</p> <p>He said: “Now it’s time maybe for a temporary [relaxation of visa requirements] just to relieve people from this unnecessary, long, bureaucratic and difficult bureaucratic procedures. We are constantly working with the Home Office trying to rebalance this system, trying to find better solutions, but something like temporary relief from visas will help us a lot.”</p> <p>It came as the Guardian revealed the <a href=\"https://www.theguardian.com/uk-news/2022/may/02/priti-patel-refugees-legal-action-homes-for-ukraine\">home secretary was facing mass legal action</a> over the “chaotic” Homes for Ukraine backlog, which has left thousands of people waiting for weeks after uploading all their paperwork and undergoing biometric scans. According to the latest government figures, 59,000 people have had visas approved but have not yet arrived in the UK. Only 15% of the 74,700 Ukrainians who applied under the sponsorship route have made it to Britain.</p>  <figure class=\"element element-embed\" data-alt=\"Sign up to First Edition, our free daily newsletter – every weekday morning at 7am BST\">  <iframe id=\"morning-briefing\" name=\"morning-briefing\" src=\"https://www.theguardian.com/email/form/plaintone/morning-briefing\" scrolling=\"no\" seamless=\"\" class=\"iframed--overflow-hidden email-sub__iframe\" height=\"52px\" frameborder=\"0\" data-component=\"email-embed--morning-briefing\"></iframe> <figcaption>Sign up to First Edition, our free daily newsletter – every weekday morning at 7am BST</figcaption> </figure>  <p>Many people who submitted applications more than six weeks ago, when the scheme launched, are among those apparently lost in the system.</p> <p>Boris Johnson admitted on Monday that the UK could have moved faster to help Ukrainians reach safety. In an interview on ITV’s Good Morning Britain, he said the government had “done a huge amount to help Ukrainian women and children in the area but we’re now seeing large numbers come to the UK”.</p> <p>The UK has so far taken in 27,000 Ukrainians overall, which the prime minister said was “a lot and it’s growing fast”, but he added: “Could we have done it faster? Yes, perhaps we could.”</p> <p>Asked why the UK was not offering visa-free travel to Ukrainians, Johnson said that in a wartime situation, some people may be “pretending” to be refugees. He said: “It’s important to protect the system from those who might want to abuse it. It’s also important to protect the women and children from coming to somewhere where they’re not going to get the welcome that we would want, so that’s why the screening and all the work we’ve done to make sure that we match up people in the right way, and the results are starting to be really excellent, you’re seeing large numbers now.”</p> <p>The UK is an outlier in Europe in requiring Ukrainians to submit to a lengthy visa process before they can travel. This has meant children without international passports, including months-old babies, being <a href=\"https://www.theguardian.com/world/2022/apr/24/inhumane-uk-homes-for-ukraine-scheme-security-scans-for-baby-girl\">required to undergo security scans</a> in Poland before they can fly to safety.</p> <p>Prystaiko said he had asked Patel directly to relax the process temporarily. He said: “Ukrainians are coming here and in most of the cases have been waiting in European towns next to you, like in Calais … because we enjoy the visa-free regime with the rest of Europe and unfortunately we never had it with Great Britain.”</p>'}, 'isHosted': False, 'pillarId': 'pillar/news', 'pillarName': 'News'}}}\n"
     ]
    }
   ],
   "source": [
    "json_data = result.json()\n",
    "print(json_data)"
   ]
  },
  {
   "cell_type": "code",
   "execution_count": 66,
   "metadata": {},
   "outputs": [
    {
     "name": "stdout",
     "output_type": "stream",
     "text": [
      "<class 'dict'>\n",
      "<p>Ukraine’s ambassador to the UK has urged the home secretary to relax the “unnecessary, long, bureaucratic” visa scheme for those fleeing war, as thousands of Ukrainians remain stranded in Europe.</p> <p>Vadym Prystaiko said he was negotiating with Priti Patel to temporarily lift visa requirements that he said had left many Ukrainians waiting in European towns <a href=\"https://www.theguardian.com/uk-news/2022/mar/09/anger-and-exhaustion-as-ukrainians-turned-away-by-uk-in-calais\">such as Calais</a>.</p> <p>He said: “Now it’s time maybe for a temporary [relaxation of visa requirements] just to relieve people from this unnecessary, long, bureaucratic and difficult bureaucratic procedures. We are constantly working with the Home Office trying to rebalance this system, trying to find better solutions, but something like temporary relief from visas will help us a lot.”</p> <p>It came as the Guardian revealed the <a href=\"https://www.theguardian.com/uk-news/2022/may/02/priti-patel-refugees-legal-action-homes-for-ukraine\">home secretary was facing mass legal action</a> over the “chaotic” Homes for Ukraine backlog, which has left thousands of people waiting for weeks after uploading all their paperwork and undergoing biometric scans. According to the latest government figures, 59,000 people have had visas approved but have not yet arrived in the UK. Only 15% of the 74,700 Ukrainians who applied under the sponsorship route have made it to Britain.</p>  <figure class=\"element element-embed\" data-alt=\"Sign up to First Edition, our free daily newsletter – every weekday morning at 7am BST\">  <iframe id=\"morning-briefing\" name=\"morning-briefing\" src=\"https://www.theguardian.com/email/form/plaintone/morning-briefing\" scrolling=\"no\" seamless=\"\" class=\"iframed--overflow-hidden email-sub__iframe\" height=\"52px\" frameborder=\"0\" data-component=\"email-embed--morning-briefing\"></iframe> <figcaption>Sign up to First Edition, our free daily newsletter – every weekday morning at 7am BST</figcaption> </figure>  <p>Many people who submitted applications more than six weeks ago, when the scheme launched, are among those apparently lost in the system.</p> <p>Boris Johnson admitted on Monday that the UK could have moved faster to help Ukrainians reach safety. In an interview on ITV’s Good Morning Britain, he said the government had “done a huge amount to help Ukrainian women and children in the area but we’re now seeing large numbers come to the UK”.</p> <p>The UK has so far taken in 27,000 Ukrainians overall, which the prime minister said was “a lot and it’s growing fast”, but he added: “Could we have done it faster? Yes, perhaps we could.”</p> <p>Asked why the UK was not offering visa-free travel to Ukrainians, Johnson said that in a wartime situation, some people may be “pretending” to be refugees. He said: “It’s important to protect the system from those who might want to abuse it. It’s also important to protect the women and children from coming to somewhere where they’re not going to get the welcome that we would want, so that’s why the screening and all the work we’ve done to make sure that we match up people in the right way, and the results are starting to be really excellent, you’re seeing large numbers now.”</p> <p>The UK is an outlier in Europe in requiring Ukrainians to submit to a lengthy visa process before they can travel. This has meant children without international passports, including months-old babies, being <a href=\"https://www.theguardian.com/world/2022/apr/24/inhumane-uk-homes-for-ukraine-scheme-security-scans-for-baby-girl\">required to undergo security scans</a> in Poland before they can fly to safety.</p> <p>Prystaiko said he had asked Patel directly to relax the process temporarily. He said: “Ukrainians are coming here and in most of the cases have been waiting in European towns next to you, like in Calais … because we enjoy the visa-free regime with the rest of Europe and unfortunately we never had it with Great Britain.”</p>\n"
     ]
    }
   ],
   "source": [
    "print(type(json_data['response']))\n",
    "x = json_data['response']['content']['fields']['body']\n",
    "print(x)"
   ]
  },
  {
   "cell_type": "code",
   "execution_count": null,
   "metadata": {},
   "outputs": [],
   "source": []
  }
 ],
 "metadata": {
  "kernelspec": {
   "display_name": "Python 3.10.4 ('.venv': venv)",
   "language": "python",
   "name": "python3"
  },
  "language_info": {
   "codemirror_mode": {
    "name": "ipython",
    "version": 3
   },
   "file_extension": ".py",
   "mimetype": "text/x-python",
   "name": "python",
   "nbconvert_exporter": "python",
   "pygments_lexer": "ipython3",
   "version": "3.10.4"
  },
  "orig_nbformat": 4,
  "vscode": {
   "interpreter": {
    "hash": "8bd6d5ee84073ea568a8475b6416df4df35e9f8587352d1cb55f8675bca2c3cd"
   }
  }
 },
 "nbformat": 4,
 "nbformat_minor": 2
}
