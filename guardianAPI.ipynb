{
 "cells": [
  {
   "cell_type": "code",
   "execution_count": 139,
   "metadata": {},
   "outputs": [],
   "source": [
    "import requests\n",
    "from bs4 import BeautifulSoup\n",
    "import json\n",
    "import pandas as pd\n",
    "import os"
   ]
  },
  {
   "cell_type": "code",
   "execution_count": 135,
   "metadata": {},
   "outputs": [],
   "source": [
    "keyG = 'fad78733-31a0-4ea7-8823-ba815b578899'\n",
    "keyNYT = ''\n",
    "\n",
    "guardian = requests.get(\n",
    "    'https://content.guardianapis.com/search?api-key=' + keyG +\n",
    "    '&from-date=2022-02-01' +\n",
    "    '&type=article' +\n",
    "    '&page=1' +\n",
    "    '&tag=world/ukraine' +\n",
    "    '&order-by=newest' +\n",
    "    '&show-fields=body' +\n",
    "    '&page-size=200')\n",
    "\n",
    "json_guardian = guardian.json()\n",
    "#print(json.dumps(json_data, indent=2))\n",
    "#print(json_data)"
   ]
  },
  {
   "cell_type": "code",
   "execution_count": 147,
   "metadata": {},
   "outputs": [
    {
     "ename": "AttributeError",
     "evalue": "ResultSet object has no attribute 'get_text'. You're probably treating a list of elements like a single element. Did you call find_all() when you meant to call find()?",
     "output_type": "error",
     "traceback": [
      "\u001b[1;31m---------------------------------------------------------------------------\u001b[0m",
      "\u001b[1;31mAttributeError\u001b[0m                            Traceback (most recent call last)",
      "\u001b[1;32md:\\Code\\ukraine-media\\guardianAPI.ipynb Cell 3'\u001b[0m in \u001b[0;36m<cell line: 7>\u001b[1;34m()\u001b[0m\n\u001b[0;32m     <a href='vscode-notebook-cell:/d%3A/Code/ukraine-media/guardianAPI.ipynb#ch0000006?line=9'>10</a>\u001b[0m     dates\u001b[39m.\u001b[39mappend(json_guardian[\u001b[39m'\u001b[39m\u001b[39mresponse\u001b[39m\u001b[39m'\u001b[39m][\u001b[39m'\u001b[39m\u001b[39mresults\u001b[39m\u001b[39m'\u001b[39m][i][\u001b[39m'\u001b[39m\u001b[39mwebPublicationDate\u001b[39m\u001b[39m'\u001b[39m] )\n\u001b[0;32m     <a href='vscode-notebook-cell:/d%3A/Code/ukraine-media/guardianAPI.ipynb#ch0000006?line=10'>11</a>\u001b[0m     soup \u001b[39m=\u001b[39m BeautifulSoup(json_guardian[\u001b[39m'\u001b[39m\u001b[39mresponse\u001b[39m\u001b[39m'\u001b[39m][\u001b[39m'\u001b[39m\u001b[39mresults\u001b[39m\u001b[39m'\u001b[39m][i][\u001b[39m'\u001b[39m\u001b[39mfields\u001b[39m\u001b[39m'\u001b[39m][\u001b[39m'\u001b[39m\u001b[39mbody\u001b[39m\u001b[39m'\u001b[39m], \u001b[39m\"\u001b[39m\u001b[39mhtml.parser\u001b[39m\u001b[39m\"\u001b[39m)\n\u001b[1;32m---> <a href='vscode-notebook-cell:/d%3A/Code/ukraine-media/guardianAPI.ipynb#ch0000006?line=11'>12</a>\u001b[0m     tempbody \u001b[39m=\u001b[39m soup\u001b[39m.\u001b[39;49mfind_all(\u001b[39m\"\u001b[39;49m\u001b[39mp\u001b[39;49m\u001b[39m\"\u001b[39;49m, class_\u001b[39m=\u001b[39;49m\u001b[39m'\u001b[39;49m\u001b[39mdcr-xry7m2\u001b[39;49m\u001b[39m'\u001b[39;49m)\u001b[39m.\u001b[39;49mget_text()\n\u001b[0;32m     <a href='vscode-notebook-cell:/d%3A/Code/ukraine-media/guardianAPI.ipynb#ch0000006?line=12'>13</a>\u001b[0m     bodies\u001b[39m.\u001b[39mappend(tempbody)\n\u001b[0;32m     <a href='vscode-notebook-cell:/d%3A/Code/ukraine-media/guardianAPI.ipynb#ch0000006?line=14'>15</a>\u001b[0m dict_data \u001b[39m=\u001b[39m {\u001b[39m\"\u001b[39m\u001b[39mURL\u001b[39m\u001b[39m\"\u001b[39m: urls, \u001b[39m\"\u001b[39m\u001b[39mDate\u001b[39m\u001b[39m\"\u001b[39m: dates, \u001b[39m\"\u001b[39m\u001b[39mTitle\u001b[39m\u001b[39m\"\u001b[39m: titles, \u001b[39m\"\u001b[39m\u001b[39mText\u001b[39m\u001b[39m\"\u001b[39m: bodies}\n",
      "File \u001b[1;32md:\\Code\\ukraine-media\\.venv\\lib\\site-packages\\bs4\\element.py:2289\u001b[0m, in \u001b[0;36mResultSet.__getattr__\u001b[1;34m(self, key)\u001b[0m\n\u001b[0;32m   2287\u001b[0m \u001b[39mdef\u001b[39;00m \u001b[39m__getattr__\u001b[39m(\u001b[39mself\u001b[39m, key):\n\u001b[0;32m   2288\u001b[0m     \u001b[39m\"\"\"Raise a helpful exception to explain a common code fix.\"\"\"\u001b[39;00m\n\u001b[1;32m-> 2289\u001b[0m     \u001b[39mraise\u001b[39;00m \u001b[39mAttributeError\u001b[39;00m(\n\u001b[0;32m   2290\u001b[0m         \u001b[39m\"\u001b[39m\u001b[39mResultSet object has no attribute \u001b[39m\u001b[39m'\u001b[39m\u001b[39m%s\u001b[39;00m\u001b[39m'\u001b[39m\u001b[39m. You\u001b[39m\u001b[39m'\u001b[39m\u001b[39mre probably treating a list of elements like a single element. Did you call find_all() when you meant to call find()?\u001b[39m\u001b[39m\"\u001b[39m \u001b[39m%\u001b[39m key\n\u001b[0;32m   2291\u001b[0m     )\n",
      "\u001b[1;31mAttributeError\u001b[0m: ResultSet object has no attribute 'get_text'. You're probably treating a list of elements like a single element. Did you call find_all() when you meant to call find()?"
     ]
    }
   ],
   "source": [
    "urls = []\n",
    "titles = []\n",
    "bodies = []\n",
    "tempbody = \"\"\n",
    "dates = []\n",
    "\n",
    "for i in range (1,200):\n",
    "    urls.append(json_guardian['response']['results'][i]['webUrl'])\n",
    "    titles.append(json_guardian['response']['results'][i]['webTitle'])\n",
    "    dates.append(json_guardian['response']['results'][i]['webPublicationDate'] )\n",
    "    soup = BeautifulSoup(json_guardian['response']['results'][i]['fields']['body'], \"html.parser\")\n",
    "    tempbody = soup.find_all(\"p\", class_='dcr-xry7m2').get_text()\n",
    "    bodies.append(tempbody)\n",
    "\n",
    "dict_data = {\"URL\": urls, \"Date\": dates, \"Title\": titles, \"Text\": bodies}\n",
    "data = pd.DataFrame(dict_data)\n",
    "\n",
    "os.makedirs(os.getcwd() + \"/data\", exist_ok=True)\n",
    "data.to_csv(\"data/guardian.csv\", index=True, header=True)\n",
    "data.head(25)"
   ]
  },
  {
   "cell_type": "code",
   "execution_count": null,
   "metadata": {},
   "outputs": [],
   "source": [
    "txt_body = BeautifulSoup(body, \"html.parser\").get_text().replace(\"  Sign up to First Edition, our free daily newsletter – every weekday morning at 7am BST  \",\"\")\n",
    "txt_title = BeautifulSoup(title, \"html.parser\").get_text()\n",
    "\n",
    "print(txt_title)\n",
    "print(txt_body)"
   ]
  }
 ],
 "metadata": {
  "kernelspec": {
   "display_name": "Python 3.10.4 ('.venv': venv)",
   "language": "python",
   "name": "python3"
  },
  "language_info": {
   "codemirror_mode": {
    "name": "ipython",
    "version": 3
   },
   "file_extension": ".py",
   "mimetype": "text/x-python",
   "name": "python",
   "nbconvert_exporter": "python",
   "pygments_lexer": "ipython3",
   "version": "3.10.4"
  },
  "orig_nbformat": 4,
  "vscode": {
   "interpreter": {
    "hash": "8bd6d5ee84073ea568a8475b6416df4df35e9f8587352d1cb55f8675bca2c3cd"
   }
  }
 },
 "nbformat": 4,
 "nbformat_minor": 2
}
