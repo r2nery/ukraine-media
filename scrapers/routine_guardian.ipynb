{
 "cells": [
  {
   "cell_type": "markdown",
   "metadata": {},
   "source": [
    "#### Updating data"
   ]
  },
  {
   "cell_type": "code",
   "execution_count": 1,
   "metadata": {},
   "outputs": [],
   "source": [
    "from utilities import *\n",
    "from Guardian import *\n",
    "\n",
    "ROOT_DIR = os.path.dirname(os.path.abspath(\"__file__\"))\n",
    "PARENT_DIR = os.path.dirname(ROOT_DIR)"
   ]
  },
  {
   "cell_type": "code",
   "execution_count": 2,
   "metadata": {},
   "outputs": [
    {
     "name": "stdout",
     "output_type": "stream",
     "text": [
      "-> CSV file found with 2938 articles! Latest article date: 2022-07-19\n",
      "-> Checking articles from latest date onward...\n",
      "-> API Query |████████████████████████████████████████| (!) 19 in 4.0s (4.78/s) \n",
      "-> 15 new articles saved to Guardian.csv! Total articles: 2953\n"
     ]
    }
   ],
   "source": [
    "data = guardianScraper()\n",
    "\n",
    "data.to_csv(PARENT_DIR + \"/data/Guardian.csv\", index=True)"
   ]
  },
  {
   "cell_type": "code",
   "execution_count": 3,
   "metadata": {},
   "outputs": [
    {
     "data": {
      "text/html": [
       "<div>\n",
       "<style scoped>\n",
       "    .dataframe tbody tr th:only-of-type {\n",
       "        vertical-align: middle;\n",
       "    }\n",
       "\n",
       "    .dataframe tbody tr th {\n",
       "        vertical-align: top;\n",
       "    }\n",
       "\n",
       "    .dataframe thead th {\n",
       "        text-align: right;\n",
       "    }\n",
       "</style>\n",
       "<table border=\"1\" class=\"dataframe\">\n",
       "  <thead>\n",
       "    <tr style=\"text-align: right;\">\n",
       "      <th></th>\n",
       "      <th>URL</th>\n",
       "      <th>Title</th>\n",
       "      <th>Text</th>\n",
       "    </tr>\n",
       "    <tr>\n",
       "      <th>Date</th>\n",
       "      <th></th>\n",
       "      <th></th>\n",
       "      <th></th>\n",
       "    </tr>\n",
       "  </thead>\n",
       "  <tbody>\n",
       "    <tr>\n",
       "      <th>2022-07-21</th>\n",
       "      <td>https://www.theguardian.com/us-news/2022/jul/2...</td>\n",
       "      <td>Nancy Pelosi’s Taiwan trip ‘not a good idea ri...</td>\n",
       "      <td>Joe Biden has cautioned against the reported t...</td>\n",
       "    </tr>\n",
       "  </tbody>\n",
       "</table>\n",
       "</div>"
      ],
      "text/plain": [
       "                                                          URL  \\\n",
       "Date                                                            \n",
       "2022-07-21  https://www.theguardian.com/us-news/2022/jul/2...   \n",
       "\n",
       "                                                        Title  \\\n",
       "Date                                                            \n",
       "2022-07-21  Nancy Pelosi’s Taiwan trip ‘not a good idea ri...   \n",
       "\n",
       "                                                         Text  \n",
       "Date                                                           \n",
       "2022-07-21  Joe Biden has cautioned against the reported t...  "
      ]
     },
     "execution_count": 3,
     "metadata": {},
     "output_type": "execute_result"
    }
   ],
   "source": [
    "data.head(1)"
   ]
  },
  {
   "cell_type": "markdown",
   "metadata": {},
   "source": [
    "#### LDA topic identification"
   ]
  },
  {
   "cell_type": "code",
   "execution_count": 4,
   "metadata": {},
   "outputs": [
    {
     "name": "stderr",
     "output_type": "stream",
     "text": [
      "INFO:lda:n_documents: 2953\n",
      "INFO:lda:vocab_size: 10000\n",
      "INFO:lda:n_words: 1308248\n",
      "INFO:lda:n_topics: 30\n",
      "INFO:lda:n_iter: 2000\n",
      "INFO:lda:<0> log likelihood: -15810928\n",
      "INFO:lda:<100> log likelihood: -11210805\n",
      "INFO:lda:<200> log likelihood: -11121536\n",
      "INFO:lda:<300> log likelihood: -11089296\n",
      "INFO:lda:<400> log likelihood: -11084859\n",
      "INFO:lda:<500> log likelihood: -11077696\n",
      "INFO:lda:<600> log likelihood: -11078500\n",
      "INFO:lda:<700> log likelihood: -11069198\n",
      "INFO:lda:<800> log likelihood: -11064159\n",
      "INFO:lda:<900> log likelihood: -11062287\n",
      "INFO:lda:<1000> log likelihood: -11055265\n",
      "INFO:lda:<1100> log likelihood: -11049495\n",
      "INFO:lda:<1200> log likelihood: -11046748\n",
      "INFO:lda:<1300> log likelihood: -11044516\n",
      "INFO:lda:<1400> log likelihood: -11040216\n",
      "INFO:lda:<1500> log likelihood: -11039489\n",
      "INFO:lda:<1600> log likelihood: -11039194\n",
      "INFO:lda:<1700> log likelihood: -11033781\n",
      "INFO:lda:<1800> log likelihood: -11032582\n",
      "INFO:lda:<1900> log likelihood: -11024632\n",
      "INFO:lda:<1999> log likelihood: -11021818\n"
     ]
    }
   ],
   "source": [
    "doc_topic, topic_word, vocabulary = learn_topics(data, topicnum=30, vocabsize=10000, num_iter=2000) "
   ]
  },
  {
   "cell_type": "code",
   "execution_count": 5,
   "metadata": {},
   "outputs": [],
   "source": [
    "topics = []\n",
    "for i in range(len(data)):\n",
    "    topics.append(doc_topic[i].argmax())"
   ]
  },
  {
   "cell_type": "code",
   "execution_count": 6,
   "metadata": {},
   "outputs": [
    {
     "name": "stdout",
     "output_type": "stream",
     "text": [
      "Nancy Pelosi’s Taiwan trip ‘not a good idea right now’, says Biden TOPIC: 3\n",
      "EU imposes sanctions on Russian motorcycle club and pro-Putin actors TOPIC: 24\n",
      "Dining across the divide: ‘He supports a new Heathrow runway – we should invest in trains’ TOPIC: 8\n",
      "Russia-Ukraine war at a glance: what we know on day 148 of the invasion TOPIC: 18\n",
      "Woodside and Santos reap bumper profits as Ukraine war drives energy prices higher TOPIC: 28\n",
      "Russia may seek to occupy more territory in Ukraine, says foreign minister TOPIC: 22\n",
      "‘They hunt us like stray cats’: pro-Russia separatists step up forced conscription as losses mount TOPIC: 20\n",
      "EU adopts Ukrainian art exhibition left stranded in Denmark TOPIC: 9\n",
      "UK inflation rise is worrying but Bank of England must not overreact TOPIC: 28\n",
      "Erdoğan keeps Putin waiting in awkward moment ahead of Tehran talks TOPIC: 10\n"
     ]
    }
   ],
   "source": [
    "for i in range(10):\n",
    "    print(f\"{data.iloc[i][1]} TOPIC: {doc_topic[i].argmax()}\")"
   ]
  },
  {
   "cell_type": "code",
   "execution_count": 7,
   "metadata": {},
   "outputs": [
    {
     "name": "stdout",
     "output_type": "stream",
     "text": [
      "Topic 0: gas oil energy russian russia europe germany\n",
      "Topic 1: russia said russian company the ukraine companies\n",
      "Topic 2: city kyiv people russian the mariupol kharkiv\n",
      "Topic 3: us china biden putin russia trump president\n",
      "Topic 4: russian media said russia ukraine news the\n",
      "Topic 5: uk johnson british minister the britain boris\n",
      "Topic 6: she family said year children old home\n",
      "Topic 7: the news film journalists march twitter ukraine\n",
      "Topic 8: it we people like don he but\n",
      "Topic 9: the ukraine ukrainian world russian music cultural\n",
      "Topic 10: food ukraine grain world the turkey ports\n",
      "Topic 11: ukraine russian military forces weapons us russia\n",
      "Topic 12: russian putin war russia the ukraine soviet\n",
      "Topic 13: the says university work guardian year research\n",
      "Topic 14: sanctions russian russia the eu bank foreign\n",
      "Topic 15: uk said refugees government visa the home\n",
      "Topic 16: it but in time war and this\n",
      "Topic 17: russia ukraine putin war nato the west\n",
      "Topic 18: said russian ukrainian russia ukraine city forces\n",
      "Topic 19: nuclear australia the australian government weapons cyber\n",
      "Topic 20: said the russian soldiers ukrainian he they\n",
      "Topic 21: russian the ukraine ukrainian missile sea said\n",
      "Topic 22: said russia russian ukraine us the moscow\n",
      "Topic 23: poland ukraine refugees people border ukrainian country\n",
      "Topic 24: eu nato european germany the german scholz\n",
      "Topic 25: the sanctions russian said putin abramovich oligarchs\n",
      "Topic 26: ukraine support help said people ukrainian children\n",
      "Topic 27: said ukraine zelenskiy president ukrainian the russian\n",
      "Topic 28: the prices said year price global inflation\n",
      "Topic 29: war crimes the civilians russian international ukraine\n"
     ]
    }
   ],
   "source": [
    "for i, topic_dist in enumerate(topic_word):\n",
    "    topic_words = np.array(vocabulary)[np.argsort(topic_dist)][:-8:-1]\n",
    "    print(\"Topic {}: {}\".format(i, \" \".join(topic_words)))\n"
   ]
  },
  {
   "cell_type": "code",
   "execution_count": 8,
   "metadata": {},
   "outputs": [
    {
     "data": {
      "text/plain": [
       "('/Users/r2/Code/ukraine-media/results/GuardianTopicMixtures.txt',\n",
       " '/Users/r2/Code/ukraine-media/results/GuardianTopics.txt',\n",
       " '/Users/r2/Code/ukraine-media/results/GuardianVocab.txt')"
      ]
     },
     "execution_count": 8,
     "metadata": {},
     "output_type": "execute_result"
    }
   ],
   "source": [
    "source = \"Guardian\"\n",
    "save_topicmodel(doc_topic, topic_word, vocabulary, source)"
   ]
  },
  {
   "cell_type": "code",
   "execution_count": 9,
   "metadata": {},
   "outputs": [
    {
     "name": "stderr",
     "output_type": "stream",
     "text": [
      "/Users/r2/Code/ukraine-media/scrapers/utilities.py:142: FutureWarning: arrays to stack must be passed as a \"sequence\" type such as list or tuple. Support for non-sequence iterables such as generators is deprecated as of NumPy 1.16 and will raise an error in the future.\n",
      "  np.savetxt(outpath, np.vstack(zip(novelties, transiences, resonances)))\n"
     ]
    }
   ],
   "source": [
    "period = 7\n",
    "novelties, transiences, resonances = novelty_transience_resonance(doc_topic, period)\n",
    "\n",
    "for index in range(0,period):\n",
    "    transiences.insert(0, 0)\n",
    "    transiences.append(0)\n",
    "    novelties.insert(0, 0)\n",
    "    novelties.append(0)\n",
    "    resonances.insert(0, 0)\n",
    "    resonances.append(0)\n",
    "\n",
    "save_novel_trans_reson(novelties, transiences, resonances, source)"
   ]
  },
  {
   "cell_type": "code",
   "execution_count": 10,
   "metadata": {},
   "outputs": [
    {
     "data": {
      "text/html": [
       "<div>\n",
       "<style scoped>\n",
       "    .dataframe tbody tr th:only-of-type {\n",
       "        vertical-align: middle;\n",
       "    }\n",
       "\n",
       "    .dataframe tbody tr th {\n",
       "        vertical-align: top;\n",
       "    }\n",
       "\n",
       "    .dataframe thead th {\n",
       "        text-align: right;\n",
       "    }\n",
       "</style>\n",
       "<table border=\"1\" class=\"dataframe\">\n",
       "  <thead>\n",
       "    <tr style=\"text-align: right;\">\n",
       "      <th></th>\n",
       "      <th>URL</th>\n",
       "      <th>Title</th>\n",
       "      <th>Text</th>\n",
       "      <th>Novelty</th>\n",
       "      <th>Transience</th>\n",
       "      <th>Resonance</th>\n",
       "      <th>Topic</th>\n",
       "    </tr>\n",
       "    <tr>\n",
       "      <th>Date</th>\n",
       "      <th></th>\n",
       "      <th></th>\n",
       "      <th></th>\n",
       "      <th></th>\n",
       "      <th></th>\n",
       "      <th></th>\n",
       "      <th></th>\n",
       "    </tr>\n",
       "  </thead>\n",
       "  <tbody>\n",
       "    <tr>\n",
       "      <th>2022-07-21</th>\n",
       "      <td>https://www.theguardian.com/us-news/2022/jul/2...</td>\n",
       "      <td>Nancy Pelosi’s Taiwan trip ‘not a good idea ri...</td>\n",
       "      <td>Joe Biden has cautioned against the reported t...</td>\n",
       "      <td>0.0</td>\n",
       "      <td>0.0</td>\n",
       "      <td>0.0</td>\n",
       "      <td>3</td>\n",
       "    </tr>\n",
       "    <tr>\n",
       "      <th>2022-07-21</th>\n",
       "      <td>https://www.theguardian.com/world/2022/jul/21/...</td>\n",
       "      <td>EU imposes sanctions on Russian motorcycle clu...</td>\n",
       "      <td>New EU sanctions hitting Russian gold, a major...</td>\n",
       "      <td>0.0</td>\n",
       "      <td>0.0</td>\n",
       "      <td>0.0</td>\n",
       "      <td>24</td>\n",
       "    </tr>\n",
       "    <tr>\n",
       "      <th>2022-07-21</th>\n",
       "      <td>https://www.theguardian.com/lifeandstyle/2022/...</td>\n",
       "      <td>Dining across the divide: ‘He supports a new H...</td>\n",
       "      <td>Jasper, 26, London    Occupation Architect Vot...</td>\n",
       "      <td>0.0</td>\n",
       "      <td>0.0</td>\n",
       "      <td>0.0</td>\n",
       "      <td>8</td>\n",
       "    </tr>\n",
       "    <tr>\n",
       "      <th>2022-07-21</th>\n",
       "      <td>https://www.theguardian.com/world/2022/jul/21/...</td>\n",
       "      <td>Russia-Ukraine war at a glance: what we know o...</td>\n",
       "      <td>The Russian Nord Stream 1 gas pipeline has re...</td>\n",
       "      <td>0.0</td>\n",
       "      <td>0.0</td>\n",
       "      <td>0.0</td>\n",
       "      <td>18</td>\n",
       "    </tr>\n",
       "    <tr>\n",
       "      <th>2022-07-21</th>\n",
       "      <td>https://www.theguardian.com/business/2022/jul/...</td>\n",
       "      <td>Woodside and Santos reap bumper profits as Ukr...</td>\n",
       "      <td>High energy prices due to Russia’s invasion of...</td>\n",
       "      <td>0.0</td>\n",
       "      <td>0.0</td>\n",
       "      <td>0.0</td>\n",
       "      <td>28</td>\n",
       "    </tr>\n",
       "  </tbody>\n",
       "</table>\n",
       "</div>"
      ],
      "text/plain": [
       "                                                          URL  \\\n",
       "Date                                                            \n",
       "2022-07-21  https://www.theguardian.com/us-news/2022/jul/2...   \n",
       "2022-07-21  https://www.theguardian.com/world/2022/jul/21/...   \n",
       "2022-07-21  https://www.theguardian.com/lifeandstyle/2022/...   \n",
       "2022-07-21  https://www.theguardian.com/world/2022/jul/21/...   \n",
       "2022-07-21  https://www.theguardian.com/business/2022/jul/...   \n",
       "\n",
       "                                                        Title  \\\n",
       "Date                                                            \n",
       "2022-07-21  Nancy Pelosi’s Taiwan trip ‘not a good idea ri...   \n",
       "2022-07-21  EU imposes sanctions on Russian motorcycle clu...   \n",
       "2022-07-21  Dining across the divide: ‘He supports a new H...   \n",
       "2022-07-21  Russia-Ukraine war at a glance: what we know o...   \n",
       "2022-07-21  Woodside and Santos reap bumper profits as Ukr...   \n",
       "\n",
       "                                                         Text  Novelty  \\\n",
       "Date                                                                     \n",
       "2022-07-21  Joe Biden has cautioned against the reported t...      0.0   \n",
       "2022-07-21  New EU sanctions hitting Russian gold, a major...      0.0   \n",
       "2022-07-21  Jasper, 26, London    Occupation Architect Vot...      0.0   \n",
       "2022-07-21   The Russian Nord Stream 1 gas pipeline has re...      0.0   \n",
       "2022-07-21  High energy prices due to Russia’s invasion of...      0.0   \n",
       "\n",
       "            Transience  Resonance  Topic  \n",
       "Date                                      \n",
       "2022-07-21         0.0        0.0      3  \n",
       "2022-07-21         0.0        0.0     24  \n",
       "2022-07-21         0.0        0.0      8  \n",
       "2022-07-21         0.0        0.0     18  \n",
       "2022-07-21         0.0        0.0     28  "
      ]
     },
     "execution_count": 10,
     "metadata": {},
     "output_type": "execute_result"
    }
   ],
   "source": [
    "ntr_data = data\n",
    "ntr_data['Novelty'] = novelties\n",
    "ntr_data['Transience'] = novelties\n",
    "ntr_data['Resonance'] = resonances\n",
    "ntr_data['Topic'] = topics\n",
    "\n",
    "ntr_data.to_csv(PARENT_DIR + \"/data/\"+ source + \"_ntr.csv\")\n",
    "ntr_data.head(5)"
   ]
  },
  {
   "cell_type": "code",
   "execution_count": 11,
   "metadata": {},
   "outputs": [],
   "source": [
    "import matplotlib.pyplot as plt\n",
    "import matplotlib.dates as mdates\n",
    "from matplotlib.dates import DateFormatter\n",
    "import datetime\n",
    "import numpy as np\n",
    "import pandas as pd\n",
    "import seaborn as sns\n",
    "%matplotlib inline"
   ]
  },
  {
   "cell_type": "code",
   "execution_count": 12,
   "metadata": {},
   "outputs": [
    {
     "data": {
      "text/html": [
       "<div>\n",
       "<style scoped>\n",
       "    .dataframe tbody tr th:only-of-type {\n",
       "        vertical-align: middle;\n",
       "    }\n",
       "\n",
       "    .dataframe tbody tr th {\n",
       "        vertical-align: top;\n",
       "    }\n",
       "\n",
       "    .dataframe thead th {\n",
       "        text-align: right;\n",
       "    }\n",
       "</style>\n",
       "<table border=\"1\" class=\"dataframe\">\n",
       "  <thead>\n",
       "    <tr style=\"text-align: right;\">\n",
       "      <th></th>\n",
       "      <th>URL</th>\n",
       "      <th>Title</th>\n",
       "      <th>Text</th>\n",
       "      <th>Novelty</th>\n",
       "      <th>Transience</th>\n",
       "      <th>Resonance</th>\n",
       "      <th>Topic</th>\n",
       "    </tr>\n",
       "    <tr>\n",
       "      <th>Date</th>\n",
       "      <th></th>\n",
       "      <th></th>\n",
       "      <th></th>\n",
       "      <th></th>\n",
       "      <th></th>\n",
       "      <th></th>\n",
       "      <th></th>\n",
       "    </tr>\n",
       "  </thead>\n",
       "  <tbody>\n",
       "    <tr>\n",
       "      <th>2022-07-21</th>\n",
       "      <td>https://www.theguardian.com/us-news/2022/jul/2...</td>\n",
       "      <td>Nancy Pelosi’s Taiwan trip ‘not a good idea ri...</td>\n",
       "      <td>Joe Biden has cautioned against the reported t...</td>\n",
       "      <td>0.0</td>\n",
       "      <td>0.0</td>\n",
       "      <td>0.0</td>\n",
       "      <td>3</td>\n",
       "    </tr>\n",
       "    <tr>\n",
       "      <th>2022-07-21</th>\n",
       "      <td>https://www.theguardian.com/world/2022/jul/21/...</td>\n",
       "      <td>EU imposes sanctions on Russian motorcycle clu...</td>\n",
       "      <td>New EU sanctions hitting Russian gold, a major...</td>\n",
       "      <td>0.0</td>\n",
       "      <td>0.0</td>\n",
       "      <td>0.0</td>\n",
       "      <td>24</td>\n",
       "    </tr>\n",
       "    <tr>\n",
       "      <th>2022-07-21</th>\n",
       "      <td>https://www.theguardian.com/lifeandstyle/2022/...</td>\n",
       "      <td>Dining across the divide: ‘He supports a new H...</td>\n",
       "      <td>Jasper, 26, London    Occupation Architect Vot...</td>\n",
       "      <td>0.0</td>\n",
       "      <td>0.0</td>\n",
       "      <td>0.0</td>\n",
       "      <td>8</td>\n",
       "    </tr>\n",
       "    <tr>\n",
       "      <th>2022-07-21</th>\n",
       "      <td>https://www.theguardian.com/world/2022/jul/21/...</td>\n",
       "      <td>Russia-Ukraine war at a glance: what we know o...</td>\n",
       "      <td>The Russian Nord Stream 1 gas pipeline has re...</td>\n",
       "      <td>0.0</td>\n",
       "      <td>0.0</td>\n",
       "      <td>0.0</td>\n",
       "      <td>18</td>\n",
       "    </tr>\n",
       "    <tr>\n",
       "      <th>2022-07-21</th>\n",
       "      <td>https://www.theguardian.com/business/2022/jul/...</td>\n",
       "      <td>Woodside and Santos reap bumper profits as Ukr...</td>\n",
       "      <td>High energy prices due to Russia’s invasion of...</td>\n",
       "      <td>0.0</td>\n",
       "      <td>0.0</td>\n",
       "      <td>0.0</td>\n",
       "      <td>28</td>\n",
       "    </tr>\n",
       "  </tbody>\n",
       "</table>\n",
       "</div>"
      ],
      "text/plain": [
       "                                                          URL  \\\n",
       "Date                                                            \n",
       "2022-07-21  https://www.theguardian.com/us-news/2022/jul/2...   \n",
       "2022-07-21  https://www.theguardian.com/world/2022/jul/21/...   \n",
       "2022-07-21  https://www.theguardian.com/lifeandstyle/2022/...   \n",
       "2022-07-21  https://www.theguardian.com/world/2022/jul/21/...   \n",
       "2022-07-21  https://www.theguardian.com/business/2022/jul/...   \n",
       "\n",
       "                                                        Title  \\\n",
       "Date                                                            \n",
       "2022-07-21  Nancy Pelosi’s Taiwan trip ‘not a good idea ri...   \n",
       "2022-07-21  EU imposes sanctions on Russian motorcycle clu...   \n",
       "2022-07-21  Dining across the divide: ‘He supports a new H...   \n",
       "2022-07-21  Russia-Ukraine war at a glance: what we know o...   \n",
       "2022-07-21  Woodside and Santos reap bumper profits as Ukr...   \n",
       "\n",
       "                                                         Text  Novelty  \\\n",
       "Date                                                                     \n",
       "2022-07-21  Joe Biden has cautioned against the reported t...      0.0   \n",
       "2022-07-21  New EU sanctions hitting Russian gold, a major...      0.0   \n",
       "2022-07-21  Jasper, 26, London    Occupation Architect Vot...      0.0   \n",
       "2022-07-21   The Russian Nord Stream 1 gas pipeline has re...      0.0   \n",
       "2022-07-21  High energy prices due to Russia’s invasion of...      0.0   \n",
       "\n",
       "            Transience  Resonance  Topic  \n",
       "Date                                      \n",
       "2022-07-21         0.0        0.0      3  \n",
       "2022-07-21         0.0        0.0     24  \n",
       "2022-07-21         0.0        0.0      8  \n",
       "2022-07-21         0.0        0.0     18  \n",
       "2022-07-21         0.0        0.0     28  "
      ]
     },
     "execution_count": 12,
     "metadata": {},
     "output_type": "execute_result"
    }
   ],
   "source": [
    "ntr_data = pd.read_csv(PARENT_DIR + \"/data/Guardian_ntr.csv\", parse_dates=['Date'], index_col= ['Date'])\n",
    "ntr_data.head()\n",
    "#print(len(ntr_data))"
   ]
  },
  {
   "cell_type": "code",
   "execution_count": 17,
   "metadata": {},
   "outputs": [
    {
     "data": {
      "text/html": [
       "<div>\n",
       "<style scoped>\n",
       "    .dataframe tbody tr th:only-of-type {\n",
       "        vertical-align: middle;\n",
       "    }\n",
       "\n",
       "    .dataframe tbody tr th {\n",
       "        vertical-align: top;\n",
       "    }\n",
       "\n",
       "    .dataframe thead th {\n",
       "        text-align: right;\n",
       "    }\n",
       "</style>\n",
       "<table border=\"1\" class=\"dataframe\">\n",
       "  <thead>\n",
       "    <tr style=\"text-align: right;\">\n",
       "      <th></th>\n",
       "      <th>Novelty</th>\n",
       "      <th>Transience</th>\n",
       "      <th>Resonance</th>\n",
       "      <th>Topic</th>\n",
       "    </tr>\n",
       "    <tr>\n",
       "      <th>Date</th>\n",
       "      <th></th>\n",
       "      <th></th>\n",
       "      <th></th>\n",
       "      <th></th>\n",
       "    </tr>\n",
       "  </thead>\n",
       "  <tbody>\n",
       "    <tr>\n",
       "      <th>2022-02-01</th>\n",
       "      <td>0.220221</td>\n",
       "      <td>0.220221</td>\n",
       "      <td>-0.166025</td>\n",
       "      <td>18.375</td>\n",
       "    </tr>\n",
       "    <tr>\n",
       "      <th>2022-02-02</th>\n",
       "      <td>2.102657</td>\n",
       "      <td>2.102657</td>\n",
       "      <td>-0.161065</td>\n",
       "      <td>19.800</td>\n",
       "    </tr>\n",
       "    <tr>\n",
       "      <th>2022-02-03</th>\n",
       "      <td>3.200643</td>\n",
       "      <td>3.200643</td>\n",
       "      <td>0.427742</td>\n",
       "      <td>18.250</td>\n",
       "    </tr>\n",
       "    <tr>\n",
       "      <th>2022-02-04</th>\n",
       "      <td>3.737186</td>\n",
       "      <td>3.737186</td>\n",
       "      <td>-0.195843</td>\n",
       "      <td>23.750</td>\n",
       "    </tr>\n",
       "    <tr>\n",
       "      <th>2022-02-05</th>\n",
       "      <td>1.839263</td>\n",
       "      <td>1.839263</td>\n",
       "      <td>-0.971079</td>\n",
       "      <td>22.000</td>\n",
       "    </tr>\n",
       "  </tbody>\n",
       "</table>\n",
       "</div>"
      ],
      "text/plain": [
       "             Novelty  Transience  Resonance   Topic\n",
       "Date                                               \n",
       "2022-02-01  0.220221    0.220221  -0.166025  18.375\n",
       "2022-02-02  2.102657    2.102657  -0.161065  19.800\n",
       "2022-02-03  3.200643    3.200643   0.427742  18.250\n",
       "2022-02-04  3.737186    3.737186  -0.195843  23.750\n",
       "2022-02-05  1.839263    1.839263  -0.971079  22.000"
      ]
     },
     "execution_count": 17,
     "metadata": {},
     "output_type": "execute_result"
    }
   ],
   "source": [
    "davg = ntr_data.resample('D').mean()\n",
    "davg.head()"
   ]
  },
  {
   "cell_type": "code",
   "execution_count": 18,
   "metadata": {},
   "outputs": [
    {
     "data": {
      "image/png": "[encoded data removed]",
      "text/plain": [
       "<Figure size 864x576 with 1 Axes>"
      ]
     },
     "metadata": {
      "needs_background": "light"
     },
     "output_type": "display_data"
    }
   ],
   "source": [
    "fig, ax = plt.subplots(figsize=(12, 8))\n",
    "\n",
    "ax.plot(davg.index.values,\n",
    "       davg['Resonance'],\n",
    "       color='purple')\n",
    "\n",
    "ax.set(xlabel=\"Date\",\n",
    "       ylabel=\"Resonance\",\n",
    "       title=\"Daily Resonance\")\n",
    "\n",
    "date_form = DateFormatter(\"%m-%d\")\n",
    "ax.xaxis.set_major_formatter(date_form)"
   ]
  }
 ],
 "metadata": {
  "kernelspec": {
   "display_name": "Python 3.10.5 ('.venv': venv)",
   "language": "python",
   "name": "python3"
  },
  "language_info": {
   "codemirror_mode": {
    "name": "ipython",
    "version": 3
   },
   "file_extension": ".py",
   "mimetype": "text/x-python",
   "name": "python",
   "nbconvert_exporter": "python",
   "pygments_lexer": "ipython3",
   "version": "3.10.5"
  },
  "orig_nbformat": 4,
  "vscode": {
   "interpreter": {
    "hash": "71a723942456804a71d025442f2ccd3a5c8db2153e1c9e51f0af23a7e755532d"
   }
  }
 },
 "nbformat": 4,
 "nbformat_minor": 2
}
