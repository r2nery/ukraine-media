{
 "cells": [
  {
   "cell_type": "markdown",
   "metadata": {},
   "source": [
    "# Data"
   ]
  },
  {
   "cell_type": "markdown",
   "metadata": {},
   "source": [
    "#### Updating data"
   ]
  },
  {
   "cell_type": "code",
   "execution_count": 1,
   "metadata": {},
   "outputs": [],
   "source": [
    "from utilities import *\n",
    "from Guardian import *\n",
    "\n",
    "ROOT_DIR = os.path.dirname(os.path.abspath(\"__file__\"))\n",
    "PARENT_DIR = os.path.dirname(ROOT_DIR)\n",
    "\n",
    "source = \"Guardian\""
   ]
  },
  {
   "cell_type": "code",
   "execution_count": 2,
   "metadata": {},
   "outputs": [
    {
     "name": "stdout",
     "output_type": "stream",
     "text": [
      "-> CSV file found with 3769 articles! Latest article date: 2022-07-21\n",
      "-> Checking articles from latest date onward...\n",
      "-> Ukraine API Query |████████████████████████████████████████| (!) 9 in 3.2s (2.86/s) \n",
      "on 0: ok                                                                                                                \n",
      "-> Russia API Query |████████████████████████████████████████| (!) 10 in 3.5s (2.87/s) \n",
      "-> 1 new articles saved to Guardian.csv! Total articles: 3770\n"
     ]
    }
   ],
   "source": [
    "data = guardianScraper()\n",
    "\n",
    "data.to_csv(PARENT_DIR + \"/data/Guardian.csv\", index=True)"
   ]
  },
  {
   "cell_type": "code",
   "execution_count": 3,
   "metadata": {},
   "outputs": [],
   "source": [
    "data.to_csv(PARENT_DIR + \"/data/Guardian.csv\", index=True)"
   ]
  },
  {
   "cell_type": "code",
   "execution_count": 4,
   "metadata": {},
   "outputs": [
    {
     "data": {
      "text/html": [
       "<div>\n",
       "<style scoped>\n",
       "    .dataframe tbody tr th:only-of-type {\n",
       "        vertical-align: middle;\n",
       "    }\n",
       "\n",
       "    .dataframe tbody tr th {\n",
       "        vertical-align: top;\n",
       "    }\n",
       "\n",
       "    .dataframe thead th {\n",
       "        text-align: right;\n",
       "    }\n",
       "</style>\n",
       "<table border=\"1\" class=\"dataframe\">\n",
       "  <thead>\n",
       "    <tr style=\"text-align: right;\">\n",
       "      <th></th>\n",
       "      <th>URL</th>\n",
       "      <th>Title</th>\n",
       "      <th>Text</th>\n",
       "    </tr>\n",
       "    <tr>\n",
       "      <th>Date</th>\n",
       "      <th></th>\n",
       "      <th></th>\n",
       "      <th></th>\n",
       "    </tr>\n",
       "  </thead>\n",
       "  <tbody>\n",
       "    <tr>\n",
       "      <th>2022-07-22</th>\n",
       "      <td>https://www.theguardian.com/world/2022/jul/22/...</td>\n",
       "      <td>Google to be banned in Ukraine’s occupied Done...</td>\n",
       "      <td>Google’s search engine is to be banned in the ...</td>\n",
       "    </tr>\n",
       "  </tbody>\n",
       "</table>\n",
       "</div>"
      ],
      "text/plain": [
       "                                                          URL  \\\n",
       "Date                                                            \n",
       "2022-07-22  https://www.theguardian.com/world/2022/jul/22/...   \n",
       "\n",
       "                                                        Title  \\\n",
       "Date                                                            \n",
       "2022-07-22  Google to be banned in Ukraine’s occupied Done...   \n",
       "\n",
       "                                                         Text  \n",
       "Date                                                           \n",
       "2022-07-22  Google’s search engine is to be banned in the ...  "
      ]
     },
     "execution_count": 4,
     "metadata": {},
     "output_type": "execute_result"
    }
   ],
   "source": [
    "data.head(1)"
   ]
  },
  {
   "cell_type": "markdown",
   "metadata": {},
   "source": [
    "#### LDA topic identification"
   ]
  },
  {
   "cell_type": "code",
   "execution_count": 5,
   "metadata": {},
   "outputs": [
    {
     "name": "stderr",
     "output_type": "stream",
     "text": [
      "INFO:lda:n_documents: 3770\n",
      "INFO:lda:vocab_size: 10000\n",
      "INFO:lda:n_words: 1655211\n",
      "INFO:lda:n_topics: 30\n",
      "INFO:lda:n_iter: 2000\n",
      "INFO:lda:<0> log likelihood: -19965633\n",
      "INFO:lda:<100> log likelihood: -14112483\n",
      "INFO:lda:<200> log likelihood: -13994483\n",
      "INFO:lda:<300> log likelihood: -13961013\n",
      "INFO:lda:<400> log likelihood: -13940128\n",
      "INFO:lda:<500> log likelihood: -13931116\n",
      "INFO:lda:<600> log likelihood: -13916610\n",
      "INFO:lda:<700> log likelihood: -13918116\n",
      "INFO:lda:<800> log likelihood: -13909520\n",
      "INFO:lda:<900> log likelihood: -13909721\n",
      "INFO:lda:<1000> log likelihood: -13903648\n",
      "INFO:lda:<1100> log likelihood: -13904339\n",
      "INFO:lda:<1200> log likelihood: -13898881\n",
      "INFO:lda:<1300> log likelihood: -13902843\n",
      "INFO:lda:<1400> log likelihood: -13898364\n",
      "INFO:lda:<1500> log likelihood: -13896376\n",
      "INFO:lda:<1600> log likelihood: -13898141\n",
      "INFO:lda:<1700> log likelihood: -13899377\n",
      "INFO:lda:<1800> log likelihood: -13894251\n",
      "INFO:lda:<1900> log likelihood: -13895346\n",
      "INFO:lda:<1999> log likelihood: -13897840\n"
     ]
    }
   ],
   "source": [
    "doc_topic, topic_word, vocabulary = learn_topics(data, topicnum=30, vocabsize=10000, num_iter=2000) "
   ]
  },
  {
   "cell_type": "code",
   "execution_count": 6,
   "metadata": {},
   "outputs": [],
   "source": [
    "topics = []\n",
    "for i in range(len(data)):\n",
    "    topics.append(doc_topic[i].argmax())"
   ]
  },
  {
   "cell_type": "code",
   "execution_count": 7,
   "metadata": {},
   "outputs": [
    {
     "name": "stdout",
     "output_type": "stream",
     "text": [
      "Google to be banned in Ukraine’s occupied Donetsk and Luhansk regions TOPIC: 5\n",
      "Russia-Ukraine war: what we know on day 149 of the invasion TOPIC: 6\n",
      "Nancy Pelosi’s Taiwan trip ‘not a good idea right now’, says Biden TOPIC: 8\n",
      "Half of Russian spies in Europe expelled since Ukraine invasion, says MI6 chief TOPIC: 11\n",
      "Russia-Ukraine war at a glance: what we know on day 148 of the invasion TOPIC: 7\n",
      "National Crime Agency calls for more funding to tackle Russian kleptocracy TOPIC: 14\n",
      "EU imposes sanctions on Russian motorcycle club and pro-Putin actors TOPIC: 29\n",
      "Ten UK sex offenders travelled to Poland after Ukraine invasion, says NCA TOPIC: 16\n",
      "Suspected Fabergé egg found on Russian oligarch’s superyacht, US investigators say TOPIC: 10\n",
      "National Crime Agency calls for more funding to tackle Russian kleptocracy TOPIC: 14\n"
     ]
    }
   ],
   "source": [
    "for i in range(10):\n",
    "    print(f\"{data.iloc[i][1]} TOPIC: {doc_topic[i].argmax()}\")"
   ]
  },
  {
   "cell_type": "code",
   "execution_count": 8,
   "metadata": {},
   "outputs": [
    {
     "name": "stdout",
     "output_type": "stream",
     "text": [
      "Topic 0: us biden president trump putin zelenskiy the\n",
      "Topic 1: putin war ukraine russia russian the world\n",
      "Topic 2: the said kyiv city people they we\n",
      "Topic 3: gas energy oil europe russia russian the\n",
      "Topic 4: nato finland the sweden turkey us syria\n",
      "Topic 5: media russian russia ukraine the news said\n",
      "Topic 6: said ukraine russia russian the we president\n",
      "Topic 7: russian said ukrainian city ukraine forces the\n",
      "Topic 8: it but in that time this there\n",
      "Topic 9: russia ukraine nato us military russian troops\n",
      "Topic 10: the abramovich putin sanctions company owned uk\n",
      "Topic 11: said russian russia the moscow kremlin putin\n",
      "Topic 12: china australia russia the australian chinese beijing\n",
      "Topic 13: eu germany european german the europe scholz\n",
      "Topic 14: money the said government law oligarchs uk\n",
      "Topic 15: russia journalists said the navalny media news\n",
      "Topic 16: uk said refugees the visa government home\n",
      "Topic 17: russia said russian company the companies ukraine\n",
      "Topic 18: food the grain ukraine sea black world\n",
      "Topic 19: ukraine weapons military russian forces russia the\n",
      "Topic 20: the belarus ukraine russia russian belarusian team\n",
      "Topic 21: the prices year said global price ukraine\n",
      "Topic 22: uk johnson british minister britain boris government\n",
      "Topic 23: ukraine people poland ukrainian help support children\n",
      "Topic 24: ukraine russian said ukrainian soldiers war military\n",
      "Topic 25: it we people says like don he\n",
      "Topic 26: the soviet russian in history world war\n",
      "Topic 27: war crimes the international bucha civilians russian\n",
      "Topic 28: the film space music ukrainian russian artists\n",
      "Topic 29: sanctions russian russia putin the eu us\n"
     ]
    }
   ],
   "source": [
    "for i, topic_dist in enumerate(topic_word):\n",
    "    topic_words = np.array(vocabulary)[np.argsort(topic_dist)][:-8:-1]\n",
    "    print(\"Topic {}: {}\".format(i, \" \".join(topic_words)))\n"
   ]
  },
  {
   "cell_type": "code",
   "execution_count": 9,
   "metadata": {},
   "outputs": [
    {
     "data": {
      "text/plain": [
       "('/Users/r2/Code/ukraine-media/results/GuardianTopicMixtures.txt',\n",
       " '/Users/r2/Code/ukraine-media/results/GuardianTopics.txt',\n",
       " '/Users/r2/Code/ukraine-media/results/GuardianVocab.txt')"
      ]
     },
     "execution_count": 9,
     "metadata": {},
     "output_type": "execute_result"
    }
   ],
   "source": [
    "save_topicmodel(doc_topic, topic_word, vocabulary, source)"
   ]
  },
  {
   "cell_type": "code",
   "execution_count": 10,
   "metadata": {},
   "outputs": [
    {
     "name": "stderr",
     "output_type": "stream",
     "text": [
      "/Users/r2/Code/ukraine-media/scrapers/utilities.py:142: FutureWarning: arrays to stack must be passed as a \"sequence\" type such as list or tuple. Support for non-sequence iterables such as generators is deprecated as of NumPy 1.16 and will raise an error in the future.\n",
      "  np.savetxt(outpath, np.vstack(zip(novelties, transiences, resonances)))\n"
     ]
    }
   ],
   "source": [
    "period = 7\n",
    "novelties, transiences, resonances = novelty_transience_resonance(doc_topic, period)\n",
    "\n",
    "for index in range(0,period):\n",
    "    transiences.insert(0, 0)\n",
    "    transiences.append(0)\n",
    "    novelties.insert(0, 0)\n",
    "    novelties.append(0)\n",
    "    resonances.insert(0, 0)\n",
    "    resonances.append(0)\n",
    "\n",
    "save_novel_trans_reson(novelties, transiences, resonances, source)"
   ]
  },
  {
   "cell_type": "code",
   "execution_count": 11,
   "metadata": {},
   "outputs": [
    {
     "data": {
      "text/html": [
       "<div>\n",
       "<style scoped>\n",
       "    .dataframe tbody tr th:only-of-type {\n",
       "        vertical-align: middle;\n",
       "    }\n",
       "\n",
       "    .dataframe tbody tr th {\n",
       "        vertical-align: top;\n",
       "    }\n",
       "\n",
       "    .dataframe thead th {\n",
       "        text-align: right;\n",
       "    }\n",
       "</style>\n",
       "<table border=\"1\" class=\"dataframe\">\n",
       "  <thead>\n",
       "    <tr style=\"text-align: right;\">\n",
       "      <th></th>\n",
       "      <th>URL</th>\n",
       "      <th>Title</th>\n",
       "      <th>Text</th>\n",
       "      <th>Novelty</th>\n",
       "      <th>Transience</th>\n",
       "      <th>Resonance</th>\n",
       "      <th>Topic</th>\n",
       "    </tr>\n",
       "    <tr>\n",
       "      <th>Date</th>\n",
       "      <th></th>\n",
       "      <th></th>\n",
       "      <th></th>\n",
       "      <th></th>\n",
       "      <th></th>\n",
       "      <th></th>\n",
       "      <th></th>\n",
       "    </tr>\n",
       "  </thead>\n",
       "  <tbody>\n",
       "    <tr>\n",
       "      <th>2022-07-22</th>\n",
       "      <td>https://www.theguardian.com/world/2022/jul/22/...</td>\n",
       "      <td>Google to be banned in Ukraine’s occupied Done...</td>\n",
       "      <td>Google’s search engine is to be banned in the ...</td>\n",
       "      <td>0.0</td>\n",
       "      <td>0.0</td>\n",
       "      <td>0.0</td>\n",
       "      <td>5</td>\n",
       "    </tr>\n",
       "    <tr>\n",
       "      <th>2022-07-22</th>\n",
       "      <td>https://www.theguardian.com/world/2022/jul/22/...</td>\n",
       "      <td>Russia-Ukraine war: what we know on day 149 of...</td>\n",
       "      <td>Ukraine, Russia, Turkey and the UN secretary ...</td>\n",
       "      <td>0.0</td>\n",
       "      <td>0.0</td>\n",
       "      <td>0.0</td>\n",
       "      <td>6</td>\n",
       "    </tr>\n",
       "    <tr>\n",
       "      <th>2022-07-21</th>\n",
       "      <td>https://www.theguardian.com/us-news/2022/jul/2...</td>\n",
       "      <td>Nancy Pelosi’s Taiwan trip ‘not a good idea ri...</td>\n",
       "      <td>Joe Biden has cautioned against the reported t...</td>\n",
       "      <td>0.0</td>\n",
       "      <td>0.0</td>\n",
       "      <td>0.0</td>\n",
       "      <td>8</td>\n",
       "    </tr>\n",
       "    <tr>\n",
       "      <th>2022-07-21</th>\n",
       "      <td>https://www.theguardian.com/uk-news/2022/jul/2...</td>\n",
       "      <td>Half of Russian spies in Europe expelled since...</td>\n",
       "      <td>Half of all the Russian spies operating under ...</td>\n",
       "      <td>0.0</td>\n",
       "      <td>0.0</td>\n",
       "      <td>0.0</td>\n",
       "      <td>11</td>\n",
       "    </tr>\n",
       "    <tr>\n",
       "      <th>2022-07-21</th>\n",
       "      <td>https://www.theguardian.com/world/2022/jul/21/...</td>\n",
       "      <td>Russia-Ukraine war at a glance: what we know o...</td>\n",
       "      <td>The Russian Nord Stream 1 gas pipeline has re...</td>\n",
       "      <td>0.0</td>\n",
       "      <td>0.0</td>\n",
       "      <td>0.0</td>\n",
       "      <td>7</td>\n",
       "    </tr>\n",
       "  </tbody>\n",
       "</table>\n",
       "</div>"
      ],
      "text/plain": [
       "                                                          URL  \\\n",
       "Date                                                            \n",
       "2022-07-22  https://www.theguardian.com/world/2022/jul/22/...   \n",
       "2022-07-22  https://www.theguardian.com/world/2022/jul/22/...   \n",
       "2022-07-21  https://www.theguardian.com/us-news/2022/jul/2...   \n",
       "2022-07-21  https://www.theguardian.com/uk-news/2022/jul/2...   \n",
       "2022-07-21  https://www.theguardian.com/world/2022/jul/21/...   \n",
       "\n",
       "                                                        Title  \\\n",
       "Date                                                            \n",
       "2022-07-22  Google to be banned in Ukraine’s occupied Done...   \n",
       "2022-07-22  Russia-Ukraine war: what we know on day 149 of...   \n",
       "2022-07-21  Nancy Pelosi’s Taiwan trip ‘not a good idea ri...   \n",
       "2022-07-21  Half of Russian spies in Europe expelled since...   \n",
       "2022-07-21  Russia-Ukraine war at a glance: what we know o...   \n",
       "\n",
       "                                                         Text  Novelty  \\\n",
       "Date                                                                     \n",
       "2022-07-22  Google’s search engine is to be banned in the ...      0.0   \n",
       "2022-07-22   Ukraine, Russia, Turkey and the UN secretary ...      0.0   \n",
       "2022-07-21  Joe Biden has cautioned against the reported t...      0.0   \n",
       "2022-07-21  Half of all the Russian spies operating under ...      0.0   \n",
       "2022-07-21   The Russian Nord Stream 1 gas pipeline has re...      0.0   \n",
       "\n",
       "            Transience  Resonance  Topic  \n",
       "Date                                      \n",
       "2022-07-22         0.0        0.0      5  \n",
       "2022-07-22         0.0        0.0      6  \n",
       "2022-07-21         0.0        0.0      8  \n",
       "2022-07-21         0.0        0.0     11  \n",
       "2022-07-21         0.0        0.0      7  "
      ]
     },
     "execution_count": 11,
     "metadata": {},
     "output_type": "execute_result"
    }
   ],
   "source": [
    "ntr_data = data\n",
    "ntr_data['Novelty'] = novelties\n",
    "ntr_data['Transience'] = novelties\n",
    "ntr_data['Resonance'] = resonances\n",
    "ntr_data['Topic'] = topics\n",
    "\n",
    "ntr_data.to_csv(PARENT_DIR + \"/data/\"+ source + \"_ntr.csv\")\n",
    "ntr_data.head(5)"
   ]
  },
  {
   "cell_type": "markdown",
   "metadata": {},
   "source": [
    "# Plots"
   ]
  },
  {
   "cell_type": "code",
   "execution_count": 12,
   "metadata": {},
   "outputs": [],
   "source": [
    "import matplotlib.pyplot as plt\n",
    "import matplotlib.dates as mdates\n",
    "from matplotlib.dates import DateFormatter\n",
    "import datetime as dt\n",
    "import numpy as np\n",
    "import pandas as pd\n",
    "import seaborn as sns\n",
    "%matplotlib inline"
   ]
  },
  {
   "cell_type": "code",
   "execution_count": 13,
   "metadata": {},
   "outputs": [
    {
     "data": {
      "text/html": [
       "<div>\n",
       "<style scoped>\n",
       "    .dataframe tbody tr th:only-of-type {\n",
       "        vertical-align: middle;\n",
       "    }\n",
       "\n",
       "    .dataframe tbody tr th {\n",
       "        vertical-align: top;\n",
       "    }\n",
       "\n",
       "    .dataframe thead th {\n",
       "        text-align: right;\n",
       "    }\n",
       "</style>\n",
       "<table border=\"1\" class=\"dataframe\">\n",
       "  <thead>\n",
       "    <tr style=\"text-align: right;\">\n",
       "      <th></th>\n",
       "      <th>URL</th>\n",
       "      <th>Title</th>\n",
       "      <th>Text</th>\n",
       "      <th>Novelty</th>\n",
       "      <th>Transience</th>\n",
       "      <th>Resonance</th>\n",
       "      <th>Topic</th>\n",
       "    </tr>\n",
       "    <tr>\n",
       "      <th>Date</th>\n",
       "      <th></th>\n",
       "      <th></th>\n",
       "      <th></th>\n",
       "      <th></th>\n",
       "      <th></th>\n",
       "      <th></th>\n",
       "      <th></th>\n",
       "    </tr>\n",
       "  </thead>\n",
       "  <tbody>\n",
       "    <tr>\n",
       "      <th>2022-07-22</th>\n",
       "      <td>https://www.theguardian.com/world/2022/jul/22/...</td>\n",
       "      <td>Google to be banned in Ukraine’s occupied Done...</td>\n",
       "      <td>Google’s search engine is to be banned in the ...</td>\n",
       "      <td>0.0</td>\n",
       "      <td>0.0</td>\n",
       "      <td>0.0</td>\n",
       "      <td>5</td>\n",
       "    </tr>\n",
       "    <tr>\n",
       "      <th>2022-07-22</th>\n",
       "      <td>https://www.theguardian.com/world/2022/jul/22/...</td>\n",
       "      <td>Russia-Ukraine war: what we know on day 149 of...</td>\n",
       "      <td>Ukraine, Russia, Turkey and the UN secretary ...</td>\n",
       "      <td>0.0</td>\n",
       "      <td>0.0</td>\n",
       "      <td>0.0</td>\n",
       "      <td>6</td>\n",
       "    </tr>\n",
       "    <tr>\n",
       "      <th>2022-07-21</th>\n",
       "      <td>https://www.theguardian.com/us-news/2022/jul/2...</td>\n",
       "      <td>Nancy Pelosi’s Taiwan trip ‘not a good idea ri...</td>\n",
       "      <td>Joe Biden has cautioned against the reported t...</td>\n",
       "      <td>0.0</td>\n",
       "      <td>0.0</td>\n",
       "      <td>0.0</td>\n",
       "      <td>8</td>\n",
       "    </tr>\n",
       "    <tr>\n",
       "      <th>2022-07-21</th>\n",
       "      <td>https://www.theguardian.com/uk-news/2022/jul/2...</td>\n",
       "      <td>Half of Russian spies in Europe expelled since...</td>\n",
       "      <td>Half of all the Russian spies operating under ...</td>\n",
       "      <td>0.0</td>\n",
       "      <td>0.0</td>\n",
       "      <td>0.0</td>\n",
       "      <td>11</td>\n",
       "    </tr>\n",
       "    <tr>\n",
       "      <th>2022-07-21</th>\n",
       "      <td>https://www.theguardian.com/world/2022/jul/21/...</td>\n",
       "      <td>Russia-Ukraine war at a glance: what we know o...</td>\n",
       "      <td>The Russian Nord Stream 1 gas pipeline has re...</td>\n",
       "      <td>0.0</td>\n",
       "      <td>0.0</td>\n",
       "      <td>0.0</td>\n",
       "      <td>7</td>\n",
       "    </tr>\n",
       "  </tbody>\n",
       "</table>\n",
       "</div>"
      ],
      "text/plain": [
       "                                                          URL  \\\n",
       "Date                                                            \n",
       "2022-07-22  https://www.theguardian.com/world/2022/jul/22/...   \n",
       "2022-07-22  https://www.theguardian.com/world/2022/jul/22/...   \n",
       "2022-07-21  https://www.theguardian.com/us-news/2022/jul/2...   \n",
       "2022-07-21  https://www.theguardian.com/uk-news/2022/jul/2...   \n",
       "2022-07-21  https://www.theguardian.com/world/2022/jul/21/...   \n",
       "\n",
       "                                                        Title  \\\n",
       "Date                                                            \n",
       "2022-07-22  Google to be banned in Ukraine’s occupied Done...   \n",
       "2022-07-22  Russia-Ukraine war: what we know on day 149 of...   \n",
       "2022-07-21  Nancy Pelosi’s Taiwan trip ‘not a good idea ri...   \n",
       "2022-07-21  Half of Russian spies in Europe expelled since...   \n",
       "2022-07-21  Russia-Ukraine war at a glance: what we know o...   \n",
       "\n",
       "                                                         Text  Novelty  \\\n",
       "Date                                                                     \n",
       "2022-07-22  Google’s search engine is to be banned in the ...      0.0   \n",
       "2022-07-22   Ukraine, Russia, Turkey and the UN secretary ...      0.0   \n",
       "2022-07-21  Joe Biden has cautioned against the reported t...      0.0   \n",
       "2022-07-21  Half of all the Russian spies operating under ...      0.0   \n",
       "2022-07-21   The Russian Nord Stream 1 gas pipeline has re...      0.0   \n",
       "\n",
       "            Transience  Resonance  Topic  \n",
       "Date                                      \n",
       "2022-07-22         0.0        0.0      5  \n",
       "2022-07-22         0.0        0.0      6  \n",
       "2022-07-21         0.0        0.0      8  \n",
       "2022-07-21         0.0        0.0     11  \n",
       "2022-07-21         0.0        0.0      7  "
      ]
     },
     "execution_count": 13,
     "metadata": {},
     "output_type": "execute_result"
    }
   ],
   "source": [
    "ntr_data = pd.read_csv(PARENT_DIR + \"/data/\" + source + \"_ntr.csv\", parse_dates=['Date'], index_col= ['Date'])\n",
    "ntr_data.head()\n",
    "#print(len(ntr_data))"
   ]
  },
  {
   "cell_type": "code",
   "execution_count": 14,
   "metadata": {},
   "outputs": [
    {
     "data": {
      "text/html": [
       "<div>\n",
       "<style scoped>\n",
       "    .dataframe tbody tr th:only-of-type {\n",
       "        vertical-align: middle;\n",
       "    }\n",
       "\n",
       "    .dataframe tbody tr th {\n",
       "        vertical-align: top;\n",
       "    }\n",
       "\n",
       "    .dataframe thead th {\n",
       "        text-align: right;\n",
       "    }\n",
       "</style>\n",
       "<table border=\"1\" class=\"dataframe\">\n",
       "  <thead>\n",
       "    <tr style=\"text-align: right;\">\n",
       "      <th></th>\n",
       "      <th>Novelty</th>\n",
       "      <th>Transience</th>\n",
       "      <th>Resonance</th>\n",
       "      <th>Topic</th>\n",
       "    </tr>\n",
       "    <tr>\n",
       "      <th>Date</th>\n",
       "      <th></th>\n",
       "      <th></th>\n",
       "      <th></th>\n",
       "      <th></th>\n",
       "    </tr>\n",
       "  </thead>\n",
       "  <tbody>\n",
       "    <tr>\n",
       "      <th>2021-02-10</th>\n",
       "      <td>0.0</td>\n",
       "      <td>0.0</td>\n",
       "      <td>0.0</td>\n",
       "      <td>0.0</td>\n",
       "    </tr>\n",
       "    <tr>\n",
       "      <th>2021-02-11</th>\n",
       "      <td>NaN</td>\n",
       "      <td>NaN</td>\n",
       "      <td>NaN</td>\n",
       "      <td>NaN</td>\n",
       "    </tr>\n",
       "    <tr>\n",
       "      <th>2021-02-12</th>\n",
       "      <td>NaN</td>\n",
       "      <td>NaN</td>\n",
       "      <td>NaN</td>\n",
       "      <td>NaN</td>\n",
       "    </tr>\n",
       "    <tr>\n",
       "      <th>2021-02-13</th>\n",
       "      <td>NaN</td>\n",
       "      <td>NaN</td>\n",
       "      <td>NaN</td>\n",
       "      <td>NaN</td>\n",
       "    </tr>\n",
       "    <tr>\n",
       "      <th>2021-02-14</th>\n",
       "      <td>NaN</td>\n",
       "      <td>NaN</td>\n",
       "      <td>NaN</td>\n",
       "      <td>NaN</td>\n",
       "    </tr>\n",
       "  </tbody>\n",
       "</table>\n",
       "</div>"
      ],
      "text/plain": [
       "            Novelty  Transience  Resonance  Topic\n",
       "Date                                             \n",
       "2021-02-10      0.0         0.0        0.0    0.0\n",
       "2021-02-11      NaN         NaN        NaN    NaN\n",
       "2021-02-12      NaN         NaN        NaN    NaN\n",
       "2021-02-13      NaN         NaN        NaN    NaN\n",
       "2021-02-14      NaN         NaN        NaN    NaN"
      ]
     },
     "execution_count": 14,
     "metadata": {},
     "output_type": "execute_result"
    }
   ],
   "source": [
    "davg = ntr_data.resample('D').mean()\n",
    "davg.head()"
   ]
  },
  {
   "cell_type": "code",
   "execution_count": 15,
   "metadata": {},
   "outputs": [
    {
     "data": {
      "image/png": "[encoded data removed]",
      "text/plain": [
       "<Figure size 864x576 with 1 Axes>"
      ]
     },
     "metadata": {
      "needs_background": "light"
     },
     "output_type": "display_data"
    }
   ],
   "source": [
    "fig, ax = plt.subplots(figsize=(12, 8))\n",
    "\n",
    "beginning = dt.date(2021, 7, 21)\n",
    "end = dt.date.today()\n",
    "\n",
    "ax.plot(davg.index.values,\n",
    "       davg['Resonance'],\n",
    "       color='purple',\n",
    "       #linewidths=0\n",
    "       )\n",
    "\n",
    "ax.set(\n",
    "       #xlabel=\"Date\",\n",
    "       #ylabel=\"Resonance\",\n",
    "       title=\"Daily Resonance - The Guardian Articles\")\n",
    "\n",
    "date_form = DateFormatter(\"%m-%y\")\n",
    "ax.xaxis.set_major_formatter(date_form)\n",
    "ax.set_xbound(beginning, end)"
   ]
  }
 ],
 "metadata": {
  "kernelspec": {
   "display_name": "Python 3.10.5 ('.venv': venv)",
   "language": "python",
   "name": "python3"
  },
  "language_info": {
   "codemirror_mode": {
    "name": "ipython",
    "version": 3
   },
   "file_extension": ".py",
   "mimetype": "text/x-python",
   "name": "python",
   "nbconvert_exporter": "python",
   "pygments_lexer": "ipython3",
   "version": "3.10.5"
  },
  "orig_nbformat": 4,
  "vscode": {
   "interpreter": {
    "hash": "71a723942456804a71d025442f2ccd3a5c8db2153e1c9e51f0af23a7e755532d"
   }
  }
 },
 "nbformat": 4,
 "nbformat_minor": 2
}
