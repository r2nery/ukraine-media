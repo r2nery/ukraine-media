{
 "cells": [
  {
   "cell_type": "markdown",
   "metadata": {},
   "source": [
    "# Data"
   ]
  },
  {
   "cell_type": "markdown",
   "metadata": {},
   "source": [
    "#### Updating data"
   ]
  },
  {
   "cell_type": "code",
   "execution_count": 1,
   "metadata": {},
   "outputs": [],
   "source": [
    "from utilities import *\n",
    "from Guardian import *\n",
    "\n",
    "ROOT_DIR = os.path.dirname(os.path.abspath(\"__file__\"))\n",
    "PARENT_DIR = os.path.dirname(ROOT_DIR)\n",
    "\n",
    "source = \"Guardian\""
   ]
  },
  {
   "cell_type": "code",
   "execution_count": 2,
   "metadata": {},
   "outputs": [
    {
     "name": "stdout",
     "output_type": "stream",
     "text": [
      "-> CSV file found with 3175 articles! Latest article date: 2021-02-01\n",
      "-> Checking articles from latest date onward...\n",
      "-> Ukraine API Query |████████████████████████████████████████| (!) 3160 in 9:29.2 (5.55/s) ⠈⠐⠠⢀⡀⠄⠂⠁⠈⠐⠠⢀⡀⠄⠂⠁⠈⠐⠠⢀⡀⠄⠂⠁⠈⠐⠠⢀⡀⠄⠂⠁⠈⠐| 1052 in 3:07 (5.6/s) |⠄⠂⠁⠈⠐⠠⢀⡀⠄⠂⠁⠈⠐⠠⢀⡀⠄⠂⠁⠈⠐⠠⢀⡀⠄⠂⠁⠈⠐⠠⢀⡀⠄⠂⠁⠈⠐⠠⢀⡀| 1070 in 3:10 (5.6/s) |⡀⠄⠂⠁⠈⠐⠠⢀⡀⠄⠂⠁⠈⠐⠠⢀⡀⠄⠂⠁⠈⠐⠠⢀⡀⠄⠂⠁⠈⠐⠠⢀⡀⠄⠂⠁⠈⠐⠠⢀| 1495 in 4:26 (5.6/s) \n",
      "-> Russia API Query |████████████████████████████████████████| (!) 85 in 1:03.7 (1.33/s) \n",
      "-> 26 new articles saved to Guardian.csv! Total articles: 3201\n"
     ]
    }
   ],
   "source": [
    "data = guardianScraper()\n",
    "\n",
    "data.to_csv(PARENT_DIR + \"/data/Guardian.csv\", index=True)"
   ]
  },
  {
   "cell_type": "code",
   "execution_count": 3,
   "metadata": {},
   "outputs": [
    {
     "data": {
      "text/html": [
       "<div>\n",
       "<style scoped>\n",
       "    .dataframe tbody tr th:only-of-type {\n",
       "        vertical-align: middle;\n",
       "    }\n",
       "\n",
       "    .dataframe tbody tr th {\n",
       "        vertical-align: top;\n",
       "    }\n",
       "\n",
       "    .dataframe thead th {\n",
       "        text-align: right;\n",
       "    }\n",
       "</style>\n",
       "<table border=\"1\" class=\"dataframe\">\n",
       "  <thead>\n",
       "    <tr style=\"text-align: right;\">\n",
       "      <th></th>\n",
       "      <th>URL</th>\n",
       "      <th>Title</th>\n",
       "      <th>Text</th>\n",
       "    </tr>\n",
       "    <tr>\n",
       "      <th>Date</th>\n",
       "      <th></th>\n",
       "      <th></th>\n",
       "      <th></th>\n",
       "    </tr>\n",
       "  </thead>\n",
       "  <tbody>\n",
       "    <tr>\n",
       "      <th>2022-07-21</th>\n",
       "      <td>https://www.theguardian.com/us-news/2022/jul/2...</td>\n",
       "      <td>Nancy Pelosi’s Taiwan trip ‘not a good idea ri...</td>\n",
       "      <td>Joe Biden has cautioned against the reported t...</td>\n",
       "    </tr>\n",
       "  </tbody>\n",
       "</table>\n",
       "</div>"
      ],
      "text/plain": [
       "                                                          URL  \\\n",
       "Date                                                            \n",
       "2022-07-21  https://www.theguardian.com/us-news/2022/jul/2...   \n",
       "\n",
       "                                                        Title  \\\n",
       "Date                                                            \n",
       "2022-07-21  Nancy Pelosi’s Taiwan trip ‘not a good idea ri...   \n",
       "\n",
       "                                                         Text  \n",
       "Date                                                           \n",
       "2022-07-21  Joe Biden has cautioned against the reported t...  "
      ]
     },
     "execution_count": 3,
     "metadata": {},
     "output_type": "execute_result"
    }
   ],
   "source": [
    "data.head(1)"
   ]
  },
  {
   "cell_type": "markdown",
   "metadata": {},
   "source": [
    "#### LDA topic identification"
   ]
  },
  {
   "cell_type": "code",
   "execution_count": null,
   "metadata": {},
   "outputs": [],
   "source": [
    "doc_topic, topic_word, vocabulary = learn_topics(data, topicnum=30, vocabsize=10000, num_iter=2000) "
   ]
  },
  {
   "cell_type": "code",
   "execution_count": null,
   "metadata": {},
   "outputs": [],
   "source": [
    "topics = []\n",
    "for i in range(len(data)):\n",
    "    topics.append(doc_topic[i].argmax())"
   ]
  },
  {
   "cell_type": "code",
   "execution_count": null,
   "metadata": {},
   "outputs": [
    {
     "name": "stdout",
     "output_type": "stream",
     "text": [
      "Nancy Pelosi’s Taiwan trip ‘not a good idea right now’, says Biden TOPIC: 8\n",
      "Dining across the divide: ‘He supports a new Heathrow runway – we should invest in trains’ TOPIC: 1\n",
      "Russia-Ukraine war at a glance: what we know on day 148 of the invasion TOPIC: 22\n",
      "Woodside and Santos reap bumper profits as Ukraine war drives energy prices higher TOPIC: 19\n",
      "EU imposes sanctions on Russian motorcycle club and pro-Putin actors TOPIC: 25\n",
      "Russia may seek to occupy more territory in Ukraine, says foreign minister TOPIC: 22\n",
      "‘They hunt us like stray cats’: pro-Russia separatists step up forced conscription as losses mount TOPIC: 4\n",
      "EU adopts Ukrainian art exhibition left stranded in Denmark TOPIC: 10\n",
      "UK inflation rise is worrying but Bank of England must not overreact TOPIC: 19\n",
      "Erdoğan keeps Putin waiting in awkward moment ahead of Tehran talks TOPIC: 24\n"
     ]
    }
   ],
   "source": [
    "for i in range(10):\n",
    "    print(f\"{data.iloc[i][1]} TOPIC: {doc_topic[i].argmax()}\")"
   ]
  },
  {
   "cell_type": "code",
   "execution_count": null,
   "metadata": {},
   "outputs": [
    {
     "name": "stdout",
     "output_type": "stream",
     "text": [
      "Topic 0: the ukraine russian music film ukrainian world\n",
      "Topic 1: it we people but like he don\n",
      "Topic 2: nato russia ukraine us russian troops military\n",
      "Topic 3: said the russian soldiers guardian they he\n",
      "Topic 4: ukrainian ukraine said russian soldiers the war\n",
      "Topic 5: refugees uk said people visa ukrainian ukrainians\n",
      "Topic 6: ukraine weapons us military the forces russian\n",
      "Topic 7: children she war family says said the\n",
      "Topic 8: russia china said australia russian ukraine the\n",
      "Topic 9: said uk british ukraine secretary we foreign\n",
      "Topic 10: the war world soviet in ukraine history\n",
      "Topic 11: russian russia said putin war moscow ukraine\n",
      "Topic 12: media russian ukraine news the russia said\n",
      "Topic 13: kyiv ukrainian ukraine city war people country\n",
      "Topic 14: germany german scholz chancellor gas pipeline olaf\n",
      "Topic 15: putin russia ukraine war the it west\n",
      "Topic 16: ukraine people support help said ukrainian aid\n",
      "Topic 17: it the but in time new this\n",
      "Topic 18: johnson minister prime government party britain uk\n",
      "Topic 19: the prices food said global world year\n",
      "Topic 20: war crimes the international civilians un russian\n",
      "Topic 21: said city mariupol russian people the civilians\n",
      "Topic 22: russian ukraine russia ukrainian forces said military\n",
      "Topic 23: sanctions the russian putin uk said oligarchs\n",
      "Topic 24: said ukraine russia russian the president zelenskiy\n",
      "Topic 25: eu european sanctions the europe hungary states\n",
      "Topic 26: nato finland sweden turkey membership defence security\n",
      "Topic 27: gas oil energy russian russia the europe\n",
      "Topic 28: sea grain the black ukraine russian ukrainian\n",
      "Topic 29: us biden president zelenskiy trump putin american\n"
     ]
    }
   ],
   "source": [
    "for i, topic_dist in enumerate(topic_word):\n",
    "    topic_words = np.array(vocabulary)[np.argsort(topic_dist)][:-8:-1]\n",
    "    print(\"Topic {}: {}\".format(i, \" \".join(topic_words)))\n"
   ]
  },
  {
   "cell_type": "code",
   "execution_count": null,
   "metadata": {},
   "outputs": [
    {
     "data": {
      "text/plain": [
       "('/Users/r2/Code/ukraine-media/results/GuardianTopicMixtures.txt',\n",
       " '/Users/r2/Code/ukraine-media/results/GuardianTopics.txt',\n",
       " '/Users/r2/Code/ukraine-media/results/GuardianVocab.txt')"
      ]
     },
     "execution_count": 8,
     "metadata": {},
     "output_type": "execute_result"
    }
   ],
   "source": [
    "save_topicmodel(doc_topic, topic_word, vocabulary, source)"
   ]
  },
  {
   "cell_type": "code",
   "execution_count": null,
   "metadata": {},
   "outputs": [],
   "source": [
    "period = 7\n",
    "novelties, transiences, resonances = novelty_transience_resonance(doc_topic, period)\n",
    "\n",
    "for index in range(0,period):\n",
    "    transiences.insert(0, 0)\n",
    "    transiences.append(0)\n",
    "    novelties.insert(0, 0)\n",
    "    novelties.append(0)\n",
    "    resonances.insert(0, 0)\n",
    "    resonances.append(0)\n",
    "\n",
    "save_novel_trans_reson(novelties, transiences, resonances, source)"
   ]
  },
  {
   "cell_type": "code",
   "execution_count": null,
   "metadata": {},
   "outputs": [
    {
     "data": {
      "text/html": [
       "<div>\n",
       "<style scoped>\n",
       "    .dataframe tbody tr th:only-of-type {\n",
       "        vertical-align: middle;\n",
       "    }\n",
       "\n",
       "    .dataframe tbody tr th {\n",
       "        vertical-align: top;\n",
       "    }\n",
       "\n",
       "    .dataframe thead th {\n",
       "        text-align: right;\n",
       "    }\n",
       "</style>\n",
       "<table border=\"1\" class=\"dataframe\">\n",
       "  <thead>\n",
       "    <tr style=\"text-align: right;\">\n",
       "      <th></th>\n",
       "      <th>URL</th>\n",
       "      <th>Title</th>\n",
       "      <th>Text</th>\n",
       "      <th>Novelty</th>\n",
       "      <th>Transience</th>\n",
       "      <th>Resonance</th>\n",
       "      <th>Topic</th>\n",
       "    </tr>\n",
       "    <tr>\n",
       "      <th>Date</th>\n",
       "      <th></th>\n",
       "      <th></th>\n",
       "      <th></th>\n",
       "      <th></th>\n",
       "      <th></th>\n",
       "      <th></th>\n",
       "      <th></th>\n",
       "    </tr>\n",
       "  </thead>\n",
       "  <tbody>\n",
       "    <tr>\n",
       "      <th>2022-07-21</th>\n",
       "      <td>https://www.theguardian.com/us-news/2022/jul/2...</td>\n",
       "      <td>Nancy Pelosi’s Taiwan trip ‘not a good idea ri...</td>\n",
       "      <td>Joe Biden has cautioned against the reported t...</td>\n",
       "      <td>0.0</td>\n",
       "      <td>0.0</td>\n",
       "      <td>0.0</td>\n",
       "      <td>8</td>\n",
       "    </tr>\n",
       "    <tr>\n",
       "      <th>2022-07-21</th>\n",
       "      <td>https://www.theguardian.com/lifeandstyle/2022/...</td>\n",
       "      <td>Dining across the divide: ‘He supports a new H...</td>\n",
       "      <td>Jasper, 26, London    Occupation Architect Vot...</td>\n",
       "      <td>0.0</td>\n",
       "      <td>0.0</td>\n",
       "      <td>0.0</td>\n",
       "      <td>1</td>\n",
       "    </tr>\n",
       "    <tr>\n",
       "      <th>2022-07-21</th>\n",
       "      <td>https://www.theguardian.com/world/2022/jul/21/...</td>\n",
       "      <td>Russia-Ukraine war at a glance: what we know o...</td>\n",
       "      <td>The Russian Nord Stream 1 gas pipeline has re...</td>\n",
       "      <td>0.0</td>\n",
       "      <td>0.0</td>\n",
       "      <td>0.0</td>\n",
       "      <td>22</td>\n",
       "    </tr>\n",
       "    <tr>\n",
       "      <th>2022-07-21</th>\n",
       "      <td>https://www.theguardian.com/business/2022/jul/...</td>\n",
       "      <td>Woodside and Santos reap bumper profits as Ukr...</td>\n",
       "      <td>High energy prices due to Russia’s invasion of...</td>\n",
       "      <td>0.0</td>\n",
       "      <td>0.0</td>\n",
       "      <td>0.0</td>\n",
       "      <td>19</td>\n",
       "    </tr>\n",
       "    <tr>\n",
       "      <th>2022-07-21</th>\n",
       "      <td>https://www.theguardian.com/world/2022/jul/21/...</td>\n",
       "      <td>EU imposes sanctions on Russian motorcycle clu...</td>\n",
       "      <td>New EU sanctions hitting Russian gold, a major...</td>\n",
       "      <td>0.0</td>\n",
       "      <td>0.0</td>\n",
       "      <td>0.0</td>\n",
       "      <td>25</td>\n",
       "    </tr>\n",
       "  </tbody>\n",
       "</table>\n",
       "</div>"
      ],
      "text/plain": [
       "                                                          URL  \\\n",
       "Date                                                            \n",
       "2022-07-21  https://www.theguardian.com/us-news/2022/jul/2...   \n",
       "2022-07-21  https://www.theguardian.com/lifeandstyle/2022/...   \n",
       "2022-07-21  https://www.theguardian.com/world/2022/jul/21/...   \n",
       "2022-07-21  https://www.theguardian.com/business/2022/jul/...   \n",
       "2022-07-21  https://www.theguardian.com/world/2022/jul/21/...   \n",
       "\n",
       "                                                        Title  \\\n",
       "Date                                                            \n",
       "2022-07-21  Nancy Pelosi’s Taiwan trip ‘not a good idea ri...   \n",
       "2022-07-21  Dining across the divide: ‘He supports a new H...   \n",
       "2022-07-21  Russia-Ukraine war at a glance: what we know o...   \n",
       "2022-07-21  Woodside and Santos reap bumper profits as Ukr...   \n",
       "2022-07-21  EU imposes sanctions on Russian motorcycle clu...   \n",
       "\n",
       "                                                         Text  Novelty  \\\n",
       "Date                                                                     \n",
       "2022-07-21  Joe Biden has cautioned against the reported t...      0.0   \n",
       "2022-07-21  Jasper, 26, London    Occupation Architect Vot...      0.0   \n",
       "2022-07-21   The Russian Nord Stream 1 gas pipeline has re...      0.0   \n",
       "2022-07-21  High energy prices due to Russia’s invasion of...      0.0   \n",
       "2022-07-21  New EU sanctions hitting Russian gold, a major...      0.0   \n",
       "\n",
       "            Transience  Resonance  Topic  \n",
       "Date                                      \n",
       "2022-07-21         0.0        0.0      8  \n",
       "2022-07-21         0.0        0.0      1  \n",
       "2022-07-21         0.0        0.0     22  \n",
       "2022-07-21         0.0        0.0     19  \n",
       "2022-07-21         0.0        0.0     25  "
      ]
     },
     "execution_count": 10,
     "metadata": {},
     "output_type": "execute_result"
    }
   ],
   "source": [
    "ntr_data = data\n",
    "ntr_data['Novelty'] = novelties\n",
    "ntr_data['Transience'] = novelties\n",
    "ntr_data['Resonance'] = resonances\n",
    "ntr_data['Topic'] = topics\n",
    "\n",
    "ntr_data.to_csv(PARENT_DIR + \"/data/\"+ source + \"_ntr.csv\")\n",
    "ntr_data.head(5)"
   ]
  },
  {
   "cell_type": "markdown",
   "metadata": {},
   "source": [
    "# Plots"
   ]
  },
  {
   "cell_type": "code",
   "execution_count": null,
   "metadata": {},
   "outputs": [],
   "source": [
    "import matplotlib.pyplot as plt\n",
    "import matplotlib.dates as mdates\n",
    "from matplotlib.dates import DateFormatter\n",
    "import datetime as dt\n",
    "import numpy as np\n",
    "import pandas as pd\n",
    "import seaborn as sns\n",
    "%matplotlib inline"
   ]
  },
  {
   "cell_type": "code",
   "execution_count": null,
   "metadata": {},
   "outputs": [
    {
     "data": {
      "text/html": [
       "<div>\n",
       "<style scoped>\n",
       "    .dataframe tbody tr th:only-of-type {\n",
       "        vertical-align: middle;\n",
       "    }\n",
       "\n",
       "    .dataframe tbody tr th {\n",
       "        vertical-align: top;\n",
       "    }\n",
       "\n",
       "    .dataframe thead th {\n",
       "        text-align: right;\n",
       "    }\n",
       "</style>\n",
       "<table border=\"1\" class=\"dataframe\">\n",
       "  <thead>\n",
       "    <tr style=\"text-align: right;\">\n",
       "      <th></th>\n",
       "      <th>URL</th>\n",
       "      <th>Title</th>\n",
       "      <th>Text</th>\n",
       "      <th>Novelty</th>\n",
       "      <th>Transience</th>\n",
       "      <th>Resonance</th>\n",
       "      <th>Topic</th>\n",
       "    </tr>\n",
       "    <tr>\n",
       "      <th>Date</th>\n",
       "      <th></th>\n",
       "      <th></th>\n",
       "      <th></th>\n",
       "      <th></th>\n",
       "      <th></th>\n",
       "      <th></th>\n",
       "      <th></th>\n",
       "    </tr>\n",
       "  </thead>\n",
       "  <tbody>\n",
       "    <tr>\n",
       "      <th>2022-07-21</th>\n",
       "      <td>https://www.theguardian.com/us-news/2022/jul/2...</td>\n",
       "      <td>Nancy Pelosi’s Taiwan trip ‘not a good idea ri...</td>\n",
       "      <td>Joe Biden has cautioned against the reported t...</td>\n",
       "      <td>0.0</td>\n",
       "      <td>0.0</td>\n",
       "      <td>0.0</td>\n",
       "      <td>8</td>\n",
       "    </tr>\n",
       "    <tr>\n",
       "      <th>2022-07-21</th>\n",
       "      <td>https://www.theguardian.com/lifeandstyle/2022/...</td>\n",
       "      <td>Dining across the divide: ‘He supports a new H...</td>\n",
       "      <td>Jasper, 26, London    Occupation Architect Vot...</td>\n",
       "      <td>0.0</td>\n",
       "      <td>0.0</td>\n",
       "      <td>0.0</td>\n",
       "      <td>1</td>\n",
       "    </tr>\n",
       "    <tr>\n",
       "      <th>2022-07-21</th>\n",
       "      <td>https://www.theguardian.com/world/2022/jul/21/...</td>\n",
       "      <td>Russia-Ukraine war at a glance: what we know o...</td>\n",
       "      <td>The Russian Nord Stream 1 gas pipeline has re...</td>\n",
       "      <td>0.0</td>\n",
       "      <td>0.0</td>\n",
       "      <td>0.0</td>\n",
       "      <td>22</td>\n",
       "    </tr>\n",
       "    <tr>\n",
       "      <th>2022-07-21</th>\n",
       "      <td>https://www.theguardian.com/business/2022/jul/...</td>\n",
       "      <td>Woodside and Santos reap bumper profits as Ukr...</td>\n",
       "      <td>High energy prices due to Russia’s invasion of...</td>\n",
       "      <td>0.0</td>\n",
       "      <td>0.0</td>\n",
       "      <td>0.0</td>\n",
       "      <td>19</td>\n",
       "    </tr>\n",
       "    <tr>\n",
       "      <th>2022-07-21</th>\n",
       "      <td>https://www.theguardian.com/world/2022/jul/21/...</td>\n",
       "      <td>EU imposes sanctions on Russian motorcycle clu...</td>\n",
       "      <td>New EU sanctions hitting Russian gold, a major...</td>\n",
       "      <td>0.0</td>\n",
       "      <td>0.0</td>\n",
       "      <td>0.0</td>\n",
       "      <td>25</td>\n",
       "    </tr>\n",
       "  </tbody>\n",
       "</table>\n",
       "</div>"
      ],
      "text/plain": [
       "                                                          URL  \\\n",
       "Date                                                            \n",
       "2022-07-21  https://www.theguardian.com/us-news/2022/jul/2...   \n",
       "2022-07-21  https://www.theguardian.com/lifeandstyle/2022/...   \n",
       "2022-07-21  https://www.theguardian.com/world/2022/jul/21/...   \n",
       "2022-07-21  https://www.theguardian.com/business/2022/jul/...   \n",
       "2022-07-21  https://www.theguardian.com/world/2022/jul/21/...   \n",
       "\n",
       "                                                        Title  \\\n",
       "Date                                                            \n",
       "2022-07-21  Nancy Pelosi’s Taiwan trip ‘not a good idea ri...   \n",
       "2022-07-21  Dining across the divide: ‘He supports a new H...   \n",
       "2022-07-21  Russia-Ukraine war at a glance: what we know o...   \n",
       "2022-07-21  Woodside and Santos reap bumper profits as Ukr...   \n",
       "2022-07-21  EU imposes sanctions on Russian motorcycle clu...   \n",
       "\n",
       "                                                         Text  Novelty  \\\n",
       "Date                                                                     \n",
       "2022-07-21  Joe Biden has cautioned against the reported t...      0.0   \n",
       "2022-07-21  Jasper, 26, London    Occupation Architect Vot...      0.0   \n",
       "2022-07-21   The Russian Nord Stream 1 gas pipeline has re...      0.0   \n",
       "2022-07-21  High energy prices due to Russia’s invasion of...      0.0   \n",
       "2022-07-21  New EU sanctions hitting Russian gold, a major...      0.0   \n",
       "\n",
       "            Transience  Resonance  Topic  \n",
       "Date                                      \n",
       "2022-07-21         0.0        0.0      8  \n",
       "2022-07-21         0.0        0.0      1  \n",
       "2022-07-21         0.0        0.0     22  \n",
       "2022-07-21         0.0        0.0     19  \n",
       "2022-07-21         0.0        0.0     25  "
      ]
     },
     "execution_count": 12,
     "metadata": {},
     "output_type": "execute_result"
    }
   ],
   "source": [
    "ntr_data = pd.read_csv(PARENT_DIR + \"/data/\" + source + \"_ntr.csv\", parse_dates=['Date'], index_col= ['Date'])\n",
    "ntr_data.head()\n",
    "#print(len(ntr_data))"
   ]
  },
  {
   "cell_type": "code",
   "execution_count": null,
   "metadata": {},
   "outputs": [
    {
     "data": {
      "text/html": [
       "<div>\n",
       "<style scoped>\n",
       "    .dataframe tbody tr th:only-of-type {\n",
       "        vertical-align: middle;\n",
       "    }\n",
       "\n",
       "    .dataframe tbody tr th {\n",
       "        vertical-align: top;\n",
       "    }\n",
       "\n",
       "    .dataframe thead th {\n",
       "        text-align: right;\n",
       "    }\n",
       "</style>\n",
       "<table border=\"1\" class=\"dataframe\">\n",
       "  <thead>\n",
       "    <tr style=\"text-align: right;\">\n",
       "      <th></th>\n",
       "      <th>Novelty</th>\n",
       "      <th>Transience</th>\n",
       "      <th>Resonance</th>\n",
       "      <th>Topic</th>\n",
       "    </tr>\n",
       "    <tr>\n",
       "      <th>Date</th>\n",
       "      <th></th>\n",
       "      <th></th>\n",
       "      <th></th>\n",
       "      <th></th>\n",
       "    </tr>\n",
       "  </thead>\n",
       "  <tbody>\n",
       "    <tr>\n",
       "      <th>2021-02-10</th>\n",
       "      <td>0.0</td>\n",
       "      <td>0.0</td>\n",
       "      <td>0.0</td>\n",
       "      <td>29.0</td>\n",
       "    </tr>\n",
       "    <tr>\n",
       "      <th>2021-02-11</th>\n",
       "      <td>NaN</td>\n",
       "      <td>NaN</td>\n",
       "      <td>NaN</td>\n",
       "      <td>NaN</td>\n",
       "    </tr>\n",
       "    <tr>\n",
       "      <th>2021-02-12</th>\n",
       "      <td>NaN</td>\n",
       "      <td>NaN</td>\n",
       "      <td>NaN</td>\n",
       "      <td>NaN</td>\n",
       "    </tr>\n",
       "    <tr>\n",
       "      <th>2021-02-13</th>\n",
       "      <td>NaN</td>\n",
       "      <td>NaN</td>\n",
       "      <td>NaN</td>\n",
       "      <td>NaN</td>\n",
       "    </tr>\n",
       "    <tr>\n",
       "      <th>2021-02-14</th>\n",
       "      <td>NaN</td>\n",
       "      <td>NaN</td>\n",
       "      <td>NaN</td>\n",
       "      <td>NaN</td>\n",
       "    </tr>\n",
       "  </tbody>\n",
       "</table>\n",
       "</div>"
      ],
      "text/plain": [
       "            Novelty  Transience  Resonance  Topic\n",
       "Date                                             \n",
       "2021-02-10      0.0         0.0        0.0   29.0\n",
       "2021-02-11      NaN         NaN        NaN    NaN\n",
       "2021-02-12      NaN         NaN        NaN    NaN\n",
       "2021-02-13      NaN         NaN        NaN    NaN\n",
       "2021-02-14      NaN         NaN        NaN    NaN"
      ]
     },
     "execution_count": 13,
     "metadata": {},
     "output_type": "execute_result"
    }
   ],
   "source": [
    "davg = ntr_data.resample('D').mean()\n",
    "davg.head()"
   ]
  },
  {
   "cell_type": "code",
   "execution_count": null,
   "metadata": {},
   "outputs": [
    {
     "data": {
      "image/png": "[encoded data removed]",
      "text/plain": [
       "<Figure size 864x576 with 1 Axes>"
      ]
     },
     "metadata": {
      "needs_background": "light"
     },
     "output_type": "display_data"
    }
   ],
   "source": [
    "fig, ax = plt.subplots(figsize=(12, 8))\n",
    "\n",
    "beginning = dt.date(2021, 7, 21)\n",
    "end = dt.date.today()\n",
    "\n",
    "ax.plot(davg.index.values,\n",
    "       davg['Resonance'],\n",
    "       color='purple',\n",
    "       #linewidths=0\n",
    "       )\n",
    "\n",
    "ax.set(\n",
    "       #xlabel=\"Date\",\n",
    "       #ylabel=\"Resonance\",\n",
    "       title=\"Daily Resonance - The Guardian Articles\")\n",
    "\n",
    "date_form = DateFormatter(\"%m-%y\")\n",
    "ax.xaxis.set_major_formatter(date_form)\n",
    "ax.set_xbound(beginning, end)"
   ]
  }
 ],
 "metadata": {
  "kernelspec": {
   "display_name": "Python 3.10.5 ('.venv': venv)",
   "language": "python",
   "name": "python3"
  },
  "language_info": {
   "codemirror_mode": {
    "name": "ipython",
    "version": 3
   },
   "file_extension": ".py",
   "mimetype": "text/x-python",
   "name": "python",
   "nbconvert_exporter": "python",
   "pygments_lexer": "ipython3",
   "version": "3.10.5"
  },
  "orig_nbformat": 4,
  "vscode": {
   "interpreter": {
    "hash": "71a723942456804a71d025442f2ccd3a5c8db2153e1c9e51f0af23a7e755532d"
   }
  }
 },
 "nbformat": 4,
 "nbformat_minor": 2
}
