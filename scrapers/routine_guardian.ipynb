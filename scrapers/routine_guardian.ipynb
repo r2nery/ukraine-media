{
 "cells": [
  {
   "cell_type": "markdown",
   "metadata": {},
   "source": [
    "# Data"
   ]
  },
  {
   "cell_type": "markdown",
   "metadata": {},
   "source": [
    "#### Updating data"
   ]
  },
  {
   "cell_type": "code",
   "execution_count": 1,
   "metadata": {},
   "outputs": [],
   "source": [
    "from utilities import *\n",
    "from Guardian import *\n",
    "\n",
    "ROOT_DIR = os.path.dirname(os.path.abspath(\"__file__\"))\n",
    "PARENT_DIR = os.path.dirname(ROOT_DIR)\n",
    "\n",
    "source = \"Guardian\""
   ]
  },
  {
   "cell_type": "code",
   "execution_count": 2,
   "metadata": {},
   "outputs": [
    {
     "name": "stdout",
     "output_type": "stream",
     "text": [
      "-> CSV file found with 3205 articles! Latest article date: 2021-07-20\n",
      "-> Checking articles from latest date onward...\n",
      "on 0: ok                                                                                                                \n",
      "on 200: ok                                                                                                              \n",
      "on 400: ok                                                                                                              \n",
      "on 600: ok                                                                                                              \n",
      "on 800: ok                                                                                                              \n",
      "on 1000: ok                                                                                                             ⠁⠈⠐⠠| 935 in 2:52 (5.4/s) \n",
      "on 1200: ok                                                                                                             \n",
      "on 1400: ok                                                                                                             \n",
      "on 1600: ok                                                                                                             \n",
      "on 1800: ok                                                                                                             \n",
      "on 2000: ok                                                                                                             \n",
      "on 2200: ok                                                                                                             \n",
      "on 2400: ok                                                                                                             \n",
      "on 2600: ok                                                                                                             \n",
      "on 2800: ok                                                                                                             \n",
      "on 3000: ok                                                                                                             ⠄⠂⠁⠈⠐| 2905 in 9:13 (5.3/s) |⢀⡀⠄⠂⠁⠈⠐⠠⢀⡀⠄⠂⠁⠈⠐⠠⢀⡀⠄⠂⠁⠈⠐⠠⢀⡀⠄⠂⠁⠈⠐⠠⢀⡀⠄⠂⠁⠈⠐⠠| 2946 in 9:22 (5.2/s) \n",
      "-> Russia API Query |████████████████████████████████████████| (!) 3047 in 9:44.3 (5.21/s) \n",
      "-> 564 new articles saved to Guardian.csv! Total articles: 3769\n"
     ]
    }
   ],
   "source": [
    "data = guardianScraper()\n",
    "\n",
    "data.to_csv(PARENT_DIR + \"/data/Guardian.csv\", index=True)"
   ]
  },
  {
   "cell_type": "code",
   "execution_count": 5,
   "metadata": {},
   "outputs": [],
   "source": [
    "data.to_csv(PARENT_DIR + \"/data/Guardian.csv\", index=True)"
   ]
  },
  {
   "cell_type": "code",
   "execution_count": 3,
   "metadata": {},
   "outputs": [
    {
     "data": {
      "text/html": [
       "<div>\n",
       "<style scoped>\n",
       "    .dataframe tbody tr th:only-of-type {\n",
       "        vertical-align: middle;\n",
       "    }\n",
       "\n",
       "    .dataframe tbody tr th {\n",
       "        vertical-align: top;\n",
       "    }\n",
       "\n",
       "    .dataframe thead th {\n",
       "        text-align: right;\n",
       "    }\n",
       "</style>\n",
       "<table border=\"1\" class=\"dataframe\">\n",
       "  <thead>\n",
       "    <tr style=\"text-align: right;\">\n",
       "      <th></th>\n",
       "      <th>URL</th>\n",
       "      <th>Title</th>\n",
       "      <th>Text</th>\n",
       "    </tr>\n",
       "    <tr>\n",
       "      <th>Date</th>\n",
       "      <th></th>\n",
       "      <th></th>\n",
       "      <th></th>\n",
       "    </tr>\n",
       "  </thead>\n",
       "  <tbody>\n",
       "    <tr>\n",
       "      <th>2022-07-21</th>\n",
       "      <td>https://www.theguardian.com/us-news/2022/jul/2...</td>\n",
       "      <td>Nancy Pelosi’s Taiwan trip ‘not a good idea ri...</td>\n",
       "      <td>Joe Biden has cautioned against the reported t...</td>\n",
       "    </tr>\n",
       "  </tbody>\n",
       "</table>\n",
       "</div>"
      ],
      "text/plain": [
       "                                                          URL  \\\n",
       "Date                                                            \n",
       "2022-07-21  https://www.theguardian.com/us-news/2022/jul/2...   \n",
       "\n",
       "                                                        Title  \\\n",
       "Date                                                            \n",
       "2022-07-21  Nancy Pelosi’s Taiwan trip ‘not a good idea ri...   \n",
       "\n",
       "                                                         Text  \n",
       "Date                                                           \n",
       "2022-07-21  Joe Biden has cautioned against the reported t...  "
      ]
     },
     "execution_count": 3,
     "metadata": {},
     "output_type": "execute_result"
    }
   ],
   "source": [
    "data.head(1)"
   ]
  },
  {
   "cell_type": "markdown",
   "metadata": {},
   "source": [
    "#### LDA topic identification"
   ]
  },
  {
   "cell_type": "code",
   "execution_count": 4,
   "metadata": {},
   "outputs": [
    {
     "name": "stderr",
     "output_type": "stream",
     "text": [
      "INFO:lda:n_documents: 3769\n",
      "INFO:lda:vocab_size: 10000\n",
      "INFO:lda:n_words: 1655594\n",
      "INFO:lda:n_topics: 30\n",
      "INFO:lda:n_iter: 2000\n",
      "INFO:lda:<0> log likelihood: -19972633\n",
      "INFO:lda:<100> log likelihood: -14162741\n",
      "INFO:lda:<200> log likelihood: -14051752\n",
      "INFO:lda:<300> log likelihood: -14016104\n",
      "INFO:lda:<400> log likelihood: -13991745\n",
      "INFO:lda:<500> log likelihood: -13977855\n",
      "INFO:lda:<600> log likelihood: -13971353\n",
      "INFO:lda:<700> log likelihood: -13963606\n",
      "INFO:lda:<800> log likelihood: -13954804\n",
      "INFO:lda:<900> log likelihood: -13951505\n",
      "INFO:lda:<1000> log likelihood: -13952223\n"
     ]
    },
    {
     "ename": "KeyboardInterrupt",
     "evalue": "",
     "output_type": "error",
     "traceback": [
      "\u001b[0;31m---------------------------------------------------------------------------\u001b[0m",
      "\u001b[0;31mKeyboardInterrupt\u001b[0m                         Traceback (most recent call last)",
      "\u001b[1;32m/Users/r2/Code/ukraine-media/scrapers/routine_guardian.ipynb Cell 7\u001b[0m in \u001b[0;36m<cell line: 1>\u001b[0;34m()\u001b[0m\n\u001b[0;32m----> <a href='vscode-notebook-cell:/Users/r2/Code/ukraine-media/scrapers/routine_guardian.ipynb#ch0000006?line=0'>1</a>\u001b[0m doc_topic, topic_word, vocabulary \u001b[39m=\u001b[39m learn_topics(data, topicnum\u001b[39m=\u001b[39;49m\u001b[39m30\u001b[39;49m, vocabsize\u001b[39m=\u001b[39;49m\u001b[39m10000\u001b[39;49m, num_iter\u001b[39m=\u001b[39;49m\u001b[39m2000\u001b[39;49m)\n",
      "File \u001b[0;32m~/Code/ukraine-media/scrapers/utilities.py:32\u001b[0m, in \u001b[0;36mlearn_topics\u001b[0;34m(dataframe, topicnum, vocabsize, num_iter)\u001b[0m\n\u001b[1;32m     30\u001b[0m \u001b[39m# Learn topics.  Refresh conrols print frequency.\u001b[39;00m\n\u001b[1;32m     31\u001b[0m lda_model \u001b[39m=\u001b[39m LDA(topicnum, n_iter\u001b[39m=\u001b[39mnum_iter, refresh\u001b[39m=\u001b[39m\u001b[39m100\u001b[39m)\n\u001b[0;32m---> 32\u001b[0m doc_topic \u001b[39m=\u001b[39m lda_model\u001b[39m.\u001b[39;49mfit_transform(doc_vcnts)\n\u001b[1;32m     33\u001b[0m topic_word \u001b[39m=\u001b[39m lda_model\u001b[39m.\u001b[39mtopic_word_\n\u001b[1;32m     35\u001b[0m \u001b[39mreturn\u001b[39;00m doc_topic, topic_word, vocabulary\n",
      "File \u001b[0;32m~/Code/ukraine-media/.venv/lib/python3.10/site-packages/lda/lda.py:152\u001b[0m, in \u001b[0;36mLDA.fit_transform\u001b[0;34m(self, X, y)\u001b[0m\n\u001b[1;32m    148\u001b[0m \u001b[39mif\u001b[39;00m \u001b[39misinstance\u001b[39m(X, np\u001b[39m.\u001b[39mndarray):\n\u001b[1;32m    149\u001b[0m     \u001b[39m# in case user passes a (non-sparse) array of shape (n_features,)\u001b[39;00m\n\u001b[1;32m    150\u001b[0m     \u001b[39m# turn it into an array of shape (1, n_features)\u001b[39;00m\n\u001b[1;32m    151\u001b[0m     X \u001b[39m=\u001b[39m np\u001b[39m.\u001b[39matleast_2d(X)\n\u001b[0;32m--> 152\u001b[0m \u001b[39mself\u001b[39;49m\u001b[39m.\u001b[39;49m_fit(X)\n\u001b[1;32m    153\u001b[0m \u001b[39mreturn\u001b[39;00m \u001b[39mself\u001b[39m\u001b[39m.\u001b[39mdoc_topic_\n",
      "File \u001b[0;32m~/Code/ukraine-media/.venv/lib/python3.10/site-packages/lda/lda.py:252\u001b[0m, in \u001b[0;36mLDA._fit\u001b[0;34m(self, X)\u001b[0m\n\u001b[1;32m    250\u001b[0m         \u001b[39m# keep track of loglikelihoods for monitoring convergence\u001b[39;00m\n\u001b[1;32m    251\u001b[0m         \u001b[39mself\u001b[39m\u001b[39m.\u001b[39mloglikelihoods_\u001b[39m.\u001b[39mappend(ll)\n\u001b[0;32m--> 252\u001b[0m     \u001b[39mself\u001b[39;49m\u001b[39m.\u001b[39;49m_sample_topics(rands)\n\u001b[1;32m    253\u001b[0m ll \u001b[39m=\u001b[39m \u001b[39mself\u001b[39m\u001b[39m.\u001b[39mloglikelihood()\n\u001b[1;32m    254\u001b[0m logger\u001b[39m.\u001b[39minfo(\u001b[39m\"\u001b[39m\u001b[39m<\u001b[39m\u001b[39m{}\u001b[39;00m\u001b[39m> log likelihood: \u001b[39m\u001b[39m{:.0f}\u001b[39;00m\u001b[39m\"\u001b[39m\u001b[39m.\u001b[39mformat(\u001b[39mself\u001b[39m\u001b[39m.\u001b[39mn_iter \u001b[39m-\u001b[39m \u001b[39m1\u001b[39m, ll))\n",
      "File \u001b[0;32m~/Code/ukraine-media/.venv/lib/python3.10/site-packages/lda/lda.py:311\u001b[0m, in \u001b[0;36mLDA._sample_topics\u001b[0;34m(self, rands)\u001b[0m\n\u001b[1;32m    309\u001b[0m alpha \u001b[39m=\u001b[39m np\u001b[39m.\u001b[39mrepeat(\u001b[39mself\u001b[39m\u001b[39m.\u001b[39malpha, n_topics)\u001b[39m.\u001b[39mastype(np\u001b[39m.\u001b[39mfloat64)\n\u001b[1;32m    310\u001b[0m eta \u001b[39m=\u001b[39m np\u001b[39m.\u001b[39mrepeat(\u001b[39mself\u001b[39m\u001b[39m.\u001b[39meta, vocab_size)\u001b[39m.\u001b[39mastype(np\u001b[39m.\u001b[39mfloat64)\n\u001b[0;32m--> 311\u001b[0m lda\u001b[39m.\u001b[39;49m_lda\u001b[39m.\u001b[39;49m_sample_topics(\u001b[39mself\u001b[39;49m\u001b[39m.\u001b[39;49mWS, \u001b[39mself\u001b[39;49m\u001b[39m.\u001b[39;49mDS, \u001b[39mself\u001b[39;49m\u001b[39m.\u001b[39;49mZS, \u001b[39mself\u001b[39;49m\u001b[39m.\u001b[39;49mnzw_, \u001b[39mself\u001b[39;49m\u001b[39m.\u001b[39;49mndz_, \u001b[39mself\u001b[39;49m\u001b[39m.\u001b[39;49mnz_,\n\u001b[1;32m    312\u001b[0m                         alpha, eta, rands)\n",
      "\u001b[0;31mKeyboardInterrupt\u001b[0m: "
     ]
    }
   ],
   "source": [
    "doc_topic, topic_word, vocabulary = learn_topics(data, topicnum=30, vocabsize=10000, num_iter=2000) "
   ]
  },
  {
   "cell_type": "code",
   "execution_count": null,
   "metadata": {},
   "outputs": [],
   "source": [
    "topics = []\n",
    "for i in range(len(data)):\n",
    "    topics.append(doc_topic[i].argmax())"
   ]
  },
  {
   "cell_type": "code",
   "execution_count": null,
   "metadata": {},
   "outputs": [
    {
     "name": "stdout",
     "output_type": "stream",
     "text": [
      "Nancy Pelosi’s Taiwan trip ‘not a good idea right now’, says Biden TOPIC: 25\n",
      "EU imposes sanctions on Russian motorcycle club and pro-Putin actors TOPIC: 17\n",
      "Half of Russian spies in Europe expelled since Ukraine invasion, says MI6 chief TOPIC: 8\n",
      "National Crime Agency calls for more funding to tackle Russian kleptocracy TOPIC: 5\n",
      "Dining across the divide: ‘He supports a new Heathrow runway – we should invest in trains’ TOPIC: 26\n",
      "Woodside and Santos reap bumper profits as Ukraine war drives energy prices higher TOPIC: 27\n",
      "Ukraine calls for international tribunal to bring Putin to justice more quickly TOPIC: 4\n",
      "Russia-Ukraine war at a glance: what we know on day 148 of the invasion TOPIC: 28\n",
      "How reliant is Germany – and the rest of  Europe – on Russian gas? TOPIC: 29\n",
      "Half of Russian spies in Europe expelled since Ukraine invasion, says MI6 chief TOPIC: 8\n"
     ]
    }
   ],
   "source": [
    "for i in range(10):\n",
    "    print(f\"{data.iloc[i][1]} TOPIC: {doc_topic[i].argmax()}\")"
   ]
  },
  {
   "cell_type": "code",
   "execution_count": null,
   "metadata": {},
   "outputs": [
    {
     "name": "stdout",
     "output_type": "stream",
     "text": [
      "Topic 0: ukraine russia russian us said nato the\n",
      "Topic 1: media russian said ukraine news the russia\n",
      "Topic 2: putin war ukraine it but russia the\n",
      "Topic 3: uk johnson minister british said the government\n",
      "Topic 4: war crimes the said russian ukraine international\n",
      "Topic 5: the sanctions russian uk oligarchs abramovich putin\n",
      "Topic 6: australia the australian music morrison said ukraine\n",
      "Topic 7: said family she war old home year\n",
      "Topic 8: the said intelligence investigation court offshore bank\n",
      "Topic 9: the belarus russian ukraine russia belarusian team\n",
      "Topic 10: said ukraine russia president minister the nato\n",
      "Topic 11: us biden president trump putin said the\n",
      "Topic 12: ukraine support help people children said aid\n",
      "Topic 13: the world new history war soviet in\n",
      "Topic 14: said city russian the mariupol people ukrainian\n",
      "Topic 15: the russian kyiv soldiers guardian said people\n",
      "Topic 16: it in new but this time country\n",
      "Topic 17: sanctions russia russian the putin said foreign\n",
      "Topic 18: poland people ukraine border refugees country polish\n",
      "Topic 19: food ukraine sea grain the black world\n",
      "Topic 20: ukraine weapons russian military forces russia us\n",
      "Topic 21: russia said russian company ukraine the companies\n",
      "Topic 22: russian putin russia war said moscow russians\n",
      "Topic 23: uk said refugees government visa home the\n",
      "Topic 24: ukraine ukrainian zelenskiy war country kyiv russian\n",
      "Topic 25: china russia us the un beijing india\n",
      "Topic 26: it people we but like don there\n",
      "Topic 27: energy the oil prices gas year said\n",
      "Topic 28: russian ukraine russia said ukrainian forces region\n",
      "Topic 29: eu gas germany european europe german russian\n"
     ]
    }
   ],
   "source": [
    "for i, topic_dist in enumerate(topic_word):\n",
    "    topic_words = np.array(vocabulary)[np.argsort(topic_dist)][:-8:-1]\n",
    "    print(\"Topic {}: {}\".format(i, \" \".join(topic_words)))\n"
   ]
  },
  {
   "cell_type": "code",
   "execution_count": null,
   "metadata": {},
   "outputs": [
    {
     "data": {
      "text/plain": [
       "('/Users/r2/Code/ukraine-media/results/GuardianTopicMixtures.txt',\n",
       " '/Users/r2/Code/ukraine-media/results/GuardianTopics.txt',\n",
       " '/Users/r2/Code/ukraine-media/results/GuardianVocab.txt')"
      ]
     },
     "execution_count": 7,
     "metadata": {},
     "output_type": "execute_result"
    }
   ],
   "source": [
    "save_topicmodel(doc_topic, topic_word, vocabulary, source)"
   ]
  },
  {
   "cell_type": "code",
   "execution_count": null,
   "metadata": {},
   "outputs": [
    {
     "name": "stderr",
     "output_type": "stream",
     "text": [
      "/Users/r2/Code/ukraine-media/scrapers/utilities.py:142: FutureWarning: arrays to stack must be passed as a \"sequence\" type such as list or tuple. Support for non-sequence iterables such as generators is deprecated as of NumPy 1.16 and will raise an error in the future.\n",
      "  np.savetxt(outpath, np.vstack(zip(novelties, transiences, resonances)))\n"
     ]
    }
   ],
   "source": [
    "period = 7\n",
    "novelties, transiences, resonances = novelty_transience_resonance(doc_topic, period)\n",
    "\n",
    "for index in range(0,period):\n",
    "    transiences.insert(0, 0)\n",
    "    transiences.append(0)\n",
    "    novelties.insert(0, 0)\n",
    "    novelties.append(0)\n",
    "    resonances.insert(0, 0)\n",
    "    resonances.append(0)\n",
    "\n",
    "save_novel_trans_reson(novelties, transiences, resonances, source)"
   ]
  },
  {
   "cell_type": "code",
   "execution_count": null,
   "metadata": {},
   "outputs": [
    {
     "data": {
      "text/html": [
       "<div>\n",
       "<style scoped>\n",
       "    .dataframe tbody tr th:only-of-type {\n",
       "        vertical-align: middle;\n",
       "    }\n",
       "\n",
       "    .dataframe tbody tr th {\n",
       "        vertical-align: top;\n",
       "    }\n",
       "\n",
       "    .dataframe thead th {\n",
       "        text-align: right;\n",
       "    }\n",
       "</style>\n",
       "<table border=\"1\" class=\"dataframe\">\n",
       "  <thead>\n",
       "    <tr style=\"text-align: right;\">\n",
       "      <th></th>\n",
       "      <th>URL</th>\n",
       "      <th>Title</th>\n",
       "      <th>Text</th>\n",
       "      <th>Novelty</th>\n",
       "      <th>Transience</th>\n",
       "      <th>Resonance</th>\n",
       "      <th>Topic</th>\n",
       "    </tr>\n",
       "    <tr>\n",
       "      <th>Date</th>\n",
       "      <th></th>\n",
       "      <th></th>\n",
       "      <th></th>\n",
       "      <th></th>\n",
       "      <th></th>\n",
       "      <th></th>\n",
       "      <th></th>\n",
       "    </tr>\n",
       "  </thead>\n",
       "  <tbody>\n",
       "    <tr>\n",
       "      <th>2022-07-21</th>\n",
       "      <td>https://www.theguardian.com/us-news/2022/jul/2...</td>\n",
       "      <td>Nancy Pelosi’s Taiwan trip ‘not a good idea ri...</td>\n",
       "      <td>Joe Biden has cautioned against the reported t...</td>\n",
       "      <td>0.0</td>\n",
       "      <td>0.0</td>\n",
       "      <td>0.0</td>\n",
       "      <td>25</td>\n",
       "    </tr>\n",
       "    <tr>\n",
       "      <th>2022-07-21</th>\n",
       "      <td>https://www.theguardian.com/world/2022/jul/21/...</td>\n",
       "      <td>EU imposes sanctions on Russian motorcycle clu...</td>\n",
       "      <td>New EU sanctions hitting Russian gold, a major...</td>\n",
       "      <td>0.0</td>\n",
       "      <td>0.0</td>\n",
       "      <td>0.0</td>\n",
       "      <td>17</td>\n",
       "    </tr>\n",
       "    <tr>\n",
       "      <th>2022-07-21</th>\n",
       "      <td>https://www.theguardian.com/uk-news/2022/jul/2...</td>\n",
       "      <td>Half of Russian spies in Europe expelled since...</td>\n",
       "      <td>Half of all the Russian spies operating under ...</td>\n",
       "      <td>0.0</td>\n",
       "      <td>0.0</td>\n",
       "      <td>0.0</td>\n",
       "      <td>8</td>\n",
       "    </tr>\n",
       "    <tr>\n",
       "      <th>2022-07-21</th>\n",
       "      <td>https://www.theguardian.com/uk-news/2022/jul/2...</td>\n",
       "      <td>National Crime Agency calls for more funding t...</td>\n",
       "      <td>The UK’s serious and organised crime-fighting ...</td>\n",
       "      <td>0.0</td>\n",
       "      <td>0.0</td>\n",
       "      <td>0.0</td>\n",
       "      <td>5</td>\n",
       "    </tr>\n",
       "    <tr>\n",
       "      <th>2022-07-21</th>\n",
       "      <td>https://www.theguardian.com/lifeandstyle/2022/...</td>\n",
       "      <td>Dining across the divide: ‘He supports a new H...</td>\n",
       "      <td>Jasper, 26, London    Occupation Architect Vot...</td>\n",
       "      <td>0.0</td>\n",
       "      <td>0.0</td>\n",
       "      <td>0.0</td>\n",
       "      <td>26</td>\n",
       "    </tr>\n",
       "  </tbody>\n",
       "</table>\n",
       "</div>"
      ],
      "text/plain": [
       "                                                          URL  \\\n",
       "Date                                                            \n",
       "2022-07-21  https://www.theguardian.com/us-news/2022/jul/2...   \n",
       "2022-07-21  https://www.theguardian.com/world/2022/jul/21/...   \n",
       "2022-07-21  https://www.theguardian.com/uk-news/2022/jul/2...   \n",
       "2022-07-21  https://www.theguardian.com/uk-news/2022/jul/2...   \n",
       "2022-07-21  https://www.theguardian.com/lifeandstyle/2022/...   \n",
       "\n",
       "                                                        Title  \\\n",
       "Date                                                            \n",
       "2022-07-21  Nancy Pelosi’s Taiwan trip ‘not a good idea ri...   \n",
       "2022-07-21  EU imposes sanctions on Russian motorcycle clu...   \n",
       "2022-07-21  Half of Russian spies in Europe expelled since...   \n",
       "2022-07-21  National Crime Agency calls for more funding t...   \n",
       "2022-07-21  Dining across the divide: ‘He supports a new H...   \n",
       "\n",
       "                                                         Text  Novelty  \\\n",
       "Date                                                                     \n",
       "2022-07-21  Joe Biden has cautioned against the reported t...      0.0   \n",
       "2022-07-21  New EU sanctions hitting Russian gold, a major...      0.0   \n",
       "2022-07-21  Half of all the Russian spies operating under ...      0.0   \n",
       "2022-07-21  The UK’s serious and organised crime-fighting ...      0.0   \n",
       "2022-07-21  Jasper, 26, London    Occupation Architect Vot...      0.0   \n",
       "\n",
       "            Transience  Resonance  Topic  \n",
       "Date                                      \n",
       "2022-07-21         0.0        0.0     25  \n",
       "2022-07-21         0.0        0.0     17  \n",
       "2022-07-21         0.0        0.0      8  \n",
       "2022-07-21         0.0        0.0      5  \n",
       "2022-07-21         0.0        0.0     26  "
      ]
     },
     "execution_count": 9,
     "metadata": {},
     "output_type": "execute_result"
    }
   ],
   "source": [
    "ntr_data = data\n",
    "ntr_data['Novelty'] = novelties\n",
    "ntr_data['Transience'] = novelties\n",
    "ntr_data['Resonance'] = resonances\n",
    "ntr_data['Topic'] = topics\n",
    "\n",
    "ntr_data.to_csv(PARENT_DIR + \"/data/\"+ source + \"_ntr.csv\")\n",
    "ntr_data.head(5)"
   ]
  },
  {
   "cell_type": "markdown",
   "metadata": {},
   "source": [
    "# Plots"
   ]
  },
  {
   "cell_type": "code",
   "execution_count": null,
   "metadata": {},
   "outputs": [],
   "source": [
    "import matplotlib.pyplot as plt\n",
    "import matplotlib.dates as mdates\n",
    "from matplotlib.dates import DateFormatter\n",
    "import datetime as dt\n",
    "import numpy as np\n",
    "import pandas as pd\n",
    "import seaborn as sns\n",
    "%matplotlib inline"
   ]
  },
  {
   "cell_type": "code",
   "execution_count": null,
   "metadata": {},
   "outputs": [
    {
     "data": {
      "text/html": [
       "<div>\n",
       "<style scoped>\n",
       "    .dataframe tbody tr th:only-of-type {\n",
       "        vertical-align: middle;\n",
       "    }\n",
       "\n",
       "    .dataframe tbody tr th {\n",
       "        vertical-align: top;\n",
       "    }\n",
       "\n",
       "    .dataframe thead th {\n",
       "        text-align: right;\n",
       "    }\n",
       "</style>\n",
       "<table border=\"1\" class=\"dataframe\">\n",
       "  <thead>\n",
       "    <tr style=\"text-align: right;\">\n",
       "      <th></th>\n",
       "      <th>URL</th>\n",
       "      <th>Title</th>\n",
       "      <th>Text</th>\n",
       "      <th>Novelty</th>\n",
       "      <th>Transience</th>\n",
       "      <th>Resonance</th>\n",
       "      <th>Topic</th>\n",
       "    </tr>\n",
       "    <tr>\n",
       "      <th>Date</th>\n",
       "      <th></th>\n",
       "      <th></th>\n",
       "      <th></th>\n",
       "      <th></th>\n",
       "      <th></th>\n",
       "      <th></th>\n",
       "      <th></th>\n",
       "    </tr>\n",
       "  </thead>\n",
       "  <tbody>\n",
       "    <tr>\n",
       "      <th>2022-07-21</th>\n",
       "      <td>https://www.theguardian.com/us-news/2022/jul/2...</td>\n",
       "      <td>Nancy Pelosi’s Taiwan trip ‘not a good idea ri...</td>\n",
       "      <td>Joe Biden has cautioned against the reported t...</td>\n",
       "      <td>0.0</td>\n",
       "      <td>0.0</td>\n",
       "      <td>0.0</td>\n",
       "      <td>25</td>\n",
       "    </tr>\n",
       "    <tr>\n",
       "      <th>2022-07-21</th>\n",
       "      <td>https://www.theguardian.com/world/2022/jul/21/...</td>\n",
       "      <td>EU imposes sanctions on Russian motorcycle clu...</td>\n",
       "      <td>New EU sanctions hitting Russian gold, a major...</td>\n",
       "      <td>0.0</td>\n",
       "      <td>0.0</td>\n",
       "      <td>0.0</td>\n",
       "      <td>17</td>\n",
       "    </tr>\n",
       "    <tr>\n",
       "      <th>2022-07-21</th>\n",
       "      <td>https://www.theguardian.com/uk-news/2022/jul/2...</td>\n",
       "      <td>Half of Russian spies in Europe expelled since...</td>\n",
       "      <td>Half of all the Russian spies operating under ...</td>\n",
       "      <td>0.0</td>\n",
       "      <td>0.0</td>\n",
       "      <td>0.0</td>\n",
       "      <td>8</td>\n",
       "    </tr>\n",
       "    <tr>\n",
       "      <th>2022-07-21</th>\n",
       "      <td>https://www.theguardian.com/uk-news/2022/jul/2...</td>\n",
       "      <td>National Crime Agency calls for more funding t...</td>\n",
       "      <td>The UK’s serious and organised crime-fighting ...</td>\n",
       "      <td>0.0</td>\n",
       "      <td>0.0</td>\n",
       "      <td>0.0</td>\n",
       "      <td>5</td>\n",
       "    </tr>\n",
       "    <tr>\n",
       "      <th>2022-07-21</th>\n",
       "      <td>https://www.theguardian.com/lifeandstyle/2022/...</td>\n",
       "      <td>Dining across the divide: ‘He supports a new H...</td>\n",
       "      <td>Jasper, 26, London    Occupation Architect Vot...</td>\n",
       "      <td>0.0</td>\n",
       "      <td>0.0</td>\n",
       "      <td>0.0</td>\n",
       "      <td>26</td>\n",
       "    </tr>\n",
       "  </tbody>\n",
       "</table>\n",
       "</div>"
      ],
      "text/plain": [
       "                                                          URL  \\\n",
       "Date                                                            \n",
       "2022-07-21  https://www.theguardian.com/us-news/2022/jul/2...   \n",
       "2022-07-21  https://www.theguardian.com/world/2022/jul/21/...   \n",
       "2022-07-21  https://www.theguardian.com/uk-news/2022/jul/2...   \n",
       "2022-07-21  https://www.theguardian.com/uk-news/2022/jul/2...   \n",
       "2022-07-21  https://www.theguardian.com/lifeandstyle/2022/...   \n",
       "\n",
       "                                                        Title  \\\n",
       "Date                                                            \n",
       "2022-07-21  Nancy Pelosi’s Taiwan trip ‘not a good idea ri...   \n",
       "2022-07-21  EU imposes sanctions on Russian motorcycle clu...   \n",
       "2022-07-21  Half of Russian spies in Europe expelled since...   \n",
       "2022-07-21  National Crime Agency calls for more funding t...   \n",
       "2022-07-21  Dining across the divide: ‘He supports a new H...   \n",
       "\n",
       "                                                         Text  Novelty  \\\n",
       "Date                                                                     \n",
       "2022-07-21  Joe Biden has cautioned against the reported t...      0.0   \n",
       "2022-07-21  New EU sanctions hitting Russian gold, a major...      0.0   \n",
       "2022-07-21  Half of all the Russian spies operating under ...      0.0   \n",
       "2022-07-21  The UK’s serious and organised crime-fighting ...      0.0   \n",
       "2022-07-21  Jasper, 26, London    Occupation Architect Vot...      0.0   \n",
       "\n",
       "            Transience  Resonance  Topic  \n",
       "Date                                      \n",
       "2022-07-21         0.0        0.0     25  \n",
       "2022-07-21         0.0        0.0     17  \n",
       "2022-07-21         0.0        0.0      8  \n",
       "2022-07-21         0.0        0.0      5  \n",
       "2022-07-21         0.0        0.0     26  "
      ]
     },
     "execution_count": 11,
     "metadata": {},
     "output_type": "execute_result"
    }
   ],
   "source": [
    "ntr_data = pd.read_csv(PARENT_DIR + \"/data/\" + source + \"_ntr.csv\", parse_dates=['Date'], index_col= ['Date'])\n",
    "ntr_data.head()\n",
    "#print(len(ntr_data))"
   ]
  },
  {
   "cell_type": "code",
   "execution_count": null,
   "metadata": {},
   "outputs": [
    {
     "data": {
      "text/html": [
       "<div>\n",
       "<style scoped>\n",
       "    .dataframe tbody tr th:only-of-type {\n",
       "        vertical-align: middle;\n",
       "    }\n",
       "\n",
       "    .dataframe tbody tr th {\n",
       "        vertical-align: top;\n",
       "    }\n",
       "\n",
       "    .dataframe thead th {\n",
       "        text-align: right;\n",
       "    }\n",
       "</style>\n",
       "<table border=\"1\" class=\"dataframe\">\n",
       "  <thead>\n",
       "    <tr style=\"text-align: right;\">\n",
       "      <th></th>\n",
       "      <th>Novelty</th>\n",
       "      <th>Transience</th>\n",
       "      <th>Resonance</th>\n",
       "      <th>Topic</th>\n",
       "    </tr>\n",
       "    <tr>\n",
       "      <th>Date</th>\n",
       "      <th></th>\n",
       "      <th></th>\n",
       "      <th></th>\n",
       "      <th></th>\n",
       "    </tr>\n",
       "  </thead>\n",
       "  <tbody>\n",
       "    <tr>\n",
       "      <th>2021-02-10</th>\n",
       "      <td>0.0</td>\n",
       "      <td>0.0</td>\n",
       "      <td>0.0</td>\n",
       "      <td>11.0</td>\n",
       "    </tr>\n",
       "    <tr>\n",
       "      <th>2021-02-11</th>\n",
       "      <td>NaN</td>\n",
       "      <td>NaN</td>\n",
       "      <td>NaN</td>\n",
       "      <td>NaN</td>\n",
       "    </tr>\n",
       "    <tr>\n",
       "      <th>2021-02-12</th>\n",
       "      <td>NaN</td>\n",
       "      <td>NaN</td>\n",
       "      <td>NaN</td>\n",
       "      <td>NaN</td>\n",
       "    </tr>\n",
       "    <tr>\n",
       "      <th>2021-02-13</th>\n",
       "      <td>NaN</td>\n",
       "      <td>NaN</td>\n",
       "      <td>NaN</td>\n",
       "      <td>NaN</td>\n",
       "    </tr>\n",
       "    <tr>\n",
       "      <th>2021-02-14</th>\n",
       "      <td>NaN</td>\n",
       "      <td>NaN</td>\n",
       "      <td>NaN</td>\n",
       "      <td>NaN</td>\n",
       "    </tr>\n",
       "  </tbody>\n",
       "</table>\n",
       "</div>"
      ],
      "text/plain": [
       "            Novelty  Transience  Resonance  Topic\n",
       "Date                                             \n",
       "2021-02-10      0.0         0.0        0.0   11.0\n",
       "2021-02-11      NaN         NaN        NaN    NaN\n",
       "2021-02-12      NaN         NaN        NaN    NaN\n",
       "2021-02-13      NaN         NaN        NaN    NaN\n",
       "2021-02-14      NaN         NaN        NaN    NaN"
      ]
     },
     "execution_count": 12,
     "metadata": {},
     "output_type": "execute_result"
    }
   ],
   "source": [
    "davg = ntr_data.resample('D').mean()\n",
    "davg.head()"
   ]
  },
  {
   "cell_type": "code",
   "execution_count": null,
   "metadata": {},
   "outputs": [
    {
     "data": {
      "image/png": "[encoded data removed]",
      "text/plain": [
       "<Figure size 864x576 with 1 Axes>"
      ]
     },
     "metadata": {
      "needs_background": "light"
     },
     "output_type": "display_data"
    }
   ],
   "source": [
    "fig, ax = plt.subplots(figsize=(12, 8))\n",
    "\n",
    "beginning = dt.date(2021, 7, 21)\n",
    "end = dt.date.today()\n",
    "\n",
    "ax.plot(davg.index.values,\n",
    "       davg['Resonance'],\n",
    "       color='purple',\n",
    "       #linewidths=0\n",
    "       )\n",
    "\n",
    "ax.set(\n",
    "       #xlabel=\"Date\",\n",
    "       #ylabel=\"Resonance\",\n",
    "       title=\"Daily Resonance - The Guardian Articles\")\n",
    "\n",
    "date_form = DateFormatter(\"%m-%y\")\n",
    "ax.xaxis.set_major_formatter(date_form)\n",
    "ax.set_xbound(beginning, end)"
   ]
  }
 ],
 "metadata": {
  "kernelspec": {
   "display_name": "Python 3.10.5 ('.venv': venv)",
   "language": "python",
   "name": "python3"
  },
  "language_info": {
   "codemirror_mode": {
    "name": "ipython",
    "version": 3
   },
   "file_extension": ".py",
   "mimetype": "text/x-python",
   "name": "python",
   "nbconvert_exporter": "python",
   "pygments_lexer": "ipython3",
   "version": "3.10.5"
  },
  "orig_nbformat": 4,
  "vscode": {
   "interpreter": {
    "hash": "71a723942456804a71d025442f2ccd3a5c8db2153e1c9e51f0af23a7e755532d"
   }
  }
 },
 "nbformat": 4,
 "nbformat_minor": 2
}
