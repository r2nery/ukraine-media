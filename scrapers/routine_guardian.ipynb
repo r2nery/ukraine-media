{
 "cells": [
  {
   "cell_type": "markdown",
   "metadata": {},
   "source": [
    "#### Updating data"
   ]
  },
  {
   "cell_type": "code",
   "execution_count": 1,
   "metadata": {},
   "outputs": [],
   "source": [
    "from utilities import *\n",
    "from Guardian import *\n",
    "\n",
    "ROOT_DIR = os.path.dirname(os.path.abspath(\"__file__\"))\n",
    "PARENT_DIR = os.path.dirname(ROOT_DIR)"
   ]
  },
  {
   "cell_type": "code",
   "execution_count": 2,
   "metadata": {},
   "outputs": [
    {
     "name": "stdout",
     "output_type": "stream",
     "text": [
      "-> CSV file found with 2935 articles! Latest article date: 2022-07-19\n",
      "-> Checking articles from latest date onward...\n",
      "-> API Query |████████████████████████████████████████| (!) 5 in 2.3s (2.16/s) \n",
      "-> 3 new articles saved to Guardian.csv! Total articles: 2938\n"
     ]
    }
   ],
   "source": [
    "data = guardianScraper()\n",
    "\n",
    "data.to_csv(PARENT_DIR + \"/data/Guardian.csv\", index=True)"
   ]
  },
  {
   "cell_type": "code",
   "execution_count": 3,
   "metadata": {},
   "outputs": [
    {
     "data": {
      "text/html": [
       "<div>\n",
       "<style scoped>\n",
       "    .dataframe tbody tr th:only-of-type {\n",
       "        vertical-align: middle;\n",
       "    }\n",
       "\n",
       "    .dataframe tbody tr th {\n",
       "        vertical-align: top;\n",
       "    }\n",
       "\n",
       "    .dataframe thead th {\n",
       "        text-align: right;\n",
       "    }\n",
       "</style>\n",
       "<table border=\"1\" class=\"dataframe\">\n",
       "  <thead>\n",
       "    <tr style=\"text-align: right;\">\n",
       "      <th></th>\n",
       "      <th>URL</th>\n",
       "      <th>Title</th>\n",
       "      <th>Text</th>\n",
       "    </tr>\n",
       "    <tr>\n",
       "      <th>Date</th>\n",
       "      <th></th>\n",
       "      <th></th>\n",
       "      <th></th>\n",
       "    </tr>\n",
       "  </thead>\n",
       "  <tbody>\n",
       "    <tr>\n",
       "      <th>2022-07-19</th>\n",
       "      <td>https://www.theguardian.com/world/2022/jul/19/...</td>\n",
       "      <td>Putin arrives in Tehran for Iran-Turkey talks ...</td>\n",
       "      <td>Vladimir Putin has arrived in Tehran on his se...</td>\n",
       "    </tr>\n",
       "  </tbody>\n",
       "</table>\n",
       "</div>"
      ],
      "text/plain": [
       "                                                          URL  \\\n",
       "Date                                                            \n",
       "2022-07-19  https://www.theguardian.com/world/2022/jul/19/...   \n",
       "\n",
       "                                                        Title  \\\n",
       "Date                                                            \n",
       "2022-07-19  Putin arrives in Tehran for Iran-Turkey talks ...   \n",
       "\n",
       "                                                         Text  \n",
       "Date                                                           \n",
       "2022-07-19  Vladimir Putin has arrived in Tehran on his se...  "
      ]
     },
     "execution_count": 3,
     "metadata": {},
     "output_type": "execute_result"
    }
   ],
   "source": [
    "data.head(1)"
   ]
  },
  {
   "cell_type": "markdown",
   "metadata": {},
   "source": [
    "#### LDA topic identification"
   ]
  },
  {
   "cell_type": "code",
   "execution_count": 4,
   "metadata": {},
   "outputs": [
    {
     "name": "stderr",
     "output_type": "stream",
     "text": [
      "INFO:lda:n_documents: 2938\n",
      "INFO:lda:vocab_size: 10000\n",
      "INFO:lda:n_words: 1302716\n",
      "INFO:lda:n_topics: 30\n",
      "INFO:lda:n_iter: 2000\n",
      "INFO:lda:<0> log likelihood: -15749392\n",
      "INFO:lda:<100> log likelihood: -11129536\n",
      "INFO:lda:<200> log likelihood: -11040875\n",
      "INFO:lda:<300> log likelihood: -11013903\n",
      "INFO:lda:<400> log likelihood: -11004468\n",
      "INFO:lda:<500> log likelihood: -10988993\n",
      "INFO:lda:<600> log likelihood: -10984741\n",
      "INFO:lda:<700> log likelihood: -10983395\n",
      "INFO:lda:<800> log likelihood: -10978994\n",
      "INFO:lda:<900> log likelihood: -10972585\n",
      "INFO:lda:<1000> log likelihood: -10973737\n",
      "INFO:lda:<1100> log likelihood: -10967999\n",
      "INFO:lda:<1200> log likelihood: -10961513\n",
      "INFO:lda:<1300> log likelihood: -10958950\n",
      "INFO:lda:<1400> log likelihood: -10952109\n",
      "INFO:lda:<1500> log likelihood: -10953673\n",
      "INFO:lda:<1600> log likelihood: -10951152\n",
      "INFO:lda:<1700> log likelihood: -10947954\n",
      "INFO:lda:<1800> log likelihood: -10944052\n",
      "INFO:lda:<1900> log likelihood: -10943747\n",
      "INFO:lda:<1999> log likelihood: -10941275\n"
     ]
    }
   ],
   "source": [
    "doc_topic, topic_word, vocabulary = learn_topics(data, topicnum=30, vocabsize=10000, num_iter=2000) "
   ]
  },
  {
   "cell_type": "code",
   "execution_count": 5,
   "metadata": {},
   "outputs": [],
   "source": [
    "topics = []\n",
    "for i in range(len(data)):\n",
    "    topics.append(doc_topic[i].argmax())"
   ]
  },
  {
   "cell_type": "code",
   "execution_count": 6,
   "metadata": {},
   "outputs": [
    {
     "name": "stdout",
     "output_type": "stream",
     "text": [
      "Putin arrives in Tehran for Iran-Turkey talks over Ukraine TOPIC: 5\n",
      "Ukrainian boy held hostage by Russia tells of cleaning up torture rooms TOPIC: 16\n",
      "Russia-Ukraine war at a glance: what we know on day 146 of the invasion TOPIC: 22\n",
      "Putin arrives in Tehran for Iran-Turkey talks over Ukraine TOPIC: 22\n",
      "Human rights groups criticise EU’s Azerbaijan gas deal TOPIC: 14\n",
      "Russia-Ukraine war at a glance: what we know on day 146 of the invasion TOPIC: 22\n",
      "North Korean labour could be sent to rebuild Donbas, Russian ambassador says TOPIC: 15\n",
      "‘They have come to destroy us’: Ukrainians on the frontline in Donbas TOPIC: 6\n",
      "The Guardian view on Italy’s political crisis: Draghi should stay for now  TOPIC: 10\n",
      "‘They have come to destroy us’: Ukrainians on the frontline in Donbas TOPIC: 6\n"
     ]
    }
   ],
   "source": [
    "for i in range(10):\n",
    "    print(f\"{data.iloc[i][1]} TOPIC: {doc_topic[i].argmax()}\")"
   ]
  },
  {
   "cell_type": "code",
   "execution_count": 7,
   "metadata": {},
   "outputs": [
    {
     "name": "stdout",
     "output_type": "stream",
     "text": [
      "Topic 0: mariupol said russian city the civilians russia\n",
      "Topic 1: sanctions russian russia the eu bank banks\n",
      "Topic 2: it we people like but he don\n",
      "Topic 3: australia australian government the morrison israel minister\n",
      "Topic 4: ukraine russian military forces weapons russia us\n",
      "Topic 5: food grain ukraine the world sea black\n",
      "Topic 6: russian ukraine ukrainian said russia region forces\n",
      "Topic 7: media russian news the ukraine russia said\n",
      "Topic 8: city kyiv russian said people ukrainian the\n",
      "Topic 9: russian putin war russia the soviet ukraine\n",
      "Topic 10: it in but time new this that\n",
      "Topic 11: us biden president zelenskiy putin trump the\n",
      "Topic 12: prices the said year global inflation price\n",
      "Topic 13: ukraine putin russia war the nato west\n",
      "Topic 14: gas oil energy russian the russia europe\n",
      "Topic 15: china nuclear russia us the un beijing\n",
      "Topic 16: said the russian soldiers they he guardian\n",
      "Topic 17: war crimes the bucha civilians international russian\n",
      "Topic 18: said ukraine russian ukrainian war soldiers the\n",
      "Topic 19: russian ukraine russia us the attack military\n",
      "Topic 20: ukraine people ukrainian refugees help support poland\n",
      "Topic 21: the ukrainian ukraine film music art cultural\n",
      "Topic 22: said ukraine russia russian president the zelenskiy\n",
      "Topic 23: the ukraine russia world football team country\n",
      "Topic 24: eu nato european germany german the scholz\n",
      "Topic 25: uk johnson minister british the britain government\n",
      "Topic 26: the sanctions russian said uk abramovich putin\n",
      "Topic 27: russia said russian company the ukraine companies\n",
      "Topic 28: children said family she the says home\n",
      "Topic 29: uk said refugees visa the government ukrainians\n"
     ]
    }
   ],
   "source": [
    "for i, topic_dist in enumerate(topic_word):\n",
    "    topic_words = np.array(vocabulary)[np.argsort(topic_dist)][:-8:-1]\n",
    "    print(\"Topic {}: {}\".format(i, \" \".join(topic_words)))\n"
   ]
  },
  {
   "cell_type": "code",
   "execution_count": 8,
   "metadata": {},
   "outputs": [
    {
     "data": {
      "text/plain": [
       "('/Users/r2/Code/ukraine-media/results/GuardianTopicMixtures.txt',\n",
       " '/Users/r2/Code/ukraine-media/results/GuardianTopics.txt',\n",
       " '/Users/r2/Code/ukraine-media/results/GuardianVocab.txt')"
      ]
     },
     "execution_count": 8,
     "metadata": {},
     "output_type": "execute_result"
    }
   ],
   "source": [
    "source = \"Guardian\"\n",
    "save_topicmodel(doc_topic, topic_word, vocabulary, source)"
   ]
  },
  {
   "cell_type": "code",
   "execution_count": 9,
   "metadata": {},
   "outputs": [
    {
     "name": "stderr",
     "output_type": "stream",
     "text": [
      "/Users/r2/Code/ukraine-media/scrapers/utilities.py:142: FutureWarning: arrays to stack must be passed as a \"sequence\" type such as list or tuple. Support for non-sequence iterables such as generators is deprecated as of NumPy 1.16 and will raise an error in the future.\n",
      "  np.savetxt(outpath, np.vstack(zip(novelties, transiences, resonances)))\n"
     ]
    }
   ],
   "source": [
    "period = 7\n",
    "novelties, transiences, resonances = novelty_transience_resonance(doc_topic, period)\n",
    "\n",
    "for index in range(0,period):\n",
    "    transiences.insert(0, 0)\n",
    "    transiences.append(0)\n",
    "    novelties.insert(0, 0)\n",
    "    novelties.append(0)\n",
    "    resonances.insert(0, 0)\n",
    "    resonances.append(0)\n",
    "\n",
    "save_novel_trans_reson(novelties, transiences, resonances, source)"
   ]
  },
  {
   "cell_type": "code",
   "execution_count": 15,
   "metadata": {},
   "outputs": [
    {
     "data": {
      "text/html": [
       "<div>\n",
       "<style scoped>\n",
       "    .dataframe tbody tr th:only-of-type {\n",
       "        vertical-align: middle;\n",
       "    }\n",
       "\n",
       "    .dataframe tbody tr th {\n",
       "        vertical-align: top;\n",
       "    }\n",
       "\n",
       "    .dataframe thead th {\n",
       "        text-align: right;\n",
       "    }\n",
       "</style>\n",
       "<table border=\"1\" class=\"dataframe\">\n",
       "  <thead>\n",
       "    <tr style=\"text-align: right;\">\n",
       "      <th></th>\n",
       "      <th>URL</th>\n",
       "      <th>Title</th>\n",
       "      <th>Text</th>\n",
       "      <th>Novelty</th>\n",
       "      <th>Transience</th>\n",
       "      <th>Resonance</th>\n",
       "      <th>Topic</th>\n",
       "    </tr>\n",
       "    <tr>\n",
       "      <th>Date</th>\n",
       "      <th></th>\n",
       "      <th></th>\n",
       "      <th></th>\n",
       "      <th></th>\n",
       "      <th></th>\n",
       "      <th></th>\n",
       "      <th></th>\n",
       "    </tr>\n",
       "  </thead>\n",
       "  <tbody>\n",
       "    <tr>\n",
       "      <th>2022-07-19</th>\n",
       "      <td>https://www.theguardian.com/world/2022/jul/19/...</td>\n",
       "      <td>Putin arrives in Tehran for Iran-Turkey talks ...</td>\n",
       "      <td>Vladimir Putin has arrived in Tehran on his se...</td>\n",
       "      <td>0.0</td>\n",
       "      <td>0.0</td>\n",
       "      <td>0.0</td>\n",
       "      <td>5</td>\n",
       "    </tr>\n",
       "    <tr>\n",
       "      <th>2022-07-19</th>\n",
       "      <td>https://www.theguardian.com/world/2022/jul/19/...</td>\n",
       "      <td>Ukrainian boy held hostage by Russia tells of ...</td>\n",
       "      <td>A 16-year-old Ukrainian boy has described how ...</td>\n",
       "      <td>0.0</td>\n",
       "      <td>0.0</td>\n",
       "      <td>0.0</td>\n",
       "      <td>16</td>\n",
       "    </tr>\n",
       "    <tr>\n",
       "      <th>2022-07-19</th>\n",
       "      <td>https://www.theguardian.com/world/2022/jul/19/...</td>\n",
       "      <td>Russia-Ukraine war at a glance: what we know o...</td>\n",
       "      <td>The European Union is set to add Russia’s big...</td>\n",
       "      <td>0.0</td>\n",
       "      <td>0.0</td>\n",
       "      <td>0.0</td>\n",
       "      <td>22</td>\n",
       "    </tr>\n",
       "    <tr>\n",
       "      <th>2022-07-19</th>\n",
       "      <td>https://www.theguardian.com/world/2022/jul/19/...</td>\n",
       "      <td>Putin arrives in Tehran for Iran-Turkey talks ...</td>\n",
       "      <td>Vladimir Putin has arrived in Tehran on his se...</td>\n",
       "      <td>0.0</td>\n",
       "      <td>0.0</td>\n",
       "      <td>0.0</td>\n",
       "      <td>22</td>\n",
       "    </tr>\n",
       "    <tr>\n",
       "      <th>2022-07-19</th>\n",
       "      <td>https://www.theguardian.com/world/2022/jul/19/...</td>\n",
       "      <td>Human rights groups criticise EU’s Azerbaijan ...</td>\n",
       "      <td>Human rights groups have criticised an EU deal...</td>\n",
       "      <td>0.0</td>\n",
       "      <td>0.0</td>\n",
       "      <td>0.0</td>\n",
       "      <td>14</td>\n",
       "    </tr>\n",
       "  </tbody>\n",
       "</table>\n",
       "</div>"
      ],
      "text/plain": [
       "                                                          URL  \\\n",
       "Date                                                            \n",
       "2022-07-19  https://www.theguardian.com/world/2022/jul/19/...   \n",
       "2022-07-19  https://www.theguardian.com/world/2022/jul/19/...   \n",
       "2022-07-19  https://www.theguardian.com/world/2022/jul/19/...   \n",
       "2022-07-19  https://www.theguardian.com/world/2022/jul/19/...   \n",
       "2022-07-19  https://www.theguardian.com/world/2022/jul/19/...   \n",
       "\n",
       "                                                        Title  \\\n",
       "Date                                                            \n",
       "2022-07-19  Putin arrives in Tehran for Iran-Turkey talks ...   \n",
       "2022-07-19  Ukrainian boy held hostage by Russia tells of ...   \n",
       "2022-07-19  Russia-Ukraine war at a glance: what we know o...   \n",
       "2022-07-19  Putin arrives in Tehran for Iran-Turkey talks ...   \n",
       "2022-07-19  Human rights groups criticise EU’s Azerbaijan ...   \n",
       "\n",
       "                                                         Text  Novelty  \\\n",
       "Date                                                                     \n",
       "2022-07-19  Vladimir Putin has arrived in Tehran on his se...      0.0   \n",
       "2022-07-19  A 16-year-old Ukrainian boy has described how ...      0.0   \n",
       "2022-07-19   The European Union is set to add Russia’s big...      0.0   \n",
       "2022-07-19  Vladimir Putin has arrived in Tehran on his se...      0.0   \n",
       "2022-07-19  Human rights groups have criticised an EU deal...      0.0   \n",
       "\n",
       "            Transience  Resonance  Topic  \n",
       "Date                                      \n",
       "2022-07-19         0.0        0.0      5  \n",
       "2022-07-19         0.0        0.0     16  \n",
       "2022-07-19         0.0        0.0     22  \n",
       "2022-07-19         0.0        0.0     22  \n",
       "2022-07-19         0.0        0.0     14  "
      ]
     },
     "execution_count": 15,
     "metadata": {},
     "output_type": "execute_result"
    }
   ],
   "source": [
    "ntr_data = data\n",
    "ntr_data['Novelty'] = novelties\n",
    "ntr_data['Transience'] = novelties\n",
    "ntr_data['Resonance'] = resonances\n",
    "ntr_data['Topic'] = topics\n",
    "\n",
    "ntr_data.to_csv(PARENT_DIR + \"/data/\"+ source + \"_ntr.csv\")\n",
    "ntr_data.head(5)"
   ]
  },
  {
   "cell_type": "code",
   "execution_count": 12,
   "metadata": {},
   "outputs": [],
   "source": [
    "import matplotlib.pyplot as plt\n",
    "import matplotlib.dates as mdates\n",
    "from matplotlib.dates import DateFormatter\n",
    "import datetime\n",
    "import numpy as np\n",
    "import pandas as pd\n",
    "import seaborn as sns\n",
    "%matplotlib inline"
   ]
  },
  {
   "cell_type": "code",
   "execution_count": 19,
   "metadata": {},
   "outputs": [
    {
     "name": "stdout",
     "output_type": "stream",
     "text": [
      "2938\n"
     ]
    }
   ],
   "source": [
    "ntr_data = pd.read_csv(PARENT_DIR + \"/data/Guardian_ntr.csv\", parse_dates=['Date'], index_col= ['Date'])\n",
    "ntr_data.head()\n",
    "#print(len(ntr_data))"
   ]
  },
  {
   "cell_type": "code",
   "execution_count": 21,
   "metadata": {},
   "outputs": [
    {
     "data": {
      "image/png": "[encoded data removed]",
      "text/plain": [
       "<Figure size 864x576 with 1 Axes>"
      ]
     },
     "metadata": {
      "needs_background": "light"
     },
     "output_type": "display_data"
    }
   ],
   "source": [
    "fig, ax = plt.subplots(figsize=(12, 8))\n",
    "\n",
    "ax.plot(ntr_data.index.values,\n",
    "       ntr_data['Resonance'],\n",
    "       color='purple')\n",
    "\n",
    "ax.set(xlabel=\"Date\",\n",
    "       ylabel=\"Resonance\",\n",
    "       title=\"Daily Resonance\")\n",
    "\n",
    "date_form = DateFormatter(\"%m-%d\")\n",
    "ax.xaxis.set_major_formatter(date_form)"
   ]
  }
 ],
 "metadata": {
  "kernelspec": {
   "display_name": "Python 3.10.5 ('.venv': venv)",
   "language": "python",
   "name": "python3"
  },
  "language_info": {
   "codemirror_mode": {
    "name": "ipython",
    "version": 3
   },
   "file_extension": ".py",
   "mimetype": "text/x-python",
   "name": "python",
   "nbconvert_exporter": "python",
   "pygments_lexer": "ipython3",
   "version": "3.10.5"
  },
  "orig_nbformat": 4,
  "vscode": {
   "interpreter": {
    "hash": "71a723942456804a71d025442f2ccd3a5c8db2153e1c9e51f0af23a7e755532d"
   }
  }
 },
 "nbformat": 4,
 "nbformat_minor": 2
}
