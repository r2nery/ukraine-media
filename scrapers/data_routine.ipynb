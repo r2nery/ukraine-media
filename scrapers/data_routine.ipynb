{
 "cells": [
  {
   "cell_type": "code",
   "execution_count": 1,
   "metadata": {},
   "outputs": [],
   "source": [
    "from utilities import *\n",
    "\n",
    "ROOT_DIR = os.path.dirname(os.path.abspath(\"__file__\"))\n",
    "PARENT_DIR = os.path.dirname(ROOT_DIR)"
   ]
  },
  {
   "cell_type": "code",
   "execution_count": 2,
   "metadata": {},
   "outputs": [
    {
     "name": "stdout",
     "output_type": "stream",
     "text": [
      "→ Guardian API Request |████████████████████████████████████████| (!) 65 in 18.4s (3.53/s) \n",
      "→ 36 new articles saved to Guardian.csv! Total articles: 3814\n",
      "→ Reuters Scraper |█████████████████████████████████████▍⚠︎ | (!) 29/31 [94%] in 37.0s (0.78/s)                          \n",
      "→ 29 new articles saved to Reuters.csv! Total articles: 11582\n",
      "\n",
      "→ Starting Guardian data LDA...\n"
     ]
    },
    {
     "name": "stderr",
     "output_type": "stream",
     "text": [
      "INFO:lda:n_documents: 3814\n",
      "INFO:lda:vocab_size: 10000\n",
      "INFO:lda:n_words: 1676136\n",
      "INFO:lda:n_topics: 30\n",
      "INFO:lda:n_iter: 100\n",
      "INFO:lda:<0> log likelihood: -20213184\n",
      "INFO:lda:<99> log likelihood: -14373333\n"
     ]
    },
    {
     "name": "stdout",
     "output_type": "stream",
     "text": [
      "→ Starting Reuters data LDA...\n"
     ]
    },
    {
     "name": "stderr",
     "output_type": "stream",
     "text": [
      "INFO:lda:n_documents: 11582\n",
      "INFO:lda:vocab_size: 10000\n",
      "INFO:lda:n_words: 2183178\n",
      "INFO:lda:n_topics: 30\n",
      "INFO:lda:n_iter: 100\n",
      "INFO:lda:<0> log likelihood: -26128991\n",
      "INFO:lda:<99> log likelihood: -17860828\n"
     ]
    },
    {
     "name": "stdout",
     "output_type": "stream",
     "text": [
      "→ All LDA data saved. Ready for plotting\n"
     ]
    }
   ],
   "source": [
    "NTR_Routine(\n",
    "    period=7,\n",
    "    topicnum=30, \n",
    "    vocabsize=10000, \n",
    "    num_iter=100\n",
    "    )"
   ]
  }
 ],
 "metadata": {
  "kernelspec": {
   "display_name": "Python 3.10.5 ('.venv': venv)",
   "language": "python",
   "name": "python3"
  },
  "language_info": {
   "codemirror_mode": {
    "name": "ipython",
    "version": 3
   },
   "file_extension": ".py",
   "mimetype": "text/x-python",
   "name": "python",
   "nbconvert_exporter": "python",
   "pygments_lexer": "ipython3",
   "version": "3.10.5"
  },
  "orig_nbformat": 4,
  "vscode": {
   "interpreter": {
    "hash": "71a723942456804a71d025442f2ccd3a5c8db2153e1c9e51f0af23a7e755532d"
   }
  }
 },
 "nbformat": 4,
 "nbformat_minor": 2
}
