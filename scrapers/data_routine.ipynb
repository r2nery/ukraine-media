{
 "cells": [
  {
   "cell_type": "code",
   "execution_count": 1,
   "metadata": {},
   "outputs": [],
   "source": [
    "from utilities import *\n",
    "\n",
    "ROOT_DIR = os.path.dirname(os.path.abspath(\"__file__\"))\n",
    "PARENT_DIR = os.path.dirname(ROOT_DIR)\n"
   ]
  },
  {
   "cell_type": "code",
   "execution_count": 2,
   "metadata": {},
   "outputs": [
    {
     "name": "stdout",
     "output_type": "stream",
     "text": [
      "-> CSV file found with 3771 articles! Latest article date: 2022-07-22\n",
      "-> Checking articles from latest date onward...\n",
      "-> Ukraine API Query |████████████████████████████████████████| (!) 3 in 2.1s (1.46/s) \n",
      "-> Russia API Query |████████████████████████████████████████| (!) 3 in 2.0s (1.53/s) \n",
      "-> 1 new articles saved to Guardian.csv! Total articles: 3772\n",
      "-> Last page scraped: 2\n",
      "-> Scraper |████████████████████████████████████████| 2/2 [100%] in 4.5s (0.45/s)                                       \n",
      "-> 32 URLs fetched successfully!\n",
      "-> Scraper |███████████████████████████████████⚠︎    | (!) 28/32 [88%] in 33.0s (0.85/s)                                 \n",
      "-> New data fetched successfully!\n"
     ]
    },
    {
     "name": "stderr",
     "output_type": "stream",
     "text": [
      "INFO:lda:n_documents: 3772\n",
      "INFO:lda:vocab_size: 10000\n",
      "INFO:lda:n_words: 1656286\n",
      "INFO:lda:n_topics: 30\n",
      "INFO:lda:n_iter: 100\n",
      "INFO:lda:<0> log likelihood: -19979426\n",
      "INFO:lda:<99> log likelihood: -14208758\n",
      "/Users/r2/Code/ukraine-media/scrapers/utilities.py:144: FutureWarning: arrays to stack must be passed as a \"sequence\" type such as list or tuple. Support for non-sequence iterables such as generators is deprecated as of NumPy 1.16 and will raise an error in the future.\n",
      "  np.savetxt(outpath, np.vstack(zip(novelties, transiences, resonances)))\n",
      "INFO:lda:n_documents: 11540\n",
      "INFO:lda:vocab_size: 10000\n",
      "INFO:lda:n_words: 2172041\n",
      "INFO:lda:n_topics: 30\n",
      "INFO:lda:n_iter: 100\n",
      "INFO:lda:<0> log likelihood: -25998434\n",
      "INFO:lda:<99> log likelihood: -17797180\n",
      "/Users/r2/Code/ukraine-media/scrapers/utilities.py:144: FutureWarning: arrays to stack must be passed as a \"sequence\" type such as list or tuple. Support for non-sequence iterables such as generators is deprecated as of NumPy 1.16 and will raise an error in the future.\n",
      "  np.savetxt(outpath, np.vstack(zip(novelties, transiences, resonances)))\n"
     ]
    }
   ],
   "source": [
    "NTR_Routine(\n",
    "    scrapers=[guardianScraper(),reutersScraper()],\n",
    "    sources=[\"Guardian\", \"Reuters\"],\n",
    "    period=7,\n",
    "    topicnum=30, \n",
    "    vocabsize=10000, \n",
    "    num_iter=100\n",
    "    )"
   ]
  },
  {
   "cell_type": "code",
   "execution_count": null,
   "metadata": {},
   "outputs": [],
   "source": []
  }
 ],
 "metadata": {
  "kernelspec": {
   "display_name": "Python 3.10.5 ('.venv': venv)",
   "language": "python",
   "name": "python3"
  },
  "language_info": {
   "codemirror_mode": {
    "name": "ipython",
    "version": 3
   },
   "file_extension": ".py",
   "mimetype": "text/x-python",
   "name": "python",
   "nbconvert_exporter": "python",
   "pygments_lexer": "ipython3",
   "version": "3.10.5"
  },
  "orig_nbformat": 4,
  "vscode": {
   "interpreter": {
    "hash": "71a723942456804a71d025442f2ccd3a5c8db2153e1c9e51f0af23a7e755532d"
   }
  }
 },
 "nbformat": 4,
 "nbformat_minor": 2
}
