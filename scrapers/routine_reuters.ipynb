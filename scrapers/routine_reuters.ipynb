{
 "cells": [
  {
   "cell_type": "markdown",
   "metadata": {},
   "source": [
    "# Data"
   ]
  },
  {
   "cell_type": "markdown",
   "metadata": {},
   "source": [
    "#### Updating data"
   ]
  },
  {
   "cell_type": "code",
   "execution_count": 1,
   "metadata": {},
   "outputs": [],
   "source": [
    "from utilities import *\n",
    "from Reuters import *\n",
    "\n",
    "ROOT_DIR = os.path.dirname(os.path.abspath(\"__file__\"))\n",
    "PARENT_DIR = os.path.dirname(ROOT_DIR)\n",
    "source = \"Reuters\""
   ]
  },
  {
   "cell_type": "code",
   "execution_count": 2,
   "metadata": {},
   "outputs": [
    {
     "name": "stdout",
     "output_type": "stream",
     "text": [
      "-> Last page scraped: 2\n",
      "-> Scraper |████████████████████████████████████████| 2/2 [100%] in 4.6s (0.44/s)                                       \n",
      "-> 31 URLs fetched successfully!\n",
      "-> Scraper |██████████████████████████████████▉⚠︎    | (!) 27/31 [87%] in 29.8s (0.91/s)                                 \n",
      "-> New data fetched successfully!\n"
     ]
    }
   ],
   "source": [
    "data = reutersScraper()\n",
    "\n",
    "data.to_csv(PARENT_DIR + \"/data/\" + source + \".csv\", index=True)"
   ]
  },
  {
   "cell_type": "code",
   "execution_count": 3,
   "metadata": {},
   "outputs": [
    {
     "data": {
      "text/html": [
       "<div>\n",
       "<style scoped>\n",
       "    .dataframe tbody tr th:only-of-type {\n",
       "        vertical-align: middle;\n",
       "    }\n",
       "\n",
       "    .dataframe tbody tr th {\n",
       "        vertical-align: top;\n",
       "    }\n",
       "\n",
       "    .dataframe thead th {\n",
       "        text-align: right;\n",
       "    }\n",
       "</style>\n",
       "<table border=\"1\" class=\"dataframe\">\n",
       "  <thead>\n",
       "    <tr style=\"text-align: right;\">\n",
       "      <th></th>\n",
       "      <th>URL</th>\n",
       "      <th>Title</th>\n",
       "      <th>Text</th>\n",
       "    </tr>\n",
       "    <tr>\n",
       "      <th>Date</th>\n",
       "      <th></th>\n",
       "      <th></th>\n",
       "      <th></th>\n",
       "    </tr>\n",
       "  </thead>\n",
       "  <tbody>\n",
       "    <tr>\n",
       "      <th>2022-07-22</th>\n",
       "      <td>https://www.reuters.com/article/ukraine-crisis...</td>\n",
       "      <td>Nord Stream flows stable, Eastbound Yamal flow...</td>\n",
       "      <td>Physical flows of Russian gas through Nord St...</td>\n",
       "    </tr>\n",
       "  </tbody>\n",
       "</table>\n",
       "</div>"
      ],
      "text/plain": [
       "                                                          URL  \\\n",
       "Date                                                            \n",
       "2022-07-22  https://www.reuters.com/article/ukraine-crisis...   \n",
       "\n",
       "                                                        Title  \\\n",
       "Date                                                            \n",
       "2022-07-22  Nord Stream flows stable, Eastbound Yamal flow...   \n",
       "\n",
       "                                                         Text  \n",
       "Date                                                           \n",
       "2022-07-22   Physical flows of Russian gas through Nord St...  "
      ]
     },
     "execution_count": 3,
     "metadata": {},
     "output_type": "execute_result"
    }
   ],
   "source": [
    "data.head(1)"
   ]
  },
  {
   "cell_type": "markdown",
   "metadata": {},
   "source": [
    "#### LDA topic identification"
   ]
  },
  {
   "cell_type": "code",
   "execution_count": 4,
   "metadata": {},
   "outputs": [
    {
     "name": "stderr",
     "output_type": "stream",
     "text": [
      "INFO:lda:n_documents: 11537\n",
      "INFO:lda:vocab_size: 10000\n",
      "INFO:lda:n_words: 2171212\n",
      "INFO:lda:n_topics: 30\n",
      "INFO:lda:n_iter: 2000\n",
      "INFO:lda:<0> log likelihood: -25988175\n",
      "INFO:lda:<100> log likelihood: -17820707\n",
      "INFO:lda:<200> log likelihood: -17694176\n",
      "INFO:lda:<300> log likelihood: -17658884\n",
      "INFO:lda:<400> log likelihood: -17632288\n",
      "INFO:lda:<500> log likelihood: -17618239\n",
      "INFO:lda:<600> log likelihood: -17613076\n",
      "INFO:lda:<700> log likelihood: -17606770\n",
      "INFO:lda:<800> log likelihood: -17610814\n",
      "INFO:lda:<900> log likelihood: -17605255\n",
      "INFO:lda:<1000> log likelihood: -17602692\n",
      "INFO:lda:<1100> log likelihood: -17605549\n",
      "INFO:lda:<1200> log likelihood: -17602125\n",
      "INFO:lda:<1300> log likelihood: -17604305\n",
      "INFO:lda:<1400> log likelihood: -17596584\n",
      "INFO:lda:<1500> log likelihood: -17593702\n",
      "INFO:lda:<1600> log likelihood: -17599177\n",
      "INFO:lda:<1700> log likelihood: -17590723\n",
      "INFO:lda:<1800> log likelihood: -17596631\n",
      "INFO:lda:<1900> log likelihood: -17591946\n",
      "INFO:lda:<1999> log likelihood: -17592817\n"
     ]
    }
   ],
   "source": [
    "doc_topic, topic_word, vocabulary = learn_topics(data, topicnum=30, vocabsize=10000, num_iter=2000) "
   ]
  },
  {
   "cell_type": "code",
   "execution_count": 5,
   "metadata": {},
   "outputs": [],
   "source": [
    "topics = []\n",
    "for i in range(len(data)):\n",
    "    topics.append(doc_topic[i].argmax())"
   ]
  },
  {
   "cell_type": "code",
   "execution_count": 6,
   "metadata": {},
   "outputs": [
    {
     "name": "stdout",
     "output_type": "stream",
     "text": [
      "Nord Stream flows stable, Eastbound Yamal flows decline TOPIC: 7\n",
      "Ukraine and Russia: What you need to know right now TOPIC: 23\n",
      "Kremlin rejects report Nord Stream turbine is stuck in transit TOPIC: 7\n",
      "Uniper's Finnish parent Fortum agrees to Germany's bailout deal - sources TOPIC: 7\n",
      "Analysis: Ukraine war rekindles Europe's demand for African oil and gas TOPIC: 5\n",
      "Rotterdam port says coal, LNG surged in H1, Russian imports fell TOPIC: 5\n",
      "Ukraine-Russia grains deal to be signed in Turkey this afternoon - U.N. TOPIC: 3\n",
      "French lawmakers back Macron's promised inflation relief TOPIC: 20\n",
      "Belarus appoints new envoy to Moscow TOPIC: 6\n",
      "China criticises Japan's defence white paper for making \"accusations\" TOPIC: 26\n"
     ]
    }
   ],
   "source": [
    "for i in range(10):\n",
    "    print(f\"{data.iloc[i][1]} TOPIC: {doc_topic[i].argmax()}\")"
   ]
  },
  {
   "cell_type": "code",
   "execution_count": 7,
   "metadata": {},
   "outputs": [
    {
     "name": "stdout",
     "output_type": "stream",
     "text": [
      "Topic 0: said mariupol city civilians ukrainian ukraine russian\n",
      "Topic 1: said it we but told that time\n",
      "Topic 2: turkey nato said finland sweden turkish russia\n",
      "Topic 3: russia the said ukraine russian war crimes\n",
      "Topic 4: russia said company companies the ukraine russian\n",
      "Topic 5: oil russian russia crude million said the\n",
      "Topic 6: ukraine russia said russian moscow troops nato\n",
      "Topic 7: gas energy said europe germany pipeline russian\n",
      "Topic 8: russia putin russian moscow said president kremlin\n",
      "Topic 9: biden said united president states the ukraine\n",
      "Topic 10: ukraine russia said ukrainian zelenskiy war russian\n",
      "Topic 11: said ukraine people refugees poland border million\n",
      "Topic 12: said the russian media russia court navalny\n",
      "Topic 13: sanctions russian russia the said banks financial\n",
      "Topic 14: the year inflation prices said ukraine growth\n",
      "Topic 15: said covid the health vaccine sputnik million\n",
      "Topic 16: russia russian rouble the bank said sanctions\n",
      "Topic 17: said russian russia iran the foreign ministry\n",
      "Topic 18: nuclear said north korea the power space\n",
      "Topic 19: ukraine military weapons defence the said forces\n",
      "Topic 20: party government election the parliament minister vote\n",
      "Topic 21: said russian sea the black russia aircraft\n",
      "Topic 22: said people the it year war we\n",
      "Topic 23: food ukraine said grain global world exports\n",
      "Topic 24: nato said minister britain british johnson ukraine\n",
      "Topic 25: billion said russia bank million euros the\n",
      "Topic 26: china said japan russia taiwan chinese countries\n",
      "Topic 27: said russian ukrainian ukraine forces region russia\n",
      "Topic 28: said germany german scholz french france macron\n",
      "Topic 29: eu european union said the ukraine countries\n"
     ]
    }
   ],
   "source": [
    "for i, topic_dist in enumerate(topic_word):\n",
    "    topic_words = np.array(vocabulary)[np.argsort(topic_dist)][:-8:-1]\n",
    "    print(\"Topic {}: {}\".format(i, \" \".join(topic_words)))\n"
   ]
  },
  {
   "cell_type": "code",
   "execution_count": 8,
   "metadata": {},
   "outputs": [
    {
     "data": {
      "text/plain": [
       "('/Users/r2/Code/ukraine-media/results/ReutersTopicMixtures.txt',\n",
       " '/Users/r2/Code/ukraine-media/results/ReutersTopics.txt',\n",
       " '/Users/r2/Code/ukraine-media/results/ReutersVocab.txt')"
      ]
     },
     "execution_count": 8,
     "metadata": {},
     "output_type": "execute_result"
    }
   ],
   "source": [
    "save_topicmodel(doc_topic, topic_word, vocabulary, source)"
   ]
  },
  {
   "cell_type": "code",
   "execution_count": 9,
   "metadata": {},
   "outputs": [
    {
     "name": "stderr",
     "output_type": "stream",
     "text": [
      "/Users/r2/Code/ukraine-media/scrapers/utilities.py:142: FutureWarning: arrays to stack must be passed as a \"sequence\" type such as list or tuple. Support for non-sequence iterables such as generators is deprecated as of NumPy 1.16 and will raise an error in the future.\n",
      "  np.savetxt(outpath, np.vstack(zip(novelties, transiences, resonances)))\n"
     ]
    }
   ],
   "source": [
    "period = 7\n",
    "novelties, transiences, resonances = novelty_transience_resonance(doc_topic, period)\n",
    "\n",
    "for index in range(0,period):\n",
    "    transiences.insert(0, 0)\n",
    "    transiences.append(0)\n",
    "    novelties.insert(0, 0)\n",
    "    novelties.append(0)\n",
    "    resonances.insert(0, 0)\n",
    "    resonances.append(0)\n",
    "\n",
    "save_novel_trans_reson(novelties, transiences, resonances, source)"
   ]
  },
  {
   "cell_type": "code",
   "execution_count": 10,
   "metadata": {},
   "outputs": [
    {
     "data": {
      "text/html": [
       "<div>\n",
       "<style scoped>\n",
       "    .dataframe tbody tr th:only-of-type {\n",
       "        vertical-align: middle;\n",
       "    }\n",
       "\n",
       "    .dataframe tbody tr th {\n",
       "        vertical-align: top;\n",
       "    }\n",
       "\n",
       "    .dataframe thead th {\n",
       "        text-align: right;\n",
       "    }\n",
       "</style>\n",
       "<table border=\"1\" class=\"dataframe\">\n",
       "  <thead>\n",
       "    <tr style=\"text-align: right;\">\n",
       "      <th></th>\n",
       "      <th>URL</th>\n",
       "      <th>Title</th>\n",
       "      <th>Text</th>\n",
       "      <th>Novelty</th>\n",
       "      <th>Transience</th>\n",
       "      <th>Resonance</th>\n",
       "      <th>Topic</th>\n",
       "    </tr>\n",
       "    <tr>\n",
       "      <th>Date</th>\n",
       "      <th></th>\n",
       "      <th></th>\n",
       "      <th></th>\n",
       "      <th></th>\n",
       "      <th></th>\n",
       "      <th></th>\n",
       "      <th></th>\n",
       "    </tr>\n",
       "  </thead>\n",
       "  <tbody>\n",
       "    <tr>\n",
       "      <th>2022-07-22</th>\n",
       "      <td>https://www.reuters.com/article/ukraine-crisis...</td>\n",
       "      <td>Nord Stream flows stable, Eastbound Yamal flow...</td>\n",
       "      <td>Physical flows of Russian gas through Nord St...</td>\n",
       "      <td>0.0</td>\n",
       "      <td>0.0</td>\n",
       "      <td>0.0</td>\n",
       "      <td>7</td>\n",
       "    </tr>\n",
       "    <tr>\n",
       "      <th>2022-07-22</th>\n",
       "      <td>https://www.reuters.com/article/us-ukraine-cri...</td>\n",
       "      <td>Ukraine and Russia: What you need to know righ...</td>\n",
       "      <td>Russia and Ukraine will sign a deal on Friday...</td>\n",
       "      <td>0.0</td>\n",
       "      <td>0.0</td>\n",
       "      <td>0.0</td>\n",
       "      <td>23</td>\n",
       "    </tr>\n",
       "    <tr>\n",
       "      <th>2022-07-22</th>\n",
       "      <td>https://www.reuters.com/article/us-ukraine-cri...</td>\n",
       "      <td>Kremlin rejects report Nord Stream turbine is ...</td>\n",
       "      <td>The Kremlin on Friday rejected a report that ...</td>\n",
       "      <td>0.0</td>\n",
       "      <td>0.0</td>\n",
       "      <td>0.0</td>\n",
       "      <td>7</td>\n",
       "    </tr>\n",
       "    <tr>\n",
       "      <th>2022-07-22</th>\n",
       "      <td>https://www.reuters.com/article/ukraine-crisis...</td>\n",
       "      <td>Uniper's Finnish parent Fortum agrees to Germa...</td>\n",
       "      <td>Uniper (UN01.DE), Finnish parent Fortum (FORT...</td>\n",
       "      <td>0.0</td>\n",
       "      <td>0.0</td>\n",
       "      <td>0.0</td>\n",
       "      <td>7</td>\n",
       "    </tr>\n",
       "    <tr>\n",
       "      <th>2022-07-22</th>\n",
       "      <td>https://www.reuters.com/article/ukraine-crisis...</td>\n",
       "      <td>Analysis: Ukraine war rekindles Europe's deman...</td>\n",
       "      <td>Europe's thirst for oil and gas to replace sa...</td>\n",
       "      <td>0.0</td>\n",
       "      <td>0.0</td>\n",
       "      <td>0.0</td>\n",
       "      <td>5</td>\n",
       "    </tr>\n",
       "  </tbody>\n",
       "</table>\n",
       "</div>"
      ],
      "text/plain": [
       "                                                          URL  \\\n",
       "Date                                                            \n",
       "2022-07-22  https://www.reuters.com/article/ukraine-crisis...   \n",
       "2022-07-22  https://www.reuters.com/article/us-ukraine-cri...   \n",
       "2022-07-22  https://www.reuters.com/article/us-ukraine-cri...   \n",
       "2022-07-22  https://www.reuters.com/article/ukraine-crisis...   \n",
       "2022-07-22  https://www.reuters.com/article/ukraine-crisis...   \n",
       "\n",
       "                                                        Title  \\\n",
       "Date                                                            \n",
       "2022-07-22  Nord Stream flows stable, Eastbound Yamal flow...   \n",
       "2022-07-22  Ukraine and Russia: What you need to know righ...   \n",
       "2022-07-22  Kremlin rejects report Nord Stream turbine is ...   \n",
       "2022-07-22  Uniper's Finnish parent Fortum agrees to Germa...   \n",
       "2022-07-22  Analysis: Ukraine war rekindles Europe's deman...   \n",
       "\n",
       "                                                         Text  Novelty  \\\n",
       "Date                                                                     \n",
       "2022-07-22   Physical flows of Russian gas through Nord St...      0.0   \n",
       "2022-07-22   Russia and Ukraine will sign a deal on Friday...      0.0   \n",
       "2022-07-22   The Kremlin on Friday rejected a report that ...      0.0   \n",
       "2022-07-22   Uniper (UN01.DE), Finnish parent Fortum (FORT...      0.0   \n",
       "2022-07-22   Europe's thirst for oil and gas to replace sa...      0.0   \n",
       "\n",
       "            Transience  Resonance  Topic  \n",
       "Date                                      \n",
       "2022-07-22         0.0        0.0      7  \n",
       "2022-07-22         0.0        0.0     23  \n",
       "2022-07-22         0.0        0.0      7  \n",
       "2022-07-22         0.0        0.0      7  \n",
       "2022-07-22         0.0        0.0      5  "
      ]
     },
     "execution_count": 10,
     "metadata": {},
     "output_type": "execute_result"
    }
   ],
   "source": [
    "ntr_data = data\n",
    "ntr_data['Novelty'] = novelties\n",
    "ntr_data['Transience'] = novelties\n",
    "ntr_data['Resonance'] = resonances\n",
    "ntr_data['Topic'] = topics\n",
    "\n",
    "ntr_data.to_csv(PARENT_DIR + \"/data/\"+ source +\"_ntr.csv\")\n",
    "ntr_data.head(5)"
   ]
  },
  {
   "cell_type": "code",
   "execution_count": 11,
   "metadata": {},
   "outputs": [
    {
     "data": {
      "text/html": [
       "<div>\n",
       "<style scoped>\n",
       "    .dataframe tbody tr th:only-of-type {\n",
       "        vertical-align: middle;\n",
       "    }\n",
       "\n",
       "    .dataframe tbody tr th {\n",
       "        vertical-align: top;\n",
       "    }\n",
       "\n",
       "    .dataframe thead th {\n",
       "        text-align: right;\n",
       "    }\n",
       "</style>\n",
       "<table border=\"1\" class=\"dataframe\">\n",
       "  <thead>\n",
       "    <tr style=\"text-align: right;\">\n",
       "      <th></th>\n",
       "      <th>Novelty</th>\n",
       "      <th>Transience</th>\n",
       "      <th>Resonance</th>\n",
       "      <th>Topic</th>\n",
       "    </tr>\n",
       "  </thead>\n",
       "  <tbody>\n",
       "    <tr>\n",
       "      <th>count</th>\n",
       "      <td>11537.000000</td>\n",
       "      <td>11537.000000</td>\n",
       "      <td>11537.000000</td>\n",
       "      <td>11537.000000</td>\n",
       "    </tr>\n",
       "    <tr>\n",
       "      <th>mean</th>\n",
       "      <td>5.582929</td>\n",
       "      <td>5.582929</td>\n",
       "      <td>-0.012684</td>\n",
       "      <td>14.467886</td>\n",
       "    </tr>\n",
       "    <tr>\n",
       "      <th>std</th>\n",
       "      <td>1.131551</td>\n",
       "      <td>1.131551</td>\n",
       "      <td>1.010007</td>\n",
       "      <td>8.681480</td>\n",
       "    </tr>\n",
       "    <tr>\n",
       "      <th>min</th>\n",
       "      <td>0.000000</td>\n",
       "      <td>0.000000</td>\n",
       "      <td>-4.456502</td>\n",
       "      <td>0.000000</td>\n",
       "    </tr>\n",
       "    <tr>\n",
       "      <th>25%</th>\n",
       "      <td>4.886050</td>\n",
       "      <td>4.886050</td>\n",
       "      <td>-0.648583</td>\n",
       "      <td>7.000000</td>\n",
       "    </tr>\n",
       "    <tr>\n",
       "      <th>50%</th>\n",
       "      <td>5.592300</td>\n",
       "      <td>5.592300</td>\n",
       "      <td>-0.019871</td>\n",
       "      <td>13.000000</td>\n",
       "    </tr>\n",
       "    <tr>\n",
       "      <th>75%</th>\n",
       "      <td>6.308249</td>\n",
       "      <td>6.308249</td>\n",
       "      <td>0.628524</td>\n",
       "      <td>22.000000</td>\n",
       "    </tr>\n",
       "    <tr>\n",
       "      <th>max</th>\n",
       "      <td>9.652024</td>\n",
       "      <td>9.652024</td>\n",
       "      <td>5.530023</td>\n",
       "      <td>29.000000</td>\n",
       "    </tr>\n",
       "  </tbody>\n",
       "</table>\n",
       "</div>"
      ],
      "text/plain": [
       "            Novelty    Transience     Resonance         Topic\n",
       "count  11537.000000  11537.000000  11537.000000  11537.000000\n",
       "mean       5.582929      5.582929     -0.012684     14.467886\n",
       "std        1.131551      1.131551      1.010007      8.681480\n",
       "min        0.000000      0.000000     -4.456502      0.000000\n",
       "25%        4.886050      4.886050     -0.648583      7.000000\n",
       "50%        5.592300      5.592300     -0.019871     13.000000\n",
       "75%        6.308249      6.308249      0.628524     22.000000\n",
       "max        9.652024      9.652024      5.530023     29.000000"
      ]
     },
     "execution_count": 11,
     "metadata": {},
     "output_type": "execute_result"
    }
   ],
   "source": [
    "ntr_data.describe()"
   ]
  },
  {
   "cell_type": "markdown",
   "metadata": {},
   "source": [
    "# Plots"
   ]
  },
  {
   "cell_type": "code",
   "execution_count": 12,
   "metadata": {},
   "outputs": [],
   "source": [
    "import matplotlib.pyplot as plt\n",
    "import matplotlib.dates as mdates\n",
    "from matplotlib.dates import DateFormatter\n",
    "import datetime as dt\n",
    "import numpy as np\n",
    "import pandas as pd\n",
    "import seaborn as sns\n",
    "%matplotlib inline"
   ]
  },
  {
   "cell_type": "code",
   "execution_count": 13,
   "metadata": {},
   "outputs": [
    {
     "data": {
      "text/html": [
       "<div>\n",
       "<style scoped>\n",
       "    .dataframe tbody tr th:only-of-type {\n",
       "        vertical-align: middle;\n",
       "    }\n",
       "\n",
       "    .dataframe tbody tr th {\n",
       "        vertical-align: top;\n",
       "    }\n",
       "\n",
       "    .dataframe thead th {\n",
       "        text-align: right;\n",
       "    }\n",
       "</style>\n",
       "<table border=\"1\" class=\"dataframe\">\n",
       "  <thead>\n",
       "    <tr style=\"text-align: right;\">\n",
       "      <th></th>\n",
       "      <th>URL</th>\n",
       "      <th>Title</th>\n",
       "      <th>Text</th>\n",
       "      <th>Novelty</th>\n",
       "      <th>Transience</th>\n",
       "      <th>Resonance</th>\n",
       "      <th>Topic</th>\n",
       "    </tr>\n",
       "    <tr>\n",
       "      <th>Date</th>\n",
       "      <th></th>\n",
       "      <th></th>\n",
       "      <th></th>\n",
       "      <th></th>\n",
       "      <th></th>\n",
       "      <th></th>\n",
       "      <th></th>\n",
       "    </tr>\n",
       "  </thead>\n",
       "  <tbody>\n",
       "    <tr>\n",
       "      <th>2022-07-22</th>\n",
       "      <td>https://www.reuters.com/article/ukraine-crisis...</td>\n",
       "      <td>Nord Stream flows stable, Eastbound Yamal flow...</td>\n",
       "      <td>Physical flows of Russian gas through Nord St...</td>\n",
       "      <td>0.0</td>\n",
       "      <td>0.0</td>\n",
       "      <td>0.0</td>\n",
       "      <td>7</td>\n",
       "    </tr>\n",
       "    <tr>\n",
       "      <th>2022-07-22</th>\n",
       "      <td>https://www.reuters.com/article/us-ukraine-cri...</td>\n",
       "      <td>Ukraine and Russia: What you need to know righ...</td>\n",
       "      <td>Russia and Ukraine will sign a deal on Friday...</td>\n",
       "      <td>0.0</td>\n",
       "      <td>0.0</td>\n",
       "      <td>0.0</td>\n",
       "      <td>23</td>\n",
       "    </tr>\n",
       "    <tr>\n",
       "      <th>2022-07-22</th>\n",
       "      <td>https://www.reuters.com/article/us-ukraine-cri...</td>\n",
       "      <td>Kremlin rejects report Nord Stream turbine is ...</td>\n",
       "      <td>The Kremlin on Friday rejected a report that ...</td>\n",
       "      <td>0.0</td>\n",
       "      <td>0.0</td>\n",
       "      <td>0.0</td>\n",
       "      <td>7</td>\n",
       "    </tr>\n",
       "    <tr>\n",
       "      <th>2022-07-22</th>\n",
       "      <td>https://www.reuters.com/article/ukraine-crisis...</td>\n",
       "      <td>Uniper's Finnish parent Fortum agrees to Germa...</td>\n",
       "      <td>Uniper (UN01.DE), Finnish parent Fortum (FORT...</td>\n",
       "      <td>0.0</td>\n",
       "      <td>0.0</td>\n",
       "      <td>0.0</td>\n",
       "      <td>7</td>\n",
       "    </tr>\n",
       "    <tr>\n",
       "      <th>2022-07-22</th>\n",
       "      <td>https://www.reuters.com/article/ukraine-crisis...</td>\n",
       "      <td>Analysis: Ukraine war rekindles Europe's deman...</td>\n",
       "      <td>Europe's thirst for oil and gas to replace sa...</td>\n",
       "      <td>0.0</td>\n",
       "      <td>0.0</td>\n",
       "      <td>0.0</td>\n",
       "      <td>5</td>\n",
       "    </tr>\n",
       "  </tbody>\n",
       "</table>\n",
       "</div>"
      ],
      "text/plain": [
       "                                                          URL  \\\n",
       "Date                                                            \n",
       "2022-07-22  https://www.reuters.com/article/ukraine-crisis...   \n",
       "2022-07-22  https://www.reuters.com/article/us-ukraine-cri...   \n",
       "2022-07-22  https://www.reuters.com/article/us-ukraine-cri...   \n",
       "2022-07-22  https://www.reuters.com/article/ukraine-crisis...   \n",
       "2022-07-22  https://www.reuters.com/article/ukraine-crisis...   \n",
       "\n",
       "                                                        Title  \\\n",
       "Date                                                            \n",
       "2022-07-22  Nord Stream flows stable, Eastbound Yamal flow...   \n",
       "2022-07-22  Ukraine and Russia: What you need to know righ...   \n",
       "2022-07-22  Kremlin rejects report Nord Stream turbine is ...   \n",
       "2022-07-22  Uniper's Finnish parent Fortum agrees to Germa...   \n",
       "2022-07-22  Analysis: Ukraine war rekindles Europe's deman...   \n",
       "\n",
       "                                                         Text  Novelty  \\\n",
       "Date                                                                     \n",
       "2022-07-22   Physical flows of Russian gas through Nord St...      0.0   \n",
       "2022-07-22   Russia and Ukraine will sign a deal on Friday...      0.0   \n",
       "2022-07-22   The Kremlin on Friday rejected a report that ...      0.0   \n",
       "2022-07-22   Uniper (UN01.DE), Finnish parent Fortum (FORT...      0.0   \n",
       "2022-07-22   Europe's thirst for oil and gas to replace sa...      0.0   \n",
       "\n",
       "            Transience  Resonance  Topic  \n",
       "Date                                      \n",
       "2022-07-22         0.0        0.0      7  \n",
       "2022-07-22         0.0        0.0     23  \n",
       "2022-07-22         0.0        0.0      7  \n",
       "2022-07-22         0.0        0.0      7  \n",
       "2022-07-22         0.0        0.0      5  "
      ]
     },
     "execution_count": 13,
     "metadata": {},
     "output_type": "execute_result"
    }
   ],
   "source": [
    "ntr_data = pd.read_csv(PARENT_DIR + \"/data/\"+ source +\"_ntr.csv\", parse_dates=['Date'], index_col= ['Date'])\n",
    "ntr_data.head()"
   ]
  },
  {
   "cell_type": "code",
   "execution_count": 14,
   "metadata": {},
   "outputs": [
    {
     "data": {
      "text/html": [
       "<div>\n",
       "<style scoped>\n",
       "    .dataframe tbody tr th:only-of-type {\n",
       "        vertical-align: middle;\n",
       "    }\n",
       "\n",
       "    .dataframe tbody tr th {\n",
       "        vertical-align: top;\n",
       "    }\n",
       "\n",
       "    .dataframe thead th {\n",
       "        text-align: right;\n",
       "    }\n",
       "</style>\n",
       "<table border=\"1\" class=\"dataframe\">\n",
       "  <thead>\n",
       "    <tr style=\"text-align: right;\">\n",
       "      <th></th>\n",
       "      <th>Novelty</th>\n",
       "      <th>Transience</th>\n",
       "      <th>Resonance</th>\n",
       "      <th>Topic</th>\n",
       "    </tr>\n",
       "    <tr>\n",
       "      <th>Date</th>\n",
       "      <th></th>\n",
       "      <th></th>\n",
       "      <th></th>\n",
       "      <th></th>\n",
       "    </tr>\n",
       "  </thead>\n",
       "  <tbody>\n",
       "    <tr>\n",
       "      <th>2021-04-09</th>\n",
       "      <td>1.190580</td>\n",
       "      <td>1.190580</td>\n",
       "      <td>-0.269025</td>\n",
       "      <td>9.600000</td>\n",
       "    </tr>\n",
       "    <tr>\n",
       "      <th>2021-04-10</th>\n",
       "      <td>4.732393</td>\n",
       "      <td>4.732393</td>\n",
       "      <td>-0.065675</td>\n",
       "      <td>8.000000</td>\n",
       "    </tr>\n",
       "    <tr>\n",
       "      <th>2021-04-11</th>\n",
       "      <td>4.481602</td>\n",
       "      <td>4.481602</td>\n",
       "      <td>-0.510532</td>\n",
       "      <td>13.666667</td>\n",
       "    </tr>\n",
       "    <tr>\n",
       "      <th>2021-04-12</th>\n",
       "      <td>5.704246</td>\n",
       "      <td>5.704246</td>\n",
       "      <td>0.629623</td>\n",
       "      <td>12.428571</td>\n",
       "    </tr>\n",
       "    <tr>\n",
       "      <th>2021-04-13</th>\n",
       "      <td>3.584650</td>\n",
       "      <td>3.584650</td>\n",
       "      <td>-0.451782</td>\n",
       "      <td>8.857143</td>\n",
       "    </tr>\n",
       "  </tbody>\n",
       "</table>\n",
       "</div>"
      ],
      "text/plain": [
       "             Novelty  Transience  Resonance      Topic\n",
       "Date                                                  \n",
       "2021-04-09  1.190580    1.190580  -0.269025   9.600000\n",
       "2021-04-10  4.732393    4.732393  -0.065675   8.000000\n",
       "2021-04-11  4.481602    4.481602  -0.510532  13.666667\n",
       "2021-04-12  5.704246    5.704246   0.629623  12.428571\n",
       "2021-04-13  3.584650    3.584650  -0.451782   8.857143"
      ]
     },
     "execution_count": 14,
     "metadata": {},
     "output_type": "execute_result"
    }
   ],
   "source": [
    "davg = ntr_data.resample('D').mean()\n",
    "davg.head()"
   ]
  },
  {
   "cell_type": "code",
   "execution_count": 15,
   "metadata": {},
   "outputs": [
    {
     "data": {
      "image/png": "[encoded data removed]",
      "text/plain": [
       "<Figure size 864x576 with 1 Axes>"
      ]
     },
     "metadata": {
      "needs_background": "light"
     },
     "output_type": "display_data"
    }
   ],
   "source": [
    "fig, ax = plt.subplots(figsize=(12, 8))\n",
    "\n",
    "left = dt.date(2021, 7, 21)\n",
    "right = dt.date.today()\n",
    "\n",
    "ax.plot(davg.index.values,\n",
    "       davg['Resonance'],\n",
    "       color='purple',\n",
    "       #linewidths=0\n",
    "       )\n",
    "\n",
    "ax.set(\n",
    "       #xlabel=\"Date\",\n",
    "       #ylabel=\"Resonance\",\n",
    "       title=\"Daily Resonance - Reuters Articles\")\n",
    "\n",
    "date_form = DateFormatter(\"%m-%y\")\n",
    "ax.xaxis.set_major_formatter(date_form)\n",
    "ax.set_xbound(left, right)"
   ]
  },
  {
   "cell_type": "code",
   "execution_count": 16,
   "metadata": {},
   "outputs": [
    {
     "data": {
      "text/html": [
       "<div>\n",
       "<style scoped>\n",
       "    .dataframe tbody tr th:only-of-type {\n",
       "        vertical-align: middle;\n",
       "    }\n",
       "\n",
       "    .dataframe tbody tr th {\n",
       "        vertical-align: top;\n",
       "    }\n",
       "\n",
       "    .dataframe thead th {\n",
       "        text-align: right;\n",
       "    }\n",
       "</style>\n",
       "<table border=\"1\" class=\"dataframe\">\n",
       "  <thead>\n",
       "    <tr style=\"text-align: right;\">\n",
       "      <th></th>\n",
       "      <th>Novelty</th>\n",
       "      <th>Transience</th>\n",
       "      <th>Resonance</th>\n",
       "      <th>Topic</th>\n",
       "    </tr>\n",
       "    <tr>\n",
       "      <th>Date</th>\n",
       "      <th></th>\n",
       "      <th></th>\n",
       "      <th></th>\n",
       "      <th></th>\n",
       "    </tr>\n",
       "  </thead>\n",
       "  <tbody>\n",
       "    <tr>\n",
       "      <th>2021-02-10</th>\n",
       "      <td>0.0</td>\n",
       "      <td>0.0</td>\n",
       "      <td>0.0</td>\n",
       "      <td>0.0</td>\n",
       "    </tr>\n",
       "    <tr>\n",
       "      <th>2021-02-11</th>\n",
       "      <td>NaN</td>\n",
       "      <td>NaN</td>\n",
       "      <td>NaN</td>\n",
       "      <td>NaN</td>\n",
       "    </tr>\n",
       "    <tr>\n",
       "      <th>2021-02-12</th>\n",
       "      <td>NaN</td>\n",
       "      <td>NaN</td>\n",
       "      <td>NaN</td>\n",
       "      <td>NaN</td>\n",
       "    </tr>\n",
       "    <tr>\n",
       "      <th>2021-02-13</th>\n",
       "      <td>NaN</td>\n",
       "      <td>NaN</td>\n",
       "      <td>NaN</td>\n",
       "      <td>NaN</td>\n",
       "    </tr>\n",
       "    <tr>\n",
       "      <th>2021-02-14</th>\n",
       "      <td>NaN</td>\n",
       "      <td>NaN</td>\n",
       "      <td>NaN</td>\n",
       "      <td>NaN</td>\n",
       "    </tr>\n",
       "  </tbody>\n",
       "</table>\n",
       "</div>"
      ],
      "text/plain": [
       "            Novelty  Transience  Resonance  Topic\n",
       "Date                                             \n",
       "2021-02-10      0.0         0.0        0.0    0.0\n",
       "2021-02-11      NaN         NaN        NaN    NaN\n",
       "2021-02-12      NaN         NaN        NaN    NaN\n",
       "2021-02-13      NaN         NaN        NaN    NaN\n",
       "2021-02-14      NaN         NaN        NaN    NaN"
      ]
     },
     "execution_count": 16,
     "metadata": {},
     "output_type": "execute_result"
    }
   ],
   "source": [
    "ntr_data2 = pd.read_csv(PARENT_DIR + \"/data/Guardian_ntr.csv\", parse_dates=['Date'], index_col= ['Date'])\n",
    "ntr_data2.head()\n",
    "#print(len(ntr_data))\n",
    "davg2 = ntr_data2.resample('D').mean()\n",
    "davg2.head()"
   ]
  },
  {
   "cell_type": "code",
   "execution_count": 18,
   "metadata": {},
   "outputs": [
    {
     "data": {
      "image/png": "[encoded data removed]",
      "text/plain": [
       "<Figure size 864x576 with 1 Axes>"
      ]
     },
     "metadata": {
      "needs_background": "light"
     },
     "output_type": "display_data"
    }
   ],
   "source": [
    "fig, ax = plt.subplots(figsize=(12, 8))\n",
    "\n",
    "left = dt.date(2021, 7, 21)\n",
    "right = dt.date.today()\n",
    "\n",
    "ax.plot(davg.index.values,\n",
    "       davg['Resonance'],\n",
    "       color='purple',\n",
    "       #linewidths=0\n",
    "       )\n",
    "\n",
    "ax.plot(davg2.index.values,\n",
    "       davg2['Resonance'],\n",
    "       color='green',\n",
    "       #linewidths=0\n",
    "       )\n",
    "\n",
    "ax.set(\n",
    "       #xlabel=\"Date\",\n",
    "       #ylabel=\"Resonance\",\n",
    "       title=\"Daily Resonance - Reuters Articles (purple), Guardian Articles (green\")\n",
    "\n",
    "date_form = DateFormatter(\"%m-%y\")\n",
    "ax.xaxis.set_major_formatter(date_form)\n",
    "ax.set_xbound(left, right)"
   ]
  }
 ],
 "metadata": {
  "kernelspec": {
   "display_name": "Python 3.10.5 ('.venv': venv)",
   "language": "python",
   "name": "python3"
  },
  "language_info": {
   "codemirror_mode": {
    "name": "ipython",
    "version": 3
   },
   "file_extension": ".py",
   "mimetype": "text/x-python",
   "name": "python",
   "nbconvert_exporter": "python",
   "pygments_lexer": "ipython3",
   "version": "3.10.5"
  },
  "orig_nbformat": 4,
  "vscode": {
   "interpreter": {
    "hash": "71a723942456804a71d025442f2ccd3a5c8db2153e1c9e51f0af23a7e755532d"
   }
  }
 },
 "nbformat": 4,
 "nbformat_minor": 2
}
