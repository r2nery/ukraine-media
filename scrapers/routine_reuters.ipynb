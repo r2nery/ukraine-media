{
 "cells": [
  {
   "cell_type": "markdown",
   "metadata": {},
   "source": [
    "#### Updating data"
   ]
  },
  {
   "cell_type": "code",
   "execution_count": 1,
   "metadata": {},
   "outputs": [],
   "source": [
    "from utilities import *\n",
    "from Reuters import *\n",
    "\n",
    "ROOT_DIR = os.path.dirname(os.path.abspath(\"__file__\"))\n",
    "PARENT_DIR = os.path.dirname(ROOT_DIR)"
   ]
  },
  {
   "cell_type": "code",
   "execution_count": 2,
   "metadata": {},
   "outputs": [
    {
     "name": "stdout",
     "output_type": "stream",
     "text": [
      "-> Last page scraped: 8\n",
      "-> Scraper |████████████████████████████████████████| 8/8 [100%] in 12.5s (0.64/s)                                      \n",
      "-> 130 URLs fetched successfully!\n",
      "-> Scraper |███████████████████████████████████████▍⚠︎ (!) 128/130 [98%] in 3:00.8 (0.71/s)                              \n",
      "-> New data fetched successfully!\n"
     ]
    }
   ],
   "source": [
    "data = reutersScraper()\n",
    "\n",
    "data.to_csv(PARENT_DIR + \"/data/Reuters.csv\", index=True)"
   ]
  },
  {
   "cell_type": "code",
   "execution_count": 3,
   "metadata": {},
   "outputs": [
    {
     "data": {
      "text/html": [
       "<div>\n",
       "<style scoped>\n",
       "    .dataframe tbody tr th:only-of-type {\n",
       "        vertical-align: middle;\n",
       "    }\n",
       "\n",
       "    .dataframe tbody tr th {\n",
       "        vertical-align: top;\n",
       "    }\n",
       "\n",
       "    .dataframe thead th {\n",
       "        text-align: right;\n",
       "    }\n",
       "</style>\n",
       "<table border=\"1\" class=\"dataframe\">\n",
       "  <thead>\n",
       "    <tr style=\"text-align: right;\">\n",
       "      <th></th>\n",
       "      <th>URL</th>\n",
       "      <th>Title</th>\n",
       "      <th>Text</th>\n",
       "    </tr>\n",
       "    <tr>\n",
       "      <th>Date</th>\n",
       "      <th></th>\n",
       "      <th></th>\n",
       "      <th></th>\n",
       "    </tr>\n",
       "  </thead>\n",
       "  <tbody>\n",
       "    <tr>\n",
       "      <th>2022-07-21</th>\n",
       "      <td>https://www.reuters.com/article/us-italy-polit...</td>\n",
       "      <td>Mario Draghi resigns, plunging Italy into poli...</td>\n",
       "      <td>Italian President Sergio Mattarella dissolved...</td>\n",
       "    </tr>\n",
       "  </tbody>\n",
       "</table>\n",
       "</div>"
      ],
      "text/plain": [
       "                                                          URL  \\\n",
       "Date                                                            \n",
       "2022-07-21  https://www.reuters.com/article/us-italy-polit...   \n",
       "\n",
       "                                                        Title  \\\n",
       "Date                                                            \n",
       "2022-07-21  Mario Draghi resigns, plunging Italy into poli...   \n",
       "\n",
       "                                                         Text  \n",
       "Date                                                           \n",
       "2022-07-21   Italian President Sergio Mattarella dissolved...  "
      ]
     },
     "execution_count": 3,
     "metadata": {},
     "output_type": "execute_result"
    }
   ],
   "source": [
    "data.head(1)"
   ]
  },
  {
   "cell_type": "markdown",
   "metadata": {},
   "source": [
    "#### LDA topic identification"
   ]
  },
  {
   "cell_type": "code",
   "execution_count": 4,
   "metadata": {},
   "outputs": [
    {
     "name": "stderr",
     "output_type": "stream",
     "text": [
      "INFO:lda:n_documents: 11511\n",
      "INFO:lda:vocab_size: 10000\n",
      "INFO:lda:n_words: 2164897\n",
      "INFO:lda:n_topics: 30\n",
      "INFO:lda:n_iter: 2000\n",
      "INFO:lda:<0> log likelihood: -25914412\n",
      "INFO:lda:<100> log likelihood: -17715854\n",
      "INFO:lda:<200> log likelihood: -17603371\n",
      "INFO:lda:<300> log likelihood: -17572024\n",
      "INFO:lda:<400> log likelihood: -17561578\n",
      "INFO:lda:<500> log likelihood: -17554463\n",
      "INFO:lda:<600> log likelihood: -17548904\n",
      "INFO:lda:<700> log likelihood: -17541689\n",
      "INFO:lda:<800> log likelihood: -17542515\n",
      "INFO:lda:<900> log likelihood: -17539095\n",
      "INFO:lda:<1000> log likelihood: -17535394\n",
      "INFO:lda:<1100> log likelihood: -17537889\n",
      "INFO:lda:<1200> log likelihood: -17535608\n",
      "INFO:lda:<1300> log likelihood: -17535542\n",
      "INFO:lda:<1400> log likelihood: -17530356\n",
      "INFO:lda:<1500> log likelihood: -17534052\n",
      "INFO:lda:<1600> log likelihood: -17533207\n",
      "INFO:lda:<1700> log likelihood: -17536664\n",
      "INFO:lda:<1800> log likelihood: -17531759\n",
      "INFO:lda:<1900> log likelihood: -17535659\n",
      "INFO:lda:<1999> log likelihood: -17533585\n"
     ]
    }
   ],
   "source": [
    "doc_topic, topic_word, vocabulary = learn_topics(data, topicnum=30, vocabsize=10000, num_iter=2000) "
   ]
  },
  {
   "cell_type": "code",
   "execution_count": 5,
   "metadata": {},
   "outputs": [],
   "source": [
    "topics = []\n",
    "for i in range(len(data)):\n",
    "    topics.append(doc_topic[i].argmax())"
   ]
  },
  {
   "cell_type": "code",
   "execution_count": 6,
   "metadata": {},
   "outputs": [
    {
     "name": "stdout",
     "output_type": "stream",
     "text": [
      "Mario Draghi resigns, plunging Italy into political turmoil TOPIC: 22\n",
      "In Syria, a poor wheat harvest adds to food worries TOPIC: 12\n",
      "Biden stops short of declaring climate emergency, takes steps on wind power TOPIC: 26\n",
      "Taiwan's concerns on speed of arms sales will be conveyed to US, says ex-US defence secretary TOPIC: 3\n",
      "Italy's 'Super Mario' Draghi undone by political infighting TOPIC: 22\n",
      "Explainer: Ukraine pushes for debt freeze to dodge hard default TOPIC: 2\n",
      "Exclusive: Citi, Raiffeisen, other foreign banks seek staff in Russia as they struggle to exit TOPIC: 2\n",
      "Russia's Polymetal to ramp up Asia sales as revenue slides TOPIC: 24\n",
      "Anglo American sees higher annual diamond output amid robust demand TOPIC: 24\n",
      "Russian gas flows to Europe resume via Nord Stream 1, eastbound Yamal flows rise TOPIC: 19\n"
     ]
    }
   ],
   "source": [
    "for i in range(10):\n",
    "    print(f\"{data.iloc[i][1]} TOPIC: {doc_topic[i].argmax()}\")"
   ]
  },
  {
   "cell_type": "code",
   "execution_count": 7,
   "metadata": {},
   "outputs": [
    {
     "name": "stdout",
     "output_type": "stream",
     "text": [
      "Topic 0: said russian media russia the information state\n",
      "Topic 1: said covid vaccine the health sputnik russia\n",
      "Topic 2: russia bank russian said rouble sanctions the\n",
      "Topic 3: ukraine weapons military defence said the air\n",
      "Topic 4: belarus the said russian belarusian lukashenko airlines\n",
      "Topic 5: said the billion countries ukraine world global\n",
      "Topic 6: eu european union said the commission bloc\n",
      "Topic 7: russian russia said ministry moscow foreign news\n",
      "Topic 8: said mariupol ukrainian city ukraine civilians plant\n",
      "Topic 9: said the court navalny rights russia authorities\n",
      "Topic 10: said russian ukrainian ukraine forces city kyiv\n",
      "Topic 11: china said chinese japan taiwan korea the\n",
      "Topic 12: ukraine food said sea grain black russia\n",
      "Topic 13: ukraine said russia president talks russian putin\n",
      "Topic 14: ukraine said poland people border refugees million\n",
      "Topic 15: said it we but that told there\n",
      "Topic 16: sanctions russian russia the said assets states\n",
      "Topic 17: ukraine russian russia ukrainian said eastern moscow\n",
      "Topic 18: oil russian russia crude million said energy\n",
      "Topic 19: gas germany energy said europe russia russian\n",
      "Topic 20: nato turkey said finland sweden turkish erdogan\n",
      "Topic 21: the said reuters comment told respond request\n",
      "Topic 22: party minister government johnson election prime parliament\n",
      "Topic 23: iran nuclear deal the said saudi united\n",
      "Topic 24: russia said company companies the business russian\n",
      "Topic 25: said people the it year we old\n",
      "Topic 26: biden said united president states ukraine russia\n",
      "Topic 27: ukraine russia nato said military troops moscow\n",
      "Topic 28: ukraine russia war russian putin said military\n",
      "Topic 29: year the prices inflation said ukraine market\n"
     ]
    }
   ],
   "source": [
    "for i, topic_dist in enumerate(topic_word):\n",
    "    topic_words = np.array(vocabulary)[np.argsort(topic_dist)][:-8:-1]\n",
    "    print(\"Topic {}: {}\".format(i, \" \".join(topic_words)))\n"
   ]
  },
  {
   "cell_type": "code",
   "execution_count": 8,
   "metadata": {},
   "outputs": [
    {
     "data": {
      "text/plain": [
       "('/Users/r2/Code/ukraine-media/results/ReutersTopicMixtures.txt',\n",
       " '/Users/r2/Code/ukraine-media/results/ReutersTopics.txt',\n",
       " '/Users/r2/Code/ukraine-media/results/ReutersVocab.txt')"
      ]
     },
     "execution_count": 8,
     "metadata": {},
     "output_type": "execute_result"
    }
   ],
   "source": [
    "source = \"Reuters\"\n",
    "save_topicmodel(doc_topic, topic_word, vocabulary, source)"
   ]
  },
  {
   "cell_type": "code",
   "execution_count": 9,
   "metadata": {},
   "outputs": [
    {
     "name": "stderr",
     "output_type": "stream",
     "text": [
      "/Users/r2/Code/ukraine-media/scrapers/utilities.py:142: FutureWarning: arrays to stack must be passed as a \"sequence\" type such as list or tuple. Support for non-sequence iterables such as generators is deprecated as of NumPy 1.16 and will raise an error in the future.\n",
      "  np.savetxt(outpath, np.vstack(zip(novelties, transiences, resonances)))\n"
     ]
    }
   ],
   "source": [
    "period = 7\n",
    "novelties, transiences, resonances = novelty_transience_resonance(doc_topic, period)\n",
    "\n",
    "for index in range(0,period):\n",
    "    transiences.insert(0, 0)\n",
    "    transiences.append(0)\n",
    "    novelties.insert(0, 0)\n",
    "    novelties.append(0)\n",
    "    resonances.insert(0, 0)\n",
    "    resonances.append(0)\n",
    "\n",
    "save_novel_trans_reson(novelties, transiences, resonances, source)"
   ]
  },
  {
   "cell_type": "code",
   "execution_count": 18,
   "metadata": {},
   "outputs": [
    {
     "data": {
      "text/html": [
       "<div>\n",
       "<style scoped>\n",
       "    .dataframe tbody tr th:only-of-type {\n",
       "        vertical-align: middle;\n",
       "    }\n",
       "\n",
       "    .dataframe tbody tr th {\n",
       "        vertical-align: top;\n",
       "    }\n",
       "\n",
       "    .dataframe thead th {\n",
       "        text-align: right;\n",
       "    }\n",
       "</style>\n",
       "<table border=\"1\" class=\"dataframe\">\n",
       "  <thead>\n",
       "    <tr style=\"text-align: right;\">\n",
       "      <th></th>\n",
       "      <th>URL</th>\n",
       "      <th>Title</th>\n",
       "      <th>Text</th>\n",
       "      <th>Novelty</th>\n",
       "      <th>Transience</th>\n",
       "      <th>Resonance</th>\n",
       "      <th>Topic</th>\n",
       "    </tr>\n",
       "    <tr>\n",
       "      <th>Date</th>\n",
       "      <th></th>\n",
       "      <th></th>\n",
       "      <th></th>\n",
       "      <th></th>\n",
       "      <th></th>\n",
       "      <th></th>\n",
       "      <th></th>\n",
       "    </tr>\n",
       "  </thead>\n",
       "  <tbody>\n",
       "    <tr>\n",
       "      <th>2022-07-21</th>\n",
       "      <td>https://www.reuters.com/article/us-italy-polit...</td>\n",
       "      <td>Mario Draghi resigns, plunging Italy into poli...</td>\n",
       "      <td>Italian President Sergio Mattarella dissolved...</td>\n",
       "      <td>0.0</td>\n",
       "      <td>0.0</td>\n",
       "      <td>0.0</td>\n",
       "      <td>22</td>\n",
       "    </tr>\n",
       "    <tr>\n",
       "      <th>2022-07-21</th>\n",
       "      <td>https://www.reuters.com/article/us-syria-econo...</td>\n",
       "      <td>In Syria, a poor wheat harvest adds to food wo...</td>\n",
       "      <td>Poor rainfall, fuel shortages, soaring fertil...</td>\n",
       "      <td>0.0</td>\n",
       "      <td>0.0</td>\n",
       "      <td>0.0</td>\n",
       "      <td>12</td>\n",
       "    </tr>\n",
       "    <tr>\n",
       "      <th>2022-07-21</th>\n",
       "      <td>https://www.reuters.com/article/us-usa-climate...</td>\n",
       "      <td>Biden stops short of declaring climate emergen...</td>\n",
       "      <td>U.S. President Joe Biden said on Wednesday th...</td>\n",
       "      <td>0.0</td>\n",
       "      <td>0.0</td>\n",
       "      <td>0.0</td>\n",
       "      <td>26</td>\n",
       "    </tr>\n",
       "    <tr>\n",
       "      <th>2022-07-21</th>\n",
       "      <td>https://www.reuters.com/article/us-taiwan-usa-...</td>\n",
       "      <td>Taiwan's concerns on speed of arms sales will ...</td>\n",
       "      <td>Former U.S. defence secretary Mark Esper said...</td>\n",
       "      <td>0.0</td>\n",
       "      <td>0.0</td>\n",
       "      <td>0.0</td>\n",
       "      <td>3</td>\n",
       "    </tr>\n",
       "    <tr>\n",
       "      <th>2022-07-21</th>\n",
       "      <td>https://www.reuters.com/article/us-italy-polit...</td>\n",
       "      <td>Italy's 'Super Mario' Draghi undone by politic...</td>\n",
       "      <td>Mario Draghi, the central banker turned Itali...</td>\n",
       "      <td>0.0</td>\n",
       "      <td>0.0</td>\n",
       "      <td>0.0</td>\n",
       "      <td>22</td>\n",
       "    </tr>\n",
       "  </tbody>\n",
       "</table>\n",
       "</div>"
      ],
      "text/plain": [
       "                                                          URL  \\\n",
       "Date                                                            \n",
       "2022-07-21  https://www.reuters.com/article/us-italy-polit...   \n",
       "2022-07-21  https://www.reuters.com/article/us-syria-econo...   \n",
       "2022-07-21  https://www.reuters.com/article/us-usa-climate...   \n",
       "2022-07-21  https://www.reuters.com/article/us-taiwan-usa-...   \n",
       "2022-07-21  https://www.reuters.com/article/us-italy-polit...   \n",
       "\n",
       "                                                        Title  \\\n",
       "Date                                                            \n",
       "2022-07-21  Mario Draghi resigns, plunging Italy into poli...   \n",
       "2022-07-21  In Syria, a poor wheat harvest adds to food wo...   \n",
       "2022-07-21  Biden stops short of declaring climate emergen...   \n",
       "2022-07-21  Taiwan's concerns on speed of arms sales will ...   \n",
       "2022-07-21  Italy's 'Super Mario' Draghi undone by politic...   \n",
       "\n",
       "                                                         Text  Novelty  \\\n",
       "Date                                                                     \n",
       "2022-07-21   Italian President Sergio Mattarella dissolved...      0.0   \n",
       "2022-07-21   Poor rainfall, fuel shortages, soaring fertil...      0.0   \n",
       "2022-07-21   U.S. President Joe Biden said on Wednesday th...      0.0   \n",
       "2022-07-21   Former U.S. defence secretary Mark Esper said...      0.0   \n",
       "2022-07-21   Mario Draghi, the central banker turned Itali...      0.0   \n",
       "\n",
       "            Transience  Resonance  Topic  \n",
       "Date                                      \n",
       "2022-07-21         0.0        0.0     22  \n",
       "2022-07-21         0.0        0.0     12  \n",
       "2022-07-21         0.0        0.0     26  \n",
       "2022-07-21         0.0        0.0      3  \n",
       "2022-07-21         0.0        0.0     22  "
      ]
     },
     "execution_count": 18,
     "metadata": {},
     "output_type": "execute_result"
    }
   ],
   "source": [
    "ntr_data = data\n",
    "ntr_data['Novelty'] = novelties\n",
    "ntr_data['Transience'] = novelties\n",
    "ntr_data['Resonance'] = resonances\n",
    "ntr_data['Topic'] = topics\n",
    "\n",
    "ntr_data.to_csv(PARENT_DIR + \"/data/\"+ source +\"_ntr.csv\")\n",
    "ntr_data.head(5)"
   ]
  },
  {
   "cell_type": "code",
   "execution_count": 23,
   "metadata": {},
   "outputs": [
    {
     "data": {
      "text/html": [
       "<div>\n",
       "<style scoped>\n",
       "    .dataframe tbody tr th:only-of-type {\n",
       "        vertical-align: middle;\n",
       "    }\n",
       "\n",
       "    .dataframe tbody tr th {\n",
       "        vertical-align: top;\n",
       "    }\n",
       "\n",
       "    .dataframe thead th {\n",
       "        text-align: right;\n",
       "    }\n",
       "</style>\n",
       "<table border=\"1\" class=\"dataframe\">\n",
       "  <thead>\n",
       "    <tr style=\"text-align: right;\">\n",
       "      <th></th>\n",
       "      <th>Novelty</th>\n",
       "      <th>Transience</th>\n",
       "      <th>Resonance</th>\n",
       "      <th>Topic</th>\n",
       "    </tr>\n",
       "  </thead>\n",
       "  <tbody>\n",
       "    <tr>\n",
       "      <th>count</th>\n",
       "      <td>11511.000000</td>\n",
       "      <td>11511.000000</td>\n",
       "      <td>11511.000000</td>\n",
       "      <td>11511.000000</td>\n",
       "    </tr>\n",
       "    <tr>\n",
       "      <th>mean</th>\n",
       "      <td>5.585250</td>\n",
       "      <td>5.585250</td>\n",
       "      <td>-0.001380</td>\n",
       "      <td>15.188602</td>\n",
       "    </tr>\n",
       "    <tr>\n",
       "      <th>std</th>\n",
       "      <td>1.102661</td>\n",
       "      <td>1.102661</td>\n",
       "      <td>1.015924</td>\n",
       "      <td>8.677420</td>\n",
       "    </tr>\n",
       "    <tr>\n",
       "      <th>min</th>\n",
       "      <td>0.000000</td>\n",
       "      <td>0.000000</td>\n",
       "      <td>-4.661467</td>\n",
       "      <td>0.000000</td>\n",
       "    </tr>\n",
       "    <tr>\n",
       "      <th>25%</th>\n",
       "      <td>4.910444</td>\n",
       "      <td>4.910444</td>\n",
       "      <td>-0.634810</td>\n",
       "      <td>9.000000</td>\n",
       "    </tr>\n",
       "    <tr>\n",
       "      <th>50%</th>\n",
       "      <td>5.583938</td>\n",
       "      <td>5.583938</td>\n",
       "      <td>-0.011647</td>\n",
       "      <td>14.000000</td>\n",
       "    </tr>\n",
       "    <tr>\n",
       "      <th>75%</th>\n",
       "      <td>6.281264</td>\n",
       "      <td>6.281264</td>\n",
       "      <td>0.632234</td>\n",
       "      <td>24.000000</td>\n",
       "    </tr>\n",
       "    <tr>\n",
       "      <th>max</th>\n",
       "      <td>10.235331</td>\n",
       "      <td>10.235331</td>\n",
       "      <td>4.901149</td>\n",
       "      <td>29.000000</td>\n",
       "    </tr>\n",
       "  </tbody>\n",
       "</table>\n",
       "</div>"
      ],
      "text/plain": [
       "            Novelty    Transience     Resonance         Topic\n",
       "count  11511.000000  11511.000000  11511.000000  11511.000000\n",
       "mean       5.585250      5.585250     -0.001380     15.188602\n",
       "std        1.102661      1.102661      1.015924      8.677420\n",
       "min        0.000000      0.000000     -4.661467      0.000000\n",
       "25%        4.910444      4.910444     -0.634810      9.000000\n",
       "50%        5.583938      5.583938     -0.011647     14.000000\n",
       "75%        6.281264      6.281264      0.632234     24.000000\n",
       "max       10.235331     10.235331      4.901149     29.000000"
      ]
     },
     "execution_count": 23,
     "metadata": {},
     "output_type": "execute_result"
    }
   ],
   "source": [
    "ntr_data.describe()"
   ]
  },
  {
   "cell_type": "code",
   "execution_count": 26,
   "metadata": {},
   "outputs": [],
   "source": [
    "import matplotlib.pyplot as plt\n",
    "import matplotlib.dates as mdates\n",
    "from matplotlib.dates import DateFormatter\n",
    "import datetime as dt\n",
    "import numpy as np\n",
    "import pandas as pd\n",
    "import seaborn as sns\n",
    "%matplotlib inline"
   ]
  },
  {
   "cell_type": "code",
   "execution_count": 21,
   "metadata": {},
   "outputs": [
    {
     "data": {
      "text/html": [
       "<div>\n",
       "<style scoped>\n",
       "    .dataframe tbody tr th:only-of-type {\n",
       "        vertical-align: middle;\n",
       "    }\n",
       "\n",
       "    .dataframe tbody tr th {\n",
       "        vertical-align: top;\n",
       "    }\n",
       "\n",
       "    .dataframe thead th {\n",
       "        text-align: right;\n",
       "    }\n",
       "</style>\n",
       "<table border=\"1\" class=\"dataframe\">\n",
       "  <thead>\n",
       "    <tr style=\"text-align: right;\">\n",
       "      <th></th>\n",
       "      <th>URL</th>\n",
       "      <th>Title</th>\n",
       "      <th>Text</th>\n",
       "      <th>Novelty</th>\n",
       "      <th>Transience</th>\n",
       "      <th>Resonance</th>\n",
       "      <th>Topic</th>\n",
       "    </tr>\n",
       "    <tr>\n",
       "      <th>Date</th>\n",
       "      <th></th>\n",
       "      <th></th>\n",
       "      <th></th>\n",
       "      <th></th>\n",
       "      <th></th>\n",
       "      <th></th>\n",
       "      <th></th>\n",
       "    </tr>\n",
       "  </thead>\n",
       "  <tbody>\n",
       "    <tr>\n",
       "      <th>2022-07-21</th>\n",
       "      <td>https://www.reuters.com/article/us-italy-polit...</td>\n",
       "      <td>Mario Draghi resigns, plunging Italy into poli...</td>\n",
       "      <td>Italian President Sergio Mattarella dissolved...</td>\n",
       "      <td>0.0</td>\n",
       "      <td>0.0</td>\n",
       "      <td>0.0</td>\n",
       "      <td>22</td>\n",
       "    </tr>\n",
       "    <tr>\n",
       "      <th>2022-07-21</th>\n",
       "      <td>https://www.reuters.com/article/us-syria-econo...</td>\n",
       "      <td>In Syria, a poor wheat harvest adds to food wo...</td>\n",
       "      <td>Poor rainfall, fuel shortages, soaring fertil...</td>\n",
       "      <td>0.0</td>\n",
       "      <td>0.0</td>\n",
       "      <td>0.0</td>\n",
       "      <td>12</td>\n",
       "    </tr>\n",
       "    <tr>\n",
       "      <th>2022-07-21</th>\n",
       "      <td>https://www.reuters.com/article/us-usa-climate...</td>\n",
       "      <td>Biden stops short of declaring climate emergen...</td>\n",
       "      <td>U.S. President Joe Biden said on Wednesday th...</td>\n",
       "      <td>0.0</td>\n",
       "      <td>0.0</td>\n",
       "      <td>0.0</td>\n",
       "      <td>26</td>\n",
       "    </tr>\n",
       "    <tr>\n",
       "      <th>2022-07-21</th>\n",
       "      <td>https://www.reuters.com/article/us-taiwan-usa-...</td>\n",
       "      <td>Taiwan's concerns on speed of arms sales will ...</td>\n",
       "      <td>Former U.S. defence secretary Mark Esper said...</td>\n",
       "      <td>0.0</td>\n",
       "      <td>0.0</td>\n",
       "      <td>0.0</td>\n",
       "      <td>3</td>\n",
       "    </tr>\n",
       "    <tr>\n",
       "      <th>2022-07-21</th>\n",
       "      <td>https://www.reuters.com/article/us-italy-polit...</td>\n",
       "      <td>Italy's 'Super Mario' Draghi undone by politic...</td>\n",
       "      <td>Mario Draghi, the central banker turned Itali...</td>\n",
       "      <td>0.0</td>\n",
       "      <td>0.0</td>\n",
       "      <td>0.0</td>\n",
       "      <td>22</td>\n",
       "    </tr>\n",
       "  </tbody>\n",
       "</table>\n",
       "</div>"
      ],
      "text/plain": [
       "                                                          URL  \\\n",
       "Date                                                            \n",
       "2022-07-21  https://www.reuters.com/article/us-italy-polit...   \n",
       "2022-07-21  https://www.reuters.com/article/us-syria-econo...   \n",
       "2022-07-21  https://www.reuters.com/article/us-usa-climate...   \n",
       "2022-07-21  https://www.reuters.com/article/us-taiwan-usa-...   \n",
       "2022-07-21  https://www.reuters.com/article/us-italy-polit...   \n",
       "\n",
       "                                                        Title  \\\n",
       "Date                                                            \n",
       "2022-07-21  Mario Draghi resigns, plunging Italy into poli...   \n",
       "2022-07-21  In Syria, a poor wheat harvest adds to food wo...   \n",
       "2022-07-21  Biden stops short of declaring climate emergen...   \n",
       "2022-07-21  Taiwan's concerns on speed of arms sales will ...   \n",
       "2022-07-21  Italy's 'Super Mario' Draghi undone by politic...   \n",
       "\n",
       "                                                         Text  Novelty  \\\n",
       "Date                                                                     \n",
       "2022-07-21   Italian President Sergio Mattarella dissolved...      0.0   \n",
       "2022-07-21   Poor rainfall, fuel shortages, soaring fertil...      0.0   \n",
       "2022-07-21   U.S. President Joe Biden said on Wednesday th...      0.0   \n",
       "2022-07-21   Former U.S. defence secretary Mark Esper said...      0.0   \n",
       "2022-07-21   Mario Draghi, the central banker turned Itali...      0.0   \n",
       "\n",
       "            Transience  Resonance  Topic  \n",
       "Date                                      \n",
       "2022-07-21         0.0        0.0     22  \n",
       "2022-07-21         0.0        0.0     12  \n",
       "2022-07-21         0.0        0.0     26  \n",
       "2022-07-21         0.0        0.0      3  \n",
       "2022-07-21         0.0        0.0     22  "
      ]
     },
     "execution_count": 21,
     "metadata": {},
     "output_type": "execute_result"
    }
   ],
   "source": [
    "ntr_data = pd.read_csv(PARENT_DIR + \"/data/\"+ source +\"_ntr.csv\", parse_dates=['Date'], index_col= ['Date'])\n",
    "ntr_data.head()"
   ]
  },
  {
   "cell_type": "code",
   "execution_count": 50,
   "metadata": {},
   "outputs": [
    {
     "data": {
      "text/html": [
       "<div>\n",
       "<style scoped>\n",
       "    .dataframe tbody tr th:only-of-type {\n",
       "        vertical-align: middle;\n",
       "    }\n",
       "\n",
       "    .dataframe tbody tr th {\n",
       "        vertical-align: top;\n",
       "    }\n",
       "\n",
       "    .dataframe thead th {\n",
       "        text-align: right;\n",
       "    }\n",
       "</style>\n",
       "<table border=\"1\" class=\"dataframe\">\n",
       "  <thead>\n",
       "    <tr style=\"text-align: right;\">\n",
       "      <th></th>\n",
       "      <th>Novelty</th>\n",
       "      <th>Transience</th>\n",
       "      <th>Resonance</th>\n",
       "      <th>Topic</th>\n",
       "    </tr>\n",
       "    <tr>\n",
       "      <th>Date</th>\n",
       "      <th></th>\n",
       "      <th></th>\n",
       "      <th></th>\n",
       "      <th></th>\n",
       "    </tr>\n",
       "  </thead>\n",
       "  <tbody>\n",
       "    <tr>\n",
       "      <th>2021-04-09</th>\n",
       "      <td>1.539709</td>\n",
       "      <td>1.539709</td>\n",
       "      <td>0.195187</td>\n",
       "      <td>15.900000</td>\n",
       "    </tr>\n",
       "    <tr>\n",
       "      <th>2021-04-10</th>\n",
       "      <td>4.879476</td>\n",
       "      <td>4.879476</td>\n",
       "      <td>0.504861</td>\n",
       "      <td>17.666667</td>\n",
       "    </tr>\n",
       "    <tr>\n",
       "      <th>2021-04-11</th>\n",
       "      <td>5.758531</td>\n",
       "      <td>5.758531</td>\n",
       "      <td>0.749066</td>\n",
       "      <td>21.000000</td>\n",
       "    </tr>\n",
       "    <tr>\n",
       "      <th>2021-04-12</th>\n",
       "      <td>5.527307</td>\n",
       "      <td>5.527307</td>\n",
       "      <td>0.115532</td>\n",
       "      <td>17.142857</td>\n",
       "    </tr>\n",
       "    <tr>\n",
       "      <th>2021-04-13</th>\n",
       "      <td>4.083089</td>\n",
       "      <td>4.083089</td>\n",
       "      <td>0.123800</td>\n",
       "      <td>20.642857</td>\n",
       "    </tr>\n",
       "  </tbody>\n",
       "</table>\n",
       "</div>"
      ],
      "text/plain": [
       "             Novelty  Transience  Resonance      Topic\n",
       "Date                                                  \n",
       "2021-04-09  1.539709    1.539709   0.195187  15.900000\n",
       "2021-04-10  4.879476    4.879476   0.504861  17.666667\n",
       "2021-04-11  5.758531    5.758531   0.749066  21.000000\n",
       "2021-04-12  5.527307    5.527307   0.115532  17.142857\n",
       "2021-04-13  4.083089    4.083089   0.123800  20.642857"
      ]
     },
     "execution_count": 50,
     "metadata": {},
     "output_type": "execute_result"
    }
   ],
   "source": [
    "davg = ntr_data.resample('D').mean()\n",
    "davg.head()"
   ]
  },
  {
   "cell_type": "code",
   "execution_count": 53,
   "metadata": {},
   "outputs": [
    {
     "data": {
      "image/png": "[encoded data removed]",
      "text/plain": [
       "<Figure size 864x576 with 1 Axes>"
      ]
     },
     "metadata": {
      "needs_background": "light"
     },
     "output_type": "display_data"
    }
   ],
   "source": [
    "fig, ax = plt.subplots(figsize=(12, 8))\n",
    "\n",
    "left = dt.date(2021, 3, 15)\n",
    "right = dt.date.today()\n",
    "\n",
    "ax.plot(davg.index.values,\n",
    "       davg['Resonance'],\n",
    "       color='purple',\n",
    "       #linewidths=0\n",
    "       )\n",
    "\n",
    "ax.set(xlabel=\"Date\",\n",
    "       ylabel=\"Resonance\",\n",
    "       title=\"Daily Resonance\")\n",
    "\n",
    "date_form = DateFormatter(\"%m-%d\")\n",
    "ax.xaxis.set_major_formatter(date_form)\n",
    "ax.set_xbound(left, right)"
   ]
  },
  {
   "cell_type": "code",
   "execution_count": null,
   "metadata": {},
   "outputs": [],
   "source": []
  },
  {
   "cell_type": "code",
   "execution_count": null,
   "metadata": {},
   "outputs": [],
   "source": []
  }
 ],
 "metadata": {
  "kernelspec": {
   "display_name": "Python 3.10.5 ('.venv': venv)",
   "language": "python",
   "name": "python3"
  },
  "language_info": {
   "codemirror_mode": {
    "name": "ipython",
    "version": 3
   },
   "file_extension": ".py",
   "mimetype": "text/x-python",
   "name": "python",
   "nbconvert_exporter": "python",
   "pygments_lexer": "ipython3",
   "version": "3.10.5"
  },
  "orig_nbformat": 4,
  "vscode": {
   "interpreter": {
    "hash": "71a723942456804a71d025442f2ccd3a5c8db2153e1c9e51f0af23a7e755532d"
   }
  }
 },
 "nbformat": 4,
 "nbformat_minor": 2
}
