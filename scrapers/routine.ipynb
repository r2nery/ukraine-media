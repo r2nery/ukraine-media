{
 "cells": [
  {
   "cell_type": "markdown",
   "metadata": {},
   "source": [
    "#### Updating data"
   ]
  },
  {
   "cell_type": "code",
   "execution_count": 1,
   "metadata": {},
   "outputs": [],
   "source": [
    "from scrapers import *\n",
    "from utilities import *"
   ]
  },
  {
   "cell_type": "code",
   "execution_count": 2,
   "metadata": {},
   "outputs": [
    {
     "name": "stdout",
     "output_type": "stream",
     "text": [
      "-> No CSV file found. Creating...\n",
      "-> API Query |████████████████████████████████████████| (!) 2846 in 43.7s (65.13/s) \n",
      "-> 2846 new articles saved to Guardian.csv! Total articles: 2846\n"
     ]
    }
   ],
   "source": [
    "guardianScraper()"
   ]
  },
  {
   "cell_type": "code",
   "execution_count": null,
   "metadata": {},
   "outputs": [],
   "source": [
    "NYTScraper()"
   ]
  },
  {
   "cell_type": "code",
   "execution_count": 3,
   "metadata": {},
   "outputs": [
    {
     "data": {
      "text/html": [
       "<div>\n",
       "<style scoped>\n",
       "    .dataframe tbody tr th:only-of-type {\n",
       "        vertical-align: middle;\n",
       "    }\n",
       "\n",
       "    .dataframe tbody tr th {\n",
       "        vertical-align: top;\n",
       "    }\n",
       "\n",
       "    .dataframe thead th {\n",
       "        text-align: right;\n",
       "    }\n",
       "</style>\n",
       "<table border=\"1\" class=\"dataframe\">\n",
       "  <thead>\n",
       "    <tr style=\"text-align: right;\">\n",
       "      <th></th>\n",
       "      <th>URL</th>\n",
       "      <th>Date</th>\n",
       "      <th>Title</th>\n",
       "      <th>Text</th>\n",
       "    </tr>\n",
       "  </thead>\n",
       "  <tbody>\n",
       "    <tr>\n",
       "      <th>0</th>\n",
       "      <td>https://www.theguardian.com/world/2022/jan/31/...</td>\n",
       "      <td>2022-02-01T08:07:51Z</td>\n",
       "      <td>Moscow warns Ukraine may ‘destroy itself’ as R...</td>\n",
       "      <td>Ukraine will be responsible for its own destru...</td>\n",
       "    </tr>\n",
       "    <tr>\n",
       "      <th>1</th>\n",
       "      <td>https://www.theguardian.com/world/commentisfre...</td>\n",
       "      <td>2022-02-01T13:00:55Z</td>\n",
       "      <td>From eastern Europe we watch Ukraine in fear. ...</td>\n",
       "      <td>Two points about the Ukraine crisis are crysta...</td>\n",
       "    </tr>\n",
       "    <tr>\n",
       "      <th>2</th>\n",
       "      <td>https://www.theguardian.com/politics/2022/feb/...</td>\n",
       "      <td>2022-02-01T14:22:11Z</td>\n",
       "      <td>Johnson-Putin call rescheduled as PM’s diploma...</td>\n",
       "      <td>A phone call between Boris Johnson and Vladimi...</td>\n",
       "    </tr>\n",
       "    <tr>\n",
       "      <th>3</th>\n",
       "      <td>https://www.theguardian.com/politics/2022/feb/...</td>\n",
       "      <td>2022-02-01T16:00:02Z</td>\n",
       "      <td>Nicola Sturgeon urges Johnson to tackle Russia...</td>\n",
       "      <td>Nicola Sturgeon has called on the prime minist...</td>\n",
       "    </tr>\n",
       "    <tr>\n",
       "      <th>4</th>\n",
       "      <td>https://www.theguardian.com/commentisfree/2022...</td>\n",
       "      <td>2022-02-01T16:00:02Z</td>\n",
       "      <td>Britain’s failure to tackle Russian dirty mone...</td>\n",
       "      <td>The prospect of war in our continent is more t...</td>\n",
       "    </tr>\n",
       "  </tbody>\n",
       "</table>\n",
       "</div>"
      ],
      "text/plain": [
       "                                                 URL                  Date  \\\n",
       "0  https://www.theguardian.com/world/2022/jan/31/...  2022-02-01T08:07:51Z   \n",
       "1  https://www.theguardian.com/world/commentisfre...  2022-02-01T13:00:55Z   \n",
       "2  https://www.theguardian.com/politics/2022/feb/...  2022-02-01T14:22:11Z   \n",
       "3  https://www.theguardian.com/politics/2022/feb/...  2022-02-01T16:00:02Z   \n",
       "4  https://www.theguardian.com/commentisfree/2022...  2022-02-01T16:00:02Z   \n",
       "\n",
       "                                               Title  \\\n",
       "0  Moscow warns Ukraine may ‘destroy itself’ as R...   \n",
       "1  From eastern Europe we watch Ukraine in fear. ...   \n",
       "2  Johnson-Putin call rescheduled as PM’s diploma...   \n",
       "3  Nicola Sturgeon urges Johnson to tackle Russia...   \n",
       "4  Britain’s failure to tackle Russian dirty mone...   \n",
       "\n",
       "                                                Text  \n",
       "0  Ukraine will be responsible for its own destru...  \n",
       "1  Two points about the Ukraine crisis are crysta...  \n",
       "2  A phone call between Boris Johnson and Vladimi...  \n",
       "3  Nicola Sturgeon has called on the prime minist...  \n",
       "4  The prospect of war in our continent is more t...  "
      ]
     },
     "execution_count": 3,
     "metadata": {},
     "output_type": "execute_result"
    }
   ],
   "source": [
    "guardian_data = pd.read_csv(PARENT_DIR + \"/data/Guardian.csv\")\n",
    "#nyt_data = pd.read_csv(PARENT_DIR + \"/data/NYT.csv\")\n",
    "guardian_data.head()"
   ]
  },
  {
   "cell_type": "markdown",
   "metadata": {},
   "source": [
    "#### Stopword removal with Gensim"
   ]
  },
  {
   "cell_type": "code",
   "execution_count": 4,
   "metadata": {},
   "outputs": [],
   "source": [
    "import spacy\n",
    "import gensim\n",
    "from spacy.lang.en import English\n",
    "from gensim.parsing.preprocessing import remove_stopwords\n",
    "#!python -m spacy download en_core_web_sm"
   ]
  },
  {
   "cell_type": "code",
   "execution_count": 5,
   "metadata": {},
   "outputs": [],
   "source": [
    "guardian_data = guardian_data.dropna(subset=['Text'])\n",
    "guardian_texts = guardian_data['Text'].tolist()\n",
    "guardian_no_sw = []\n",
    "for text in guardian_texts:\n",
    "    text_no_sw = remove_stopwords(text)\n",
    "    guardian_no_sw.append(text_no_sw) \n",
    "guardian_data['Text'] = guardian_no_sw\n",
    "\n",
    "#nyt_data = nyt_data.dropna(subset=['Text'])\n",
    "#nyt_texts = nyt_data['Text'].tolist()\n",
    "#nyt_no_sw = []\n",
    "#for text in nyt_texts:\n",
    "#    text_no_sw = remove_stopwords(text)\n",
    "#    nyt_no_sw.append(text_no_sw) \n",
    "#nyt_data['Text'] = nyt_no_sw\n",
    "\n",
    "guardian_data.to_csv(PARENT_DIR + \"/data/Guardian_no_sw.csv\", index=False)\n",
    "#nyt_data.to_csv(PARENT_DIR + \"/data/NYT_no_sw.csv\", index=False)\n"
   ]
  },
  {
   "cell_type": "markdown",
   "metadata": {},
   "source": [
    "#### LDA topic identification"
   ]
  },
  {
   "cell_type": "code",
   "execution_count": 7,
   "metadata": {},
   "outputs": [],
   "source": [
    "import argparse\n",
    "import numpy as np\n",
    "from sklearn.feature_extraction.text import CountVectorizer\n",
    "from lda import LDA"
   ]
  },
  {
   "cell_type": "code",
   "execution_count": 8,
   "metadata": {},
   "outputs": [
    {
     "name": "stderr",
     "output_type": "stream",
     "text": [
      "INFO:lda:n_documents: 2846\n",
      "INFO:lda:vocab_size: 10000\n",
      "INFO:lda:n_words: 1206706\n",
      "INFO:lda:n_topics: 20\n",
      "INFO:lda:n_iter: 100\n",
      "INFO:lda:<0> log likelihood: -13960108\n",
      "INFO:lda:<99> log likelihood: -10275101\n"
     ]
    }
   ],
   "source": [
    "def learn_topics(dataframe, topicnum):\n",
    "\n",
    "    texts = dataframe['Text'].tolist()\n",
    "\n",
    "    # Get vocabulary and word counts.  Use the top 10,000 most frequent\n",
    "    # lowercase unigrams with at least 3 alphabetical, non-numeric characters,\n",
    "    # punctuation treated as separators.\n",
    "    CVzer = CountVectorizer(token_pattern=r\"(?u)\\b[^\\W\\d]{3,}\\b\",\n",
    "                            max_features=10000,\n",
    "                            lowercase=True)\n",
    "    doc_vcnts = CVzer.fit_transform(texts)\n",
    "    vocabulary = CVzer.get_feature_names_out()\n",
    "\n",
    "    # Learn topics.  Refresh conrols print frequency.\n",
    "    lda_model = LDA(topicnum, n_iter=100, refresh=100) \n",
    "    doc_topic = lda_model.fit_transform(doc_vcnts)\n",
    "    topic_word = lda_model.topic_word_\n",
    "    doc_to_topic = lda_model.doc_topic_\n",
    "\n",
    "    return doc_topic, topic_word, vocabulary, doc_to_topic\n",
    "\n",
    "doc_topic, topic_word, vocabulary, doc_to_topic = learn_topics(guardian_data, 20) "
   ]
  },
  {
   "cell_type": "code",
   "execution_count": 11,
   "metadata": {},
   "outputs": [
    {
     "name": "stdout",
     "output_type": "stream",
     "text": [
      "Moscow warns Ukraine may ‘destroy itself’ as Russia and US clash at UN TOPIC: 18\n",
      "From eastern Europe we watch Ukraine in fear. Its fate could decide the continent’s future TOPIC: 5\n",
      "Johnson-Putin call rescheduled as PM’s diplomacy drive falters TOPIC: 3\n",
      "Nicola Sturgeon urges Johnson to tackle Russian oligarchs’ influence in UK TOPIC: 5\n",
      "Britain’s failure to tackle Russian dirty money has enabled Putin’s aggression  TOPIC: 5\n",
      "Russian invasion of Ukraine would be a disaster, says Boris Johnson in Kyiv TOPIC: 3\n",
      "Ukraine crisis: Putin accuses US of ignoring Russian security concerns TOPIC: 14\n",
      "The Guardian view on Russia: cracking down on tainted money  TOPIC: 19\n",
      "Ukraine crisis a test that Britain – and Johnson – dare not fail TOPIC: 5\n",
      "Kremlin calls Boris Johnson’s Ukraine diplomacy efforts ‘utterly confused’ TOPIC: 18\n"
     ]
    }
   ],
   "source": [
    "for i in range(10):\n",
    "    print(f\"{guardian_data.iloc[i][2]} TOPIC: {doc_to_topic[i].argmax()}\")"
   ]
  },
  {
   "cell_type": "code",
   "execution_count": 9,
   "metadata": {},
   "outputs": [
    {
     "name": "stdout",
     "output_type": "stream",
     "text": [
      "Topic 0: putin russian ukraine russia war the country\n",
      "Topic 1: the ukraine news local kyiv images march\n",
      "Topic 2: people war but and like that putin\n",
      "Topic 3: said johnson minister ukraine the government prime\n",
      "Topic 4: said russian media russia ukraine news the\n",
      "Topic 5: the but government years political policy new\n",
      "Topic 6: said city people russian the mariupol kyiv\n",
      "Topic 7: russian ukraine said ukrainian forces russia the\n",
      "Topic 8: refugees said people government ukrainians visa the\n",
      "Topic 9: gas oil energy prices the year germany\n",
      "Topic 10: russia russian said the sanctions bank companies\n",
      "Topic 11: ukrainian ukraine the war new ukrainians kyiv\n",
      "Topic 12: russia ukraine putin war russian china military\n",
      "Topic 13: russian war the said crimes ukrainian ukraine\n",
      "Topic 14: ukraine nato biden putin weapons the nuclear\n",
      "Topic 15: says she family ukraine said ukrainian they\n",
      "Topic 16: the border poland guardian war kyiv day\n",
      "Topic 17: ukraine food the world said countries people\n",
      "Topic 18: said russia ukraine russian the president minister\n",
      "Topic 19: the russian sanctions putin oligarchs abramovich london\n"
     ]
    }
   ],
   "source": [
    "for i, topic_dist in enumerate(topic_word):\n",
    "    topic_words = np.array(vocabulary)[np.argsort(topic_dist)][:-8:-1]\n",
    "    print('Topic {}: {}'.format(i, ' '.join(topic_words)))"
   ]
  },
  {
   "cell_type": "code",
   "execution_count": 12,
   "metadata": {},
   "outputs": [
    {
     "data": {
      "text/plain": [
       "('d:\\\\Code\\\\ukraine-media/results/GuardianTopicMixtures.txt',\n",
       " 'd:\\\\Code\\\\ukraine-media/results/GuardianTopics.txt',\n",
       " 'd:\\\\Code\\\\ukraine-media/results/GuardianVocab.txt')"
      ]
     },
     "execution_count": 12,
     "metadata": {},
     "output_type": "execute_result"
    }
   ],
   "source": [
    "def save_topicmodel(doc_topic, topic_word, vocabulary):\n",
    "\n",
    "    ## Topic mixtures.\n",
    "    topicmixture_outpath = PARENT_DIR + \"/results/GuardianTopicMixtures.txt\"\n",
    "    np.savetxt(topicmixture_outpath, doc_topic)\n",
    "\n",
    "    ## Topics.\n",
    "    topic_outpath = PARENT_DIR + \"/results/GuardianTopics.txt\"\n",
    "    np.savetxt(topic_outpath, topic_word)\n",
    "\n",
    "    ## Vocabulary order.\n",
    "    vocab_outpath = PARENT_DIR + \"/results/GuardianVocab.txt\"\n",
    "    with open(vocab_outpath, mode=\"w\", encoding=\"utf-8\") as f:\n",
    "        for v in vocabulary:\n",
    "            f.write(v + \"\\n\")\n",
    "\n",
    "    return topicmixture_outpath, topic_outpath, vocab_outpath\n",
    "\n",
    "save_topicmodel(doc_topic, topic_word, vocabulary)"
   ]
  },
  {
   "cell_type": "code",
   "execution_count": 13,
   "metadata": {},
   "outputs": [],
   "source": [
    "\n",
    "def KLdivergence_from_probdist_arrays(pdists0, pdists1):\n",
    "    \"\"\"\n",
    "    Calculate KL divergence between probability distributions held on the same\n",
    "    rows of two arrays.\n",
    "\n",
    "    NOTE: elements of pdist* are assumed to be positive (non-zero), a\n",
    "    necessary condition for using Kullback-Leibler Divergence.\n",
    "\n",
    "    Args:\n",
    "      pdists* (numpy.ndarray): arrays, where rows for each constitute the two\n",
    "      probability distributions from which to calculate divergence.  pdists1\n",
    "      contains the distributions holding probabilities in the numerator of the\n",
    "      KL divergence summand.\n",
    "\n",
    "    Returns:\n",
    "      numpy.ndarray: KL divergences, where the second array's rows are the\n",
    "        distributions in the numerator of the log in KL divergence\n",
    "\n",
    "    \"\"\"\n",
    "\n",
    "    assert pdists0.shape == pdists1.shape, 'pdist* shapes must be identical'\n",
    "\n",
    "    if len(pdists0.shape) == 1:\n",
    "        KLdivs = (pdists1 * np.log2(pdists1/pdists0)).sum()\n",
    "    elif len(pdists0.shape) == 2:\n",
    "        KLdivs = (pdists1 * np.log2(pdists1/pdists0)).sum(axis=1)\n",
    "\n",
    "    return KLdivs"
   ]
  },
  {
   "cell_type": "code",
   "execution_count": 14,
   "metadata": {},
   "outputs": [],
   "source": [
    "def novelty_transience_resonance(thetas_arr, scale):\n",
    "    \"\"\"\n",
    "    Calculate novelty, transience, and resonance for all center speeches with\n",
    "    at least one scale of speeches in its past and its future.  Presidential\n",
    "    speeches are excluded from the surrounding scales.\n",
    "    \n",
    "    Args:\n",
    "      thetas_arr (numpy.ndarray): rows are topic mixtures\n",
    "      scale (int): positive integer defining scale or scale size\n",
    "    \n",
    "    \"\"\"\n",
    "\n",
    "    # Find the first and last center speech offset, given scale size.\n",
    "    speechstart = scale\n",
    "    speechend = thetas_arr.shape[0] - scale\n",
    "\n",
    "    # Calculate novelty, transience, resonance.\n",
    "    novelties = []\n",
    "    transiences = []\n",
    "    resonances = []\n",
    "    for j in range(speechstart, speechend, 1):\n",
    "\n",
    "        center_theta = thetas_arr[j]\n",
    "\n",
    "        # Define windows before and after center speech.\n",
    "        after_boxend = j + scale + 1\n",
    "        before_boxstart = j - scale\n",
    "\n",
    "        before_theta_arr = thetas_arr[before_boxstart:j]\n",
    "        beforenum = before_theta_arr.shape[0]\n",
    "        before_centertheta_arr = np.tile(center_theta, reps=(beforenum, 1))\n",
    "\n",
    "        after_theta_arr = thetas_arr[j+1:after_boxend]\n",
    "        afternum = after_theta_arr.shape[0]\n",
    "        after_centertheta_arr = np.tile(center_theta, reps=(afternum, 1))\n",
    "\n",
    "        # Calculate KLDs.\n",
    "        before_KLDs = KLdivergence_from_probdist_arrays(before_theta_arr,\n",
    "                before_centertheta_arr)\n",
    "        after_KLDs = KLdivergence_from_probdist_arrays(after_theta_arr,\n",
    "                after_centertheta_arr)\n",
    "\n",
    "        # Calculate means of KLD.\n",
    "        novelty = np.mean(before_KLDs)\n",
    "        transience = np.mean(after_KLDs)\n",
    "\n",
    "        # Final measures for this center speech.\n",
    "        novelties.append(novelty)\n",
    "        transiences.append(transience)\n",
    "        resonances.append(novelty - transience)\n",
    "\n",
    "    return novelties, transiences, resonances"
   ]
  },
  {
   "cell_type": "code",
   "execution_count": 15,
   "metadata": {},
   "outputs": [],
   "source": [
    "def save_novel_trans_reson(novelties, transiences, resonances):\n",
    "\n",
    "    outpath = PARENT_DIR + \"/results/GuardianNovelTransReson.txt\"\n",
    "    np.savetxt(outpath, np.vstack(zip(novelties, transiences, resonances)))"
   ]
  },
  {
   "cell_type": "code",
   "execution_count": 16,
   "metadata": {},
   "outputs": [],
   "source": [
    "period = 50\n",
    "novelties, transiences, resonances = novelty_transience_resonance(doc_topic, period)\n",
    "\n",
    "for index in range(0,period):\n",
    "    transiences.insert(0, 0)\n",
    "    transiences.append(0)\n",
    "    novelties.insert(0, 0)\n",
    "    novelties.append(0)\n",
    "    resonances.insert(0, 0)\n",
    "    resonances.append(0)"
   ]
  },
  {
   "cell_type": "code",
   "execution_count": 17,
   "metadata": {},
   "outputs": [
    {
     "name": "stderr",
     "output_type": "stream",
     "text": [
      "C:\\Users\\Arthur\\AppData\\Local\\Temp\\ipykernel_10044\\2825353074.py:4: FutureWarning: arrays to stack must be passed as a \"sequence\" type such as list or tuple. Support for non-sequence iterables such as generators is deprecated as of NumPy 1.16 and will raise an error in the future.\n",
      "  np.savetxt(outpath, np.vstack(zip(novelties, transiences, resonances)))\n"
     ]
    }
   ],
   "source": [
    "save_novel_trans_reson(novelties, transiences, resonances)"
   ]
  },
  {
   "cell_type": "code",
   "execution_count": 27,
   "metadata": {},
   "outputs": [
    {
     "data": {
      "text/html": [
       "<div>\n",
       "<style scoped>\n",
       "    .dataframe tbody tr th:only-of-type {\n",
       "        vertical-align: middle;\n",
       "    }\n",
       "\n",
       "    .dataframe tbody tr th {\n",
       "        vertical-align: top;\n",
       "    }\n",
       "\n",
       "    .dataframe thead th {\n",
       "        text-align: right;\n",
       "    }\n",
       "</style>\n",
       "<table border=\"1\" class=\"dataframe\">\n",
       "  <thead>\n",
       "    <tr style=\"text-align: right;\">\n",
       "      <th></th>\n",
       "      <th>URL</th>\n",
       "      <th>Date</th>\n",
       "      <th>Title</th>\n",
       "      <th>Text</th>\n",
       "      <th>Novelty</th>\n",
       "      <th>Transience</th>\n",
       "      <th>Resonance</th>\n",
       "    </tr>\n",
       "  </thead>\n",
       "  <tbody>\n",
       "    <tr>\n",
       "      <th>0</th>\n",
       "      <td>https://www.theguardian.com/world/2022/jan/31/...</td>\n",
       "      <td>2022-02-01T08:07:51Z</td>\n",
       "      <td>Moscow warns Ukraine may ‘destroy itself’ as R...</td>\n",
       "      <td>Ukraine responsible destruction undermines exi...</td>\n",
       "      <td>0.0</td>\n",
       "      <td>0.0</td>\n",
       "      <td>0.0</td>\n",
       "    </tr>\n",
       "    <tr>\n",
       "      <th>1</th>\n",
       "      <td>https://www.theguardian.com/world/commentisfre...</td>\n",
       "      <td>2022-02-01T13:00:55Z</td>\n",
       "      <td>From eastern Europe we watch Ukraine in fear. ...</td>\n",
       "      <td>Two points Ukraine crisis crystal clear. First...</td>\n",
       "      <td>0.0</td>\n",
       "      <td>0.0</td>\n",
       "      <td>0.0</td>\n",
       "    </tr>\n",
       "    <tr>\n",
       "      <th>2</th>\n",
       "      <td>https://www.theguardian.com/politics/2022/feb/...</td>\n",
       "      <td>2022-02-01T14:22:11Z</td>\n",
       "      <td>Johnson-Putin call rescheduled as PM’s diploma...</td>\n",
       "      <td>A phone Boris Johnson Vladimir Putin prime min...</td>\n",
       "      <td>0.0</td>\n",
       "      <td>0.0</td>\n",
       "      <td>0.0</td>\n",
       "    </tr>\n",
       "    <tr>\n",
       "      <th>3</th>\n",
       "      <td>https://www.theguardian.com/politics/2022/feb/...</td>\n",
       "      <td>2022-02-01T16:00:02Z</td>\n",
       "      <td>Nicola Sturgeon urges Johnson to tackle Russia...</td>\n",
       "      <td>Nicola Sturgeon called prime minister tackle c...</td>\n",
       "      <td>0.0</td>\n",
       "      <td>0.0</td>\n",
       "      <td>0.0</td>\n",
       "    </tr>\n",
       "    <tr>\n",
       "      <th>4</th>\n",
       "      <td>https://www.theguardian.com/commentisfree/2022...</td>\n",
       "      <td>2022-02-01T16:00:02Z</td>\n",
       "      <td>Britain’s failure to tackle Russian dirty mone...</td>\n",
       "      <td>The prospect war continent avert gaze latest W...</td>\n",
       "      <td>0.0</td>\n",
       "      <td>0.0</td>\n",
       "      <td>0.0</td>\n",
       "    </tr>\n",
       "  </tbody>\n",
       "</table>\n",
       "</div>"
      ],
      "text/plain": [
       "                                                 URL                  Date  \\\n",
       "0  https://www.theguardian.com/world/2022/jan/31/...  2022-02-01T08:07:51Z   \n",
       "1  https://www.theguardian.com/world/commentisfre...  2022-02-01T13:00:55Z   \n",
       "2  https://www.theguardian.com/politics/2022/feb/...  2022-02-01T14:22:11Z   \n",
       "3  https://www.theguardian.com/politics/2022/feb/...  2022-02-01T16:00:02Z   \n",
       "4  https://www.theguardian.com/commentisfree/2022...  2022-02-01T16:00:02Z   \n",
       "\n",
       "                                               Title  \\\n",
       "0  Moscow warns Ukraine may ‘destroy itself’ as R...   \n",
       "1  From eastern Europe we watch Ukraine in fear. ...   \n",
       "2  Johnson-Putin call rescheduled as PM’s diploma...   \n",
       "3  Nicola Sturgeon urges Johnson to tackle Russia...   \n",
       "4  Britain’s failure to tackle Russian dirty mone...   \n",
       "\n",
       "                                                Text  Novelty  Transience  \\\n",
       "0  Ukraine responsible destruction undermines exi...      0.0         0.0   \n",
       "1  Two points Ukraine crisis crystal clear. First...      0.0         0.0   \n",
       "2  A phone Boris Johnson Vladimir Putin prime min...      0.0         0.0   \n",
       "3  Nicola Sturgeon called prime minister tackle c...      0.0         0.0   \n",
       "4  The prospect war continent avert gaze latest W...      0.0         0.0   \n",
       "\n",
       "   Resonance  \n",
       "0        0.0  \n",
       "1        0.0  \n",
       "2        0.0  \n",
       "3        0.0  \n",
       "4        0.0  "
      ]
     },
     "execution_count": 27,
     "metadata": {},
     "output_type": "execute_result"
    }
   ],
   "source": [
    "ntr_guardian_data = guardian_data\n",
    "ntr_guardian_data['Novelty'] = novelties\n",
    "ntr_guardian_data['Transience'] = novelties\n",
    "ntr_guardian_data['Resonance'] = resonances\n",
    "ntr_guardian_data.head()"
   ]
  },
  {
   "cell_type": "code",
   "execution_count": 29,
   "metadata": {},
   "outputs": [],
   "source": [
    "import matplotlib.pyplot as plt\n",
    "import datetime\n",
    "import numpy as np\n",
    "import pandas as pd"
   ]
  },
  {
   "cell_type": "code",
   "execution_count": 32,
   "metadata": {},
   "outputs": [],
   "source": [
    "%matplotlib inline"
   ]
  },
  {
   "cell_type": "code",
   "execution_count": 52,
   "metadata": {},
   "outputs": [
    {
     "name": "stdout",
     "output_type": "stream",
     "text": [
      "Line graph: \n"
     ]
    },
    {
     "data": {
      "image/png": "[encoded data removed]",
      "text/plain": [
       "<Figure size 864x576 with 1 Axes>"
      ]
     },
     "metadata": {
      "needs_background": "light"
     },
     "output_type": "display_data"
    }
   ],
   "source": [
    "fig = plt.figure(figsize=(12, 8))\n",
    "\n",
    "# Define Data\n",
    "\n",
    "# Plot time series\n",
    "\n",
    "# plotting a line graph\n",
    "print(\"Line graph: \")\n",
    "plt.plot(ntr_guardian_data[\"Resonance\"])\n",
    "plt.show()"
   ]
  }
 ],
 "metadata": {
  "kernelspec": {
   "display_name": "Python 3.10.4 ('.venv': venv)",
   "language": "python",
   "name": "python3"
  },
  "language_info": {
   "codemirror_mode": {
    "name": "ipython",
    "version": 3
   },
   "file_extension": ".py",
   "mimetype": "text/x-python",
   "name": "python",
   "nbconvert_exporter": "python",
   "pygments_lexer": "ipython3",
   "version": "3.10.4"
  },
  "orig_nbformat": 4,
  "vscode": {
   "interpreter": {
    "hash": "8bd6d5ee84073ea568a8475b6416df4df35e9f8587352d1cb55f8675bca2c3cd"
   }
  }
 },
 "nbformat": 4,
 "nbformat_minor": 2
}
