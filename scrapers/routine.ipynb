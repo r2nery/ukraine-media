{
 "cells": [
  {
   "cell_type": "code",
   "execution_count": 1,
   "metadata": {},
   "outputs": [],
   "source": [
    "from scrapers import *\n",
    "from utilities import *\n"
   ]
  },
  {
   "cell_type": "code",
   "execution_count": 2,
   "metadata": {},
   "outputs": [
    {
     "name": "stdout",
     "output_type": "stream",
     "text": [
      "-> CSV file found with 2679 articles! Latest article date: 2022-06-20\n",
      "-> There are 26 articles in 1 pages yet to be fetched.\n",
      "-> API Query |████████████████████████████████████████| (!) 26 in 7.6s (3.44/s) \n",
      "-> 26 articles fetched successfully!\n",
      "-> Data saved to Guardian.csv! Total articles: 2705\n"
     ]
    }
   ],
   "source": [
    "guardianScraper()"
   ]
  },
  {
   "cell_type": "code",
   "execution_count": 4,
   "metadata": {},
   "outputs": [
    {
     "data": {
      "text/html": [
       "<div>\n",
       "<style scoped>\n",
       "    .dataframe tbody tr th:only-of-type {\n",
       "        vertical-align: middle;\n",
       "    }\n",
       "\n",
       "    .dataframe tbody tr th {\n",
       "        vertical-align: top;\n",
       "    }\n",
       "\n",
       "    .dataframe thead th {\n",
       "        text-align: right;\n",
       "    }\n",
       "</style>\n",
       "<table border=\"1\" class=\"dataframe\">\n",
       "  <thead>\n",
       "    <tr style=\"text-align: right;\">\n",
       "      <th></th>\n",
       "      <th>URL</th>\n",
       "      <th>Date</th>\n",
       "      <th>Title</th>\n",
       "      <th>Text</th>\n",
       "    </tr>\n",
       "  </thead>\n",
       "  <tbody>\n",
       "    <tr>\n",
       "      <th>2700</th>\n",
       "      <td>https://www.theguardian.com/music/2022/jun/21/...</td>\n",
       "      <td>2022-06-21T16:00:06Z</td>\n",
       "      <td>Ukrainian Eurovision winners Kalush Orchestra ...</td>\n",
       "      <td>Kalush Orchestra, the Ukrainian group who triu...</td>\n",
       "    </tr>\n",
       "    <tr>\n",
       "      <th>2701</th>\n",
       "      <td>https://www.theguardian.com/world/2022/jun/21/...</td>\n",
       "      <td>2022-06-21T16:28:56Z</td>\n",
       "      <td>Russia blocks Telegraph website over Ukraine r...</td>\n",
       "      <td>Russia has blocked the website of the Telegrap...</td>\n",
       "    </tr>\n",
       "    <tr>\n",
       "      <th>2702</th>\n",
       "      <td>https://www.theguardian.com/environment/2022/j...</td>\n",
       "      <td>2022-06-21T23:00:14Z</td>\n",
       "      <td>Europe and UK pour 17,000 tons of cooking oil ...</td>\n",
       "      <td>Europe and the UK are pouring 17,000 tons – or...</td>\n",
       "    </tr>\n",
       "    <tr>\n",
       "      <th>2703</th>\n",
       "      <td>https://www.theguardian.com/world/2022/jun/22/...</td>\n",
       "      <td>2022-06-22T00:17:26Z</td>\n",
       "      <td>Russia-Ukraine war: what we know on day 119 of...</td>\n",
       "      <td>Ukraine’s army said it launched airstrikes on...</td>\n",
       "    </tr>\n",
       "    <tr>\n",
       "      <th>2704</th>\n",
       "      <td>https://www.theguardian.com/world/2022/jun/22/...</td>\n",
       "      <td>2022-06-22T05:00:21Z</td>\n",
       "      <td>Ukrainians still finding bodies in former occu...</td>\n",
       "      <td>The man’s body was first discovered by local p...</td>\n",
       "    </tr>\n",
       "  </tbody>\n",
       "</table>\n",
       "</div>"
      ],
      "text/plain": [
       "                                                    URL                  Date  \\\n",
       "2700  https://www.theguardian.com/music/2022/jun/21/...  2022-06-21T16:00:06Z   \n",
       "2701  https://www.theguardian.com/world/2022/jun/21/...  2022-06-21T16:28:56Z   \n",
       "2702  https://www.theguardian.com/environment/2022/j...  2022-06-21T23:00:14Z   \n",
       "2703  https://www.theguardian.com/world/2022/jun/22/...  2022-06-22T00:17:26Z   \n",
       "2704  https://www.theguardian.com/world/2022/jun/22/...  2022-06-22T05:00:21Z   \n",
       "\n",
       "                                                  Title  \\\n",
       "2700  Ukrainian Eurovision winners Kalush Orchestra ...   \n",
       "2701  Russia blocks Telegraph website over Ukraine r...   \n",
       "2702  Europe and UK pour 17,000 tons of cooking oil ...   \n",
       "2703  Russia-Ukraine war: what we know on day 119 of...   \n",
       "2704  Ukrainians still finding bodies in former occu...   \n",
       "\n",
       "                                                   Text  \n",
       "2700  Kalush Orchestra, the Ukrainian group who triu...  \n",
       "2701  Russia has blocked the website of the Telegrap...  \n",
       "2702  Europe and the UK are pouring 17,000 tons – or...  \n",
       "2703   Ukraine’s army said it launched airstrikes on...  \n",
       "2704  The man’s body was first discovered by local p...  "
      ]
     },
     "execution_count": 4,
     "metadata": {},
     "output_type": "execute_result"
    }
   ],
   "source": [
    "guardianData = getFile(\"Guardian.csv\")\n",
    "guardianData.tail(5)"
   ]
  },
  {
   "cell_type": "code",
   "execution_count": 2,
   "metadata": {},
   "outputs": [
    {
     "name": "stdout",
     "output_type": "stream",
     "text": [
      "-> CSV file found with 3060 articles! Latest article date: 20220618\n",
      "-> There are 51 articles in 6 pages yet to be fetched.\n",
      "-> API Query |████████████████████████████████████████| (!) 51 in 43.2s (1.18/s) \n",
      "-> 51 articles fetched successfully!\n",
      "-> Data saved to NYT.csv! Total articles: 3111\n"
     ]
    }
   ],
   "source": [
    "NYTScraper()"
   ]
  },
  {
   "cell_type": "code",
   "execution_count": 5,
   "metadata": {},
   "outputs": [
    {
     "data": {
      "text/html": [
       "<div>\n",
       "<style scoped>\n",
       "    .dataframe tbody tr th:only-of-type {\n",
       "        vertical-align: middle;\n",
       "    }\n",
       "\n",
       "    .dataframe tbody tr th {\n",
       "        vertical-align: top;\n",
       "    }\n",
       "\n",
       "    .dataframe thead th {\n",
       "        text-align: right;\n",
       "    }\n",
       "</style>\n",
       "<table border=\"1\" class=\"dataframe\">\n",
       "  <thead>\n",
       "    <tr style=\"text-align: right;\">\n",
       "      <th></th>\n",
       "      <th>URL</th>\n",
       "      <th>Date</th>\n",
       "      <th>Title</th>\n",
       "      <th>Text</th>\n",
       "      <th>Snippet</th>\n",
       "    </tr>\n",
       "  </thead>\n",
       "  <tbody>\n",
       "    <tr>\n",
       "      <th>3106</th>\n",
       "      <td>https://www.nytimes.com/2022/06/21/us/adam-sch...</td>\n",
       "      <td>2022-06-21T17:15:22+0000</td>\n",
       "      <td>Adam Schiff: A former impeachment manager brin...</td>\n",
       "      <td>For Representative Adam B. Schiff, Democrat of...</td>\n",
       "      <td>Mr. Schiff, a former prosecutor, went on to le...</td>\n",
       "    </tr>\n",
       "    <tr>\n",
       "      <th>3107</th>\n",
       "      <td>https://www.nytimes.com/2022/06/21/us/politics...</td>\n",
       "      <td>2022-06-21T18:25:59+0000</td>\n",
       "      <td>Biden Bans Most Antipersonnel Land Mine Use, R...</td>\n",
       "      <td>The United States on Tuesday limited its milit...</td>\n",
       "      <td>The move effectively returns to a 2014 policy ...</td>\n",
       "    </tr>\n",
       "    <tr>\n",
       "      <th>3108</th>\n",
       "      <td>https://www.nytimes.com/2022/06/21/briefing/ru...</td>\n",
       "      <td>2022-06-21T21:21:48+0000</td>\n",
       "      <td>The Wartime Celebrity Leader</td>\n",
       "      <td>Hello. This is your Russia-Ukraine War Briefin...</td>\n",
       "      <td>A Times correspondent in Kyiv discusses Presid...</td>\n",
       "    </tr>\n",
       "    <tr>\n",
       "      <th>3109</th>\n",
       "      <td>https://www.nytimes.com/2022/06/21/world/europ...</td>\n",
       "      <td>2022-06-21T22:35:28+0000</td>\n",
       "      <td>Western Move to Choke Russia’s Oil Exports Boo...</td>\n",
       "      <td>When the United States and European Union move...</td>\n",
       "      <td>With China and India buying the Russian oil sh...</td>\n",
       "    </tr>\n",
       "    <tr>\n",
       "      <th>3110</th>\n",
       "      <td>https://www.nytimes.com/2022/06/22/world/europ...</td>\n",
       "      <td>2022-06-22T04:01:14+0000</td>\n",
       "      <td>Linchpin of Ukrainian Defiance, a Southern Cit...</td>\n",
       "      <td>There is no door on Anna Svetlaya’s fridge. A ...</td>\n",
       "      <td>Without its Black Sea coast, a landlocked Ukra...</td>\n",
       "    </tr>\n",
       "  </tbody>\n",
       "</table>\n",
       "</div>"
      ],
      "text/plain": [
       "                                                    URL  \\\n",
       "3106  https://www.nytimes.com/2022/06/21/us/adam-sch...   \n",
       "3107  https://www.nytimes.com/2022/06/21/us/politics...   \n",
       "3108  https://www.nytimes.com/2022/06/21/briefing/ru...   \n",
       "3109  https://www.nytimes.com/2022/06/21/world/europ...   \n",
       "3110  https://www.nytimes.com/2022/06/22/world/europ...   \n",
       "\n",
       "                          Date  \\\n",
       "3106  2022-06-21T17:15:22+0000   \n",
       "3107  2022-06-21T18:25:59+0000   \n",
       "3108  2022-06-21T21:21:48+0000   \n",
       "3109  2022-06-21T22:35:28+0000   \n",
       "3110  2022-06-22T04:01:14+0000   \n",
       "\n",
       "                                                  Title  \\\n",
       "3106  Adam Schiff: A former impeachment manager brin...   \n",
       "3107  Biden Bans Most Antipersonnel Land Mine Use, R...   \n",
       "3108                       The Wartime Celebrity Leader   \n",
       "3109  Western Move to Choke Russia’s Oil Exports Boo...   \n",
       "3110  Linchpin of Ukrainian Defiance, a Southern Cit...   \n",
       "\n",
       "                                                   Text  \\\n",
       "3106  For Representative Adam B. Schiff, Democrat of...   \n",
       "3107  The United States on Tuesday limited its milit...   \n",
       "3108  Hello. This is your Russia-Ukraine War Briefin...   \n",
       "3109  When the United States and European Union move...   \n",
       "3110  There is no door on Anna Svetlaya’s fridge. A ...   \n",
       "\n",
       "                                                Snippet  \n",
       "3106  Mr. Schiff, a former prosecutor, went on to le...  \n",
       "3107  The move effectively returns to a 2014 policy ...  \n",
       "3108  A Times correspondent in Kyiv discusses Presid...  \n",
       "3109  With China and India buying the Russian oil sh...  \n",
       "3110  Without its Black Sea coast, a landlocked Ukra...  "
      ]
     },
     "execution_count": 5,
     "metadata": {},
     "output_type": "execute_result"
    }
   ],
   "source": [
    "nytData = getFile(\"NYT.csv\")\n",
    "nytData.tail(5)"
   ]
  }
 ],
 "metadata": {
  "kernelspec": {
   "display_name": "Python 3.10.4 ('.venv': venv)",
   "language": "python",
   "name": "python3"
  },
  "language_info": {
   "codemirror_mode": {
    "name": "ipython",
    "version": 3
   },
   "file_extension": ".py",
   "mimetype": "text/x-python",
   "name": "python",
   "nbconvert_exporter": "python",
   "pygments_lexer": "ipython3",
   "version": "3.10.4"
  },
  "orig_nbformat": 4,
  "vscode": {
   "interpreter": {
    "hash": "8bd6d5ee84073ea568a8475b6416df4df35e9f8587352d1cb55f8675bca2c3cd"
   }
  }
 },
 "nbformat": 4,
 "nbformat_minor": 2
}
