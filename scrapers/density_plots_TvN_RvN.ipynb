{
 "cells": [
  {
   "cell_type": "markdown",
   "metadata": {},
   "source": [
    "# Density plots: Transience v. Novelty and Resonance v. Novelty"
   ]
  },
  {
   "cell_type": "markdown",
   "metadata": {},
   "source": [
    "## Preliminaries"
   ]
  },
  {
   "cell_type": "code",
   "execution_count": 1,
   "metadata": {
    "collapsed": true
   },
   "outputs": [],
   "source": [
    "import pandas as pd\n",
    "import numpy as np\n",
    "import matplotlib.pyplot as pyp\n",
    "import matplotlib as mpl\n",
    "from scrapers import *\n",
    "from utilities import *"
   ]
  },
  {
   "cell_type": "code",
   "execution_count": 2,
   "metadata": {
    "collapsed": true
   },
   "outputs": [],
   "source": [
    "%matplotlib inline"
   ]
  },
  {
   "cell_type": "code",
   "execution_count": 3,
   "metadata": {
    "collapsed": true
   },
   "outputs": [],
   "source": [
    "# matplotlib globals\n",
    "mpl.rcParams['axes.labelsize'] = 10\n",
    "mpl.rcParams['axes.titlesize'] = 11\n",
    "mpl.rcParams['xtick.labelsize'] = 9\n",
    "mpl.rcParams['ytick.labelsize'] = 9\n",
    "mpl.rcParams['xtick.direction'] = 'in'\n",
    "mpl.rcParams['ytick.direction'] = 'in'\n",
    "mpl.rcParams['lines.linewidth'] = 2\n",
    "mpl.rcParams['legend.fontsize'] = 'small'\n",
    "mpl.rcParams['font.family'] = 'serif'"
   ]
  },
  {
   "cell_type": "code",
   "execution_count": 4,
   "metadata": {
    "collapsed": true
   },
   "outputs": [],
   "source": [
    "centininch = 2.54\n",
    "inchincent = .3937\n",
    "\n",
    "def centtoinch(cents):\n",
    "    return .3937*cents\n",
    "\n",
    "def inchtocent(inches):\n",
    "    return 2.54*inches"
   ]
  },
  {
   "cell_type": "markdown",
   "metadata": {},
   "source": [
    "## Data"
   ]
  },
  {
   "cell_type": "code",
   "execution_count": 5,
   "metadata": {
    "collapsed": true
   },
   "outputs": [],
   "source": [
    "# Load in novelty, transience, resonance\n",
    "\n",
    "example_NTR_path = PARENT_DIR + \"/results/GuardianNovelTransReson.txt\"\n",
    "\n",
    "NTR_df = pd.read_table(example_NTR_path, sep=' ',\n",
    "                       header=None, names=['Novelty', 'Transience', 'Resonance'])"
   ]
  },
  {
   "cell_type": "markdown",
   "metadata": {},
   "source": [
    "## Density plots"
   ]
  },
  {
   "cell_type": "code",
   "execution_count": 6,
   "metadata": {
    "collapsed": true
   },
   "outputs": [],
   "source": [
    "def plot_quants_2Dhist(quants, NTR_df, ax, xbins, ybins, make_cbar=True,\n",
    "                       cbar_axis=False, cbar_orientation='vertical', colorvmax=None):\n",
    "\n",
    "    q0 = NTR_df[quants[0]]\n",
    "    q1 = NTR_df[quants[1]]\n",
    "    \n",
    "    q0bins = xbins\n",
    "    q1bins = ybins\n",
    "    \n",
    "    H, xedges, yedges = np.histogram2d(q0.to_numpy(),\n",
    "                                       q1.to_numpy(),\n",
    "                                       bins=[q0bins, q1bins])\n",
    "\n",
    "    # H needs to be rotated and flipped\n",
    "    H = np.rot90(H)\n",
    "    H = np.flipud(H)\n",
    "\n",
    "    # Mask zeros\n",
    "    Hmasked = np.ma.masked_where(H==0,H) # Mask pixels with a value\n",
    "    \n",
    "    # Plot 2D histogram using pcolor\n",
    "    if colorvmax:\n",
    "        usemax = colorvmax\n",
    "    else:\n",
    "        usemax = H.max()\n",
    "    pcolm = ax.pcolormesh(xedges,yedges,Hmasked, norm=mpl.colors.LogNorm(vmin=1, vmax=usemax))\n",
    "    \n",
    "    if make_cbar:\n",
    "        if cbar_axis:\n",
    "            cbar = fig.colorbar(pcolm, cax=cbar_axis, orientation=cbar_orientation)  \n",
    "        else:\n",
    "            cbar = fig.colorbar(pcolm, ax=ax, orientation=cbar_orientation)\n",
    "        cbar.ax.set_ylabel('counts')\n",
    "    \n",
    "    ax.set_xlabel(quants[0])\n",
    "    ax.set_ylabel(quants[1])\n",
    "    \n",
    "    if make_cbar:\n",
    "        return H, cbar\n",
    "    else:\n",
    "        return H"
   ]
  },
  {
   "cell_type": "code",
   "execution_count": 7,
   "metadata": {},
   "outputs": [
    {
     "data": {
      "image/png": "[encoded data removed]",
      "text/plain": [
       "<Figure size 324x180 with 4 Axes>"
      ]
     },
     "metadata": {
      "needs_background": "light"
     },
     "output_type": "display_data"
    }
   ],
   "source": [
    "# Plot densities:\n",
    "#\n",
    "# 1) transience v. novelty,\n",
    "# 2) resonance v. novelty\n",
    "\n",
    "figsize = (4.5, 2.5)\n",
    "\n",
    "fig = pyp.figure(figsize=figsize)\n",
    "\n",
    "# Uncomment to see figure extent.\n",
    "#ax = fig.add_axes([0., 0., 1., 1.])\n",
    "\n",
    "## Plot Transience v. Novelty\n",
    "\n",
    "ax = fig.add_axes([0.1, 0.19, 0.4, 0.72])\n",
    "\n",
    "cbaxes = fig.add_axes([0.4, 0.29, 0.02, 0.2])\n",
    "\n",
    "quants = ['Novelty', 'Transience']\n",
    "\n",
    "xbins = np.linspace(0, 10, 30)\n",
    "ybins = np.linspace(0, 10, 30)\n",
    "\n",
    "H, cbar = plot_quants_2Dhist(quants, NTR_df, ax, xbins, ybins,\n",
    "                             make_cbar=True, cbar_axis=cbaxes, cbar_orientation='vertical')\n",
    "cbar.ax.set_ylabel('')\n",
    "cbar.ax.set_xlabel('counts', fontsize=7)\n",
    "cbar.ax.xaxis.set_label_position('bottom')\n",
    "cbar.ax.yaxis.set_ticks_position('left')\n",
    "cbar.ax.tick_params(labelsize=7)\n",
    "\n",
    "### Identity (x=y) line\n",
    "ax.plot([0, 9.5], [0, 9.5], 'k--', linewidth=1.5)\n",
    "\n",
    "ax.legend([mpl.lines.Line2D([0], [0], color='k', linewidth=1.5, linestyle='--')],\n",
    "          ['x=y'],\n",
    "          loc='upper center', fontsize=8, ncol=2, handlelength=2.7)\n",
    "\n",
    "ax.set_ylabel('Transience $\\mathcal{T}$         ')\n",
    "ax.set_xlabel('Novelty $\\mathcal{N}$')\n",
    "\n",
    "ax.set_title('Transience v. Novelty')\n",
    "\n",
    "ax.set_aspect('equal')\n",
    "\n",
    "### Hide the right and top spines.\n",
    "ax.spines['right'].set_visible(False)\n",
    "ax.spines['top'].set_visible(False)\n",
    "### Show ticks only on the left and bottom spines.\n",
    "ax.yaxis.set_ticks_position('left')\n",
    "ax.xaxis.set_ticks_position('bottom')\n",
    "\n",
    "# Limit spine range\n",
    "ax.spines['left'].set_bounds( 0, 8)\n",
    "ax.set_yticks([0, 2, 4, 6, 8])\n",
    "ax.spines['bottom'].set_bounds( 0, 10)\n",
    "ax.set_xticks([0, 2, 4, 6, 8, 10])\n",
    "\n",
    "ax.set_ylim(0, 11.5)\n",
    "ax.set_xlim(0, 11.5)\n",
    "\n",
    "\n",
    "## Plot Reson v. Novelty\n",
    "\n",
    "ax = fig.add_axes([0.6, 0.19, 0.35, 0.72])\n",
    "\n",
    "cbaxes = fig.add_axes([0.9, 0.29, 0.02, 0.2])\n",
    "\n",
    "quants = ['Novelty', 'Resonance']\n",
    "\n",
    "xbins = np.linspace(0, 11, 30)\n",
    "ybins = np.linspace(-7, 8, 30)\n",
    "\n",
    "H, cbar = plot_quants_2Dhist(quants, NTR_df, ax, xbins, ybins,\n",
    "                             make_cbar=True, cbar_axis=cbaxes, cbar_orientation='vertical')\n",
    "cbar.ax.set_ylabel('')\n",
    "cbar.ax.set_xlabel('counts', fontsize=7)\n",
    "cbar.ax.xaxis.set_label_position('bottom')\n",
    "cbar.ax.yaxis.set_ticks_position('left')\n",
    "cbar.ax.tick_params(labelsize=7)\n",
    "\n",
    "ax.axhline(color='k', linewidth=1.5, linestyle=':')\n",
    "\n",
    "ax.set_xlim(-1, 10)\n",
    "ax.set_ylim(-7, 8)\n",
    "\n",
    "### Hide the right and top spines.\n",
    "ax.spines['right'].set_visible(False)\n",
    "ax.spines['top'].set_visible(False)\n",
    "### Show ticks only on the left and bottom spines.\n",
    "ax.yaxis.set_ticks_position('left')\n",
    "ax.xaxis.set_ticks_position('bottom')\n",
    "\n",
    "### Limit spine range\n",
    "ax.spines['left'].set_bounds( -5, 5)\n",
    "ax.set_yticks([-5, 0, 5])\n",
    "ax.spines['bottom'].set_bounds( 0, 10)\n",
    "ax.set_xticks([ 0, 2, 4, 6, 8, 10])\n",
    "\n",
    "ax.set_ylabel('Resonance $\\mathcal{R}}$')\n",
    "ax.set_xlabel('Novelty $\\mathcal{N}$')\n",
    "\n",
    "_ = ax.set_title('Resonance v. Novelty')"
   ]
  }
 ],
 "metadata": {
  "kernelspec": {
   "display_name": "Python 3.10.4 ('.venv': venv)",
   "language": "python",
   "name": "python3"
  },
  "language_info": {
   "codemirror_mode": {
    "name": "ipython",
    "version": 3
   },
   "file_extension": ".py",
   "mimetype": "text/x-python",
   "name": "python",
   "nbconvert_exporter": "python",
   "pygments_lexer": "ipython3",
   "version": "3.10.4"
  },
  "vscode": {
   "interpreter": {
    "hash": "8bd6d5ee84073ea568a8475b6416df4df35e9f8587352d1cb55f8675bca2c3cd"
   }
  }
 },
 "nbformat": 4,
 "nbformat_minor": 1
}
