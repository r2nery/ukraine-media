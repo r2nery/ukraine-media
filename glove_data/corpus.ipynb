{
 "cells": [
  {
   "cell_type": "code",
   "execution_count": 16,
   "metadata": {},
   "outputs": [
    {
     "name": "stderr",
     "output_type": "stream",
     "text": [
      "[nltk_data] Downloading package stopwords to /Users/r2/nltk_data...\n",
      "[nltk_data]   Package stopwords is already up-to-date!\n",
      "[nltk_data] Downloading package punkt to /Users/r2/nltk_data...\n",
      "[nltk_data]   Package punkt is already up-to-date!\n"
     ]
    }
   ],
   "source": [
    "import nltk\n",
    "import nltk.data\n",
    "from nltk.probability import FreqDist\n",
    "from nltk.tokenize import word_tokenize\n",
    "import os\n",
    "import pandas as pd\n",
    "import numpy as np\n",
    "from nltk.corpus.reader.plaintext import PlaintextCorpusReader\n",
    "from nltk.corpus import stopwords\n",
    "import ssl\n",
    "import string\n",
    "\n",
    "try:\n",
    "    _create_unverified_https_context = ssl._create_unverified_context\n",
    "except AttributeError:\n",
    "    pass\n",
    "else:\n",
    "    ssl._create_default_https_context = _create_unverified_https_context\n",
    "nltk.download('stopwords')\n",
    "nltk.download('punkt')\n",
    "\n",
    "ROOT_DIR = os.path.dirname(os.path.abspath(\"__file__\"))\n",
    "PARENT_DIR = os.path.dirname(ROOT_DIR)\n",
    "CORPUS_ROOT = os.path.dirname(PARENT_DIR + \"/glove_data/corpora/\")"
   ]
  },
  {
   "cell_type": "code",
   "execution_count": 17,
   "metadata": {},
   "outputs": [],
   "source": [
    "reuters = pd.read_csv(PARENT_DIR + \"/data/Reuters_ntr.csv\", index_col=\"Date\")\n",
    "guardian = pd.read_csv(PARENT_DIR + \"/data/Guardian_ntr.csv\", index_col=\"Date\")"
   ]
  },
  {
   "cell_type": "code",
   "execution_count": 18,
   "metadata": {},
   "outputs": [
    {
     "name": "stdout",
     "output_type": "stream",
     "text": [
      "43995526\n"
     ]
    }
   ],
   "source": [
    "corpus = \"\"\n",
    "for i in range(0,len(reuters)):\n",
    "    corpus += reuters.iloc[i,2] + \" \"\n",
    "\n",
    "for i in range(0,len(guardian)):\n",
    "    corpus += guardian.iloc[i,2] + \" \"\n",
    "\n",
    "\n",
    "print(len(corpus))\n"
   ]
  },
  {
   "cell_type": "code",
   "execution_count": 19,
   "metadata": {},
   "outputs": [],
   "source": [
    "quotes = \"“’”–\"\n",
    "exclist = string.punctuation + string.digits + quotes\n",
    "table_ = str.maketrans('', '', exclist)\n",
    "newtext = string.punctuation.translate(table_)\n",
    "corpus = ' '.join(corpus.lower().translate(table_).split())"
   ]
  },
  {
   "cell_type": "code",
   "execution_count": 20,
   "metadata": {},
   "outputs": [
    {
     "name": "stdout",
     "output_type": "stream",
     "text": [
      "7033377\n",
      "4124774\n"
     ]
    }
   ],
   "source": [
    "stop_words = set(stopwords.words('english'))\n",
    "  \n",
    "word_tokens = word_tokenize(corpus)\n",
    "filtered_sentence = [w for w in word_tokens if not w.lower() in stop_words]\n",
    "filtered_sentence = []\n",
    "  \n",
    "for w in word_tokens:\n",
    "    if w not in stop_words:\n",
    "        filtered_sentence.append(w)\n",
    "  \n",
    "print(len(word_tokens))\n",
    "print(len(filtered_sentence))\n",
    "corpus_no_sw = ' '.join(filtered_sentence)"
   ]
  },
  {
   "cell_type": "code",
   "execution_count": 21,
   "metadata": {},
   "outputs": [],
   "source": [
    "with open(CORPUS_ROOT + \"/corpus.txt\", \"w\") as f:\n",
    "    f.write(corpus_no_sw)"
   ]
  },
  {
   "cell_type": "code",
   "execution_count": 22,
   "metadata": {},
   "outputs": [],
   "source": [
    "corpus = PlaintextCorpusReader(CORPUS_ROOT, '.*', encoding='latin1')"
   ]
  }
 ],
 "metadata": {
  "kernelspec": {
   "display_name": "Python 3.10.5 ('.venv': venv)",
   "language": "python",
   "name": "python3"
  },
  "language_info": {
   "codemirror_mode": {
    "name": "ipython",
    "version": 3
   },
   "file_extension": ".py",
   "mimetype": "text/x-python",
   "name": "python",
   "nbconvert_exporter": "python",
   "pygments_lexer": "ipython3",
   "version": "3.10.5"
  },
  "orig_nbformat": 4,
  "vscode": {
   "interpreter": {
    "hash": "71a723942456804a71d025442f2ccd3a5c8db2153e1c9e51f0af23a7e755532d"
   }
  }
 },
 "nbformat": 4,
 "nbformat_minor": 2
}
