{
  "cells": [
    {
      "cell_type": "markdown",
      "metadata": {
        "id": "eoA4uLJn9nvK"
      },
      "source": [
        "<a href=\"https://colab.research.google.com/github/r2nery/ukraine-media/blob/main/glove_data/glove_ukraine_notebook.ipynb\" target=\"_parent\"><img src=\"https://colab.research.google.com/assets/colab-badge.svg\" alt=\"Open In Colab\"/></a>"
      ]
    },
    {
      "cell_type": "markdown",
      "metadata": {
        "id": "wkkzBSWi-PQp"
      },
      "source": [
        "This notebook will be functional after cloning the [GloVe repository](https://github.com/stanfordnlp/GloVe) to your Google Drive, as well as the corpus.txt file generated with the corpus.ipynb notebook. Make sure to edit demo.sh accordingly (substitute corpus.txt, specify parameters)."
      ]
    },
    {
      "cell_type": "code",
      "execution_count": 1,
      "metadata": {
        "colab": {
          "base_uri": "https://localhost:8080/"
        },
        "id": "tc1gegKYdnlF",
        "outputId": "a5d245c9-b97c-4f5d-85d3-0f574d133d6f"
      },
      "outputs": [
        {
          "name": "stdout",
          "output_type": "stream",
          "text": [
            "Mounted at /content/gdrive\n"
          ]
        }
      ],
      "source": [
        "from google.colab import drive\n",
        "drive.mount('/content/gdrive')"
      ]
    },
    {
      "cell_type": "code",
      "execution_count": 2,
      "metadata": {
        "colab": {
          "base_uri": "https://localhost:8080/"
        },
        "id": "UAs4nc6fewL2",
        "outputId": "b78f61e0-1171-438c-f2e2-f2a3a81c3891"
      },
      "outputs": [
        {
          "name": "stdout",
          "output_type": "stream",
          "text": [
            "/content/gdrive/My Drive/Colab/glove_projects/glove_ukraine\n"
          ]
        }
      ],
      "source": [
        "%cd gdrive/My Drive/Colab/glove_projects/glove_ukraine"
      ]
    },
    {
      "cell_type": "code",
      "execution_count": 3,
      "metadata": {
        "colab": {
          "base_uri": "https://localhost:8080/"
        },
        "id": "LlwGLmvepGdS",
        "outputId": "d38c6304-cb49-406a-d1c0-cbc565eb839b"
      },
      "outputs": [
        {
          "name": "stdout",
          "output_type": "stream",
          "text": [
            "build\t    demo.sh  LICENSE   randomization.test.sh  src\n",
            "corpus.txt  eval     Makefile  README.md\n"
          ]
        }
      ],
      "source": [
        "!ls"
      ]
    },
    {
      "cell_type": "code",
      "execution_count": 4,
      "metadata": {
        "id": "DiPtkZXaiKWC"
      },
      "outputs": [],
      "source": [
        "!chmod 755 -R ./demo.sh"
      ]
    },
    {
      "cell_type": "code",
      "execution_count": 5,
      "metadata": {
        "id": "Cr71yGHdpPxl"
      },
      "outputs": [],
      "source": [
        "!chmod 755 -R build"
      ]
    },
    {
      "cell_type": "code",
      "execution_count": 6,
      "metadata": {
        "colab": {
          "base_uri": "https://localhost:8080/"
        },
        "id": "g164znM8hv7v",
        "outputId": "69f7dc50-7195-48d3-8a89-f83526596b2e"
      },
      "outputs": [
        {
          "name": "stdout",
          "output_type": "stream",
          "text": [
            "mkdir -p build\n",
            "\n",
            "$ build/vocab_count -min-count 5 -verbose 2 < corpus.txt > vocab.txt\n",
            "BUILDING VOCABULARY\n",
            "Processed 0 tokens.\u001b[11G100000 tokens.\u001b[11G200000 tokens.\u001b[11G300000 tokens.\u001b[11G400000 tokens.\u001b[11G500000 tokens.\u001b[11G600000 tokens.\u001b[11G700000 tokens.\u001b[11G800000 tokens.\u001b[11G900000 tokens.\u001b[11G1000000 tokens.\u001b[11G1100000 tokens.\u001b[11G1200000 tokens.\u001b[11G1300000 tokens.\u001b[11G1400000 tokens.\u001b[11G1500000 tokens.\u001b[11G1600000 tokens.\u001b[11G1700000 tokens.\u001b[11G1800000 tokens.\u001b[11G1900000 tokens.\u001b[11G2000000 tokens.\u001b[11G2100000 tokens.\u001b[11G2200000 tokens.\u001b[11G2300000 tokens.\u001b[11G2400000 tokens.\u001b[11G2500000 tokens.\u001b[11G2600000 tokens.\u001b[11G2700000 tokens.\u001b[11G2800000 tokens.\u001b[11G2900000 tokens.\u001b[11G3000000 tokens.\u001b[11G3100000 tokens.\u001b[11G3200000 tokens.\u001b[11G3300000 tokens.\u001b[11G3400000 tokens.\u001b[11G3500000 tokens.\u001b[11G3600000 tokens.\u001b[11G3700000 tokens.\u001b[11G3800000 tokens.\u001b[11G3900000 tokens.\u001b[11G4000000 tokens.\u001b[11G4100000 tokens.\u001b[0GProcessed 4124774 tokens.\n",
            "Counted 93316 unique words.\n",
            "Truncating vocabulary at min count 5.\n",
            "Using vocabulary of size 28769.\n",
            "\n",
            "$ build/cooccur -memory 4.0 -vocab-file vocab.txt -verbose 2 -window-size 10 < corpus.txt > cooccurrence.bin\n",
            "COUNTING COOCCURRENCES\n",
            "window size: 10\n",
            "context: symmetric\n",
            "max product: 13752509\n",
            "overflow length: 38028356\n",
            "Reading vocab from file \"vocab.txt\"...loaded 28769 words.\n",
            "Building lookup table...table contains 70073429 elements.\n",
            "Processing token: 0\u001b[19G100000\u001b[19G200000\u001b[19G300000\u001b[19G400000\u001b[19G500000\u001b[19G600000\u001b[19G700000\u001b[19G800000\u001b[19G900000\u001b[19G1000000\u001b[19G1100000\u001b[19G1200000\u001b[19G1300000\u001b[19G1400000\u001b[19G1500000\u001b[19G1600000\u001b[19G1700000\u001b[19G1800000\u001b[19G1900000\u001b[19G2000000\u001b[19G2100000\u001b[19G2200000\u001b[19G2300000\u001b[19G2400000\u001b[19G2500000\u001b[19G2600000\u001b[19G2700000\u001b[19G2800000\u001b[19G2900000\u001b[19G3000000\u001b[19G3100000\u001b[19G3200000\u001b[19G3300000\u001b[19G3400000\u001b[19G3500000\u001b[19G3600000\u001b[19G3700000\u001b[19G3800000\u001b[19G3900000\u001b[19G4000000\u001b[19G4100000\u001b[0GProcessed 4124774 tokens.\n",
            "Writing cooccurrences to disk........2 files in total.\n",
            "Merging cooccurrence files: processed 0 lines.\u001b[39G100000 lines.\u001b[39G200000 lines.\u001b[39G300000 lines.\u001b[39G400000 lines.\u001b[39G500000 lines.\u001b[39G600000 lines.\u001b[39G700000 lines.\u001b[39G800000 lines.\u001b[39G900000 lines.\u001b[39G1000000 lines.\u001b[39G1100000 lines.\u001b[39G1200000 lines.\u001b[39G1300000 lines.\u001b[39G1400000 lines.\u001b[39G1500000 lines.\u001b[39G1600000 lines.\u001b[39G1700000 lines.\u001b[39G1800000 lines.\u001b[39G1900000 lines.\u001b[39G2000000 lines.\u001b[39G2100000 lines.\u001b[39G2200000 lines.\u001b[39G2300000 lines.\u001b[39G2400000 lines.\u001b[39G2500000 lines.\u001b[39G2600000 lines.\u001b[39G2700000 lines.\u001b[39G2800000 lines.\u001b[39G2900000 lines.\u001b[39G3000000 lines.\u001b[39G3100000 lines.\u001b[39G3200000 lines.\u001b[39G3300000 lines.\u001b[39G3400000 lines.\u001b[39G3500000 lines.\u001b[39G3600000 lines.\u001b[39G3700000 lines.\u001b[39G3800000 lines.\u001b[39G3900000 lines.\u001b[39G4000000 lines.\u001b[39G4100000 lines.\u001b[39G4200000 lines.\u001b[39G4300000 lines.\u001b[39G4400000 lines.\u001b[39G4500000 lines.\u001b[39G4600000 lines.\u001b[39G4700000 lines.\u001b[39G4800000 lines.\u001b[39G4900000 lines.\u001b[39G5000000 lines.\u001b[39G5100000 lines.\u001b[39G5200000 lines.\u001b[39G5300000 lines.\u001b[39G5400000 lines.\u001b[39G5500000 lines.\u001b[39G5600000 lines.\u001b[39G5700000 lines.\u001b[39G5800000 lines.\u001b[39G5900000 lines.\u001b[39G6000000 lines.\u001b[39G6100000 lines.\u001b[39G6200000 lines.\u001b[39G6300000 lines.\u001b[39G6400000 lines.\u001b[39G6500000 lines.\u001b[39G6600000 lines.\u001b[39G6700000 lines.\u001b[39G6800000 lines.\u001b[39G6900000 lines.\u001b[39G7000000 lines.\u001b[39G7100000 lines.\u001b[39G7200000 lines.\u001b[39G7300000 lines.\u001b[39G7400000 lines.\u001b[39G7500000 lines.\u001b[39G7600000 lines.\u001b[39G7700000 lines.\u001b[39G7800000 lines.\u001b[39G7900000 lines.\u001b[39G8000000 lines.\u001b[39G8100000 lines.\u001b[39G8200000 lines.\u001b[39G8300000 lines.\u001b[39G8400000 lines.\u001b[39G8500000 lines.\u001b[39G8600000 lines.\u001b[39G8700000 lines.\u001b[39G8800000 lines.\u001b[39G8900000 lines.\u001b[39G9000000 lines.\u001b[39G9100000 lines.\u001b[39G9200000 lines.\u001b[39G9300000 lines.\u001b[39G9400000 lines.\u001b[39G9500000 lines.\u001b[39G9600000 lines.\u001b[39G9700000 lines.\u001b[39G9800000 lines.\u001b[39G9900000 lines.\u001b[39G10000000 lines.\u001b[39G10100000 lines.\u001b[39G10200000 lines.\u001b[39G10300000 lines.\u001b[39G10400000 lines.\u001b[39G10500000 lines.\u001b[39G10600000 lines.\u001b[39G10700000 lines.\u001b[39G10800000 lines.\u001b[39G10900000 lines.\u001b[39G11000000 lines.\u001b[39G11100000 lines.\u001b[39G11200000 lines.\u001b[39G11300000 lines.\u001b[39G11400000 lines.\u001b[39G11500000 lines.\u001b[39G11600000 lines.\u001b[39G11700000 lines.\u001b[39G11800000 lines.\u001b[39G11900000 lines.\u001b[39G12000000 lines.\u001b[39G12100000 lines.\u001b[39G12200000 lines.\u001b[39G12300000 lines.\u001b[39G12400000 lines.\u001b[39G12500000 lines.\u001b[39G12600000 lines.\u001b[39G12700000 lines.\u001b[39G12800000 lines.\u001b[39G12900000 lines.\u001b[39G13000000 lines.\u001b[39G13100000 lines.\u001b[39G13200000 lines.\u001b[39G13300000 lines.\u001b[39G13400000 lines.\u001b[39G13500000 lines.\u001b[39G13600000 lines.\u001b[39G13700000 lines.\u001b[39G13800000 lines.\u001b[39G13900000 lines.\u001b[39G14000000 lines.\u001b[39G14100000 lines.\u001b[39G14200000 lines.\u001b[39G14300000 lines.\u001b[39G14400000 lines.\u001b[39G14500000 lines.\u001b[39G14600000 lines.\u001b[39G14700000 lines.\u001b[39G14800000 lines.\u001b[39G14900000 lines.\u001b[39G15000000 lines.\u001b[39G15100000 lines.\u001b[39G15200000 lines.\u001b[39G15300000 lines.\u001b[39G15400000 lines.\u001b[39G15500000 lines.\u001b[39G15600000 lines.\u001b[39G15700000 lines.\u001b[39G15800000 lines.\u001b[39G15900000 lines.\u001b[39G16000000 lines.\u001b[39G16100000 lines.\u001b[39G16200000 lines.\u001b[39G16300000 lines.\u001b[39G16400000 lines.\u001b[39G16500000 lines.\u001b[39G16600000 lines.\u001b[39G16700000 lines.\u001b[39G16800000 lines.\u001b[39G16900000 lines.\u001b[39G17000000 lines.\u001b[39G17100000 lines.\u001b[39G17200000 lines.\u001b[39G17300000 lines.\u001b[39G17400000 lines.\u001b[39G17500000 lines.\u001b[39G17600000 lines.\u001b[39G17700000 lines.\u001b[39G17800000 lines.\u001b[39G17900000 lines.\u001b[39G18000000 lines.\u001b[39G18100000 lines.\u001b[39G18200000 lines.\u001b[39G18300000 lines.\u001b[39G18400000 lines.\u001b[39G18500000 lines.\u001b[39G18600000 lines.\u001b[39G18700000 lines.\u001b[39G18800000 lines.\u001b[39G18900000 lines.\u001b[39G19000000 lines.\u001b[39G19100000 lines.\u001b[39G19200000 lines.\u001b[39G19300000 lines.\u001b[39G19400000 lines.\u001b[39G19500000 lines.\u001b[39G19600000 lines.\u001b[39G19700000 lines.\u001b[39G19800000 lines.\u001b[39G19900000 lines.\u001b[39G20000000 lines.\u001b[39G20100000 lines.\u001b[39G20200000 lines.\u001b[39G20300000 lines.\u001b[39G20400000 lines.\u001b[39G20500000 lines.\u001b[39G20600000 lines.\u001b[39G20700000 lines.\u001b[39G20800000 lines.\u001b[39G20900000 lines.\u001b[39G21000000 lines.\u001b[39G21100000 lines.\u001b[39G21200000 lines.\u001b[39G21300000 lines.\u001b[39G21400000 lines.\u001b[39G21500000 lines.\u001b[39G21600000 lines.\u001b[39G21700000 lines.\u001b[39G21800000 lines.\u001b[39G21900000 lines.\u001b[39G22000000 lines.\u001b[39G22100000 lines.\u001b[39G22200000 lines.\u001b[39G22300000 lines.\u001b[39G22400000 lines.\u001b[39G22500000 lines.\u001b[39G22600000 lines.\u001b[0GMerging cooccurrence files: processed 22646535 lines.\n",
            "\n",
            "$ build/shuffle -memory 4.0 -verbose 2 < cooccurrence.bin > cooccurrence.shuf.bin\n",
            "Using random seed 1658858102\n",
            "tcmalloc: large alloc 4080222208 bytes == 0x55adad0f0000 @  0x7f15767441e7 0x55adac410d56 0x55adac40fec5 0x7f1576122c87 0x55adac41004a\n",
            "SHUFFLING COOCCURRENCES\n",
            "array size: 255013683\n",
            "Shuffling by chunks: processed 0 lines.\u001b[22Gprocessed 22646535 lines.\n",
            "Wrote 1 temporary file(s).\n",
            "tcmalloc: large alloc 4080222208 bytes == 0x55adad0f0000 @  0x7f15767441e7 0x55adac41042b 0x55adac4113ee 0x55adac40fec5 0x7f1576122c87 0x55adac41004a\n",
            "Merging temp files: processed 0 lines.\u001b[31G22646535 lines.\u001b[0GMerging temp files: processed 22646535 lines.\n",
            "\n",
            "$ build/glove -save-file vectors -threads 8 -input-file cooccurrence.shuf.bin -x-max 10 -iter 50S -vector-size 100 -binary 2 -vocab-file vocab.txt -verbose 2\n",
            "TRAINING MODEL\n",
            "Read 22646535 lines.\n",
            "Initializing parameters...Using random seed 1658858121\n",
            "done.\n",
            "vector size: 100\n",
            "vocab size: 28769\n",
            "x_max: 10.000000\n",
            "alpha: 0.750000\n",
            "07/26/22 - 05:55.56PM, iter: 001, cost: 0.075335\n",
            "07/26/22 - 05:56.32PM, iter: 002, cost: 0.057617\n",
            "07/26/22 - 05:57.05PM, iter: 003, cost: 0.050078\n",
            "07/26/22 - 05:57.39PM, iter: 004, cost: 0.044839\n",
            "07/26/22 - 05:58.12PM, iter: 005, cost: 0.040974\n",
            "07/26/22 - 05:58.48PM, iter: 006, cost: 0.038302\n",
            "07/26/22 - 05:59.21PM, iter: 007, cost: 0.036467\n",
            "07/26/22 - 05:59.55PM, iter: 008, cost: 0.035168\n",
            "07/26/22 - 06:00.29PM, iter: 009, cost: 0.034205\n",
            "07/26/22 - 06:01.04PM, iter: 010, cost: 0.033461\n",
            "07/26/22 - 06:01.38PM, iter: 011, cost: 0.032864\n",
            "07/26/22 - 06:02.11PM, iter: 012, cost: 0.032374\n",
            "07/26/22 - 06:02.46PM, iter: 013, cost: 0.031962\n",
            "07/26/22 - 06:03.20PM, iter: 014, cost: 0.031614\n",
            "07/26/22 - 06:03.54PM, iter: 015, cost: 0.031313\n",
            "07/26/22 - 06:04.27PM, iter: 016, cost: 0.031051\n",
            "07/26/22 - 06:05.02PM, iter: 017, cost: 0.030821\n",
            "07/26/22 - 06:05.36PM, iter: 018, cost: 0.030612\n",
            "07/26/22 - 06:06.09PM, iter: 019, cost: 0.030426\n",
            "07/26/22 - 06:06.43PM, iter: 020, cost: 0.030256\n",
            "07/26/22 - 06:07.18PM, iter: 021, cost: 0.030103\n",
            "07/26/22 - 06:07.52PM, iter: 022, cost: 0.029964\n",
            "07/26/22 - 06:08.26PM, iter: 023, cost: 0.029836\n",
            "07/26/22 - 06:09.00PM, iter: 024, cost: 0.029718\n",
            "07/26/22 - 06:09.35PM, iter: 025, cost: 0.029606\n",
            "07/26/22 - 06:10.08PM, iter: 026, cost: 0.029504\n",
            "07/26/22 - 06:10.42PM, iter: 027, cost: 0.029406\n",
            "07/26/22 - 06:11.17PM, iter: 028, cost: 0.029318\n",
            "07/26/22 - 06:11.51PM, iter: 029, cost: 0.029235\n",
            "07/26/22 - 06:12.24PM, iter: 030, cost: 0.029157\n",
            "07/26/22 - 06:12.57PM, iter: 031, cost: 0.029082\n",
            "07/26/22 - 06:13.33PM, iter: 032, cost: 0.029011\n",
            "07/26/22 - 06:14.06PM, iter: 033, cost: 0.028945\n",
            "07/26/22 - 06:14.39PM, iter: 034, cost: 0.028883\n",
            "07/26/22 - 06:15.15PM, iter: 035, cost: 0.028823\n",
            "07/26/22 - 06:15.48PM, iter: 036, cost: 0.028765\n",
            "07/26/22 - 06:16.21PM, iter: 037, cost: 0.028710\n",
            "07/26/22 - 06:16.55PM, iter: 038, cost: 0.028657\n",
            "07/26/22 - 06:17.30PM, iter: 039, cost: 0.028608\n",
            "07/26/22 - 06:18.04PM, iter: 040, cost: 0.028559\n",
            "07/26/22 - 06:18.37PM, iter: 041, cost: 0.028515\n",
            "07/26/22 - 06:19.11PM, iter: 042, cost: 0.028470\n",
            "07/26/22 - 06:19.46PM, iter: 043, cost: 0.028428\n",
            "07/26/22 - 06:20.19PM, iter: 044, cost: 0.028386\n",
            "07/26/22 - 06:20.53PM, iter: 045, cost: 0.028347\n",
            "07/26/22 - 06:21.28PM, iter: 046, cost: 0.028309\n",
            "07/26/22 - 06:22.01PM, iter: 047, cost: 0.028273\n",
            "07/26/22 - 06:22.35PM, iter: 048, cost: 0.028238\n",
            "07/26/22 - 06:23.08PM, iter: 049, cost: 0.028203\n",
            "07/26/22 - 06:23.43PM, iter: 050, cost: 0.028170\n",
            "$ python eval/python/evaluate.py\n",
            "capital-common-countries.txt:\n",
            "ACCURACY TOP1: 32.21% (163/506)\n",
            "capital-world.txt:\n",
            "ACCURACY TOP1: 18.13% (307/1693)\n",
            "currency.txt:\n",
            "ACCURACY TOP1: 2.12% (5/236)\n",
            "city-in-state.txt:\n",
            "ACCURACY TOP1: 0.52% (1/192)\n",
            "family.txt:\n",
            "ACCURACY TOP1: 27.62% (58/210)\n",
            "gram1-adjective-to-adverb.txt:\n",
            "ACCURACY TOP1: 0.80% (7/870)\n",
            "gram2-opposite.txt:\n",
            "ACCURACY TOP1: 1.30% (6/462)\n",
            "gram3-comparative.txt:\n",
            "ACCURACY TOP1: 8.89% (112/1260)\n",
            "gram4-superlative.txt:\n",
            "ACCURACY TOP1: 3.99% (28/702)\n",
            "gram5-present-participle.txt:\n",
            "ACCURACY TOP1: 9.54% (83/870)\n",
            "gram6-nationality-adjective.txt:\n",
            "ACCURACY TOP1: 27.86% (382/1371)\n",
            "gram7-past-tense.txt:\n",
            "ACCURACY TOP1: 13.97% (218/1560)\n",
            "gram8-plural.txt:\n",
            "ACCURACY TOP1: 5.56% (39/702)\n",
            "gram9-plural-verbs.txt:\n",
            "ACCURACY TOP1: 3.50% (21/600)\n",
            "Questions seen/total: 57.48% (11234/19544)\n",
            "Semantic accuracy: 18.82%  (534/2837)\n",
            "Syntactic accuracy: 10.67%  (896/8397)\n",
            "Total accuracy: 12.73%  (1430/11234)\n"
          ]
        }
      ],
      "source": [
        "!./demo.sh"
      ]
    }
  ],
  "metadata": {
    "accelerator": "GPU",
    "colab": {
      "collapsed_sections": [],
      "name": "glove_ukraine_notebook",
      "provenance": []
    },
    "gpuClass": "standard",
    "kernelspec": {
      "display_name": "Python 3.10.5 ('.venv': venv)",
      "language": "python",
      "name": "python3"
    },
    "language_info": {
      "name": "python",
      "version": "3.10.5"
    },
    "vscode": {
      "interpreter": {
        "hash": "71a723942456804a71d025442f2ccd3a5c8db2153e1c9e51f0af23a7e755532d"
      }
    }
  },
  "nbformat": 4,
  "nbformat_minor": 0
}
