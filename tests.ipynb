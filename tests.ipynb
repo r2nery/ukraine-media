{
 "cells": [
  {
   "cell_type": "code",
   "execution_count": 30,
   "metadata": {},
   "outputs": [],
   "source": [
    "import os\n",
    "ROOT_DIR = os.path.dirname(os.path.abspath(\"__file__\"))\n",
    "PARENT_DIR = os.path.dirname(ROOT_DIR)\n",
    "GUARDIAN_DIR = os.path.join(ROOT_DIR, \"data\", \"Guardian.csv\")\n",
    "REUTERS_DIR = os.path.join(ROOT_DIR, \"data\", \"Reuters.csv\")"
   ]
  },
  {
   "cell_type": "code",
   "execution_count": 31,
   "metadata": {},
   "outputs": [],
   "source": [
    "vocab = []\n",
    "with open(os.path.join(ROOT_DIR,\"glove_data\",\"results\",\"vocab.txt\"),'r') as f:\n",
    "    for line in f:\n",
    "        vocab.append(line.split(None,1)[0])\n",
    "\n",
    "uncertainty = []\n",
    "with open(os.path.join(ROOT_DIR,\"data\",\"LoughranMcDonald_Uncertainty.txt\"),'r') as f:\n",
    "    for line in f:\n",
    "        uncertainty.append(line.lower().replace('\\n',\"\"))\n",
    "\n",
    "economic = [\"economic\", \"economy\"]"
   ]
  },
  {
   "cell_type": "code",
   "execution_count": 32,
   "metadata": {},
   "outputs": [
    {
     "name": "stdout",
     "output_type": "stream",
     "text": [
      "['economy', 'economic']\n"
     ]
    }
   ],
   "source": [
    "common_uncertainty = list(set(vocab).intersection(uncertainty))\n",
    "common_economic = list(set(vocab).intersection(economic))\n",
    "print(common_economic)\n",
    "\n"
   ]
  },
  {
   "cell_type": "code",
   "execution_count": 33,
   "metadata": {},
   "outputs": [],
   "source": [
    "uncertainty_vectors = []\n",
    "with open(os.path.join(ROOT_DIR,\"glove_data\",\"results\",\"vectors.txt\"),'r') as f:\n",
    "    for line in f:\n",
    "        if line.split(None,1)[0] in uncertainty:\n",
    "            uncertainty_vectors.append(line.replace('\\n',\"\"))\n",
    "\n",
    "economy_vectors = []\n",
    "with open(os.path.join(ROOT_DIR,\"glove_data\",\"results\",\"vectors.txt\"),'r') as f:\n",
    "    for line in f:\n",
    "        if line.split(None,1)[0] in economic:\n",
    "            economy_vectors.append(line.replace('\\n',\"\"))"
   ]
  },
  {
   "cell_type": "code",
   "execution_count": 34,
   "metadata": {},
   "outputs": [],
   "source": [
    "with open(os.path.join(ROOT_DIR,\"results\",\"uncertainty_vectors.txt\"),'w') as f:\n",
    "    for row in uncertainty_vectors:\n",
    "            s = \"\".join(map(str, row))\n",
    "            f.write(s+'\\n')\n",
    "        \n",
    "\n",
    "with open(os.path.join(ROOT_DIR,\"results\",\"economy_vectors.txt\"),'w') as f:\n",
    "    for row in economy_vectors:\n",
    "            s = \"\".join(map(str, row))\n",
    "            f.write(s+'\\n')"
   ]
  }
 ],
 "metadata": {
  "kernelspec": {
   "display_name": "Python 3.10.5 ('.venv': venv)",
   "language": "python",
   "name": "python3"
  },
  "language_info": {
   "codemirror_mode": {
    "name": "ipython",
    "version": 3
   },
   "file_extension": ".py",
   "mimetype": "text/x-python",
   "name": "python",
   "nbconvert_exporter": "python",
   "pygments_lexer": "ipython3",
   "version": "3.10.5"
  },
  "orig_nbformat": 4,
  "vscode": {
   "interpreter": {
    "hash": "71a723942456804a71d025442f2ccd3a5c8db2153e1c9e51f0af23a7e755532d"
   }
  }
 },
 "nbformat": 4,
 "nbformat_minor": 2
}
