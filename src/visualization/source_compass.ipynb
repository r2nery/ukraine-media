{
 "cells": [
  {
   "cell_type": "code",
   "execution_count": 10,
   "metadata": {},
   "outputs": [],
   "source": [
    "import matplotlib.pyplot as plt\n",
    "import matplotlib as mpl\n",
    "import pandas as pd\n",
    "import os\n",
    "\n",
    "%matplotlib inline\n",
    "mpl.rcParams[\"axes.labelsize\"] = 18\n",
    "mpl.rcParams[\"axes.titlesize\"] = 12\n",
    "mpl.rcParams[\"xtick.labelsize\"] = 14\n",
    "mpl.rcParams[\"ytick.labelsize\"] = 14\n",
    "mpl.rcParams[\"lines.linewidth\"] = 2\n",
    "mpl.rcParams[\"legend.fontsize\"] = 8\n",
    "mpl.rcParams[\"xtick.direction\"] = \"in\"\n",
    "mpl.rcParams[\"ytick.direction\"] = \"in\"\n",
    "mpl.rcParams[\"font.family\"] = \"serif\"\n",
    "mpl.rcParams[\"image.cmap\"] = \"viridis\"\n",
    "\n",
    "THIS_DIR = os.path.dirname(os.path.abspath(\"__file__\"))\n",
    "ROOT_DIR = os.path.dirname(os.path.dirname(THIS_DIR))\n",
    "DATA_DIR = os.path.join(ROOT_DIR,\"data\")\n",
    "FIGS_DIR = os.path.join(ROOT_DIR,\"reports\",\"figures\")"
   ]
  },
  {
   "cell_type": "code",
   "execution_count": 11,
   "metadata": {},
   "outputs": [
    {
     "data": {
      "text/html": [
       "<div>\n",
       "<style scoped>\n",
       "    .dataframe tbody tr th:only-of-type {\n",
       "        vertical-align: middle;\n",
       "    }\n",
       "\n",
       "    .dataframe tbody tr th {\n",
       "        vertical-align: top;\n",
       "    }\n",
       "\n",
       "    .dataframe thead th {\n",
       "        text-align: right;\n",
       "    }\n",
       "</style>\n",
       "<table border=\"1\" class=\"dataframe\">\n",
       "  <thead>\n",
       "    <tr style=\"text-align: right;\">\n",
       "      <th></th>\n",
       "      <th>Source</th>\n",
       "      <th>diff_r_avg</th>\n",
       "      <th>diff_n_avg</th>\n",
       "    </tr>\n",
       "  </thead>\n",
       "  <tbody>\n",
       "    <tr>\n",
       "      <th>0</th>\n",
       "      <td>AP</td>\n",
       "      <td>-0.0037</td>\n",
       "      <td>0.6715</td>\n",
       "    </tr>\n",
       "    <tr>\n",
       "      <th>1</th>\n",
       "      <td>ABC</td>\n",
       "      <td>0.0012</td>\n",
       "      <td>0.3408</td>\n",
       "    </tr>\n",
       "    <tr>\n",
       "      <th>2</th>\n",
       "      <td>CBS</td>\n",
       "      <td>0.0036</td>\n",
       "      <td>0.0206</td>\n",
       "    </tr>\n",
       "    <tr>\n",
       "      <th>3</th>\n",
       "      <td>CNN</td>\n",
       "      <td>0.0095</td>\n",
       "      <td>0.1845</td>\n",
       "    </tr>\n",
       "    <tr>\n",
       "      <th>4</th>\n",
       "      <td>DailyMail</td>\n",
       "      <td>0.0032</td>\n",
       "      <td>0.3072</td>\n",
       "    </tr>\n",
       "    <tr>\n",
       "      <th>5</th>\n",
       "      <td>Express</td>\n",
       "      <td>0.0093</td>\n",
       "      <td>-0.1994</td>\n",
       "    </tr>\n",
       "    <tr>\n",
       "      <th>6</th>\n",
       "      <td>Fox</td>\n",
       "      <td>0.0017</td>\n",
       "      <td>-0.1596</td>\n",
       "    </tr>\n",
       "    <tr>\n",
       "      <th>7</th>\n",
       "      <td>Guardian</td>\n",
       "      <td>-0.0140</td>\n",
       "      <td>0.0546</td>\n",
       "    </tr>\n",
       "    <tr>\n",
       "      <th>8</th>\n",
       "      <td>Mirror</td>\n",
       "      <td>0.0053</td>\n",
       "      <td>-0.0003</td>\n",
       "    </tr>\n",
       "    <tr>\n",
       "      <th>9</th>\n",
       "      <td>NYT</td>\n",
       "      <td>-0.0154</td>\n",
       "      <td>-0.0388</td>\n",
       "    </tr>\n",
       "    <tr>\n",
       "      <th>10</th>\n",
       "      <td>Reuters</td>\n",
       "      <td>-0.0028</td>\n",
       "      <td>-0.2977</td>\n",
       "    </tr>\n",
       "  </tbody>\n",
       "</table>\n",
       "</div>"
      ],
      "text/plain": [
       "       Source  diff_r_avg  diff_n_avg\n",
       "0          AP     -0.0037      0.6715\n",
       "1         ABC      0.0012      0.3408\n",
       "2         CBS      0.0036      0.0206\n",
       "3         CNN      0.0095      0.1845\n",
       "4   DailyMail      0.0032      0.3072\n",
       "5     Express      0.0093     -0.1994\n",
       "6         Fox      0.0017     -0.1596\n",
       "7    Guardian     -0.0140      0.0546\n",
       "8      Mirror      0.0053     -0.0003\n",
       "9         NYT     -0.0154     -0.0388\n",
       "10    Reuters     -0.0028     -0.2977"
      ]
     },
     "execution_count": 11,
     "metadata": {},
     "output_type": "execute_result"
    }
   ],
   "source": [
    "sources = [\"AP\",\"ABC\",\"CBS\",\"CNN\",\"DailyMail\",\"Express\",\"Fox\",\"Guardian\",\"Mirror\",\"NYT\",\"Reuters\"]\n",
    "df_ntr = pd.read_parquet(os.path.join(DATA_DIR,\"processed\",\"All_n10.parquet\"))\n",
    "r_avg_system = df_ntr[\"Resonance\"].mean()\n",
    "n_avg_system = df_ntr[\"Novelty\"].mean()\n",
    "\n",
    "sources_dfs = []\n",
    "for source in sources:\n",
    "    df_filter = df_ntr.query(f\"Source == '{source}'\")\n",
    "    r_avg = df_filter[\"Resonance\"].mean()\n",
    "    n_avg = df_filter[\"Novelty\"].mean()\n",
    "    diff_r_avg = r_avg - r_avg_system\n",
    "    diff_n_avg = n_avg - n_avg_system\n",
    "    sources_dfs.append(pd.DataFrame({\"Source\":source,\"diff_r_avg\":diff_r_avg,\"diff_n_avg\":diff_n_avg}, index=[0]))\n",
    "\n",
    "df = pd.concat(sources_dfs, ignore_index=True)\n",
    "df.round(4).head(11)"
   ]
  },
  {
   "cell_type": "code",
   "execution_count": 12,
   "metadata": {},
   "outputs": [
    {
     "data": {
      "image/png": "[encoded data removed]",
      "text/plain": [
       "<Figure size 720x720 with 1 Axes>"
      ]
     },
     "metadata": {
      "needs_background": "light"
     },
     "output_type": "display_data"
    }
   ],
   "source": [
    "def plot_diff_r_n(df):\n",
    "    fig, ax = plt.subplots(figsize=(10,10))\n",
    "    ax.scatter(df['diff_n_avg'],df['diff_r_avg'],c='k', alpha=1,s=20)\n",
    "    for i, txt in enumerate(df['Source']):\n",
    "        ax.annotate(txt, (df['diff_n_avg'][i]+0.01, df['diff_r_avg'][i]+0.0003), fontsize=14)\n",
    "    #add a line to y=0 and x=0\n",
    "    ax.axhline(y=0, color='k', lw=0.8)\n",
    "    ax.axvline(x=0, color='k', lw=0.8)\n",
    "    #make x range from -0.02 to 0.02\n",
    "    ax.set_xlim(-0.7, 0.7)\n",
    "    #make y range from -0.7 to 0.7\n",
    "    ax.set_ylim(-0.02, 0.02)\n",
    "    # remove axes\n",
    "    ax.spines['top'].set_visible(False)\n",
    "    ax.spines['right'].set_visible(False)\n",
    "    ax.spines['bottom'].set_visible(False)\n",
    "    ax.spines['left'].set_visible(False)\n",
    "\n",
    "\n",
    "    ax.set_xlabel('Novelty')\n",
    "    ax.set_ylabel('Resonance')\n",
    "    plt.show()\n",
    "    return fig\n",
    "\n",
    "fig = plot_diff_r_n(df)\n",
    "fig.savefig(os.path.join(FIGS_DIR, \"source_compass\", f\"Source_compass.png\"), format=\"png\", dpi=100, bbox_inches=\"tight\")"
   ]
  }
 ],
 "metadata": {
  "kernelspec": {
   "display_name": ".venv",
   "language": "python",
   "name": "python3"
  },
  "language_info": {
   "codemirror_mode": {
    "name": "ipython",
    "version": 3
   },
   "file_extension": ".py",
   "mimetype": "text/x-python",
   "name": "python",
   "nbconvert_exporter": "python",
   "pygments_lexer": "ipython3",
   "version": "3.10.5"
  },
  "orig_nbformat": 4,
  "vscode": {
   "interpreter": {
    "hash": "71a723942456804a71d025442f2ccd3a5c8db2153e1c9e51f0af23a7e755532d"
   }
  }
 },
 "nbformat": 4,
 "nbformat_minor": 2
}
