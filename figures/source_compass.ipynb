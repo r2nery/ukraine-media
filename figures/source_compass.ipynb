{
 "cells": [
  {
   "cell_type": "code",
   "execution_count": 33,
   "metadata": {},
   "outputs": [],
   "source": [
    "from sklearn.linear_model import LinearRegression\n",
    "from matplotlib.dates import DateFormatter\n",
    "import matplotlib.pyplot as plt\n",
    "import matplotlib.dates as mdates\n",
    "import matplotlib as mpl\n",
    "import datetime as dt\n",
    "import pandas as pd\n",
    "import numpy as np\n",
    "import os\n",
    "\n",
    "%matplotlib inline\n",
    "mpl.rcParams[\"axes.labelsize\"] = 12\n",
    "mpl.rcParams[\"axes.titlesize\"] = 12\n",
    "mpl.rcParams[\"xtick.labelsize\"] = 12\n",
    "mpl.rcParams[\"ytick.labelsize\"] = 12\n",
    "mpl.rcParams[\"lines.linewidth\"] = 2\n",
    "mpl.rcParams[\"legend.fontsize\"] = 8\n",
    "mpl.rcParams[\"xtick.direction\"] = \"in\"\n",
    "mpl.rcParams[\"ytick.direction\"] = \"in\"\n",
    "mpl.rcParams[\"font.family\"] = \"serif\"\n",
    "mpl.rcParams[\"image.cmap\"] = \"viridis\"\n",
    "\n",
    "ROOT_DIR = os.path.dirname(os.path.dirname(os.path.abspath(\"__file__\")))\n",
    "ALL_DIR = os.path.join(ROOT_DIR, \"data\", \"All.csv\")\n"
   ]
  },
  {
   "cell_type": "code",
   "execution_count": 34,
   "metadata": {},
   "outputs": [],
   "source": [
    "def source_compass(sources,date_start,date_end,window):\n",
    "    avg_novelties, avg_resonances,names = [],[],[]\n",
    "    \n",
    "    for name in sources:\n",
    "        if name == \"All\":\n",
    "            continue\n",
    "        names.append(name)\n",
    "        i = pd.read_csv(os.path.join(ROOT_DIR, f\"results_{window}\", name + \"_Results.csv\"))\n",
    "        i['Date'] = pd.to_datetime(i['Date'])\n",
    "        df_split = i.loc[(i['Date'] >= date_start) & (i['Date'] < date_end)]\n",
    "        novelty = df_split[\"Novelty\"].to_list()\n",
    "        resonance = df_split[\"Resonance\"].to_list()\n",
    "        avg_novelties.append(sum(novelty)/len(novelty))\n",
    "        avg_resonances.append(sum(resonance)/len(resonance))\n",
    "\n",
    "    avg_novelty = sum(avg_novelties)/len(avg_novelties)\n",
    "    avg_resonance = sum(avg_resonances)/len(avg_resonances)\n",
    "\n",
    "    fig, ax = plt.subplots()\n",
    "    fig.set_size_inches(7, 7)\n",
    "\n",
    "    plt.scatter(avg_resonances,avg_novelties,marker=\".\",color='black')\n",
    "    min_resonance, max_resonance = ax.get_xlim()\n",
    "    min_novelty, max_novelty = ax.get_ylim()\n",
    "\n",
    "    plt.plot([min_resonance,max_resonance],[(max_novelty+min_novelty)/2,(max_novelty+min_novelty)/2],'k', linestyle = \":\", lw=1)\n",
    "    plt.plot([(max_resonance+min_resonance)/2,(max_resonance+min_resonance)/2],[min_novelty,max_novelty],'k', linestyle = \":\", lw=1)\n",
    "\n",
    "    \n",
    "    ax.set_title(\"Novelty X Resonance - Averages\")\n",
    "    ax.set_xlabel(\"Resonance\")\n",
    "    ax.set_ylabel(\"Novelty\")\n",
    "    ax.spines['top'].set_visible(False)\n",
    "    ax.spines['right'].set_visible(False)\n",
    "    ax.spines['bottom'].set_visible(False)\n",
    "    ax.spines['left'].set_visible(False)\n",
    "    ax.get_xaxis().set_ticks([])\n",
    "    ax.get_yaxis().set_ticks([])\n",
    "    for i, txt in enumerate(names):\n",
    "        ax.annotate(txt, (avg_resonances[i]+0.0005, avg_novelties[i]-0.05))\n",
    "\n",
    "    return fig"
   ]
  },
  {
   "cell_type": "code",
   "execution_count": 35,
   "metadata": {},
   "outputs": [
    {
     "data": {
      "image/png": "[encoded data removed]",
      "text/plain": [
       "<Figure size 504x504 with 1 Axes>"
      ]
     },
     "metadata": {},
     "output_type": "display_data"
    }
   ],
   "source": [
    "sources = [\"AP\", \"Fox\", \"CNN\", \"ABC\", \"CBS\", \"NYT\", \"Mirror\", \"Reuters\", \"Express\", \"Guardian\", \"DailyMail\", \"All\"]\n",
    "date_start,date_end = \"03-01-2022\",\"12-01-2022\"\n",
    "windows=[5]\n",
    "for window in windows:\n",
    "    fig = source_compass(sources,date_start,date_end,window)\n",
    "    fig.savefig(os.path.join(ROOT_DIR, \"figures\",\"source_compass\", f\"source_compass_{window}.svg\"), format=\"svg\", dpi=1000, bbox_inches=\"tight\")\n"
   ]
  }
 ],
 "metadata": {
  "kernelspec": {
   "display_name": ".venv",
   "language": "python",
   "name": "python3"
  },
  "language_info": {
   "codemirror_mode": {
    "name": "ipython",
    "version": 3
   },
   "file_extension": ".py",
   "mimetype": "text/x-python",
   "name": "python",
   "nbconvert_exporter": "python",
   "pygments_lexer": "ipython3",
   "version": "3.10.5"
  },
  "orig_nbformat": 4,
  "vscode": {
   "interpreter": {
    "hash": "71a723942456804a71d025442f2ccd3a5c8db2153e1c9e51f0af23a7e755532d"
   }
  }
 },
 "nbformat": 4,
 "nbformat_minor": 2
}
