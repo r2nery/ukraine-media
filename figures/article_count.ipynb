{
 "cells": [
  {
   "cell_type": "code",
   "execution_count": 3,
   "metadata": {},
   "outputs": [],
   "source": [
    "from sklearn.linear_model import LinearRegression\n",
    "from matplotlib.dates import DateFormatter\n",
    "import matplotlib.pyplot as plt\n",
    "import matplotlib.dates as mdates\n",
    "import matplotlib as mpl\n",
    "import datetime as dt\n",
    "import pandas as pd\n",
    "import numpy as np\n",
    "import os\n",
    "\n",
    "%matplotlib inline\n",
    "mpl.rcParams[\"axes.labelsize\"] = 12\n",
    "mpl.rcParams[\"axes.titlesize\"] = 12\n",
    "mpl.rcParams[\"xtick.labelsize\"] = 12\n",
    "mpl.rcParams[\"ytick.labelsize\"] = 12\n",
    "mpl.rcParams[\"lines.linewidth\"] = 2\n",
    "mpl.rcParams[\"legend.fontsize\"] = 8\n",
    "mpl.rcParams[\"xtick.direction\"] = \"in\"\n",
    "mpl.rcParams[\"ytick.direction\"] = \"in\"\n",
    "mpl.rcParams[\"font.family\"] = \"serif\"\n",
    "mpl.rcParams[\"image.cmap\"] = \"viridis\"\n",
    "\n",
    "ROOT_DIR = os.path.dirname(os.path.dirname(os.path.abspath(\"__file__\")))\n",
    "ALL_DIR = os.path.join(ROOT_DIR, \"data\", \"All.csv\")\n"
   ]
  },
  {
   "cell_type": "code",
   "execution_count": 1,
   "metadata": {},
   "outputs": [],
   "source": [
    "def line_plot_count(data, title, xlabel=\"\", ylabel=\"\"):\n",
    "\n",
    "    fig, ax = plt.subplots(figsize=(25, 2.5))\n",
    "    fig.canvas.draw()\n",
    "\n",
    "    ax.locator_params(axis=\"x\", nbins=12)\n",
    "    beginning = dt.date(2022, 1, 1)\n",
    "    end = dt.date(2023,1,1)\n",
    "\n",
    "    ax.plot(\n",
    "        data.index.values,\n",
    "        data[\"URL\"],\n",
    "        color=\"black\",\n",
    "        linewidth=1,\n",
    "    )\n",
    "\n",
    "    ax.set(\n",
    "        xlabel=xlabel,\n",
    "        ylabel=ylabel,\n",
    "        title=title,\n",
    "        xbound=(beginning, end),\n",
    "    )\n",
    "\n",
    "    date_form = DateFormatter(\"%b-%y\")\n",
    "    ax.xaxis.set_major_locator(mdates.MonthLocator(interval=1))\n",
    "    ax.xaxis.set_major_formatter(date_form)\n",
    "    start, end = ax.get_ylim()\n",
    "    ax.yaxis.set_ticks(np.arange(start, end, end / 5))\n",
    "\n",
    "    ticksx = [tick for tick in ax.xaxis.get_majorticklabels()]\n",
    "    ticksx[0].set_horizontalalignment(\"left\")\n",
    "\n",
    "    ticksy = [\"{i:.0f}\".format(i=item) for item in ax.get_yticks()]\n",
    "    ticksy[0] = \"0\"\n",
    "    ax.set_yticklabels(ticksy)\n",
    "\n",
    "    return fig"
   ]
  },
  {
   "cell_type": "code",
   "execution_count": 2,
   "metadata": {},
   "outputs": [
    {
     "ename": "NameError",
     "evalue": "name 'pd' is not defined",
     "output_type": "error",
     "traceback": [
      "\u001b[0;31m---------------------------------------------------------------------------\u001b[0m",
      "\u001b[0;31mNameError\u001b[0m                                 Traceback (most recent call last)",
      "\u001b[1;32m/Users/r2/Code/ukraine-media/figures/article_count.ipynb Cell 3\u001b[0m in \u001b[0;36m<cell line: 2>\u001b[0;34m()\u001b[0m\n\u001b[1;32m      <a href='vscode-notebook-cell:/Users/r2/Code/ukraine-media/figures/article_count.ipynb#W2sZmlsZQ%3D%3D?line=0'>1</a>\u001b[0m sources \u001b[39m=\u001b[39m [\u001b[39m\"\u001b[39m\u001b[39mAP\u001b[39m\u001b[39m\"\u001b[39m, \u001b[39m\"\u001b[39m\u001b[39mFox\u001b[39m\u001b[39m\"\u001b[39m, \u001b[39m\"\u001b[39m\u001b[39mCNN\u001b[39m\u001b[39m\"\u001b[39m, \u001b[39m\"\u001b[39m\u001b[39mABC\u001b[39m\u001b[39m\"\u001b[39m, \u001b[39m\"\u001b[39m\u001b[39mCBS\u001b[39m\u001b[39m\"\u001b[39m, \u001b[39m\"\u001b[39m\u001b[39mNYT\u001b[39m\u001b[39m\"\u001b[39m, \u001b[39m\"\u001b[39m\u001b[39mMirror\u001b[39m\u001b[39m\"\u001b[39m, \u001b[39m\"\u001b[39m\u001b[39mReuters\u001b[39m\u001b[39m\"\u001b[39m, \u001b[39m\"\u001b[39m\u001b[39mExpress\u001b[39m\u001b[39m\"\u001b[39m, \u001b[39m\"\u001b[39m\u001b[39mGuardian\u001b[39m\u001b[39m\"\u001b[39m, \u001b[39m\"\u001b[39m\u001b[39mDailyMail\u001b[39m\u001b[39m\"\u001b[39m, \u001b[39m\"\u001b[39m\u001b[39mAll\u001b[39m\u001b[39m\"\u001b[39m]\n\u001b[1;32m      <a href='vscode-notebook-cell:/Users/r2/Code/ukraine-media/figures/article_count.ipynb#W2sZmlsZQ%3D%3D?line=1'>2</a>\u001b[0m \u001b[39mfor\u001b[39;00m source \u001b[39min\u001b[39;00m sources:\n\u001b[0;32m----> <a href='vscode-notebook-cell:/Users/r2/Code/ukraine-media/figures/article_count.ipynb#W2sZmlsZQ%3D%3D?line=2'>3</a>\u001b[0m     data_df \u001b[39m=\u001b[39m pd\u001b[39m.\u001b[39mread_csv(os\u001b[39m.\u001b[39mpath\u001b[39m.\u001b[39mjoin(ROOT_DIR, \u001b[39mf\u001b[39m\u001b[39m\"\u001b[39m\u001b[39mresults_5\u001b[39m\u001b[39m\"\u001b[39m, source \u001b[39m+\u001b[39m \u001b[39m\"\u001b[39m\u001b[39m_Results.csv\u001b[39m\u001b[39m\"\u001b[39m), parse_dates\u001b[39m=\u001b[39m[\u001b[39m\"\u001b[39m\u001b[39mDate\u001b[39m\u001b[39m\"\u001b[39m], index_col\u001b[39m=\u001b[39m[\u001b[39m\"\u001b[39m\u001b[39mDate\u001b[39m\u001b[39m\"\u001b[39m])\n\u001b[1;32m      <a href='vscode-notebook-cell:/Users/r2/Code/ukraine-media/figures/article_count.ipynb#W2sZmlsZQ%3D%3D?line=3'>4</a>\u001b[0m     davg_df \u001b[39m=\u001b[39m data_df\u001b[39m.\u001b[39mdrop(columns\u001b[39m=\u001b[39m[\u001b[39m\"\u001b[39m\u001b[39mTitle\u001b[39m\u001b[39m\"\u001b[39m, \u001b[39m\"\u001b[39m\u001b[39mText\u001b[39m\u001b[39m\"\u001b[39m, \u001b[39m\"\u001b[39m\u001b[39mURL\u001b[39m\u001b[39m\"\u001b[39m, \u001b[39m\"\u001b[39m\u001b[39mTopic\u001b[39m\u001b[39m\"\u001b[39m])\u001b[39m.\u001b[39mresample(\u001b[39m\"\u001b[39m\u001b[39mD\u001b[39m\u001b[39m\"\u001b[39m)\u001b[39m.\u001b[39mmean()\n\u001b[1;32m      <a href='vscode-notebook-cell:/Users/r2/Code/ukraine-media/figures/article_count.ipynb#W2sZmlsZQ%3D%3D?line=4'>5</a>\u001b[0m     dcount_df \u001b[39m=\u001b[39m data_df\u001b[39m.\u001b[39mresample(\u001b[39m\"\u001b[39m\u001b[39mD\u001b[39m\u001b[39m\"\u001b[39m)\u001b[39m.\u001b[39mapply({\u001b[39m\"\u001b[39m\u001b[39mURL\u001b[39m\u001b[39m\"\u001b[39m: \u001b[39m\"\u001b[39m\u001b[39mcount\u001b[39m\u001b[39m\"\u001b[39m})\n",
      "\u001b[0;31mNameError\u001b[0m: name 'pd' is not defined"
     ]
    }
   ],
   "source": [
    "sources = [\"AP\", \"Fox\", \"CNN\", \"ABC\", \"CBS\", \"NYT\", \"Mirror\", \"Reuters\", \"Express\", \"Guardian\", \"DailyMail\", \"All\"]\n",
    "for source in sources:\n",
    "    data_df = pd.read_csv(os.path.join(ROOT_DIR, f\"results_5\", source + \"_Results.csv\"), parse_dates=[\"Date\"], index_col=[\"Date\"])\n",
    "    davg_df = data_df.drop(columns=[\"Title\", \"Text\", \"URL\", \"Topic\"]).resample(\"D\").mean()\n",
    "    dcount_df = data_df.resample(\"D\").apply({\"URL\": \"count\"})\n",
    "\n",
    "    fig = line_plot_count(dcount_df, f\"Daily Article Count - {source}\")\n",
    "    fig.savefig(os.path.join(ROOT_DIR, \"figures\",\"article_count\", source + f\"_Daily_Count.svg\"), format=\"svg\", dpi=1000, bbox_inches=\"tight\")\n"
   ]
  }
 ],
 "metadata": {
  "kernelspec": {
   "display_name": ".venv",
   "language": "python",
   "name": "python3"
  },
  "language_info": {
   "codemirror_mode": {
    "name": "ipython",
    "version": 3
   },
   "file_extension": ".py",
   "mimetype": "text/x-python",
   "name": "python",
   "nbconvert_exporter": "python",
   "pygments_lexer": "ipython3",
   "version": "3.10.5"
  },
  "orig_nbformat": 4,
  "vscode": {
   "interpreter": {
    "hash": "71a723942456804a71d025442f2ccd3a5c8db2153e1c9e51f0af23a7e755532d"
   }
  }
 },
 "nbformat": 4,
 "nbformat_minor": 2
}
