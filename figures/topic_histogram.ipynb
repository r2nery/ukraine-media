{
 "cells": [
  {
   "cell_type": "code",
   "execution_count": 11,
   "metadata": {},
   "outputs": [],
   "source": [
    "from sklearn.linear_model import LinearRegression\n",
    "from matplotlib.dates import DateFormatter\n",
    "import matplotlib.pyplot as plt\n",
    "import matplotlib.dates as mdates\n",
    "import matplotlib as mpl\n",
    "import datetime as dt\n",
    "import pandas as pd\n",
    "import numpy as np\n",
    "import os\n",
    "\n",
    "%matplotlib inline\n",
    "mpl.rcParams[\"axes.labelsize\"] = 12\n",
    "mpl.rcParams[\"axes.titlesize\"] = 12\n",
    "mpl.rcParams[\"xtick.labelsize\"] = 12\n",
    "mpl.rcParams[\"ytick.labelsize\"] = 12\n",
    "mpl.rcParams[\"lines.linewidth\"] = 2\n",
    "mpl.rcParams[\"legend.fontsize\"] = 8\n",
    "mpl.rcParams[\"xtick.direction\"] = \"in\"\n",
    "mpl.rcParams[\"ytick.direction\"] = \"in\"\n",
    "mpl.rcParams[\"font.family\"] = \"serif\"\n",
    "mpl.rcParams[\"image.cmap\"] = \"viridis\"\n",
    "\n",
    "ROOT_DIR = os.path.dirname(os.path.dirname(os.path.abspath(\"__file__\")))\n",
    "ALL_DIR = os.path.join(ROOT_DIR, \"data\", \"All.csv\")\n"
   ]
  },
  {
   "cell_type": "code",
   "execution_count": 12,
   "metadata": {},
   "outputs": [],
   "source": [
    "def topic_histograms(data):\n",
    "    my_dict = {}\n",
    "    for i in range(0,30):\n",
    "        length = len(data[data['Topic'] == i])\n",
    "        my_dict[str(i)] = length\n",
    "\n",
    "    fig, ax = plt.subplots(figsize=(15, 5))\n",
    "\n",
    "    plt.bar(my_dict.keys(), my_dict.values(), color='seagreen')\n",
    "\n",
    "    return fig"
   ]
  },
  {
   "cell_type": "code",
   "execution_count": 17,
   "metadata": {},
   "outputs": [
    {
     "data": {
      "image/png": "[encoded data removed]",
      "text/plain": [
       "<Figure size 1080x360 with 1 Axes>"
      ]
     },
     "metadata": {
      "needs_background": "light"
     },
     "output_type": "display_data"
    }
   ],
   "source": [
    "sources = [\"AP\", \"Fox\", \"CNN\", \"ABC\", \"CBS\", \"NYT\", \"Mirror\", \"Reuters\", \"Express\", \"Guardian\", \"DailyMail\", \"All\"]\n",
    "windows = [5]\n",
    "\n",
    "for window in windows:\n",
    "    for source in sources:\n",
    "        if source == \"All\":\n",
    "            data_df = pd.read_csv(os.path.join(ROOT_DIR, f\"results_{window}\", source + \"_Results.csv\"), parse_dates=[\"Date\"], index_col=[\"Date\"])\n",
    "            fig = topic_histograms(data_df)\n",
    "            break"
   ]
  }
 ],
 "metadata": {
  "kernelspec": {
   "display_name": ".venv",
   "language": "python",
   "name": "python3"
  },
  "language_info": {
   "codemirror_mode": {
    "name": "ipython",
    "version": 3
   },
   "file_extension": ".py",
   "mimetype": "text/x-python",
   "name": "python",
   "nbconvert_exporter": "python",
   "pygments_lexer": "ipython3",
   "version": "3.10.5"
  },
  "orig_nbformat": 4,
  "vscode": {
   "interpreter": {
    "hash": "71a723942456804a71d025442f2ccd3a5c8db2153e1c9e51f0af23a7e755532d"
   }
  }
 },
 "nbformat": 4,
 "nbformat_minor": 2
}
